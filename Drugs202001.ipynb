{
  "nbformat": 4,
  "nbformat_minor": 0,
  "metadata": {
    "colab": {
      "name": "i_Drugs20200126.ipynb",
      "provenance": [],
      "collapsed_sections": [
        "Ia3vZDHNDWx5",
        "SVuI5RMnJKsQ"
      ],
      "toc_visible": true
    },
    "kernelspec": {
      "name": "python3",
      "display_name": "Python 3"
    },
    "accelerator": "GPU"
  },
  "cells": [
    {
      "cell_type": "code",
      "metadata": {
        "id": "EWN64XMoIfJ1",
        "colab": {
          "base_uri": "https://localhost:8080/",
          "height": 316
        },
        "outputId": "9eb828e9-e486-4a42-ee8f-8f481f65fb34"
      },
      "source": [
        "!nvidia-smi"
      ],
      "execution_count": null,
      "outputs": [
        {
          "output_type": "stream",
          "text": [
            "Sun Jan 26 14:30:31 2020       \n",
            "+-----------------------------------------------------------------------------+\n",
            "| NVIDIA-SMI 440.44       Driver Version: 418.67       CUDA Version: 10.1     |\n",
            "|-------------------------------+----------------------+----------------------+\n",
            "| GPU  Name        Persistence-M| Bus-Id        Disp.A | Volatile Uncorr. ECC |\n",
            "| Fan  Temp  Perf  Pwr:Usage/Cap|         Memory-Usage | GPU-Util  Compute M. |\n",
            "|===============================+======================+======================|\n",
            "|   0  Tesla P100-PCIE...  Off  | 00000000:00:04.0 Off |                    0 |\n",
            "| N/A   40C    P0    27W / 250W |      0MiB / 16280MiB |      0%      Default |\n",
            "+-------------------------------+----------------------+----------------------+\n",
            "                                                                               \n",
            "+-----------------------------------------------------------------------------+\n",
            "| Processes:                                                       GPU Memory |\n",
            "|  GPU       PID   Type   Process name                             Usage      |\n",
            "|=============================================================================|\n",
            "|  No running processes found                                                 |\n",
            "+-----------------------------------------------------------------------------+\n"
          ],
          "name": "stdout"
        }
      ]
    },
    {
      "cell_type": "markdown",
      "metadata": {
        "id": "ynhNWVUCQAP_"
      },
      "source": [
        "# Data https://dane.gov.pl/dataset/397,rejestr-produktow-leczniczych"
      ]
    },
    {
      "cell_type": "markdown",
      "metadata": {
        "id": "nWRKuIO8M5cK"
      },
      "source": [
        "# Please select: Runtime/ Change runtime type / GPU\n",
        "\n",
        "(in colab it is not enought  device = torch.device('cuda:0' if torch.cuda.is_available() else 'cpu') )"
      ]
    },
    {
      "cell_type": "code",
      "metadata": {
        "id": "0SWXDCPLjZQn",
        "colab": {
          "base_uri": "https://localhost:8080/",
          "height": 776
        },
        "outputId": "56d02b52-affc-4eaa-9dab-c13bb356a855"
      },
      "source": [
        "!pip install livelossplot"
      ],
      "execution_count": null,
      "outputs": [
        {
          "output_type": "stream",
          "text": [
            "Collecting livelossplot\n",
            "  Downloading https://files.pythonhosted.org/packages/8e/f6/0618c30078f9c1e4b2cd84f1ea6bb70c6615070468b75b0d934326107bcd/livelossplot-0.4.1-py3-none-any.whl\n",
            "Requirement already satisfied: matplotlib in /usr/local/lib/python3.6/dist-packages (from livelossplot) (3.1.2)\n",
            "Requirement already satisfied: notebook in /usr/local/lib/python3.6/dist-packages (from livelossplot) (5.2.2)\n",
            "Requirement already satisfied: pyparsing!=2.0.4,!=2.1.2,!=2.1.6,>=2.0.1 in /usr/local/lib/python3.6/dist-packages (from matplotlib->livelossplot) (2.4.6)\n",
            "Requirement already satisfied: numpy>=1.11 in /usr/local/lib/python3.6/dist-packages (from matplotlib->livelossplot) (1.17.5)\n",
            "Requirement already satisfied: cycler>=0.10 in /usr/local/lib/python3.6/dist-packages (from matplotlib->livelossplot) (0.10.0)\n",
            "Requirement already satisfied: python-dateutil>=2.1 in /usr/local/lib/python3.6/dist-packages (from matplotlib->livelossplot) (2.6.1)\n",
            "Requirement already satisfied: kiwisolver>=1.0.1 in /usr/local/lib/python3.6/dist-packages (from matplotlib->livelossplot) (1.1.0)\n",
            "Requirement already satisfied: tornado>=4 in /usr/local/lib/python3.6/dist-packages (from notebook->livelossplot) (4.5.3)\n",
            "Requirement already satisfied: jupyter-core in /usr/local/lib/python3.6/dist-packages (from notebook->livelossplot) (4.6.1)\n",
            "Requirement already satisfied: terminado>=0.3.3; sys_platform != \"win32\" in /usr/local/lib/python3.6/dist-packages (from notebook->livelossplot) (0.8.3)\n",
            "Requirement already satisfied: traitlets>=4.2.1 in /usr/local/lib/python3.6/dist-packages (from notebook->livelossplot) (4.3.3)\n",
            "Requirement already satisfied: ipykernel in /usr/local/lib/python3.6/dist-packages (from notebook->livelossplot) (4.6.1)\n",
            "Requirement already satisfied: jupyter-client in /usr/local/lib/python3.6/dist-packages (from notebook->livelossplot) (5.3.4)\n",
            "Requirement already satisfied: nbconvert in /usr/local/lib/python3.6/dist-packages (from notebook->livelossplot) (5.6.1)\n",
            "Requirement already satisfied: nbformat in /usr/local/lib/python3.6/dist-packages (from notebook->livelossplot) (5.0.3)\n",
            "Requirement already satisfied: jinja2 in /usr/local/lib/python3.6/dist-packages (from notebook->livelossplot) (2.10.3)\n",
            "Requirement already satisfied: ipython-genutils in /usr/local/lib/python3.6/dist-packages (from notebook->livelossplot) (0.2.0)\n",
            "Requirement already satisfied: six in /usr/local/lib/python3.6/dist-packages (from cycler>=0.10->matplotlib->livelossplot) (1.12.0)\n",
            "Requirement already satisfied: setuptools in /usr/local/lib/python3.6/dist-packages (from kiwisolver>=1.0.1->matplotlib->livelossplot) (42.0.2)\n",
            "Requirement already satisfied: ptyprocess; os_name != \"nt\" in /usr/local/lib/python3.6/dist-packages (from terminado>=0.3.3; sys_platform != \"win32\"->notebook->livelossplot) (0.6.0)\n",
            "Requirement already satisfied: decorator in /usr/local/lib/python3.6/dist-packages (from traitlets>=4.2.1->notebook->livelossplot) (4.4.1)\n",
            "Requirement already satisfied: ipython>=4.0.0 in /usr/local/lib/python3.6/dist-packages (from ipykernel->notebook->livelossplot) (5.5.0)\n",
            "Requirement already satisfied: pyzmq>=13 in /usr/local/lib/python3.6/dist-packages (from jupyter-client->notebook->livelossplot) (17.0.0)\n",
            "Requirement already satisfied: entrypoints>=0.2.2 in /usr/local/lib/python3.6/dist-packages (from nbconvert->notebook->livelossplot) (0.3)\n",
            "Requirement already satisfied: defusedxml in /usr/local/lib/python3.6/dist-packages (from nbconvert->notebook->livelossplot) (0.6.0)\n",
            "Requirement already satisfied: pygments in /usr/local/lib/python3.6/dist-packages (from nbconvert->notebook->livelossplot) (2.1.3)\n",
            "Requirement already satisfied: mistune<2,>=0.8.1 in /usr/local/lib/python3.6/dist-packages (from nbconvert->notebook->livelossplot) (0.8.4)\n",
            "Requirement already satisfied: bleach in /usr/local/lib/python3.6/dist-packages (from nbconvert->notebook->livelossplot) (3.1.0)\n",
            "Requirement already satisfied: pandocfilters>=1.4.1 in /usr/local/lib/python3.6/dist-packages (from nbconvert->notebook->livelossplot) (1.4.2)\n",
            "Requirement already satisfied: testpath in /usr/local/lib/python3.6/dist-packages (from nbconvert->notebook->livelossplot) (0.4.4)\n",
            "Requirement already satisfied: jsonschema!=2.5.0,>=2.4 in /usr/local/lib/python3.6/dist-packages (from nbformat->notebook->livelossplot) (2.6.0)\n",
            "Requirement already satisfied: MarkupSafe>=0.23 in /usr/local/lib/python3.6/dist-packages (from jinja2->notebook->livelossplot) (1.1.1)\n",
            "Requirement already satisfied: prompt-toolkit<2.0.0,>=1.0.4 in /usr/local/lib/python3.6/dist-packages (from ipython>=4.0.0->ipykernel->notebook->livelossplot) (1.0.18)\n",
            "Requirement already satisfied: pexpect; sys_platform != \"win32\" in /usr/local/lib/python3.6/dist-packages (from ipython>=4.0.0->ipykernel->notebook->livelossplot) (4.7.0)\n",
            "Requirement already satisfied: pickleshare in /usr/local/lib/python3.6/dist-packages (from ipython>=4.0.0->ipykernel->notebook->livelossplot) (0.7.5)\n",
            "Requirement already satisfied: simplegeneric>0.8 in /usr/local/lib/python3.6/dist-packages (from ipython>=4.0.0->ipykernel->notebook->livelossplot) (0.8.1)\n",
            "Requirement already satisfied: webencodings in /usr/local/lib/python3.6/dist-packages (from bleach->nbconvert->notebook->livelossplot) (0.5.1)\n",
            "Requirement already satisfied: wcwidth in /usr/local/lib/python3.6/dist-packages (from prompt-toolkit<2.0.0,>=1.0.4->ipython>=4.0.0->ipykernel->notebook->livelossplot) (0.1.8)\n",
            "Installing collected packages: livelossplot\n",
            "Successfully installed livelossplot-0.4.1\n"
          ],
          "name": "stdout"
        }
      ]
    },
    {
      "cell_type": "code",
      "metadata": {
        "id": "n5aE1AEyS5vp",
        "colab": {
          "base_uri": "https://localhost:8080/",
          "height": 125
        },
        "outputId": "b4544100-99c4-40ae-f9ab-59dcc309d32e"
      },
      "source": [
        "!pip install unidecode"
      ],
      "execution_count": null,
      "outputs": [
        {
          "output_type": "stream",
          "text": [
            "Collecting unidecode\n",
            "\u001b[?25l  Downloading https://files.pythonhosted.org/packages/d0/42/d9edfed04228bacea2d824904cae367ee9efd05e6cce7ceaaedd0b0ad964/Unidecode-1.1.1-py2.py3-none-any.whl (238kB)\n",
            "\r\u001b[K     |█▍                              | 10kB 22.0MB/s eta 0:00:01\r\u001b[K     |██▊                             | 20kB 2.2MB/s eta 0:00:01\r\u001b[K     |████▏                           | 30kB 3.1MB/s eta 0:00:01\r\u001b[K     |█████▌                          | 40kB 2.1MB/s eta 0:00:01\r\u001b[K     |██████▉                         | 51kB 2.6MB/s eta 0:00:01\r\u001b[K     |████████▎                       | 61kB 3.0MB/s eta 0:00:01\r\u001b[K     |█████████▋                      | 71kB 3.5MB/s eta 0:00:01\r\u001b[K     |███████████                     | 81kB 4.0MB/s eta 0:00:01\r\u001b[K     |████████████▍                   | 92kB 4.4MB/s eta 0:00:01\r\u001b[K     |█████████████▊                  | 102kB 3.4MB/s eta 0:00:01\r\u001b[K     |███████████████▏                | 112kB 3.4MB/s eta 0:00:01\r\u001b[K     |████████████████▌               | 122kB 3.4MB/s eta 0:00:01\r\u001b[K     |█████████████████▉              | 133kB 3.4MB/s eta 0:00:01\r\u001b[K     |███████████████████▎            | 143kB 3.4MB/s eta 0:00:01\r\u001b[K     |████████████████████▋           | 153kB 3.4MB/s eta 0:00:01\r\u001b[K     |██████████████████████          | 163kB 3.4MB/s eta 0:00:01\r\u001b[K     |███████████████████████▍        | 174kB 3.4MB/s eta 0:00:01\r\u001b[K     |████████████████████████▊       | 184kB 3.4MB/s eta 0:00:01\r\u001b[K     |██████████████████████████▏     | 194kB 3.4MB/s eta 0:00:01\r\u001b[K     |███████████████████████████▌    | 204kB 3.4MB/s eta 0:00:01\r\u001b[K     |████████████████████████████▉   | 215kB 3.4MB/s eta 0:00:01\r\u001b[K     |██████████████████████████████▎ | 225kB 3.4MB/s eta 0:00:01\r\u001b[K     |███████████████████████████████▋| 235kB 3.4MB/s eta 0:00:01\r\u001b[K     |████████████████████████████████| 245kB 3.4MB/s \n",
            "\u001b[?25hInstalling collected packages: unidecode\n",
            "Successfully installed unidecode-1.1.1\n"
          ],
          "name": "stdout"
        }
      ]
    },
    {
      "cell_type": "code",
      "metadata": {
        "id": "UUKG_eDimii5"
      },
      "source": [
        "import pandas as pd \n",
        "import xml.etree.ElementTree as et "
      ],
      "execution_count": null,
      "outputs": []
    },
    {
      "cell_type": "code",
      "metadata": {
        "id": "YvgztcJssbwV"
      },
      "source": [
        "\n",
        "import numpy as np\n",
        "import pandas as pd\n",
        "from collections import Counter\n",
        "from unidecode import unidecode\n",
        "from sklearn.model_selection import train_test_split\n",
        "import torch.nn.functional as F\n",
        "\n",
        "import torch\n",
        "from torch import nn\n",
        "from torch import optim\n",
        "from torch.utils.data import TensorDataset, DataLoader"
      ],
      "execution_count": null,
      "outputs": []
    },
    {
      "cell_type": "code",
      "metadata": {
        "id": "xfS9V2MkjUgz"
      },
      "source": [
        "from livelossplot import PlotLosses\n",
        "from torch.utils.data.sampler import SubsetRandomSampler"
      ],
      "execution_count": null,
      "outputs": []
    },
    {
      "cell_type": "markdown",
      "metadata": {
        "id": "W8FV-il7E60C"
      },
      "source": [
        "# Import xml\n",
        "\n",
        "https://stackabuse.com/reading-and-writing-xml-files-in-python/\n",
        "\n",
        "https://medium.com/@robertopreste/from-xml-to-pandas-dataframes-9292980b1c1c"
      ]
    },
    {
      "cell_type": "markdown",
      "metadata": {
        "id": "XCgE2hy2QDgv"
      },
      "source": [
        "# Import and data cleaning"
      ]
    },
    {
      "cell_type": "code",
      "metadata": {
        "id": "Hc4Pz43anu47"
      },
      "source": [
        "tree = et.parse('Pobieranie.ashx')"
      ],
      "execution_count": null,
      "outputs": []
    },
    {
      "cell_type": "code",
      "metadata": {
        "id": "_-7qnKR9oQ4O"
      },
      "source": [
        "root = tree.getroot()"
      ],
      "execution_count": null,
      "outputs": []
    },
    {
      "cell_type": "code",
      "metadata": {
        "id": "DD3QE46poTzE",
        "colab": {
          "base_uri": "https://localhost:8080/",
          "height": 54
        },
        "outputId": "760f826f-a56f-4323-fb5d-ad79f1d741c2"
      },
      "source": [
        "print(root[50].attrib)"
      ],
      "execution_count": null,
      "outputs": [
        {
          "output_type": "stream",
          "text": [
            "{'nazwaProduktu': 'Abaktal', 'rodzajPreparatu': 'ludzki', 'nazwaPowszechnieStosowana': 'Pefloxacinum', 'moc': '400 mg', 'postac': 'tabletki powlekane', 'podmiotOdpowiedzielny': 'Sandoz GmbH', 'typProcedury': 'NAR', 'numerPozwolenia': '00617', 'waznoscPozwolenia': 'Bezterminowe', 'kodATC': 'J01MA03', 'id': '201'}\n"
          ],
          "name": "stdout"
        }
      ]
    },
    {
      "cell_type": "code",
      "metadata": {
        "id": "Ue87gXOvsJbb",
        "colab": {
          "base_uri": "https://localhost:8080/",
          "height": 34
        },
        "outputId": "57ed6074-4940-4bb8-ade7-63c47e0dc912"
      },
      "source": [
        "print(root[50].attrib['nazwaProduktu'])"
      ],
      "execution_count": null,
      "outputs": [
        {
          "output_type": "stream",
          "text": [
            "Abaktal\n"
          ],
          "name": "stdout"
        }
      ]
    },
    {
      "cell_type": "code",
      "metadata": {
        "id": "iVyhN83Cwt1T",
        "colab": {
          "base_uri": "https://localhost:8080/",
          "height": 34
        },
        "outputId": "c7de5014-626f-4925-9b89-abf798c49e0b"
      },
      "source": [
        "print(root[50].attrib['nazwaPowszechnieStosowana'])"
      ],
      "execution_count": null,
      "outputs": [
        {
          "output_type": "stream",
          "text": [
            "Pefloxacinum\n"
          ],
          "name": "stdout"
        }
      ]
    },
    {
      "cell_type": "code",
      "metadata": {
        "id": "4RDa1Nmwr6i2",
        "colab": {
          "base_uri": "https://localhost:8080/",
          "height": 34
        },
        "outputId": "ac0ba44b-3a22-4cf0-8d3d-930298d01c05"
      },
      "source": [
        "print(root[0].attrib['nazwaProduktu'])"
      ],
      "execution_count": null,
      "outputs": [
        {
          "output_type": "stream",
          "text": [
            "Zoledronic acid Fresenius Kabi\n"
          ],
          "name": "stdout"
        }
      ]
    },
    {
      "cell_type": "code",
      "metadata": {
        "id": "lV3SBZK5shE6",
        "colab": {
          "base_uri": "https://localhost:8080/",
          "height": 34
        },
        "outputId": "fcfa877d-f944-44d6-c0c0-1a869719f617"
      },
      "source": [
        "print(root[0].attrib['nazwaPowszechnieStosowana'])"
      ],
      "execution_count": null,
      "outputs": [
        {
          "output_type": "stream",
          "text": [
            "Acidum zoledronicum\n"
          ],
          "name": "stdout"
        }
      ]
    },
    {
      "cell_type": "code",
      "metadata": {
        "id": "NLIsAs8NHWmA",
        "colab": {
          "base_uri": "https://localhost:8080/",
          "height": 34
        },
        "outputId": "b50da18e-4243-4fc1-9a9e-215b00484465"
      },
      "source": [
        "print(len(root[0].attrib['nazwaProduktu']))"
      ],
      "execution_count": null,
      "outputs": [
        {
          "output_type": "stream",
          "text": [
            "30\n"
          ],
          "name": "stdout"
        }
      ]
    },
    {
      "cell_type": "code",
      "metadata": {
        "id": "S0FjiNHeUXIc"
      },
      "source": [
        "drugs=[]\n",
        "for node in root: \n",
        "  drugs.append(node.attrib.get('nazwaProduktu'))"
      ],
      "execution_count": null,
      "outputs": []
    },
    {
      "cell_type": "code",
      "metadata": {
        "id": "jDlNLbVM0Qiz",
        "colab": {
          "base_uri": "https://localhost:8080/",
          "height": 34
        },
        "outputId": "d70842e8-5bfa-40f6-aaa6-fce95335ce44"
      },
      "source": [
        "print(len(drugs))"
      ],
      "execution_count": null,
      "outputs": [
        {
          "output_type": "stream",
          "text": [
            "18694\n"
          ],
          "name": "stdout"
        }
      ]
    },
    {
      "cell_type": "code",
      "metadata": {
        "id": "FMPi-CbooviX",
        "colab": {
          "base_uri": "https://localhost:8080/",
          "height": 34
        },
        "outputId": "c833b306-ad83-4d75-8de7-a2d1055dc6f5"
      },
      "source": [
        "drugs[0]"
      ],
      "execution_count": null,
      "outputs": [
        {
          "output_type": "execute_result",
          "data": {
            "text/plain": [
              "'Zoledronic acid Fresenius Kabi'"
            ]
          },
          "metadata": {
            "tags": []
          },
          "execution_count": 19
        }
      ]
    },
    {
      "cell_type": "code",
      "metadata": {
        "id": "NtBGBTi2o0bH",
        "colab": {
          "base_uri": "https://localhost:8080/",
          "height": 34
        },
        "outputId": "5d1df2a4-4236-4842-e11b-2296231ddc2d"
      },
      "source": [
        "drugs[0][3]"
      ],
      "execution_count": null,
      "outputs": [
        {
          "output_type": "execute_result",
          "data": {
            "text/plain": [
              "'e'"
            ]
          },
          "metadata": {
            "tags": []
          },
          "execution_count": 20
        }
      ]
    },
    {
      "cell_type": "code",
      "metadata": {
        "id": "NGBghabapsUS",
        "colab": {
          "base_uri": "https://localhost:8080/",
          "height": 34
        },
        "outputId": "6226ec36-608b-4aa5-f02c-faaa3e22f4d3"
      },
      "source": [
        "print(len(drugs[0]))"
      ],
      "execution_count": null,
      "outputs": [
        {
          "output_type": "stream",
          "text": [
            "30\n"
          ],
          "name": "stdout"
        }
      ]
    },
    {
      "cell_type": "code",
      "metadata": {
        "id": "BH425-N4lJLf",
        "colab": {
          "base_uri": "https://localhost:8080/",
          "height": 34
        },
        "outputId": "7d2ac2ca-0898-4129-95bb-e60be34122f4"
      },
      "source": [
        "drugs[50]"
      ],
      "execution_count": null,
      "outputs": [
        {
          "output_type": "execute_result",
          "data": {
            "text/plain": [
              "'Abaktal'"
            ]
          },
          "metadata": {
            "tags": []
          },
          "execution_count": 22
        }
      ]
    },
    {
      "cell_type": "code",
      "metadata": {
        "id": "yR8FaxyOWBt2"
      },
      "source": [
        "drugs_df = pd.DataFrame(drugs,columns=['title'])"
      ],
      "execution_count": null,
      "outputs": []
    },
    {
      "cell_type": "code",
      "metadata": {
        "id": "R2qB9eu1WGSX",
        "colab": {
          "base_uri": "https://localhost:8080/",
          "height": 122
        },
        "outputId": "da15ae37-d8fc-44e3-8f62-eba1c3cb2ff6"
      },
      "source": [
        "drugs_df.info()"
      ],
      "execution_count": null,
      "outputs": [
        {
          "output_type": "stream",
          "text": [
            "<class 'pandas.core.frame.DataFrame'>\n",
            "RangeIndex: 18694 entries, 0 to 18693\n",
            "Data columns (total 1 columns):\n",
            "title    18694 non-null object\n",
            "dtypes: object(1)\n",
            "memory usage: 146.2+ KB\n"
          ],
          "name": "stdout"
        }
      ]
    },
    {
      "cell_type": "code",
      "metadata": {
        "id": "z0PpHbhFXpyo",
        "colab": {
          "base_uri": "https://localhost:8080/",
          "height": 52
        },
        "outputId": "3064eaf8-b7ee-46c7-f8b7-05c06488e58c"
      },
      "source": [
        "pd.isnull(drugs_df).sum()"
      ],
      "execution_count": null,
      "outputs": [
        {
          "output_type": "execute_result",
          "data": {
            "text/plain": [
              "title    0\n",
              "dtype: int64"
            ]
          },
          "metadata": {
            "tags": []
          },
          "execution_count": 25
        }
      ]
    },
    {
      "cell_type": "code",
      "metadata": {
        "id": "pczJJKp_X4xT",
        "colab": {
          "base_uri": "https://localhost:8080/",
          "height": 166
        },
        "outputId": "29c31d52-7e31-4893-d7a3-4466ef0ef2d2"
      },
      "source": [
        "drugs_df.describe()"
      ],
      "execution_count": null,
      "outputs": [
        {
          "output_type": "execute_result",
          "data": {
            "text/html": [
              "<div>\n",
              "<style scoped>\n",
              "    .dataframe tbody tr th:only-of-type {\n",
              "        vertical-align: middle;\n",
              "    }\n",
              "\n",
              "    .dataframe tbody tr th {\n",
              "        vertical-align: top;\n",
              "    }\n",
              "\n",
              "    .dataframe thead th {\n",
              "        text-align: right;\n",
              "    }\n",
              "</style>\n",
              "<table border=\"1\" class=\"dataframe\">\n",
              "  <thead>\n",
              "    <tr style=\"text-align: right;\">\n",
              "      <th></th>\n",
              "      <th>title</th>\n",
              "    </tr>\n",
              "  </thead>\n",
              "  <tbody>\n",
              "    <tr>\n",
              "      <th>count</th>\n",
              "      <td>18694</td>\n",
              "    </tr>\n",
              "    <tr>\n",
              "      <th>unique</th>\n",
              "      <td>9427</td>\n",
              "    </tr>\n",
              "    <tr>\n",
              "      <th>top</th>\n",
              "      <td>Betaserc</td>\n",
              "    </tr>\n",
              "    <tr>\n",
              "      <th>freq</th>\n",
              "      <td>51</td>\n",
              "    </tr>\n",
              "  </tbody>\n",
              "</table>\n",
              "</div>"
            ],
            "text/plain": [
              "           title\n",
              "count      18694\n",
              "unique      9427\n",
              "top     Betaserc\n",
              "freq          51"
            ]
          },
          "metadata": {
            "tags": []
          },
          "execution_count": 26
        }
      ]
    },
    {
      "cell_type": "code",
      "metadata": {
        "id": "_fQ_X2WBZNzN"
      },
      "source": [
        "drugs_df = pd.DataFrame(drugs_df['title'].unique(),columns=['title'])"
      ],
      "execution_count": null,
      "outputs": []
    },
    {
      "cell_type": "code",
      "metadata": {
        "id": "pMaC8CO-ZY7V",
        "colab": {
          "base_uri": "https://localhost:8080/",
          "height": 166
        },
        "outputId": "18f31d3f-3f61-44f8-8c8b-91c13a5c7f66"
      },
      "source": [
        "drugs_df.describe()"
      ],
      "execution_count": null,
      "outputs": [
        {
          "output_type": "execute_result",
          "data": {
            "text/html": [
              "<div>\n",
              "<style scoped>\n",
              "    .dataframe tbody tr th:only-of-type {\n",
              "        vertical-align: middle;\n",
              "    }\n",
              "\n",
              "    .dataframe tbody tr th {\n",
              "        vertical-align: top;\n",
              "    }\n",
              "\n",
              "    .dataframe thead th {\n",
              "        text-align: right;\n",
              "    }\n",
              "</style>\n",
              "<table border=\"1\" class=\"dataframe\">\n",
              "  <thead>\n",
              "    <tr style=\"text-align: right;\">\n",
              "      <th></th>\n",
              "      <th>title</th>\n",
              "    </tr>\n",
              "  </thead>\n",
              "  <tbody>\n",
              "    <tr>\n",
              "      <th>count</th>\n",
              "      <td>9427</td>\n",
              "    </tr>\n",
              "    <tr>\n",
              "      <th>unique</th>\n",
              "      <td>9427</td>\n",
              "    </tr>\n",
              "    <tr>\n",
              "      <th>top</th>\n",
              "      <td>Candesartan HCT Tchaikapharma</td>\n",
              "    </tr>\n",
              "    <tr>\n",
              "      <th>freq</th>\n",
              "      <td>1</td>\n",
              "    </tr>\n",
              "  </tbody>\n",
              "</table>\n",
              "</div>"
            ],
            "text/plain": [
              "                                title\n",
              "count                            9427\n",
              "unique                           9427\n",
              "top     Candesartan HCT Tchaikapharma\n",
              "freq                                1"
            ]
          },
          "metadata": {
            "tags": []
          },
          "execution_count": 28
        }
      ]
    },
    {
      "cell_type": "code",
      "metadata": {
        "id": "PHtR92OWavcw",
        "colab": {
          "base_uri": "https://localhost:8080/",
          "height": 34
        },
        "outputId": "aba04c05-01fc-4ba7-9252-d5ffef348929"
      },
      "source": [
        "max(drugs_df['title'].apply(len))"
      ],
      "execution_count": null,
      "outputs": [
        {
          "output_type": "execute_result",
          "data": {
            "text/plain": [
              "124"
            ]
          },
          "metadata": {
            "tags": []
          },
          "execution_count": 29
        }
      ]
    },
    {
      "cell_type": "code",
      "metadata": {
        "id": "u8lZZHmZukt7"
      },
      "source": [
        "drugs_df['len']=drugs_df['title'].apply(len)"
      ],
      "execution_count": null,
      "outputs": []
    },
    {
      "cell_type": "code",
      "metadata": {
        "id": "clx7hQPqvbLk",
        "colab": {
          "base_uri": "https://localhost:8080/",
          "height": 228
        },
        "outputId": "3bf7045c-b7f2-4214-cf07-ac90234f92df"
      },
      "source": [
        "drugs_df['len'].value_counts()"
      ],
      "execution_count": null,
      "outputs": [
        {
          "output_type": "execute_result",
          "data": {
            "text/plain": [
              "8      1153\n",
              "7      1109\n",
              "9       729\n",
              "10      569\n",
              "6       542\n",
              "       ... \n",
              "107       1\n",
              "83        1\n",
              "102       1\n",
              "105       1\n",
              "95        1\n",
              "Name: len, Length: 99, dtype: int64"
            ]
          },
          "metadata": {
            "tags": []
          },
          "execution_count": 31
        }
      ]
    },
    {
      "cell_type": "code",
      "metadata": {
        "id": "C2N_ZvHSwPUn",
        "colab": {
          "base_uri": "https://localhost:8080/",
          "height": 34
        },
        "outputId": "33f39f89-7c01-4ee4-d3cc-979ac96a9c5f"
      },
      "source": [
        "max(drugs_df['title'].str.count(' '))"
      ],
      "execution_count": null,
      "outputs": [
        {
          "output_type": "execute_result",
          "data": {
            "text/plain": [
              "18"
            ]
          },
          "metadata": {
            "tags": []
          },
          "execution_count": 32
        }
      ]
    },
    {
      "cell_type": "code",
      "metadata": {
        "id": "fk3BHOJXwlKg"
      },
      "source": [
        "drugs_df['word_num']=drugs_df['title'].str.count(' ')+1"
      ],
      "execution_count": null,
      "outputs": []
    },
    {
      "cell_type": "code",
      "metadata": {
        "id": "3Gvzhe2AviCI",
        "colab": {
          "base_uri": "https://localhost:8080/",
          "height": 284
        },
        "outputId": "efb94b6b-6c9d-4c2b-b1a2-b43d2f9308ce"
      },
      "source": [
        "drugs_df.describe()"
      ],
      "execution_count": null,
      "outputs": [
        {
          "output_type": "execute_result",
          "data": {
            "text/html": [
              "<div>\n",
              "<style scoped>\n",
              "    .dataframe tbody tr th:only-of-type {\n",
              "        vertical-align: middle;\n",
              "    }\n",
              "\n",
              "    .dataframe tbody tr th {\n",
              "        vertical-align: top;\n",
              "    }\n",
              "\n",
              "    .dataframe thead th {\n",
              "        text-align: right;\n",
              "    }\n",
              "</style>\n",
              "<table border=\"1\" class=\"dataframe\">\n",
              "  <thead>\n",
              "    <tr style=\"text-align: right;\">\n",
              "      <th></th>\n",
              "      <th>len</th>\n",
              "      <th>word_num</th>\n",
              "    </tr>\n",
              "  </thead>\n",
              "  <tbody>\n",
              "    <tr>\n",
              "      <th>count</th>\n",
              "      <td>9427.000000</td>\n",
              "      <td>9427.000000</td>\n",
              "    </tr>\n",
              "    <tr>\n",
              "      <th>mean</th>\n",
              "      <td>15.303490</td>\n",
              "      <td>2.241858</td>\n",
              "    </tr>\n",
              "    <tr>\n",
              "      <th>std</th>\n",
              "      <td>12.371961</td>\n",
              "      <td>2.020701</td>\n",
              "    </tr>\n",
              "    <tr>\n",
              "      <th>min</th>\n",
              "      <td>3.000000</td>\n",
              "      <td>1.000000</td>\n",
              "    </tr>\n",
              "    <tr>\n",
              "      <th>25%</th>\n",
              "      <td>8.000000</td>\n",
              "      <td>1.000000</td>\n",
              "    </tr>\n",
              "    <tr>\n",
              "      <th>50%</th>\n",
              "      <td>11.000000</td>\n",
              "      <td>2.000000</td>\n",
              "    </tr>\n",
              "    <tr>\n",
              "      <th>75%</th>\n",
              "      <td>18.000000</td>\n",
              "      <td>2.000000</td>\n",
              "    </tr>\n",
              "    <tr>\n",
              "      <th>max</th>\n",
              "      <td>124.000000</td>\n",
              "      <td>19.000000</td>\n",
              "    </tr>\n",
              "  </tbody>\n",
              "</table>\n",
              "</div>"
            ],
            "text/plain": [
              "               len     word_num\n",
              "count  9427.000000  9427.000000\n",
              "mean     15.303490     2.241858\n",
              "std      12.371961     2.020701\n",
              "min       3.000000     1.000000\n",
              "25%       8.000000     1.000000\n",
              "50%      11.000000     2.000000\n",
              "75%      18.000000     2.000000\n",
              "max     124.000000    19.000000"
            ]
          },
          "metadata": {
            "tags": []
          },
          "execution_count": 34
        }
      ]
    },
    {
      "cell_type": "code",
      "metadata": {
        "id": "71A3OwsYxFz-",
        "colab": {
          "base_uri": "https://localhost:8080/",
          "height": 402
        },
        "outputId": "34050445-5623-4367-d2e7-c31286f9b97a"
      },
      "source": [
        "drugs_df.sort_values('len', ascending=False)"
      ],
      "execution_count": null,
      "outputs": [
        {
          "output_type": "execute_result",
          "data": {
            "text/html": [
              "<div>\n",
              "<style scoped>\n",
              "    .dataframe tbody tr th:only-of-type {\n",
              "        vertical-align: middle;\n",
              "    }\n",
              "\n",
              "    .dataframe tbody tr th {\n",
              "        vertical-align: top;\n",
              "    }\n",
              "\n",
              "    .dataframe thead th {\n",
              "        text-align: right;\n",
              "    }\n",
              "</style>\n",
              "<table border=\"1\" class=\"dataframe\">\n",
              "  <thead>\n",
              "    <tr style=\"text-align: right;\">\n",
              "      <th></th>\n",
              "      <th>title</th>\n",
              "      <th>len</th>\n",
              "      <th>word_num</th>\n",
              "    </tr>\n",
              "  </thead>\n",
              "  <tbody>\n",
              "    <tr>\n",
              "      <th>6195</th>\n",
              "      <td>Pederipra Spray, 20mg/ml, zawiesina do natrysk...</td>\n",
              "      <td>124</td>\n",
              "      <td>19</td>\n",
              "    </tr>\n",
              "    <tr>\n",
              "      <th>7912</th>\n",
              "      <td>Pneumospectin 50/100 mg/ml  roztwór do wstrzyk...</td>\n",
              "      <td>107</td>\n",
              "      <td>17</td>\n",
              "    </tr>\n",
              "    <tr>\n",
              "      <th>5501</th>\n",
              "      <td>Rispoval IBR-Marker Vivum, liofilizat i rozpus...</td>\n",
              "      <td>105</td>\n",
              "      <td>13</td>\n",
              "    </tr>\n",
              "    <tr>\n",
              "      <th>5514</th>\n",
              "      <td>Rispoval 3 - BRSV - PI3 - BVD, liofilizat i za...</td>\n",
              "      <td>104</td>\n",
              "      <td>18</td>\n",
              "    </tr>\n",
              "    <tr>\n",
              "      <th>4773</th>\n",
              "      <td>Tilmovet 250 mg/ml koncentrat do sporządzania ...</td>\n",
              "      <td>104</td>\n",
              "      <td>15</td>\n",
              "    </tr>\n",
              "    <tr>\n",
              "      <th>...</th>\n",
              "      <td>...</td>\n",
              "      <td>...</td>\n",
              "      <td>...</td>\n",
              "    </tr>\n",
              "    <tr>\n",
              "      <th>52</th>\n",
              "      <td>ACC</td>\n",
              "      <td>3</td>\n",
              "      <td>1</td>\n",
              "    </tr>\n",
              "    <tr>\n",
              "      <th>3418</th>\n",
              "      <td>L52</td>\n",
              "      <td>3</td>\n",
              "      <td>1</td>\n",
              "    </tr>\n",
              "    <tr>\n",
              "      <th>4168</th>\n",
              "      <td>Yaz</td>\n",
              "      <td>3</td>\n",
              "      <td>1</td>\n",
              "    </tr>\n",
              "    <tr>\n",
              "      <th>4647</th>\n",
              "      <td>MIG</td>\n",
              "      <td>3</td>\n",
              "      <td>1</td>\n",
              "    </tr>\n",
              "    <tr>\n",
              "      <th>5752</th>\n",
              "      <td>L72</td>\n",
              "      <td>3</td>\n",
              "      <td>1</td>\n",
              "    </tr>\n",
              "  </tbody>\n",
              "</table>\n",
              "<p>9427 rows × 3 columns</p>\n",
              "</div>"
            ],
            "text/plain": [
              "                                                  title  len  word_num\n",
              "6195  Pederipra Spray, 20mg/ml, zawiesina do natrysk...  124        19\n",
              "7912  Pneumospectin 50/100 mg/ml  roztwór do wstrzyk...  107        17\n",
              "5501  Rispoval IBR-Marker Vivum, liofilizat i rozpus...  105        13\n",
              "5514  Rispoval 3 - BRSV - PI3 - BVD, liofilizat i za...  104        18\n",
              "4773  Tilmovet 250 mg/ml koncentrat do sporządzania ...  104        15\n",
              "...                                                 ...  ...       ...\n",
              "52                                                  ACC    3         1\n",
              "3418                                                L52    3         1\n",
              "4168                                                Yaz    3         1\n",
              "4647                                                MIG    3         1\n",
              "5752                                                L72    3         1\n",
              "\n",
              "[9427 rows x 3 columns]"
            ]
          },
          "metadata": {
            "tags": []
          },
          "execution_count": 35
        }
      ]
    },
    {
      "cell_type": "code",
      "metadata": {
        "id": "rHES23XTxpOF",
        "colab": {
          "base_uri": "https://localhost:8080/",
          "height": 402
        },
        "outputId": "fe02d422-efe3-4687-e311-8989aee9acbb"
      },
      "source": [
        "drugs_df.sort_values('word_num', ascending=False)"
      ],
      "execution_count": null,
      "outputs": [
        {
          "output_type": "execute_result",
          "data": {
            "text/html": [
              "<div>\n",
              "<style scoped>\n",
              "    .dataframe tbody tr th:only-of-type {\n",
              "        vertical-align: middle;\n",
              "    }\n",
              "\n",
              "    .dataframe tbody tr th {\n",
              "        vertical-align: top;\n",
              "    }\n",
              "\n",
              "    .dataframe thead th {\n",
              "        text-align: right;\n",
              "    }\n",
              "</style>\n",
              "<table border=\"1\" class=\"dataframe\">\n",
              "  <thead>\n",
              "    <tr style=\"text-align: right;\">\n",
              "      <th></th>\n",
              "      <th>title</th>\n",
              "      <th>len</th>\n",
              "      <th>word_num</th>\n",
              "    </tr>\n",
              "  </thead>\n",
              "  <tbody>\n",
              "    <tr>\n",
              "      <th>6195</th>\n",
              "      <td>Pederipra Spray, 20mg/ml, zawiesina do natrysk...</td>\n",
              "      <td>124</td>\n",
              "      <td>19</td>\n",
              "    </tr>\n",
              "    <tr>\n",
              "      <th>6275</th>\n",
              "      <td>Foresto 1,25 g + 0,56 g obroża dla kotów i psó...</td>\n",
              "      <td>83</td>\n",
              "      <td>19</td>\n",
              "    </tr>\n",
              "    <tr>\n",
              "      <th>5514</th>\n",
              "      <td>Rispoval 3 - BRSV - PI3 - BVD, liofilizat i za...</td>\n",
              "      <td>104</td>\n",
              "      <td>18</td>\n",
              "    </tr>\n",
              "    <tr>\n",
              "      <th>7912</th>\n",
              "      <td>Pneumospectin 50/100 mg/ml  roztwór do wstrzyk...</td>\n",
              "      <td>107</td>\n",
              "      <td>17</td>\n",
              "    </tr>\n",
              "    <tr>\n",
              "      <th>6272</th>\n",
              "      <td>Foresto 1,25 g + 0,56 g obroża dla psów o masi...</td>\n",
              "      <td>79</td>\n",
              "      <td>17</td>\n",
              "    </tr>\n",
              "    <tr>\n",
              "      <th>...</th>\n",
              "      <td>...</td>\n",
              "      <td>...</td>\n",
              "      <td>...</td>\n",
              "    </tr>\n",
              "    <tr>\n",
              "      <th>4283</th>\n",
              "      <td>Gleptosil</td>\n",
              "      <td>9</td>\n",
              "      <td>1</td>\n",
              "    </tr>\n",
              "    <tr>\n",
              "      <th>4271</th>\n",
              "      <td>Mycamine</td>\n",
              "      <td>8</td>\n",
              "      <td>1</td>\n",
              "    </tr>\n",
              "    <tr>\n",
              "      <th>4258</th>\n",
              "      <td>Ladybon</td>\n",
              "      <td>7</td>\n",
              "      <td>1</td>\n",
              "    </tr>\n",
              "    <tr>\n",
              "      <th>4242</th>\n",
              "      <td>Suramox</td>\n",
              "      <td>7</td>\n",
              "      <td>1</td>\n",
              "    </tr>\n",
              "    <tr>\n",
              "      <th>9426</th>\n",
              "      <td>Coldostin</td>\n",
              "      <td>9</td>\n",
              "      <td>1</td>\n",
              "    </tr>\n",
              "  </tbody>\n",
              "</table>\n",
              "<p>9427 rows × 3 columns</p>\n",
              "</div>"
            ],
            "text/plain": [
              "                                                  title  len  word_num\n",
              "6195  Pederipra Spray, 20mg/ml, zawiesina do natrysk...  124        19\n",
              "6275  Foresto 1,25 g + 0,56 g obroża dla kotów i psó...   83        19\n",
              "5514  Rispoval 3 - BRSV - PI3 - BVD, liofilizat i za...  104        18\n",
              "7912  Pneumospectin 50/100 mg/ml  roztwór do wstrzyk...  107        17\n",
              "6272  Foresto 1,25 g + 0,56 g obroża dla psów o masi...   79        17\n",
              "...                                                 ...  ...       ...\n",
              "4283                                          Gleptosil    9         1\n",
              "4271                                           Mycamine    8         1\n",
              "4258                                            Ladybon    7         1\n",
              "4242                                            Suramox    7         1\n",
              "9426                                          Coldostin    9         1\n",
              "\n",
              "[9427 rows x 3 columns]"
            ]
          },
          "metadata": {
            "tags": []
          },
          "execution_count": 36
        }
      ]
    },
    {
      "cell_type": "code",
      "metadata": {
        "id": "70kfhFugywkb",
        "colab": {
          "base_uri": "https://localhost:8080/",
          "height": 316
        },
        "outputId": "feb3958b-3351-4e7a-c879-004877668753"
      },
      "source": [
        "drugs_df['word_num'].quantile([0, 0.1, 0.2, 0.3, 0.4, 0.5, 0.6, 0.7, 0.8, 0.9, 0.95, 0.96, 0.97, 0.98, 0.99, 1])"
      ],
      "execution_count": null,
      "outputs": [
        {
          "output_type": "execute_result",
          "data": {
            "text/plain": [
              "0.00     1.0\n",
              "0.10     1.0\n",
              "0.20     1.0\n",
              "0.30     1.0\n",
              "0.40     1.0\n",
              "0.50     2.0\n",
              "0.60     2.0\n",
              "0.70     2.0\n",
              "0.80     3.0\n",
              "0.90     4.0\n",
              "0.95     6.0\n",
              "0.96     7.0\n",
              "0.97     8.0\n",
              "0.98    10.0\n",
              "0.99    11.0\n",
              "1.00    19.0\n",
              "Name: word_num, dtype: float64"
            ]
          },
          "metadata": {
            "tags": []
          },
          "execution_count": 37
        }
      ]
    },
    {
      "cell_type": "code",
      "metadata": {
        "id": "Q3olgBiXzEvr",
        "colab": {
          "base_uri": "https://localhost:8080/",
          "height": 263
        },
        "outputId": "d0303dac-6dea-4c90-d90e-2b6ae919ae53"
      },
      "source": [
        "drugs_df[drugs_df['word_num']>10].sum"
      ],
      "execution_count": null,
      "outputs": [
        {
          "output_type": "execute_result",
          "data": {
            "text/plain": [
              "<bound method DataFrame.sum of                                                   title  len  word_num\n",
              "1877  Doxyhyklan 40, 400 mg/g, proszek do podawania ...   78        15\n",
              "1980  Rifen 100 mg/ml roztwór do wstrzykiwań dla kon...   61        11\n",
              "2257  Maasol - Zestaw do sporządzania makroagregatów...   89        11\n",
              "3731  Denagard 10% premiks do sporządzania paszy lec...   87        13\n",
              "3733  Domosedan 10 mg/1 ml, roztwór do wstrzykiwań d...   61        11\n",
              "...                                                 ...  ...       ...\n",
              "9162                      Gallivac IB88 Neo               29        15\n",
              "9287  Nobilis IB 4 - 91, liofilizat do sporządzania ...   67        11\n",
              "9391  Sedadex 0,1 mg/ml roztwór do wstrzykiwa ń  dla...   60        13\n",
              "9392  Sedadex 0,5 mg/ml roztwór do wstrzykiwa ń  dla...   60        13\n",
              "9414  Sevohale 100% v/v  płyn do sporządzania inhala...   66        11\n",
              "\n",
              "[134 rows x 3 columns]>"
            ]
          },
          "metadata": {
            "tags": []
          },
          "execution_count": 38
        }
      ]
    },
    {
      "cell_type": "code",
      "metadata": {
        "id": "Vo048ut3zb4r",
        "colab": {
          "base_uri": "https://localhost:8080/",
          "height": 402
        },
        "outputId": "50c8a415-f5bc-4306-daba-a7c8a4f07cfe"
      },
      "source": [
        "drugs_df[drugs_df['word_num']>10]"
      ],
      "execution_count": null,
      "outputs": [
        {
          "output_type": "execute_result",
          "data": {
            "text/html": [
              "<div>\n",
              "<style scoped>\n",
              "    .dataframe tbody tr th:only-of-type {\n",
              "        vertical-align: middle;\n",
              "    }\n",
              "\n",
              "    .dataframe tbody tr th {\n",
              "        vertical-align: top;\n",
              "    }\n",
              "\n",
              "    .dataframe thead th {\n",
              "        text-align: right;\n",
              "    }\n",
              "</style>\n",
              "<table border=\"1\" class=\"dataframe\">\n",
              "  <thead>\n",
              "    <tr style=\"text-align: right;\">\n",
              "      <th></th>\n",
              "      <th>title</th>\n",
              "      <th>len</th>\n",
              "      <th>word_num</th>\n",
              "    </tr>\n",
              "  </thead>\n",
              "  <tbody>\n",
              "    <tr>\n",
              "      <th>1877</th>\n",
              "      <td>Doxyhyklan 40, 400 mg/g, proszek do podawania ...</td>\n",
              "      <td>78</td>\n",
              "      <td>15</td>\n",
              "    </tr>\n",
              "    <tr>\n",
              "      <th>1980</th>\n",
              "      <td>Rifen 100 mg/ml roztwór do wstrzykiwań dla kon...</td>\n",
              "      <td>61</td>\n",
              "      <td>11</td>\n",
              "    </tr>\n",
              "    <tr>\n",
              "      <th>2257</th>\n",
              "      <td>Maasol - Zestaw do sporządzania makroagregatów...</td>\n",
              "      <td>89</td>\n",
              "      <td>11</td>\n",
              "    </tr>\n",
              "    <tr>\n",
              "      <th>3731</th>\n",
              "      <td>Denagard 10% premiks do sporządzania paszy lec...</td>\n",
              "      <td>87</td>\n",
              "      <td>13</td>\n",
              "    </tr>\n",
              "    <tr>\n",
              "      <th>3733</th>\n",
              "      <td>Domosedan 10 mg/1 ml, roztwór do wstrzykiwań d...</td>\n",
              "      <td>61</td>\n",
              "      <td>11</td>\n",
              "    </tr>\n",
              "    <tr>\n",
              "      <th>...</th>\n",
              "      <td>...</td>\n",
              "      <td>...</td>\n",
              "      <td>...</td>\n",
              "    </tr>\n",
              "    <tr>\n",
              "      <th>9162</th>\n",
              "      <td>Gallivac IB88 Neo</td>\n",
              "      <td>29</td>\n",
              "      <td>15</td>\n",
              "    </tr>\n",
              "    <tr>\n",
              "      <th>9287</th>\n",
              "      <td>Nobilis IB 4 - 91, liofilizat do sporządzania ...</td>\n",
              "      <td>67</td>\n",
              "      <td>11</td>\n",
              "    </tr>\n",
              "    <tr>\n",
              "      <th>9391</th>\n",
              "      <td>Sedadex 0,1 mg/ml roztwór do wstrzykiwa ń  dla...</td>\n",
              "      <td>60</td>\n",
              "      <td>13</td>\n",
              "    </tr>\n",
              "    <tr>\n",
              "      <th>9392</th>\n",
              "      <td>Sedadex 0,5 mg/ml roztwór do wstrzykiwa ń  dla...</td>\n",
              "      <td>60</td>\n",
              "      <td>13</td>\n",
              "    </tr>\n",
              "    <tr>\n",
              "      <th>9414</th>\n",
              "      <td>Sevohale 100% v/v  płyn do sporządzania inhala...</td>\n",
              "      <td>66</td>\n",
              "      <td>11</td>\n",
              "    </tr>\n",
              "  </tbody>\n",
              "</table>\n",
              "<p>134 rows × 3 columns</p>\n",
              "</div>"
            ],
            "text/plain": [
              "                                                  title  len  word_num\n",
              "1877  Doxyhyklan 40, 400 mg/g, proszek do podawania ...   78        15\n",
              "1980  Rifen 100 mg/ml roztwór do wstrzykiwań dla kon...   61        11\n",
              "2257  Maasol - Zestaw do sporządzania makroagregatów...   89        11\n",
              "3731  Denagard 10% premiks do sporządzania paszy lec...   87        13\n",
              "3733  Domosedan 10 mg/1 ml, roztwór do wstrzykiwań d...   61        11\n",
              "...                                                 ...  ...       ...\n",
              "9162                      Gallivac IB88 Neo               29        15\n",
              "9287  Nobilis IB 4 - 91, liofilizat do sporządzania ...   67        11\n",
              "9391  Sedadex 0,1 mg/ml roztwór do wstrzykiwa ń  dla...   60        13\n",
              "9392  Sedadex 0,5 mg/ml roztwór do wstrzykiwa ń  dla...   60        13\n",
              "9414  Sevohale 100% v/v  płyn do sporządzania inhala...   66        11\n",
              "\n",
              "[134 rows x 3 columns]"
            ]
          },
          "metadata": {
            "tags": []
          },
          "execution_count": 39
        }
      ]
    },
    {
      "cell_type": "code",
      "metadata": {
        "id": "hv4j656tzkyl",
        "colab": {
          "base_uri": "https://localhost:8080/",
          "height": 402
        },
        "outputId": "af5d092b-240e-4a77-c54d-6af375127e1b"
      },
      "source": [
        "drugs_df[(drugs_df['word_num']>5)&(drugs_df['word_num']<=10)]"
      ],
      "execution_count": null,
      "outputs": [
        {
          "output_type": "execute_result",
          "data": {
            "text/html": [
              "<div>\n",
              "<style scoped>\n",
              "    .dataframe tbody tr th:only-of-type {\n",
              "        vertical-align: middle;\n",
              "    }\n",
              "\n",
              "    .dataframe tbody tr th {\n",
              "        vertical-align: top;\n",
              "    }\n",
              "\n",
              "    .dataframe thead th {\n",
              "        text-align: right;\n",
              "    }\n",
              "</style>\n",
              "<table border=\"1\" class=\"dataframe\">\n",
              "  <thead>\n",
              "    <tr style=\"text-align: right;\">\n",
              "      <th></th>\n",
              "      <th>title</th>\n",
              "      <th>len</th>\n",
              "      <th>word_num</th>\n",
              "    </tr>\n",
              "  </thead>\n",
              "  <tbody>\n",
              "    <tr>\n",
              "      <th>496</th>\n",
              "      <td>Tempora 100 mg tabletki do rozgryzania i żucia...</td>\n",
              "      <td>55</td>\n",
              "      <td>10</td>\n",
              "    </tr>\n",
              "    <tr>\n",
              "      <th>619</th>\n",
              "      <td>Ibufen dla dzieci o smaku malinowym</td>\n",
              "      <td>35</td>\n",
              "      <td>6</td>\n",
              "    </tr>\n",
              "    <tr>\n",
              "      <th>634</th>\n",
              "      <td>Injectio Glucosi  5% et Natrii chlorati 0,9% 1...</td>\n",
              "      <td>55</td>\n",
              "      <td>10</td>\n",
              "    </tr>\n",
              "    <tr>\n",
              "      <th>635</th>\n",
              "      <td>Injectio Glucosi 5% et Natrii chlorati 0,9% 2:...</td>\n",
              "      <td>54</td>\n",
              "      <td>9</td>\n",
              "    </tr>\n",
              "    <tr>\n",
              "      <th>655</th>\n",
              "      <td>Jodek sodu, Na 131 I  Polatom do terapii</td>\n",
              "      <td>40</td>\n",
              "      <td>9</td>\n",
              "    </tr>\n",
              "    <tr>\n",
              "      <th>...</th>\n",
              "      <td>...</td>\n",
              "      <td>...</td>\n",
              "      <td>...</td>\n",
              "    </tr>\n",
              "    <tr>\n",
              "      <th>9254</th>\n",
              "      <td>Contacera 15 mg/ml zawiesina doustna dla koni</td>\n",
              "      <td>45</td>\n",
              "      <td>7</td>\n",
              "    </tr>\n",
              "    <tr>\n",
              "      <th>9301</th>\n",
              "      <td>ERAVAC, emulsja do wstrzykiwań dla królików</td>\n",
              "      <td>43</td>\n",
              "      <td>6</td>\n",
              "    </tr>\n",
              "    <tr>\n",
              "      <th>9369</th>\n",
              "      <td>Dindoral, liofilizat dla indyków i bażantów</td>\n",
              "      <td>43</td>\n",
              "      <td>6</td>\n",
              "    </tr>\n",
              "    <tr>\n",
              "      <th>9390</th>\n",
              "      <td>HALAGON 0,5 mg/ml roztwór doustny dla cieląt</td>\n",
              "      <td>44</td>\n",
              "      <td>7</td>\n",
              "    </tr>\n",
              "    <tr>\n",
              "      <th>9413</th>\n",
              "      <td>Inflacam 330 mg granulat dla koni</td>\n",
              "      <td>33</td>\n",
              "      <td>6</td>\n",
              "    </tr>\n",
              "  </tbody>\n",
              "</table>\n",
              "<p>420 rows × 3 columns</p>\n",
              "</div>"
            ],
            "text/plain": [
              "                                                  title  len  word_num\n",
              "496   Tempora 100 mg tabletki do rozgryzania i żucia...   55        10\n",
              "619                 Ibufen dla dzieci o smaku malinowym   35         6\n",
              "634   Injectio Glucosi  5% et Natrii chlorati 0,9% 1...   55        10\n",
              "635   Injectio Glucosi 5% et Natrii chlorati 0,9% 2:...   54         9\n",
              "655            Jodek sodu, Na 131 I  Polatom do terapii   40         9\n",
              "...                                                 ...  ...       ...\n",
              "9254      Contacera 15 mg/ml zawiesina doustna dla koni   45         7\n",
              "9301        ERAVAC, emulsja do wstrzykiwań dla królików   43         6\n",
              "9369        Dindoral, liofilizat dla indyków i bażantów   43         6\n",
              "9390       HALAGON 0,5 mg/ml roztwór doustny dla cieląt   44         7\n",
              "9413                  Inflacam 330 mg granulat dla koni   33         6\n",
              "\n",
              "[420 rows x 3 columns]"
            ]
          },
          "metadata": {
            "tags": []
          },
          "execution_count": 40
        }
      ]
    },
    {
      "cell_type": "code",
      "metadata": {
        "id": "HJyat4H6z-vz",
        "colab": {
          "base_uri": "https://localhost:8080/",
          "height": 402
        },
        "outputId": "2c86c052-73e0-4f9e-e0ca-3fcb7d2765d7"
      },
      "source": [
        "drugs_df[(drugs_df['word_num']==5)]"
      ],
      "execution_count": null,
      "outputs": [
        {
          "output_type": "execute_result",
          "data": {
            "text/html": [
              "<div>\n",
              "<style scoped>\n",
              "    .dataframe tbody tr th:only-of-type {\n",
              "        vertical-align: middle;\n",
              "    }\n",
              "\n",
              "    .dataframe tbody tr th {\n",
              "        vertical-align: top;\n",
              "    }\n",
              "\n",
              "    .dataframe thead th {\n",
              "        text-align: right;\n",
              "    }\n",
              "</style>\n",
              "<table border=\"1\" class=\"dataframe\">\n",
              "  <thead>\n",
              "    <tr style=\"text-align: right;\">\n",
              "      <th></th>\n",
              "      <th>title</th>\n",
              "      <th>len</th>\n",
              "      <th>word_num</th>\n",
              "    </tr>\n",
              "  </thead>\n",
              "  <tbody>\n",
              "    <tr>\n",
              "      <th>20</th>\n",
              "      <td>Flegamina Junior o smaku truskawkowym</td>\n",
              "      <td>37</td>\n",
              "      <td>5</td>\n",
              "    </tr>\n",
              "    <tr>\n",
              "      <th>40</th>\n",
              "      <td>Coffepirine Tabletki od bólu głowy</td>\n",
              "      <td>34</td>\n",
              "      <td>5</td>\n",
              "    </tr>\n",
              "    <tr>\n",
              "      <th>267</th>\n",
              "      <td>Calcium Aflofarm (o smaku bananowym)</td>\n",
              "      <td>36</td>\n",
              "      <td>5</td>\n",
              "    </tr>\n",
              "    <tr>\n",
              "      <th>275</th>\n",
              "      <td>Calcium Sandoz + Vitamin C</td>\n",
              "      <td>26</td>\n",
              "      <td>5</td>\n",
              "    </tr>\n",
              "    <tr>\n",
              "      <th>393</th>\n",
              "      <td>10% Dekstran 40 000 Fresenius</td>\n",
              "      <td>29</td>\n",
              "      <td>5</td>\n",
              "    </tr>\n",
              "    <tr>\n",
              "      <th>...</th>\n",
              "      <td>...</td>\n",
              "      <td>...</td>\n",
              "      <td>...</td>\n",
              "    </tr>\n",
              "    <tr>\n",
              "      <th>9225</th>\n",
              "      <td>Pandemic influenza vaccine H5N1 MedImmune</td>\n",
              "      <td>41</td>\n",
              "      <td>5</td>\n",
              "    </tr>\n",
              "    <tr>\n",
              "      <th>9244</th>\n",
              "      <td>Drospirenone + Ethinylestradiol Midas Pharma</td>\n",
              "      <td>44</td>\n",
              "      <td>5</td>\n",
              "    </tr>\n",
              "    <tr>\n",
              "      <th>9260</th>\n",
              "      <td>Alendronic acid + Colecalciferol Sandoz</td>\n",
              "      <td>39</td>\n",
              "      <td>5</td>\n",
              "    </tr>\n",
              "    <tr>\n",
              "      <th>9297</th>\n",
              "      <td>Strepsils truskawkowy bez cukru</td>\n",
              "      <td>32</td>\n",
              "      <td>5</td>\n",
              "    </tr>\n",
              "    <tr>\n",
              "      <th>9352</th>\n",
              "      <td>Nutriflex Omega special without electrolytes</td>\n",
              "      <td>44</td>\n",
              "      <td>5</td>\n",
              "    </tr>\n",
              "  </tbody>\n",
              "</table>\n",
              "<p>183 rows × 3 columns</p>\n",
              "</div>"
            ],
            "text/plain": [
              "                                             title  len  word_num\n",
              "20           Flegamina Junior o smaku truskawkowym   37         5\n",
              "40              Coffepirine Tabletki od bólu głowy   34         5\n",
              "267           Calcium Aflofarm (o smaku bananowym)   36         5\n",
              "275                     Calcium Sandoz + Vitamin C   26         5\n",
              "393                  10% Dekstran 40 000 Fresenius   29         5\n",
              "...                                            ...  ...       ...\n",
              "9225     Pandemic influenza vaccine H5N1 MedImmune   41         5\n",
              "9244  Drospirenone + Ethinylestradiol Midas Pharma   44         5\n",
              "9260       Alendronic acid + Colecalciferol Sandoz   39         5\n",
              "9297              Strepsils truskawkowy bez cukru    32         5\n",
              "9352  Nutriflex Omega special without electrolytes   44         5\n",
              "\n",
              "[183 rows x 3 columns]"
            ]
          },
          "metadata": {
            "tags": []
          },
          "execution_count": 41
        }
      ]
    },
    {
      "cell_type": "markdown",
      "metadata": {
        "id": "sEZ5Ek0DxxTi"
      },
      "source": [
        "## Założenie 1\n",
        "\n",
        "Wnioskuję, że długie nazwy wynikają z tego, że ktoś błędnie wpisuje w komórkę z nazwą też sposób użycia lub inne informacje. Aby pozbawić się tej niewłaściwej informacji i na podstawie krótkiej analizy danych, zakładam, że nazwa nie może być dłuższa niż 4 słowa. (oczywiście można poświęcić więcej czasu i zrobić to lepiej)."
      ]
    },
    {
      "cell_type": "code",
      "metadata": {
        "id": "EtGsJJ095q8e"
      },
      "source": [
        "df=drugs_df"
      ],
      "execution_count": null,
      "outputs": []
    },
    {
      "cell_type": "code",
      "metadata": {
        "id": "McIT8i-n8nwZ",
        "colab": {
          "base_uri": "https://localhost:8080/",
          "height": 263
        },
        "outputId": "e716afce-9cb8-43a9-a6f6-46e71f30fd8b"
      },
      "source": [
        "print(df.title.apply(lambda x: pd.Series(str(x).split(\" \")))) "
      ],
      "execution_count": null,
      "outputs": [
        {
          "output_type": "stream",
          "text": [
            "              0      1          2     3    4   ...   14   15   16   17   18\n",
            "0     Zoledronic   acid  Fresenius  Kabi  NaN  ...  NaN  NaN  NaN  NaN  NaN\n",
            "1         Edelan    NaN        NaN   NaN  NaN  ...  NaN  NaN  NaN  NaN  NaN\n",
            "2       Nalgesin    NaN        NaN   NaN  NaN  ...  NaN  NaN  NaN  NaN  NaN\n",
            "3       Nalgesin  Forte        NaN   NaN  NaN  ...  NaN  NaN  NaN  NaN  NaN\n",
            "4      Diprobase    NaN        NaN   NaN  NaN  ...  NaN  NaN  NaN  NaN  NaN\n",
            "...          ...    ...        ...   ...  ...  ...  ...  ...  ...  ...  ...\n",
            "9422  Cunibiovac    RHD        NaN   NaN  NaN  ...  NaN  NaN  NaN  NaN  NaN\n",
            "9423    Pracetam    NaN        NaN   NaN  NaN  ...  NaN  NaN  NaN  NaN  NaN\n",
            "9424      Amodip    NaN        NaN   NaN  NaN  ...  NaN  NaN  NaN  NaN  NaN\n",
            "9425      Adaxio    NaN        NaN   NaN  NaN  ...  NaN  NaN  NaN  NaN  NaN\n",
            "9426   Coldostin    NaN        NaN   NaN  NaN  ...  NaN  NaN  NaN  NaN  NaN\n",
            "\n",
            "[9427 rows x 19 columns]\n"
          ],
          "name": "stdout"
        }
      ]
    },
    {
      "cell_type": "code",
      "metadata": {
        "id": "da5wj-mN80gz"
      },
      "source": [
        "df2 = df.title.apply(lambda x: pd.Series(str(x).split(\" \")))"
      ],
      "execution_count": null,
      "outputs": []
    },
    {
      "cell_type": "code",
      "metadata": {
        "id": "t1knrln186BM",
        "colab": {
          "base_uri": "https://localhost:8080/",
          "height": 402
        },
        "outputId": "b3792638-7dcc-4535-dd1f-b98b2fdcbcf1"
      },
      "source": [
        "df2"
      ],
      "execution_count": null,
      "outputs": [
        {
          "output_type": "execute_result",
          "data": {
            "text/html": [
              "<div>\n",
              "<style scoped>\n",
              "    .dataframe tbody tr th:only-of-type {\n",
              "        vertical-align: middle;\n",
              "    }\n",
              "\n",
              "    .dataframe tbody tr th {\n",
              "        vertical-align: top;\n",
              "    }\n",
              "\n",
              "    .dataframe thead th {\n",
              "        text-align: right;\n",
              "    }\n",
              "</style>\n",
              "<table border=\"1\" class=\"dataframe\">\n",
              "  <thead>\n",
              "    <tr style=\"text-align: right;\">\n",
              "      <th></th>\n",
              "      <th>0</th>\n",
              "      <th>1</th>\n",
              "      <th>2</th>\n",
              "      <th>3</th>\n",
              "      <th>4</th>\n",
              "      <th>5</th>\n",
              "      <th>6</th>\n",
              "      <th>7</th>\n",
              "      <th>8</th>\n",
              "      <th>9</th>\n",
              "      <th>10</th>\n",
              "      <th>11</th>\n",
              "      <th>12</th>\n",
              "      <th>13</th>\n",
              "      <th>14</th>\n",
              "      <th>15</th>\n",
              "      <th>16</th>\n",
              "      <th>17</th>\n",
              "      <th>18</th>\n",
              "    </tr>\n",
              "  </thead>\n",
              "  <tbody>\n",
              "    <tr>\n",
              "      <th>0</th>\n",
              "      <td>Zoledronic</td>\n",
              "      <td>acid</td>\n",
              "      <td>Fresenius</td>\n",
              "      <td>Kabi</td>\n",
              "      <td>NaN</td>\n",
              "      <td>NaN</td>\n",
              "      <td>NaN</td>\n",
              "      <td>NaN</td>\n",
              "      <td>NaN</td>\n",
              "      <td>NaN</td>\n",
              "      <td>NaN</td>\n",
              "      <td>NaN</td>\n",
              "      <td>NaN</td>\n",
              "      <td>NaN</td>\n",
              "      <td>NaN</td>\n",
              "      <td>NaN</td>\n",
              "      <td>NaN</td>\n",
              "      <td>NaN</td>\n",
              "      <td>NaN</td>\n",
              "    </tr>\n",
              "    <tr>\n",
              "      <th>1</th>\n",
              "      <td>Edelan</td>\n",
              "      <td>NaN</td>\n",
              "      <td>NaN</td>\n",
              "      <td>NaN</td>\n",
              "      <td>NaN</td>\n",
              "      <td>NaN</td>\n",
              "      <td>NaN</td>\n",
              "      <td>NaN</td>\n",
              "      <td>NaN</td>\n",
              "      <td>NaN</td>\n",
              "      <td>NaN</td>\n",
              "      <td>NaN</td>\n",
              "      <td>NaN</td>\n",
              "      <td>NaN</td>\n",
              "      <td>NaN</td>\n",
              "      <td>NaN</td>\n",
              "      <td>NaN</td>\n",
              "      <td>NaN</td>\n",
              "      <td>NaN</td>\n",
              "    </tr>\n",
              "    <tr>\n",
              "      <th>2</th>\n",
              "      <td>Nalgesin</td>\n",
              "      <td>NaN</td>\n",
              "      <td>NaN</td>\n",
              "      <td>NaN</td>\n",
              "      <td>NaN</td>\n",
              "      <td>NaN</td>\n",
              "      <td>NaN</td>\n",
              "      <td>NaN</td>\n",
              "      <td>NaN</td>\n",
              "      <td>NaN</td>\n",
              "      <td>NaN</td>\n",
              "      <td>NaN</td>\n",
              "      <td>NaN</td>\n",
              "      <td>NaN</td>\n",
              "      <td>NaN</td>\n",
              "      <td>NaN</td>\n",
              "      <td>NaN</td>\n",
              "      <td>NaN</td>\n",
              "      <td>NaN</td>\n",
              "    </tr>\n",
              "    <tr>\n",
              "      <th>3</th>\n",
              "      <td>Nalgesin</td>\n",
              "      <td>Forte</td>\n",
              "      <td>NaN</td>\n",
              "      <td>NaN</td>\n",
              "      <td>NaN</td>\n",
              "      <td>NaN</td>\n",
              "      <td>NaN</td>\n",
              "      <td>NaN</td>\n",
              "      <td>NaN</td>\n",
              "      <td>NaN</td>\n",
              "      <td>NaN</td>\n",
              "      <td>NaN</td>\n",
              "      <td>NaN</td>\n",
              "      <td>NaN</td>\n",
              "      <td>NaN</td>\n",
              "      <td>NaN</td>\n",
              "      <td>NaN</td>\n",
              "      <td>NaN</td>\n",
              "      <td>NaN</td>\n",
              "    </tr>\n",
              "    <tr>\n",
              "      <th>4</th>\n",
              "      <td>Diprobase</td>\n",
              "      <td>NaN</td>\n",
              "      <td>NaN</td>\n",
              "      <td>NaN</td>\n",
              "      <td>NaN</td>\n",
              "      <td>NaN</td>\n",
              "      <td>NaN</td>\n",
              "      <td>NaN</td>\n",
              "      <td>NaN</td>\n",
              "      <td>NaN</td>\n",
              "      <td>NaN</td>\n",
              "      <td>NaN</td>\n",
              "      <td>NaN</td>\n",
              "      <td>NaN</td>\n",
              "      <td>NaN</td>\n",
              "      <td>NaN</td>\n",
              "      <td>NaN</td>\n",
              "      <td>NaN</td>\n",
              "      <td>NaN</td>\n",
              "    </tr>\n",
              "    <tr>\n",
              "      <th>...</th>\n",
              "      <td>...</td>\n",
              "      <td>...</td>\n",
              "      <td>...</td>\n",
              "      <td>...</td>\n",
              "      <td>...</td>\n",
              "      <td>...</td>\n",
              "      <td>...</td>\n",
              "      <td>...</td>\n",
              "      <td>...</td>\n",
              "      <td>...</td>\n",
              "      <td>...</td>\n",
              "      <td>...</td>\n",
              "      <td>...</td>\n",
              "      <td>...</td>\n",
              "      <td>...</td>\n",
              "      <td>...</td>\n",
              "      <td>...</td>\n",
              "      <td>...</td>\n",
              "      <td>...</td>\n",
              "    </tr>\n",
              "    <tr>\n",
              "      <th>9422</th>\n",
              "      <td>Cunibiovac</td>\n",
              "      <td>RHD</td>\n",
              "      <td>NaN</td>\n",
              "      <td>NaN</td>\n",
              "      <td>NaN</td>\n",
              "      <td>NaN</td>\n",
              "      <td>NaN</td>\n",
              "      <td>NaN</td>\n",
              "      <td>NaN</td>\n",
              "      <td>NaN</td>\n",
              "      <td>NaN</td>\n",
              "      <td>NaN</td>\n",
              "      <td>NaN</td>\n",
              "      <td>NaN</td>\n",
              "      <td>NaN</td>\n",
              "      <td>NaN</td>\n",
              "      <td>NaN</td>\n",
              "      <td>NaN</td>\n",
              "      <td>NaN</td>\n",
              "    </tr>\n",
              "    <tr>\n",
              "      <th>9423</th>\n",
              "      <td>Pracetam</td>\n",
              "      <td>NaN</td>\n",
              "      <td>NaN</td>\n",
              "      <td>NaN</td>\n",
              "      <td>NaN</td>\n",
              "      <td>NaN</td>\n",
              "      <td>NaN</td>\n",
              "      <td>NaN</td>\n",
              "      <td>NaN</td>\n",
              "      <td>NaN</td>\n",
              "      <td>NaN</td>\n",
              "      <td>NaN</td>\n",
              "      <td>NaN</td>\n",
              "      <td>NaN</td>\n",
              "      <td>NaN</td>\n",
              "      <td>NaN</td>\n",
              "      <td>NaN</td>\n",
              "      <td>NaN</td>\n",
              "      <td>NaN</td>\n",
              "    </tr>\n",
              "    <tr>\n",
              "      <th>9424</th>\n",
              "      <td>Amodip</td>\n",
              "      <td>NaN</td>\n",
              "      <td>NaN</td>\n",
              "      <td>NaN</td>\n",
              "      <td>NaN</td>\n",
              "      <td>NaN</td>\n",
              "      <td>NaN</td>\n",
              "      <td>NaN</td>\n",
              "      <td>NaN</td>\n",
              "      <td>NaN</td>\n",
              "      <td>NaN</td>\n",
              "      <td>NaN</td>\n",
              "      <td>NaN</td>\n",
              "      <td>NaN</td>\n",
              "      <td>NaN</td>\n",
              "      <td>NaN</td>\n",
              "      <td>NaN</td>\n",
              "      <td>NaN</td>\n",
              "      <td>NaN</td>\n",
              "    </tr>\n",
              "    <tr>\n",
              "      <th>9425</th>\n",
              "      <td>Adaxio</td>\n",
              "      <td>NaN</td>\n",
              "      <td>NaN</td>\n",
              "      <td>NaN</td>\n",
              "      <td>NaN</td>\n",
              "      <td>NaN</td>\n",
              "      <td>NaN</td>\n",
              "      <td>NaN</td>\n",
              "      <td>NaN</td>\n",
              "      <td>NaN</td>\n",
              "      <td>NaN</td>\n",
              "      <td>NaN</td>\n",
              "      <td>NaN</td>\n",
              "      <td>NaN</td>\n",
              "      <td>NaN</td>\n",
              "      <td>NaN</td>\n",
              "      <td>NaN</td>\n",
              "      <td>NaN</td>\n",
              "      <td>NaN</td>\n",
              "    </tr>\n",
              "    <tr>\n",
              "      <th>9426</th>\n",
              "      <td>Coldostin</td>\n",
              "      <td>NaN</td>\n",
              "      <td>NaN</td>\n",
              "      <td>NaN</td>\n",
              "      <td>NaN</td>\n",
              "      <td>NaN</td>\n",
              "      <td>NaN</td>\n",
              "      <td>NaN</td>\n",
              "      <td>NaN</td>\n",
              "      <td>NaN</td>\n",
              "      <td>NaN</td>\n",
              "      <td>NaN</td>\n",
              "      <td>NaN</td>\n",
              "      <td>NaN</td>\n",
              "      <td>NaN</td>\n",
              "      <td>NaN</td>\n",
              "      <td>NaN</td>\n",
              "      <td>NaN</td>\n",
              "      <td>NaN</td>\n",
              "    </tr>\n",
              "  </tbody>\n",
              "</table>\n",
              "<p>9427 rows × 19 columns</p>\n",
              "</div>"
            ],
            "text/plain": [
              "              0      1          2     3    4   ...   14   15   16   17   18\n",
              "0     Zoledronic   acid  Fresenius  Kabi  NaN  ...  NaN  NaN  NaN  NaN  NaN\n",
              "1         Edelan    NaN        NaN   NaN  NaN  ...  NaN  NaN  NaN  NaN  NaN\n",
              "2       Nalgesin    NaN        NaN   NaN  NaN  ...  NaN  NaN  NaN  NaN  NaN\n",
              "3       Nalgesin  Forte        NaN   NaN  NaN  ...  NaN  NaN  NaN  NaN  NaN\n",
              "4      Diprobase    NaN        NaN   NaN  NaN  ...  NaN  NaN  NaN  NaN  NaN\n",
              "...          ...    ...        ...   ...  ...  ...  ...  ...  ...  ...  ...\n",
              "9422  Cunibiovac    RHD        NaN   NaN  NaN  ...  NaN  NaN  NaN  NaN  NaN\n",
              "9423    Pracetam    NaN        NaN   NaN  NaN  ...  NaN  NaN  NaN  NaN  NaN\n",
              "9424      Amodip    NaN        NaN   NaN  NaN  ...  NaN  NaN  NaN  NaN  NaN\n",
              "9425      Adaxio    NaN        NaN   NaN  NaN  ...  NaN  NaN  NaN  NaN  NaN\n",
              "9426   Coldostin    NaN        NaN   NaN  NaN  ...  NaN  NaN  NaN  NaN  NaN\n",
              "\n",
              "[9427 rows x 19 columns]"
            ]
          },
          "metadata": {
            "tags": []
          },
          "execution_count": 45
        }
      ]
    },
    {
      "cell_type": "code",
      "metadata": {
        "id": "utht9DJ39Zir"
      },
      "source": [
        "df['title_new'] = df2[df2.columns[0:4]].apply(\n",
        "    lambda x: ' '.join(x.dropna().astype(str)),\n",
        "    axis=1\n",
        ")"
      ],
      "execution_count": null,
      "outputs": []
    },
    {
      "cell_type": "code",
      "metadata": {
        "id": "o5LadXCn9ZOy"
      },
      "source": [
        "df['len_new']=df['title_new'].apply(len)"
      ],
      "execution_count": null,
      "outputs": []
    },
    {
      "cell_type": "code",
      "metadata": {
        "id": "G0M3YDLT1NYn"
      },
      "source": [
        "df['word_num_new']=df['title_new'].str.count(' ')+1"
      ],
      "execution_count": null,
      "outputs": []
    },
    {
      "cell_type": "code",
      "metadata": {
        "id": "L0VgEUI3_WNX",
        "colab": {
          "base_uri": "https://localhost:8080/",
          "height": 284
        },
        "outputId": "0346ad04-549b-4bbe-cd95-29471101d1cc"
      },
      "source": [
        "df.describe()"
      ],
      "execution_count": null,
      "outputs": [
        {
          "output_type": "execute_result",
          "data": {
            "text/html": [
              "<div>\n",
              "<style scoped>\n",
              "    .dataframe tbody tr th:only-of-type {\n",
              "        vertical-align: middle;\n",
              "    }\n",
              "\n",
              "    .dataframe tbody tr th {\n",
              "        vertical-align: top;\n",
              "    }\n",
              "\n",
              "    .dataframe thead th {\n",
              "        text-align: right;\n",
              "    }\n",
              "</style>\n",
              "<table border=\"1\" class=\"dataframe\">\n",
              "  <thead>\n",
              "    <tr style=\"text-align: right;\">\n",
              "      <th></th>\n",
              "      <th>len</th>\n",
              "      <th>word_num</th>\n",
              "      <th>len_new</th>\n",
              "      <th>word_num_new</th>\n",
              "    </tr>\n",
              "  </thead>\n",
              "  <tbody>\n",
              "    <tr>\n",
              "      <th>count</th>\n",
              "      <td>9427.000000</td>\n",
              "      <td>9427.000000</td>\n",
              "      <td>9427.000000</td>\n",
              "      <td>9427.000000</td>\n",
              "    </tr>\n",
              "    <tr>\n",
              "      <th>mean</th>\n",
              "      <td>15.303490</td>\n",
              "      <td>2.241858</td>\n",
              "      <td>13.400870</td>\n",
              "      <td>1.928079</td>\n",
              "    </tr>\n",
              "    <tr>\n",
              "      <th>std</th>\n",
              "      <td>12.371961</td>\n",
              "      <td>2.020701</td>\n",
              "      <td>6.859569</td>\n",
              "      <td>1.002079</td>\n",
              "    </tr>\n",
              "    <tr>\n",
              "      <th>min</th>\n",
              "      <td>3.000000</td>\n",
              "      <td>1.000000</td>\n",
              "      <td>3.000000</td>\n",
              "      <td>1.000000</td>\n",
              "    </tr>\n",
              "    <tr>\n",
              "      <th>25%</th>\n",
              "      <td>8.000000</td>\n",
              "      <td>1.000000</td>\n",
              "      <td>8.000000</td>\n",
              "      <td>1.000000</td>\n",
              "    </tr>\n",
              "    <tr>\n",
              "      <th>50%</th>\n",
              "      <td>11.000000</td>\n",
              "      <td>2.000000</td>\n",
              "      <td>11.000000</td>\n",
              "      <td>2.000000</td>\n",
              "    </tr>\n",
              "    <tr>\n",
              "      <th>75%</th>\n",
              "      <td>18.000000</td>\n",
              "      <td>2.000000</td>\n",
              "      <td>18.000000</td>\n",
              "      <td>2.000000</td>\n",
              "    </tr>\n",
              "    <tr>\n",
              "      <th>max</th>\n",
              "      <td>124.000000</td>\n",
              "      <td>19.000000</td>\n",
              "      <td>55.000000</td>\n",
              "      <td>4.000000</td>\n",
              "    </tr>\n",
              "  </tbody>\n",
              "</table>\n",
              "</div>"
            ],
            "text/plain": [
              "               len     word_num      len_new  word_num_new\n",
              "count  9427.000000  9427.000000  9427.000000   9427.000000\n",
              "mean     15.303490     2.241858    13.400870      1.928079\n",
              "std      12.371961     2.020701     6.859569      1.002079\n",
              "min       3.000000     1.000000     3.000000      1.000000\n",
              "25%       8.000000     1.000000     8.000000      1.000000\n",
              "50%      11.000000     2.000000    11.000000      2.000000\n",
              "75%      18.000000     2.000000    18.000000      2.000000\n",
              "max     124.000000    19.000000    55.000000      4.000000"
            ]
          },
          "metadata": {
            "tags": []
          },
          "execution_count": 49
        }
      ]
    },
    {
      "cell_type": "code",
      "metadata": {
        "id": "0ZfxI1t3szYP",
        "colab": {
          "base_uri": "https://localhost:8080/",
          "height": 210
        },
        "outputId": "12dd81c9-0738-4e0b-840a-46262ec75345"
      },
      "source": [
        "df.info()"
      ],
      "execution_count": null,
      "outputs": [
        {
          "output_type": "stream",
          "text": [
            "<class 'pandas.core.frame.DataFrame'>\n",
            "RangeIndex: 9427 entries, 0 to 9426\n",
            "Data columns (total 6 columns):\n",
            "title           9427 non-null object\n",
            "len             9427 non-null int64\n",
            "word_num        9427 non-null int64\n",
            "title_new       9427 non-null object\n",
            "len_new         9427 non-null int64\n",
            "word_num_new    9427 non-null int64\n",
            "dtypes: int64(4), object(2)\n",
            "memory usage: 442.0+ KB\n"
          ],
          "name": "stdout"
        }
      ]
    },
    {
      "cell_type": "code",
      "metadata": {
        "id": "IIyfpfIm_WBu",
        "colab": {
          "base_uri": "https://localhost:8080/",
          "height": 402
        },
        "outputId": "9490525f-4b20-4189-b070-b8c9df91a70b"
      },
      "source": [
        "df.sort_values('word_num_new', ascending=False)"
      ],
      "execution_count": null,
      "outputs": [
        {
          "output_type": "execute_result",
          "data": {
            "text/html": [
              "<div>\n",
              "<style scoped>\n",
              "    .dataframe tbody tr th:only-of-type {\n",
              "        vertical-align: middle;\n",
              "    }\n",
              "\n",
              "    .dataframe tbody tr th {\n",
              "        vertical-align: top;\n",
              "    }\n",
              "\n",
              "    .dataframe thead th {\n",
              "        text-align: right;\n",
              "    }\n",
              "</style>\n",
              "<table border=\"1\" class=\"dataframe\">\n",
              "  <thead>\n",
              "    <tr style=\"text-align: right;\">\n",
              "      <th></th>\n",
              "      <th>title</th>\n",
              "      <th>len</th>\n",
              "      <th>word_num</th>\n",
              "      <th>title_new</th>\n",
              "      <th>len_new</th>\n",
              "      <th>word_num_new</th>\n",
              "    </tr>\n",
              "  </thead>\n",
              "  <tbody>\n",
              "    <tr>\n",
              "      <th>0</th>\n",
              "      <td>Zoledronic acid Fresenius Kabi</td>\n",
              "      <td>30</td>\n",
              "      <td>4</td>\n",
              "      <td>Zoledronic acid Fresenius Kabi</td>\n",
              "      <td>30</td>\n",
              "      <td>4</td>\n",
              "    </tr>\n",
              "    <tr>\n",
              "      <th>1011</th>\n",
              "      <td>Polyvaccinum submite Nieswoista szczepionka ba...</td>\n",
              "      <td>54</td>\n",
              "      <td>5</td>\n",
              "      <td>Polyvaccinum submite Nieswoista szczepionka</td>\n",
              "      <td>43</td>\n",
              "      <td>4</td>\n",
              "    </tr>\n",
              "    <tr>\n",
              "      <th>4263</th>\n",
              "      <td>Virbactan 150 mg maść dowymieniowa</td>\n",
              "      <td>34</td>\n",
              "      <td>5</td>\n",
              "      <td>Virbactan 150 mg maść</td>\n",
              "      <td>21</td>\n",
              "      <td>4</td>\n",
              "    </tr>\n",
              "    <tr>\n",
              "      <th>4272</th>\n",
              "      <td>Optivermin (50 mg + 500 mg) tabletki dla psów ...</td>\n",
              "      <td>53</td>\n",
              "      <td>11</td>\n",
              "      <td>Optivermin (50 mg +</td>\n",
              "      <td>19</td>\n",
              "      <td>4</td>\n",
              "    </tr>\n",
              "    <tr>\n",
              "      <th>4276</th>\n",
              "      <td>Eqvalan Duo, pasta doustna</td>\n",
              "      <td>26</td>\n",
              "      <td>4</td>\n",
              "      <td>Eqvalan Duo, pasta doustna</td>\n",
              "      <td>26</td>\n",
              "      <td>4</td>\n",
              "    </tr>\n",
              "    <tr>\n",
              "      <th>...</th>\n",
              "      <td>...</td>\n",
              "      <td>...</td>\n",
              "      <td>...</td>\n",
              "      <td>...</td>\n",
              "      <td>...</td>\n",
              "      <td>...</td>\n",
              "    </tr>\n",
              "    <tr>\n",
              "      <th>4283</th>\n",
              "      <td>Gleptosil</td>\n",
              "      <td>9</td>\n",
              "      <td>1</td>\n",
              "      <td>Gleptosil</td>\n",
              "      <td>9</td>\n",
              "      <td>1</td>\n",
              "    </tr>\n",
              "    <tr>\n",
              "      <th>4271</th>\n",
              "      <td>Mycamine</td>\n",
              "      <td>8</td>\n",
              "      <td>1</td>\n",
              "      <td>Mycamine</td>\n",
              "      <td>8</td>\n",
              "      <td>1</td>\n",
              "    </tr>\n",
              "    <tr>\n",
              "      <th>4258</th>\n",
              "      <td>Ladybon</td>\n",
              "      <td>7</td>\n",
              "      <td>1</td>\n",
              "      <td>Ladybon</td>\n",
              "      <td>7</td>\n",
              "      <td>1</td>\n",
              "    </tr>\n",
              "    <tr>\n",
              "      <th>4242</th>\n",
              "      <td>Suramox</td>\n",
              "      <td>7</td>\n",
              "      <td>1</td>\n",
              "      <td>Suramox</td>\n",
              "      <td>7</td>\n",
              "      <td>1</td>\n",
              "    </tr>\n",
              "    <tr>\n",
              "      <th>9426</th>\n",
              "      <td>Coldostin</td>\n",
              "      <td>9</td>\n",
              "      <td>1</td>\n",
              "      <td>Coldostin</td>\n",
              "      <td>9</td>\n",
              "      <td>1</td>\n",
              "    </tr>\n",
              "  </tbody>\n",
              "</table>\n",
              "<p>9427 rows × 6 columns</p>\n",
              "</div>"
            ],
            "text/plain": [
              "                                                  title  ...  word_num_new\n",
              "0                        Zoledronic acid Fresenius Kabi  ...             4\n",
              "1011  Polyvaccinum submite Nieswoista szczepionka ba...  ...             4\n",
              "4263                 Virbactan 150 mg maść dowymieniowa  ...             4\n",
              "4272  Optivermin (50 mg + 500 mg) tabletki dla psów ...  ...             4\n",
              "4276                         Eqvalan Duo, pasta doustna  ...             4\n",
              "...                                                 ...  ...           ...\n",
              "4283                                          Gleptosil  ...             1\n",
              "4271                                           Mycamine  ...             1\n",
              "4258                                            Ladybon  ...             1\n",
              "4242                                            Suramox  ...             1\n",
              "9426                                          Coldostin  ...             1\n",
              "\n",
              "[9427 rows x 6 columns]"
            ]
          },
          "metadata": {
            "tags": []
          },
          "execution_count": 51
        }
      ]
    },
    {
      "cell_type": "code",
      "metadata": {
        "id": "9WTtkn2MfEmg",
        "colab": {
          "base_uri": "https://localhost:8080/",
          "height": 34
        },
        "outputId": "7dcdc2b7-ea6e-4dd2-a328-edded1aaf2c4"
      },
      "source": [
        "len(df)"
      ],
      "execution_count": null,
      "outputs": [
        {
          "output_type": "execute_result",
          "data": {
            "text/plain": [
              "9427"
            ]
          },
          "metadata": {
            "tags": []
          },
          "execution_count": 52
        }
      ]
    },
    {
      "cell_type": "code",
      "metadata": {
        "id": "T8EJAsRU42zj",
        "colab": {
          "base_uri": "https://localhost:8080/",
          "height": 34
        },
        "outputId": "f4dd089b-a62f-44cf-ad1a-0b06b7ac3e8c"
      },
      "source": [
        "df['title_new'][0]"
      ],
      "execution_count": null,
      "outputs": [
        {
          "output_type": "execute_result",
          "data": {
            "text/plain": [
              "'Zoledronic acid Fresenius Kabi'"
            ]
          },
          "metadata": {
            "tags": []
          },
          "execution_count": 53
        }
      ]
    },
    {
      "cell_type": "code",
      "metadata": {
        "id": "uL_AKiP9hhlr",
        "colab": {
          "base_uri": "https://localhost:8080/",
          "height": 34
        },
        "outputId": "eb9fc01c-7bf2-426f-c070-07197852bf29"
      },
      "source": [
        "max(df['title_new'].apply(len))"
      ],
      "execution_count": null,
      "outputs": [
        {
          "output_type": "execute_result",
          "data": {
            "text/plain": [
              "55"
            ]
          },
          "metadata": {
            "tags": []
          },
          "execution_count": 54
        }
      ]
    },
    {
      "cell_type": "code",
      "metadata": {
        "id": "Ez-dMsgxh8Ed",
        "colab": {
          "base_uri": "https://localhost:8080/",
          "height": 34
        },
        "outputId": "0cd9b89b-01c3-4551-abdf-5782e472f118"
      },
      "source": [
        "df['title_new'].map(lambda x: len(x)).max()"
      ],
      "execution_count": null,
      "outputs": [
        {
          "output_type": "execute_result",
          "data": {
            "text/plain": [
              "55"
            ]
          },
          "metadata": {
            "tags": []
          },
          "execution_count": 55
        }
      ]
    },
    {
      "cell_type": "code",
      "metadata": {
        "id": "VmzKTmpyF0Mx",
        "colab": {
          "base_uri": "https://localhost:8080/",
          "height": 210
        },
        "outputId": "54b19c58-c1de-4cf3-d3d6-748db7639743"
      },
      "source": [
        "df.info()"
      ],
      "execution_count": null,
      "outputs": [
        {
          "output_type": "stream",
          "text": [
            "<class 'pandas.core.frame.DataFrame'>\n",
            "RangeIndex: 9427 entries, 0 to 9426\n",
            "Data columns (total 6 columns):\n",
            "title           9427 non-null object\n",
            "len             9427 non-null int64\n",
            "word_num        9427 non-null int64\n",
            "title_new       9427 non-null object\n",
            "len_new         9427 non-null int64\n",
            "word_num_new    9427 non-null int64\n",
            "dtypes: int64(4), object(2)\n",
            "memory usage: 442.0+ KB\n"
          ],
          "name": "stdout"
        }
      ]
    },
    {
      "cell_type": "code",
      "metadata": {
        "id": "3eUKar0WrSFw",
        "colab": {
          "base_uri": "https://localhost:8080/",
          "height": 105
        },
        "outputId": "a61f4a3b-07f5-4ca8-b9cc-bbe138cbf121"
      },
      "source": [
        "df['title_new'].describe()"
      ],
      "execution_count": null,
      "outputs": [
        {
          "output_type": "execute_result",
          "data": {
            "text/plain": [
              "count                9427\n",
              "unique               9363\n",
              "top       Vitaminum A + E\n",
              "freq                    5\n",
              "Name: title_new, dtype: object"
            ]
          },
          "metadata": {
            "tags": []
          },
          "execution_count": 57
        }
      ]
    },
    {
      "cell_type": "code",
      "metadata": {
        "id": "LlJ873SzrQ6A"
      },
      "source": [
        "drugsR_df = pd.DataFrame(df['title_new'].unique(),columns=['title_new'])"
      ],
      "execution_count": null,
      "outputs": []
    },
    {
      "cell_type": "code",
      "metadata": {
        "id": "E8koan4zruO_",
        "colab": {
          "base_uri": "https://localhost:8080/",
          "height": 122
        },
        "outputId": "5ef1fae5-578a-4d7d-b639-5e5ea46d5758"
      },
      "source": [
        "drugsR_df.info()"
      ],
      "execution_count": null,
      "outputs": [
        {
          "output_type": "stream",
          "text": [
            "<class 'pandas.core.frame.DataFrame'>\n",
            "RangeIndex: 9363 entries, 0 to 9362\n",
            "Data columns (total 1 columns):\n",
            "title_new    9363 non-null object\n",
            "dtypes: object(1)\n",
            "memory usage: 73.3+ KB\n"
          ],
          "name": "stdout"
        }
      ]
    },
    {
      "cell_type": "code",
      "metadata": {
        "id": "S5Ly4G7-GRqg"
      },
      "source": [
        "drugsR_df['label']='real'"
      ],
      "execution_count": null,
      "outputs": []
    },
    {
      "cell_type": "code",
      "metadata": {
        "id": "iE01pPMXM-PR",
        "colab": {
          "base_uri": "https://localhost:8080/",
          "height": 140
        },
        "outputId": "30b4752a-ac25-4593-fe8c-9b453e5ea118"
      },
      "source": [
        "drugsR_df.info()"
      ],
      "execution_count": null,
      "outputs": [
        {
          "output_type": "stream",
          "text": [
            "<class 'pandas.core.frame.DataFrame'>\n",
            "RangeIndex: 9363 entries, 0 to 9362\n",
            "Data columns (total 2 columns):\n",
            "title_new    9363 non-null object\n",
            "label        9363 non-null object\n",
            "dtypes: object(2)\n",
            "memory usage: 146.4+ KB\n"
          ],
          "name": "stdout"
        }
      ]
    },
    {
      "cell_type": "code",
      "metadata": {
        "id": "IL5MvF3eq3Y2",
        "colab": {
          "base_uri": "https://localhost:8080/",
          "height": 166
        },
        "outputId": "cce28479-3641-4a74-c57e-b163ecbc073f"
      },
      "source": [
        "drugsR_df.describe()"
      ],
      "execution_count": null,
      "outputs": [
        {
          "output_type": "execute_result",
          "data": {
            "text/html": [
              "<div>\n",
              "<style scoped>\n",
              "    .dataframe tbody tr th:only-of-type {\n",
              "        vertical-align: middle;\n",
              "    }\n",
              "\n",
              "    .dataframe tbody tr th {\n",
              "        vertical-align: top;\n",
              "    }\n",
              "\n",
              "    .dataframe thead th {\n",
              "        text-align: right;\n",
              "    }\n",
              "</style>\n",
              "<table border=\"1\" class=\"dataframe\">\n",
              "  <thead>\n",
              "    <tr style=\"text-align: right;\">\n",
              "      <th></th>\n",
              "      <th>title_new</th>\n",
              "      <th>label</th>\n",
              "    </tr>\n",
              "  </thead>\n",
              "  <tbody>\n",
              "    <tr>\n",
              "      <th>count</th>\n",
              "      <td>9363</td>\n",
              "      <td>9363</td>\n",
              "    </tr>\n",
              "    <tr>\n",
              "      <th>unique</th>\n",
              "      <td>9363</td>\n",
              "      <td>1</td>\n",
              "    </tr>\n",
              "    <tr>\n",
              "      <th>top</th>\n",
              "      <td>Candesartan HCT Tchaikapharma</td>\n",
              "      <td>real</td>\n",
              "    </tr>\n",
              "    <tr>\n",
              "      <th>freq</th>\n",
              "      <td>1</td>\n",
              "      <td>9363</td>\n",
              "    </tr>\n",
              "  </tbody>\n",
              "</table>\n",
              "</div>"
            ],
            "text/plain": [
              "                            title_new label\n",
              "count                            9363  9363\n",
              "unique                           9363     1\n",
              "top     Candesartan HCT Tchaikapharma  real\n",
              "freq                                1  9363"
            ]
          },
          "metadata": {
            "tags": []
          },
          "execution_count": 62
        }
      ]
    },
    {
      "cell_type": "code",
      "metadata": {
        "id": "U53wNT6kG5JX",
        "colab": {
          "base_uri": "https://localhost:8080/",
          "height": 195
        },
        "outputId": "0f5e1d1e-915e-4249-e30c-edd1930169cf"
      },
      "source": [
        "drugsR_df.head()"
      ],
      "execution_count": null,
      "outputs": [
        {
          "output_type": "execute_result",
          "data": {
            "text/html": [
              "<div>\n",
              "<style scoped>\n",
              "    .dataframe tbody tr th:only-of-type {\n",
              "        vertical-align: middle;\n",
              "    }\n",
              "\n",
              "    .dataframe tbody tr th {\n",
              "        vertical-align: top;\n",
              "    }\n",
              "\n",
              "    .dataframe thead th {\n",
              "        text-align: right;\n",
              "    }\n",
              "</style>\n",
              "<table border=\"1\" class=\"dataframe\">\n",
              "  <thead>\n",
              "    <tr style=\"text-align: right;\">\n",
              "      <th></th>\n",
              "      <th>title_new</th>\n",
              "      <th>label</th>\n",
              "    </tr>\n",
              "  </thead>\n",
              "  <tbody>\n",
              "    <tr>\n",
              "      <th>0</th>\n",
              "      <td>Zoledronic acid Fresenius Kabi</td>\n",
              "      <td>real</td>\n",
              "    </tr>\n",
              "    <tr>\n",
              "      <th>1</th>\n",
              "      <td>Edelan</td>\n",
              "      <td>real</td>\n",
              "    </tr>\n",
              "    <tr>\n",
              "      <th>2</th>\n",
              "      <td>Nalgesin</td>\n",
              "      <td>real</td>\n",
              "    </tr>\n",
              "    <tr>\n",
              "      <th>3</th>\n",
              "      <td>Nalgesin Forte</td>\n",
              "      <td>real</td>\n",
              "    </tr>\n",
              "    <tr>\n",
              "      <th>4</th>\n",
              "      <td>Diprobase</td>\n",
              "      <td>real</td>\n",
              "    </tr>\n",
              "  </tbody>\n",
              "</table>\n",
              "</div>"
            ],
            "text/plain": [
              "                        title_new label\n",
              "0  Zoledronic acid Fresenius Kabi  real\n",
              "1                          Edelan  real\n",
              "2                        Nalgesin  real\n",
              "3                  Nalgesin Forte  real\n",
              "4                       Diprobase  real"
            ]
          },
          "metadata": {
            "tags": []
          },
          "execution_count": 63
        }
      ]
    },
    {
      "cell_type": "code",
      "metadata": {
        "id": "sZcsU9eQNk72",
        "colab": {
          "base_uri": "https://localhost:8080/",
          "height": 343
        },
        "outputId": "351f2890-c3b5-4884-8c37-6c809f87a096"
      },
      "source": [
        "drugsR_df.tail(10)"
      ],
      "execution_count": null,
      "outputs": [
        {
          "output_type": "execute_result",
          "data": {
            "text/html": [
              "<div>\n",
              "<style scoped>\n",
              "    .dataframe tbody tr th:only-of-type {\n",
              "        vertical-align: middle;\n",
              "    }\n",
              "\n",
              "    .dataframe tbody tr th {\n",
              "        vertical-align: top;\n",
              "    }\n",
              "\n",
              "    .dataframe thead th {\n",
              "        text-align: right;\n",
              "    }\n",
              "</style>\n",
              "<table border=\"1\" class=\"dataframe\">\n",
              "  <thead>\n",
              "    <tr style=\"text-align: right;\">\n",
              "      <th></th>\n",
              "      <th>title_new</th>\n",
              "      <th>label</th>\n",
              "    </tr>\n",
              "  </thead>\n",
              "  <tbody>\n",
              "    <tr>\n",
              "      <th>9353</th>\n",
              "      <td>Levoflok</td>\n",
              "      <td>real</td>\n",
              "    </tr>\n",
              "    <tr>\n",
              "      <th>9354</th>\n",
              "      <td>Dexmopet</td>\n",
              "      <td>real</td>\n",
              "    </tr>\n",
              "    <tr>\n",
              "      <th>9355</th>\n",
              "      <td>Avituberculin</td>\n",
              "      <td>real</td>\n",
              "    </tr>\n",
              "    <tr>\n",
              "      <th>9356</th>\n",
              "      <td>Bovituberculin</td>\n",
              "      <td>real</td>\n",
              "    </tr>\n",
              "    <tr>\n",
              "      <th>9357</th>\n",
              "      <td>Cloteid</td>\n",
              "      <td>real</td>\n",
              "    </tr>\n",
              "    <tr>\n",
              "      <th>9358</th>\n",
              "      <td>Cunibiovac RHD</td>\n",
              "      <td>real</td>\n",
              "    </tr>\n",
              "    <tr>\n",
              "      <th>9359</th>\n",
              "      <td>Pracetam</td>\n",
              "      <td>real</td>\n",
              "    </tr>\n",
              "    <tr>\n",
              "      <th>9360</th>\n",
              "      <td>Amodip</td>\n",
              "      <td>real</td>\n",
              "    </tr>\n",
              "    <tr>\n",
              "      <th>9361</th>\n",
              "      <td>Adaxio</td>\n",
              "      <td>real</td>\n",
              "    </tr>\n",
              "    <tr>\n",
              "      <th>9362</th>\n",
              "      <td>Coldostin</td>\n",
              "      <td>real</td>\n",
              "    </tr>\n",
              "  </tbody>\n",
              "</table>\n",
              "</div>"
            ],
            "text/plain": [
              "           title_new label\n",
              "9353        Levoflok  real\n",
              "9354        Dexmopet  real\n",
              "9355   Avituberculin  real\n",
              "9356  Bovituberculin  real\n",
              "9357         Cloteid  real\n",
              "9358  Cunibiovac RHD  real\n",
              "9359        Pracetam  real\n",
              "9360          Amodip  real\n",
              "9361          Adaxio  real\n",
              "9362       Coldostin  real"
            ]
          },
          "metadata": {
            "tags": []
          },
          "execution_count": 64
        }
      ]
    },
    {
      "cell_type": "markdown",
      "metadata": {
        "id": "IlHLHy4bQgrQ"
      },
      "source": [
        "# Przygotowywanie danych"
      ]
    },
    {
      "cell_type": "markdown",
      "metadata": {
        "id": "K-jhn3axAoWi"
      },
      "source": [
        "## Założenie 2\n",
        "\n",
        "Polskie znaki: mam polskie nazwy i chcę generować polskie nazwy. Dlatego zostawiam w zbiorze i uczę model (trenuję) \"pisać po polsku\". Inne znaki niż litery i cyfry: mam nazwy leków, które zawierają nie tylko litery --> zostawiam w zbiorze i uczę model (trenuję) generować nazwy leków. Gdybym chciała wytrenować model uniwersalny lub użyć już pretrenerowany model --> trzeba użyć kodowania. Też zakładam, że bez polskich znaków i innych niż litery znaków model wytrenuje się szybciej i lepszej jakości. Jeżeli czas na to pozwala, można sprawdzić."
      ]
    },
    {
      "cell_type": "code",
      "metadata": {
        "id": "cRFS-cAWZzvh"
      },
      "source": [
        "letters_all = Counter()\n",
        "for name in drugsR_df['title_new']:\n",
        "    letters_all.update(name)"
      ],
      "execution_count": null,
      "outputs": []
    },
    {
      "cell_type": "code",
      "metadata": {
        "id": "yeY3r_CZJlIX",
        "colab": {
          "base_uri": "https://localhost:8080/",
          "height": 1000
        },
        "outputId": "263ac0b4-df87-4769-b0b3-c2a6d5276390"
      },
      "source": [
        "letters_all"
      ],
      "execution_count": null,
      "outputs": [
        {
          "output_type": "execute_result",
          "data": {
            "text/plain": [
              "Counter({' ': 8557,\n",
              "         '\"': 9,\n",
              "         '%': 263,\n",
              "         '&': 1,\n",
              "         '(': 41,\n",
              "         ')': 22,\n",
              "         '+': 88,\n",
              "         ',': 352,\n",
              "         '-': 445,\n",
              "         '.': 155,\n",
              "         '/': 322,\n",
              "         '0': 1648,\n",
              "         '1': 649,\n",
              "         '2': 537,\n",
              "         '3': 235,\n",
              "         '4': 213,\n",
              "         '5': 698,\n",
              "         '6': 116,\n",
              "         '7': 98,\n",
              "         '8': 85,\n",
              "         '9': 32,\n",
              "         ':': 2,\n",
              "         ';': 5,\n",
              "         'A': 1479,\n",
              "         'B': 731,\n",
              "         'C': 1227,\n",
              "         'D': 818,\n",
              "         'E': 708,\n",
              "         'F': 744,\n",
              "         'G': 505,\n",
              "         'H': 507,\n",
              "         'I': 633,\n",
              "         'J': 81,\n",
              "         'K': 407,\n",
              "         'L': 691,\n",
              "         'M': 1006,\n",
              "         'N': 667,\n",
              "         'O': 501,\n",
              "         'P': 1389,\n",
              "         'Q': 50,\n",
              "         'R': 740,\n",
              "         'S': 1161,\n",
              "         'T': 935,\n",
              "         'U': 155,\n",
              "         'V': 590,\n",
              "         'W': 118,\n",
              "         'X': 161,\n",
              "         'Y': 23,\n",
              "         'Z': 372,\n",
              "         '^': 2,\n",
              "         'a': 10088,\n",
              "         'b': 1219,\n",
              "         'c': 3295,\n",
              "         'd': 2455,\n",
              "         'e': 8371,\n",
              "         'f': 1293,\n",
              "         'g': 1619,\n",
              "         'h': 955,\n",
              "         'i': 8895,\n",
              "         'j': 174,\n",
              "         'k': 992,\n",
              "         'l': 6124,\n",
              "         'm': 4379,\n",
              "         'n': 6534,\n",
              "         'o': 8588,\n",
              "         'p': 2567,\n",
              "         'q': 89,\n",
              "         'r': 7041,\n",
              "         's': 3406,\n",
              "         't': 5400,\n",
              "         'u': 2969,\n",
              "         'v': 1370,\n",
              "         'w': 706,\n",
              "         'x': 1597,\n",
              "         'y': 1667,\n",
              "         'z': 1411,\n",
              "         '°': 2,\n",
              "         'µ': 1,\n",
              "         'ó': 191,\n",
              "         'ą': 51,\n",
              "         'ć': 56,\n",
              "         'ę': 48,\n",
              "         'Ł': 6,\n",
              "         'ł': 102,\n",
              "         'ń': 38,\n",
              "         'Ś': 4,\n",
              "         'ś': 71,\n",
              "         'ź': 6,\n",
              "         'Ż': 2,\n",
              "         'ż': 42,\n",
              "         '–': 1})"
            ]
          },
          "metadata": {
            "tags": []
          },
          "execution_count": 66
        }
      ]
    },
    {
      "cell_type": "code",
      "metadata": {
        "id": "aMXKm8lmJ3Sw",
        "colab": {
          "base_uri": "https://localhost:8080/",
          "height": 54
        },
        "outputId": "2ce64b03-a832-47b1-873d-cd4f69958bd3"
      },
      "source": [
        "letters_all.items()"
      ],
      "execution_count": null,
      "outputs": [
        {
          "output_type": "execute_result",
          "data": {
            "text/plain": [
              "dict_items([('Z', 372), ('o', 8588), ('l', 6124), ('e', 8371), ('d', 2455), ('r', 7041), ('n', 6534), ('i', 8895), ('c', 3295), (' ', 8557), ('a', 10088), ('F', 744), ('s', 3406), ('u', 2969), ('K', 407), ('b', 1219), ('E', 708), ('N', 667), ('g', 1619), ('t', 5400), ('D', 818), ('p', 2567), ('A', 1479), ('m', 4379), ('z', 1411), ('k', 992), ('P', 1389), ('x', 1597), ('1', 649), ('%', 263), ('v', 1370), ('T', 935), ('w', 706), ('B', 731), ('I', 633), ('S', 1161), ('R', 740), ('X', 161), ('y', 1667), ('H', 507), ('U', 155), ('h', 955), ('J', 81), ('f', 1293), ('C', 1227), ('0', 1648), ('L', 691), ('G', 505), ('2', 537), ('V', 590), ('5', 698), ('ó', 191), ('O', 501), ('W', 118), ('.', 155), ('-', 445), ('Q', 50), (',', 352), ('8', 85), ('M', 1006), ('7', 98), ('ę', 48), ('ż', 42), ('(', 41), (')', 22), ('q', 89), ('j', 174), ('ń', 38), ('3', 235), ('ś', 71), ('ć', 56), ('4', 213), ('9', 32), ('6', 116), ('+', 88), ('ą', 51), ('Y', 23), ('Ł', 6), ('ł', 102), ('/', 322), ('^', 2), ('ź', 6), (':', 2), ('Ś', 4), ('Ż', 2), ('\"', 9), (';', 5), ('°', 2), ('&', 1), ('–', 1), ('µ', 1)])"
            ]
          },
          "metadata": {
            "tags": []
          },
          "execution_count": 67
        }
      ]
    },
    {
      "cell_type": "code",
      "metadata": {
        "id": "VZbjQgvIKCJi"
      },
      "source": [
        "char2id = {c: i for i, (c, v) in enumerate(letters_all.items())}"
      ],
      "execution_count": null,
      "outputs": []
    },
    {
      "cell_type": "code",
      "metadata": {
        "id": "HLr4aer3J3Fv",
        "colab": {
          "base_uri": "https://localhost:8080/",
          "height": 1000
        },
        "outputId": "f467b2f4-9240-401e-992b-b211ab9e7018"
      },
      "source": [
        "char2id"
      ],
      "execution_count": null,
      "outputs": [
        {
          "output_type": "execute_result",
          "data": {
            "text/plain": [
              "{' ': 9,\n",
              " '\"': 85,\n",
              " '%': 29,\n",
              " '&': 88,\n",
              " '(': 63,\n",
              " ')': 64,\n",
              " '+': 74,\n",
              " ',': 57,\n",
              " '-': 55,\n",
              " '.': 54,\n",
              " '/': 79,\n",
              " '0': 45,\n",
              " '1': 28,\n",
              " '2': 48,\n",
              " '3': 68,\n",
              " '4': 71,\n",
              " '5': 50,\n",
              " '6': 73,\n",
              " '7': 60,\n",
              " '8': 58,\n",
              " '9': 72,\n",
              " ':': 82,\n",
              " ';': 86,\n",
              " 'A': 22,\n",
              " 'B': 33,\n",
              " 'C': 44,\n",
              " 'D': 20,\n",
              " 'E': 16,\n",
              " 'F': 11,\n",
              " 'G': 47,\n",
              " 'H': 39,\n",
              " 'I': 34,\n",
              " 'J': 42,\n",
              " 'K': 14,\n",
              " 'L': 46,\n",
              " 'M': 59,\n",
              " 'N': 17,\n",
              " 'O': 52,\n",
              " 'P': 26,\n",
              " 'Q': 56,\n",
              " 'R': 36,\n",
              " 'S': 35,\n",
              " 'T': 31,\n",
              " 'U': 40,\n",
              " 'V': 49,\n",
              " 'W': 53,\n",
              " 'X': 37,\n",
              " 'Y': 76,\n",
              " 'Z': 0,\n",
              " '^': 80,\n",
              " 'a': 10,\n",
              " 'b': 15,\n",
              " 'c': 8,\n",
              " 'd': 4,\n",
              " 'e': 3,\n",
              " 'f': 43,\n",
              " 'g': 18,\n",
              " 'h': 41,\n",
              " 'i': 7,\n",
              " 'j': 66,\n",
              " 'k': 25,\n",
              " 'l': 2,\n",
              " 'm': 23,\n",
              " 'n': 6,\n",
              " 'o': 1,\n",
              " 'p': 21,\n",
              " 'q': 65,\n",
              " 'r': 5,\n",
              " 's': 12,\n",
              " 't': 19,\n",
              " 'u': 13,\n",
              " 'v': 30,\n",
              " 'w': 32,\n",
              " 'x': 27,\n",
              " 'y': 38,\n",
              " 'z': 24,\n",
              " '°': 87,\n",
              " 'µ': 90,\n",
              " 'ó': 51,\n",
              " 'ą': 75,\n",
              " 'ć': 70,\n",
              " 'ę': 61,\n",
              " 'Ł': 77,\n",
              " 'ł': 78,\n",
              " 'ń': 67,\n",
              " 'Ś': 83,\n",
              " 'ś': 69,\n",
              " 'ź': 81,\n",
              " 'Ż': 84,\n",
              " 'ż': 62,\n",
              " '–': 89}"
            ]
          },
          "metadata": {
            "tags": []
          },
          "execution_count": 69
        }
      ]
    },
    {
      "cell_type": "code",
      "metadata": {
        "id": "GugNPYk3KIjb"
      },
      "source": [
        "id2char = {i: c for i, (c, v) in enumerate(letters_all.items())}"
      ],
      "execution_count": null,
      "outputs": []
    },
    {
      "cell_type": "code",
      "metadata": {
        "id": "yRwpklykKNy8",
        "colab": {
          "base_uri": "https://localhost:8080/",
          "height": 1000
        },
        "outputId": "947a628f-8b19-4831-b210-de632e791466"
      },
      "source": [
        "id2char"
      ],
      "execution_count": null,
      "outputs": [
        {
          "output_type": "execute_result",
          "data": {
            "text/plain": [
              "{0: 'Z',\n",
              " 1: 'o',\n",
              " 2: 'l',\n",
              " 3: 'e',\n",
              " 4: 'd',\n",
              " 5: 'r',\n",
              " 6: 'n',\n",
              " 7: 'i',\n",
              " 8: 'c',\n",
              " 9: ' ',\n",
              " 10: 'a',\n",
              " 11: 'F',\n",
              " 12: 's',\n",
              " 13: 'u',\n",
              " 14: 'K',\n",
              " 15: 'b',\n",
              " 16: 'E',\n",
              " 17: 'N',\n",
              " 18: 'g',\n",
              " 19: 't',\n",
              " 20: 'D',\n",
              " 21: 'p',\n",
              " 22: 'A',\n",
              " 23: 'm',\n",
              " 24: 'z',\n",
              " 25: 'k',\n",
              " 26: 'P',\n",
              " 27: 'x',\n",
              " 28: '1',\n",
              " 29: '%',\n",
              " 30: 'v',\n",
              " 31: 'T',\n",
              " 32: 'w',\n",
              " 33: 'B',\n",
              " 34: 'I',\n",
              " 35: 'S',\n",
              " 36: 'R',\n",
              " 37: 'X',\n",
              " 38: 'y',\n",
              " 39: 'H',\n",
              " 40: 'U',\n",
              " 41: 'h',\n",
              " 42: 'J',\n",
              " 43: 'f',\n",
              " 44: 'C',\n",
              " 45: '0',\n",
              " 46: 'L',\n",
              " 47: 'G',\n",
              " 48: '2',\n",
              " 49: 'V',\n",
              " 50: '5',\n",
              " 51: 'ó',\n",
              " 52: 'O',\n",
              " 53: 'W',\n",
              " 54: '.',\n",
              " 55: '-',\n",
              " 56: 'Q',\n",
              " 57: ',',\n",
              " 58: '8',\n",
              " 59: 'M',\n",
              " 60: '7',\n",
              " 61: 'ę',\n",
              " 62: 'ż',\n",
              " 63: '(',\n",
              " 64: ')',\n",
              " 65: 'q',\n",
              " 66: 'j',\n",
              " 67: 'ń',\n",
              " 68: '3',\n",
              " 69: 'ś',\n",
              " 70: 'ć',\n",
              " 71: '4',\n",
              " 72: '9',\n",
              " 73: '6',\n",
              " 74: '+',\n",
              " 75: 'ą',\n",
              " 76: 'Y',\n",
              " 77: 'Ł',\n",
              " 78: 'ł',\n",
              " 79: '/',\n",
              " 80: '^',\n",
              " 81: 'ź',\n",
              " 82: ':',\n",
              " 83: 'Ś',\n",
              " 84: 'Ż',\n",
              " 85: '\"',\n",
              " 86: ';',\n",
              " 87: '°',\n",
              " 88: '&',\n",
              " 89: '–',\n",
              " 90: 'µ'}"
            ]
          },
          "metadata": {
            "tags": []
          },
          "execution_count": 71
        }
      ]
    },
    {
      "cell_type": "code",
      "metadata": {
        "id": "IeYZz8pEpkWq"
      },
      "source": [
        "max_len = max(drugsR_df['title_new'].apply(len))\n",
        "BEGIN_ID = len(char2id)\n",
        "AFTER_ID = len(char2id) + 1"
      ],
      "execution_count": null,
      "outputs": []
    },
    {
      "cell_type": "code",
      "metadata": {
        "id": "VkhcpTZMpm6b",
        "colab": {
          "base_uri": "https://localhost:8080/",
          "height": 34
        },
        "outputId": "812c1532-1002-43ed-dd37-a1983ea3efef"
      },
      "source": [
        "max_len, BEGIN_ID , AFTER_ID "
      ],
      "execution_count": null,
      "outputs": [
        {
          "output_type": "execute_result",
          "data": {
            "text/plain": [
              "(55, 91, 92)"
            ]
          },
          "metadata": {
            "tags": []
          },
          "execution_count": 73
        }
      ]
    },
    {
      "cell_type": "code",
      "metadata": {
        "id": "-TlnTHGSp9Ym"
      },
      "source": [
        "X = np.zeros((len(drugsR_df), max_len), dtype=np.int64)\n",
        "X[:,:] = AFTER_ID\n",
        "X[:,0] = BEGIN_ID"
      ],
      "execution_count": null,
      "outputs": []
    },
    {
      "cell_type": "code",
      "metadata": {
        "id": "YN-Y4GHQqT5d",
        "colab": {
          "base_uri": "https://localhost:8080/",
          "height": 140
        },
        "outputId": "d2315901-0135-454f-c008-fc1d569f4a3d"
      },
      "source": [
        "X"
      ],
      "execution_count": null,
      "outputs": [
        {
          "output_type": "execute_result",
          "data": {
            "text/plain": [
              "array([[91, 92, 92, ..., 92, 92, 92],\n",
              "       [91, 92, 92, ..., 92, 92, 92],\n",
              "       [91, 92, 92, ..., 92, 92, 92],\n",
              "       ...,\n",
              "       [91, 92, 92, ..., 92, 92, 92],\n",
              "       [91, 92, 92, ..., 92, 92, 92],\n",
              "       [91, 92, 92, ..., 92, 92, 92]])"
            ]
          },
          "metadata": {
            "tags": []
          },
          "execution_count": 75
        }
      ]
    },
    {
      "cell_type": "code",
      "metadata": {
        "id": "ez3yb-pts0Zm",
        "colab": {
          "base_uri": "https://localhost:8080/",
          "height": 34
        },
        "outputId": "d154e7de-5185-4b2e-e7d9-6a6962eca81f"
      },
      "source": [
        "X.shape"
      ],
      "execution_count": null,
      "outputs": [
        {
          "output_type": "execute_result",
          "data": {
            "text/plain": [
              "(9363, 55)"
            ]
          },
          "metadata": {
            "tags": []
          },
          "execution_count": 76
        }
      ]
    },
    {
      "cell_type": "code",
      "metadata": {
        "id": "-l1Bn4F7LRbY"
      },
      "source": [
        "for i, (name, _) in drugsR_df.iterrows():\n",
        "    #Y[i] = lang2id[lang]\n",
        "    for j, c in enumerate(name):\n",
        "        if j + 1 >= max_len:\n",
        "            break\n",
        "        X[i, j + 1] = char2id[c]"
      ],
      "execution_count": null,
      "outputs": []
    },
    {
      "cell_type": "code",
      "metadata": {
        "id": "MfnA2zbo1ZMj",
        "colab": {
          "base_uri": "https://localhost:8080/",
          "height": 140
        },
        "outputId": "956ae3e6-f9c9-4fbb-b9ae-da1c694dcee1"
      },
      "source": [
        "X"
      ],
      "execution_count": null,
      "outputs": [
        {
          "output_type": "execute_result",
          "data": {
            "text/plain": [
              "array([[91,  0,  1, ..., 92, 92, 92],\n",
              "       [91, 16,  4, ..., 92, 92, 92],\n",
              "       [91, 17, 10, ..., 92, 92, 92],\n",
              "       ...,\n",
              "       [91, 22, 23, ..., 92, 92, 92],\n",
              "       [91, 22,  4, ..., 92, 92, 92],\n",
              "       [91, 44,  1, ..., 92, 92, 92]])"
            ]
          },
          "metadata": {
            "tags": []
          },
          "execution_count": 78
        }
      ]
    },
    {
      "cell_type": "code",
      "metadata": {
        "id": "5GX2KlnM1jNW",
        "colab": {
          "base_uri": "https://localhost:8080/",
          "height": 34
        },
        "outputId": "9f2b2b68-3722-45bf-810e-340df4496248"
      },
      "source": [
        "X.shape"
      ],
      "execution_count": null,
      "outputs": [
        {
          "output_type": "execute_result",
          "data": {
            "text/plain": [
              "(9363, 55)"
            ]
          },
          "metadata": {
            "tags": []
          },
          "execution_count": 79
        }
      ]
    },
    {
      "cell_type": "code",
      "metadata": {
        "id": "btbg3z2ctUR5",
        "colab": {
          "base_uri": "https://localhost:8080/",
          "height": 87
        },
        "outputId": "d6de0498-6f0b-4405-9186-95a4a538db1d"
      },
      "source": [
        "X[0,]"
      ],
      "execution_count": null,
      "outputs": [
        {
          "output_type": "execute_result",
          "data": {
            "text/plain": [
              "array([91,  0,  1,  2,  3,  4,  5,  1,  6,  7,  8,  9, 10,  8,  7,  4,  9,\n",
              "       11,  5,  3, 12,  3,  6,  7, 13, 12,  9, 14, 10, 15,  7, 92, 92, 92,\n",
              "       92, 92, 92, 92, 92, 92, 92, 92, 92, 92, 92, 92, 92, 92, 92, 92, 92,\n",
              "       92, 92, 92, 92])"
            ]
          },
          "metadata": {
            "tags": []
          },
          "execution_count": 80
        }
      ]
    },
    {
      "cell_type": "markdown",
      "metadata": {
        "id": "QpcpB5oAQae4"
      },
      "source": [
        "# Wczytywanie danych"
      ]
    },
    {
      "cell_type": "code",
      "metadata": {
        "id": "IQDs-3Lxt6Wl"
      },
      "source": [
        "X_train, X_test = train_test_split(X,  test_size=0.1, random_state=42)"
      ],
      "execution_count": null,
      "outputs": []
    },
    {
      "cell_type": "code",
      "metadata": {
        "id": "tXvfxCPR4W2q",
        "colab": {
          "base_uri": "https://localhost:8080/",
          "height": 34
        },
        "outputId": "921c741b-04fb-4d01-d836-52ccf30caecc"
      },
      "source": [
        "X_train.shape"
      ],
      "execution_count": null,
      "outputs": [
        {
          "output_type": "execute_result",
          "data": {
            "text/plain": [
              "(8426, 55)"
            ]
          },
          "metadata": {
            "tags": []
          },
          "execution_count": 130
        }
      ]
    },
    {
      "cell_type": "code",
      "metadata": {
        "id": "ENHiGOmS4YzD",
        "colab": {
          "base_uri": "https://localhost:8080/",
          "height": 34
        },
        "outputId": "402b5e14-ca48-44e4-b5db-f4d3c5cfa1de"
      },
      "source": [
        "X_test.shape"
      ],
      "execution_count": null,
      "outputs": [
        {
          "output_type": "execute_result",
          "data": {
            "text/plain": [
              "(937, 55)"
            ]
          },
          "metadata": {
            "tags": []
          },
          "execution_count": 131
        }
      ]
    },
    {
      "cell_type": "code",
      "metadata": {
        "id": "tLyqmf1Qu1mr"
      },
      "source": [
        "trainloader = DataLoader(TensorDataset(torch.from_numpy(X_train).long()),                                      \n",
        "                         batch_size=128, shuffle=True)\n",
        "\n",
        "testloader = DataLoader(TensorDataset(torch.from_numpy(X_test).long()),                                  \n",
        "                         batch_size=128, shuffle=False)\n",
        "\n",
        "dataloaders = {\n",
        "    \"train\": trainloader,\n",
        "    \"validation\": testloader\n",
        "}\n"
      ],
      "execution_count": null,
      "outputs": []
    },
    {
      "cell_type": "code",
      "metadata": {
        "id": "EXikZySaZyWo",
        "colab": {
          "base_uri": "https://localhost:8080/",
          "height": 158
        },
        "outputId": "5050a6de-4696-4ba5-e2c8-087368e9f714"
      },
      "source": [
        "dataiter = iter(testloader)  #iter(trainloader)\n",
        "x, = dataiter.next()\n",
        "x = x.type(torch.LongTensor)\n",
        "print ('X is', x)\n",
        "print ('Shape of X  :', x.shape )"
      ],
      "execution_count": null,
      "outputs": [
        {
          "output_type": "stream",
          "text": [
            "X is tensor([[91, 26, 10,  ..., 92, 92, 92],\n",
            "        [91, 46,  3,  ..., 92, 92, 92],\n",
            "        [91, 20, 13,  ..., 92, 92, 92],\n",
            "        ...,\n",
            "        [91, 46,  7,  ..., 92, 92, 92],\n",
            "        [91, 44, 10,  ..., 92, 92, 92],\n",
            "        [91, 22, 21,  ..., 92, 92, 92]])\n",
            "Shape of X  : torch.Size([128, 55])\n"
          ],
          "name": "stdout"
        }
      ]
    },
    {
      "cell_type": "code",
      "metadata": {
        "id": "LLl9jM53g9JY",
        "colab": {
          "base_uri": "https://localhost:8080/",
          "height": 34
        },
        "outputId": "97fa9a2a-5594-4f00-fa19-fe177ee9f387"
      },
      "source": [
        "# train on cuda if available\n",
        "device = torch.device('cuda:0' if torch.cuda.is_available() else 'cpu')\n",
        "print(device)"
      ],
      "execution_count": null,
      "outputs": [
        {
          "output_type": "stream",
          "text": [
            "cuda:0\n"
          ],
          "name": "stdout"
        }
      ]
    },
    {
      "cell_type": "markdown",
      "metadata": {
        "id": "59qzNlMYkktu"
      },
      "source": [
        "# Model default"
      ]
    },
    {
      "cell_type": "code",
      "metadata": {
        "id": "bWm1x5z7vZbi"
      },
      "source": [
        "class GenerativeLSTM(nn.Module):\n",
        "    def __init__(self, embedding_size, hidden_size):\n",
        "        super().__init__()\n",
        "        dictionary_len = len(char2id) + 2\n",
        "        self.emb = nn.Embedding(dictionary_len, embedding_size)\n",
        "        self.lstm = nn.LSTM(input_size=embedding_size, hidden_size=hidden_size)\n",
        "        # note: input size is the numer of channels/embedding dim, NOT length\n",
        "        self.fc = nn.Linear(hidden_size, dictionary_len)\n",
        "\n",
        "    def forward(self, x):\n",
        "        x = self.emb(x)\n",
        "        x = x.permute(1, 0, 2)  # BLC -> LBC\n",
        "        output, (hidden, cell) = self.lstm(x)\n",
        "        res = self.fc(output)\n",
        "        return res.permute(1, 2, 0) #  LBC -> BCL"
      ],
      "execution_count": null,
      "outputs": []
    },
    {
      "cell_type": "code",
      "metadata": {
        "id": "_IqQy_LjvNXH"
      },
      "source": [
        "\n",
        "# train on cuda if available\n",
        "#device = torch.device('cuda:0' if torch.cuda.is_available() else 'cpu')\n",
        "\n",
        "def train_model_gener(model, criterion, optimizer, num_epochs=10):\n",
        "    liveloss = PlotLosses()\n",
        "    model = model.to(device)\n",
        "    \n",
        "    for epoch in range(num_epochs):\n",
        "        logs = {}\n",
        "        for phase in ['train', 'validation']:\n",
        "            if phase == 'train':\n",
        "                model.train()\n",
        "            else:\n",
        "                model.eval()\n",
        "\n",
        "            running_loss = 0.0\n",
        "            running_corrects = 0\n",
        "\n",
        "            for inputs_full, in dataloaders[phase]:\n",
        "                \n",
        "                # here are changes!\n",
        "                inputs = inputs_full[:, :-1].to(device)\n",
        "                labels = inputs_full[:, 1:].to(device)\n",
        "\n",
        "                outputs = model(inputs)\n",
        "                \n",
        "                loss = criterion(outputs, labels)\n",
        "\n",
        "                if phase == 'train':\n",
        "                    optimizer.zero_grad()\n",
        "                    loss.backward()\n",
        "                    optimizer.step()\n",
        "\n",
        "                _, preds = torch.max(outputs, 1)\n",
        "                running_loss += loss.detach() * inputs.size(0)\n",
        "                running_corrects += torch.sum(preds == labels.data)\n",
        "\n",
        "            epoch_loss = running_loss / len(dataloaders[phase].dataset)\n",
        "            epoch_acc = running_corrects.float() / len(dataloaders[phase].dataset)\n",
        "            \n",
        "            prefix = ''\n",
        "            if phase == 'validation':\n",
        "                prefix = 'val_'\n",
        "\n",
        "            logs[prefix + 'log loss'] = epoch_loss.item()\n",
        "            logs[prefix + 'accuracy'] = epoch_acc.item()\n",
        "        \n",
        "        liveloss.update(logs)\n",
        "        liveloss.draw()"
      ],
      "execution_count": null,
      "outputs": []
    },
    {
      "cell_type": "markdown",
      "metadata": {
        "id": "hBDq-LweksFR"
      },
      "source": [
        "# Trening i ewaluacja"
      ]
    },
    {
      "cell_type": "code",
      "metadata": {
        "id": "bnXuuUULvclq",
        "colab": {
          "base_uri": "https://localhost:8080/",
          "height": 105
        },
        "outputId": "79e33123-1c6c-476c-934c-de330ce3e6be"
      },
      "source": [
        "modelG = GenerativeLSTM(embedding_size=5, hidden_size=16)\n",
        "modelG"
      ],
      "execution_count": null,
      "outputs": [
        {
          "output_type": "execute_result",
          "data": {
            "text/plain": [
              "GenerativeLSTM(\n",
              "  (emb): Embedding(93, 5)\n",
              "  (lstm): LSTM(5, 16)\n",
              "  (fc): Linear(in_features=16, out_features=93, bias=True)\n",
              ")"
            ]
          },
          "metadata": {
            "tags": []
          },
          "execution_count": 137
        }
      ]
    },
    {
      "cell_type": "code",
      "metadata": {
        "id": "KryAUYGO4nQo"
      },
      "source": [
        "X_example = torch.from_numpy(X_train[:3]).long()"
      ],
      "execution_count": null,
      "outputs": []
    },
    {
      "cell_type": "code",
      "metadata": {
        "id": "Z_TTnk24Q9rb",
        "colab": {
          "base_uri": "https://localhost:8080/",
          "height": 34
        },
        "outputId": "56346e33-ad3d-466d-83e7-20874aeaea28"
      },
      "source": [
        "X_example.size()"
      ],
      "execution_count": null,
      "outputs": [
        {
          "output_type": "execute_result",
          "data": {
            "text/plain": [
              "torch.Size([3, 55])"
            ]
          },
          "metadata": {
            "tags": []
          },
          "execution_count": 139
        }
      ]
    },
    {
      "cell_type": "code",
      "metadata": {
        "id": "GYsLZuSb4qdX",
        "colab": {
          "base_uri": "https://localhost:8080/",
          "height": 34
        },
        "outputId": "8d98a101-3eaf-4cbc-a503-3551cb3f1642"
      },
      "source": [
        "modelG(X_example).size()"
      ],
      "execution_count": null,
      "outputs": [
        {
          "output_type": "execute_result",
          "data": {
            "text/plain": [
              "torch.Size([3, 93, 55])"
            ]
          },
          "metadata": {
            "tags": []
          },
          "execution_count": 140
        }
      ]
    },
    {
      "cell_type": "code",
      "metadata": {
        "id": "58XUHgR5vux6",
        "colab": {
          "base_uri": "https://localhost:8080/",
          "height": 450
        },
        "outputId": "72cba764-1600-44fc-a458-4197361a974f"
      },
      "source": [
        "modelG1 = GenerativeLSTM(embedding_size=5, hidden_size=16)\n",
        "optimizer = optim.Adam(modelG1.parameters(), lr=0.01)\n",
        "criterion = nn.CrossEntropyLoss()\n",
        "\n",
        "train_model_gener(modelG1, criterion, optimizer, num_epochs=50)"
      ],
      "execution_count": null,
      "outputs": [
        {
          "output_type": "display_data",
          "data": {
            "image/png": "[encoded data removed]",
            "text/plain": [
              "<Figure size 864x576 with 2 Axes>"
            ]
          },
          "metadata": {
            "tags": []
          }
        },
        {
          "output_type": "stream",
          "text": [
            "log loss:\n",
            "training   (min:    0.644, max:    1.755, cur:    0.644)\n",
            "validation (min:    0.662, max:    0.998, cur:    0.662)\n",
            "\n",
            "accuracy:\n",
            "training   (min:   38.152, max:   43.506, cur:   43.503)\n",
            "validation (min:   40.667, max:   43.308, cur:   43.272)\n"
          ],
          "name": "stdout"
        }
      ]
    },
    {
      "cell_type": "markdown",
      "metadata": {
        "id": "jXl3IXZ1bVR_"
      },
      "source": [
        "#Hyperparameter tuning"
      ]
    },
    {
      "cell_type": "markdown",
      "metadata": {
        "id": "o95-R_TxgGHj"
      },
      "source": [
        "## Liczba parametrów (features) w warstwie hidden, tzn hiddeh_size. Poprzednie wartości parametrów były dla krótszego słownika i długości nazwy. Dlatego zwiększamy"
      ]
    },
    {
      "cell_type": "code",
      "metadata": {
        "id": "rfZLAhexyXpd",
        "colab": {
          "base_uri": "https://localhost:8080/",
          "height": 450
        },
        "outputId": "0815962c-44c2-4316-a7bf-7aa03bdb77e2"
      },
      "source": [
        "modelG2 = GenerativeLSTM(embedding_size=5, hidden_size=55)\n",
        "optimizer = optim.Adam(modelG2.parameters(), lr=0.01) #lr\n",
        "criterion = nn.CrossEntropyLoss()\n",
        "\n",
        "train_model_gener(modelG2, criterion, optimizer, num_epochs=50)"
      ],
      "execution_count": null,
      "outputs": [
        {
          "output_type": "display_data",
          "data": {
            "image/png": "[encoded data removed]",
            "text/plain": [
              "<Figure size 864x576 with 2 Axes>"
            ]
          },
          "metadata": {
            "tags": []
          }
        },
        {
          "output_type": "stream",
          "text": [
            "log loss:\n",
            "training   (min:    0.556, max:    1.346, cur:    0.556)\n",
            "validation (min:    0.602, max:    0.937, cur:    0.602)\n",
            "\n",
            "accuracy:\n",
            "training   (min:   40.188, max:   45.049, cur:   45.049)\n",
            "validation (min:   40.812, max:   44.523, cur:   44.523)\n"
          ],
          "name": "stdout"
        }
      ]
    },
    {
      "cell_type": "markdown",
      "metadata": {
        "id": "6LT3VRPbhIUi"
      },
      "source": [
        "## Accuracy rośnie i loss spada, jednak nadal obserwujemy overfitting. Zwiększam liczbę warstw i dodaję dropout."
      ]
    },
    {
      "cell_type": "markdown",
      "metadata": {
        "id": "RwzPo9-HnsAh"
      },
      "source": [
        "## Model_versionA + layers + dropout"
      ]
    },
    {
      "cell_type": "code",
      "metadata": {
        "id": "r9gNwHT-qzr_"
      },
      "source": [
        "class GenerativeLSTM_A(nn.Module):\n",
        "    def __init__(self, embedding_size, hidden_size,layers_num,dropout_prob,bidirectional_if):\n",
        "        super().__init__()\n",
        "        dictionary_len = len(char2id) + 2\n",
        "        self.emb = nn.Embedding(dictionary_len, embedding_size)\n",
        "        self.lstm = nn.LSTM(input_size=embedding_size, hidden_size=hidden_size,num_layers=layers_num, dropout=dropout_prob, bidirectional=bidirectional_if)\n",
        "        # note: input size is the numer of channels/embedding dim, NOT length\n",
        "        self.fc = nn.Linear(hidden_size, dictionary_len)\n",
        "\n",
        "    def forward(self, x):\n",
        "        x = self.emb(x)\n",
        "        x = x.permute(1, 0, 2)  # BLC -> LBC\n",
        "        output, (hidden, cell) = self.lstm(x)\n",
        "        res = self.fc(output)\n",
        "        return res.permute(1, 2, 0) #  LBC -> BCL"
      ],
      "execution_count": null,
      "outputs": []
    },
    {
      "cell_type": "code",
      "metadata": {
        "id": "I3aPyolzrPz4",
        "colab": {
          "base_uri": "https://localhost:8080/",
          "height": 450
        },
        "outputId": "fd06f8e4-d2fe-48a7-e760-17fdde4db93e"
      },
      "source": [
        "modelG3 = GenerativeLSTM_A(embedding_size=5, hidden_size=55,layers_num =1,dropout_prob=0.2,bidirectional_if=False) # hidden_size\n",
        "optimizer = optim.Adam(modelG3.parameters(), lr=0.01) \n",
        "criterion = nn.CrossEntropyLoss()\n",
        "\n",
        "train_model_gener(modelG3, criterion, optimizer, num_epochs=50)"
      ],
      "execution_count": null,
      "outputs": [
        {
          "output_type": "display_data",
          "data": {
            "image/png": "[encoded data removed]",
            "text/plain": [
              "<Figure size 864x576 with 2 Axes>"
            ]
          },
          "metadata": {
            "tags": []
          }
        },
        {
          "output_type": "stream",
          "text": [
            "log loss:\n",
            "training   (min:    0.549, max:    1.343, cur:    0.549)\n",
            "validation (min:    0.597, max:    0.933, cur:    0.599)\n",
            "\n",
            "accuracy:\n",
            "training   (min:   39.697, max:   45.146, cur:   45.146)\n",
            "validation (min:   41.016, max:   44.563, cur:   44.563)\n"
          ],
          "name": "stdout"
        }
      ]
    },
    {
      "cell_type": "code",
      "metadata": {
        "id": "ztBCkYZzXLfv",
        "colab": {
          "base_uri": "https://localhost:8080/",
          "height": 450
        },
        "outputId": "f14cfef6-40ab-4a37-ffb9-6a07b38c51f9"
      },
      "source": [
        "modelG4 = GenerativeLSTM_A(embedding_size=5, hidden_size=55,layers_num =2,dropout_prob=0,bidirectional_if=False) # hidden_size\n",
        "optimizer = optim.Adam(modelG4.parameters(), lr=0.01) \n",
        "criterion = nn.CrossEntropyLoss()\n",
        "\n",
        "train_model_gener(modelG4, criterion, optimizer, num_epochs=50)"
      ],
      "execution_count": null,
      "outputs": [
        {
          "output_type": "display_data",
          "data": {
            "image/png": "[encoded data removed]",
            "text/plain": [
              "<Figure size 864x576 with 2 Axes>"
            ]
          },
          "metadata": {
            "tags": []
          }
        },
        {
          "output_type": "stream",
          "text": [
            "log loss:\n",
            "training   (min:    0.466, max:    1.415, cur:    0.466)\n",
            "validation (min:    0.562, max:    0.959, cur:    0.563)\n",
            "\n",
            "accuracy:\n",
            "training   (min:   40.160, max:   46.542, cur:   46.542)\n",
            "validation (min:   40.908, max:   45.471, cur:   45.471)\n"
          ],
          "name": "stdout"
        }
      ]
    },
    {
      "cell_type": "code",
      "metadata": {
        "id": "IxzoScGVbJoX",
        "colab": {
          "base_uri": "https://localhost:8080/",
          "height": 450
        },
        "outputId": "88fb8741-c1ce-45eb-a37a-e74c2437c068"
      },
      "source": [
        "modelG5 = GenerativeLSTM_A(embedding_size=5, hidden_size=55,layers_num =2,dropout_prob=0.2,bidirectional_if=False) # hidden_size\n",
        "optimizer = optim.Adam(modelG5.parameters(), lr=0.01) \n",
        "criterion = nn.CrossEntropyLoss()\n",
        "\n",
        "train_model_gener(modelG5, criterion, optimizer, num_epochs=50)"
      ],
      "execution_count": null,
      "outputs": [
        {
          "output_type": "display_data",
          "data": {
            "image/png": "[encoded data removed]",
            "text/plain": [
              "<Figure size 864x576 with 2 Axes>"
            ]
          },
          "metadata": {
            "tags": []
          }
        },
        {
          "output_type": "stream",
          "text": [
            "log loss:\n",
            "training   (min:    0.529, max:    1.417, cur:    0.529)\n",
            "validation (min:    0.556, max:    0.964, cur:    0.557)\n",
            "\n",
            "accuracy:\n",
            "training   (min:   40.237, max:   45.437, cur:   45.423)\n",
            "validation (min:   40.939, max:   45.178, cur:   45.124)\n"
          ],
          "name": "stdout"
        }
      ]
    },
    {
      "cell_type": "code",
      "metadata": {
        "id": "2nJ-R8sUbyMR",
        "colab": {
          "base_uri": "https://localhost:8080/",
          "height": 450
        },
        "outputId": "d8318266-1f40-4037-a76e-c427bd9c437b"
      },
      "source": [
        "modelG6 = GenerativeLSTM_A(embedding_size=5, hidden_size=55,layers_num =3,dropout_prob=0.15,bidirectional_if=False) # the best\n",
        "optimizer = optim.Adam(modelG6.parameters(), lr=0.01) \n",
        "criterion = nn.CrossEntropyLoss()\n",
        "\n",
        "train_model_gener(modelG6, criterion, optimizer, num_epochs=50)"
      ],
      "execution_count": null,
      "outputs": [
        {
          "output_type": "display_data",
          "data": {
            "image/png": "[encoded data removed]",
            "text/plain": [
              "<Figure size 864x576 with 2 Axes>"
            ]
          },
          "metadata": {
            "tags": []
          }
        },
        {
          "output_type": "stream",
          "text": [
            "log loss:\n",
            "training   (min:    0.532, max:    1.291, cur:    0.532)\n",
            "validation (min:    0.551, max:    0.925, cur:    0.551)\n",
            "\n",
            "accuracy:\n",
            "training   (min:   40.151, max:   45.364, cur:   45.364)\n",
            "validation (min:   40.988, max:   45.258, cur:   45.251)\n"
          ],
          "name": "stdout"
        }
      ]
    },
    {
      "cell_type": "code",
      "metadata": {
        "id": "oqQgUwmtmVYV",
        "colab": {
          "base_uri": "https://localhost:8080/",
          "height": 450
        },
        "outputId": "bfe050f3-784d-45b7-c7b0-8a5c364b2428"
      },
      "source": [
        "modelG7 = GenerativeLSTM_A(embedding_size=5, hidden_size=65,layers_num =2,dropout_prob=0.3,bidirectional_if=False) # hidden_size\n",
        "optimizer = optim.Adam(modelG7.parameters(), lr=0.01) \n",
        "criterion = nn.CrossEntropyLoss()\n",
        "\n",
        "train_model_gener(modelG7, criterion, optimizer, num_epochs=50)"
      ],
      "execution_count": null,
      "outputs": [
        {
          "output_type": "display_data",
          "data": {
            "image/png": "[encoded data removed]",
            "text/plain": [
              "<Figure size 864x576 with 2 Axes>"
            ]
          },
          "metadata": {
            "tags": []
          }
        },
        {
          "output_type": "stream",
          "text": [
            "log loss:\n",
            "training   (min:    0.525, max:    1.413, cur:    0.525)\n",
            "validation (min:    0.549, max:    0.971, cur:    0.549)\n",
            "\n",
            "accuracy:\n",
            "training   (min:   40.241, max:   45.499, cur:   45.498)\n",
            "validation (min:   40.978, max:   45.407, cur:   45.407)\n"
          ],
          "name": "stdout"
        }
      ]
    },
    {
      "cell_type": "markdown",
      "metadata": {
        "id": "q5cKaNyXm6CD"
      },
      "source": [
        "## Komentarz1. Jako **Final model** (przy ograniczonym czasie) wybieram *modelG7*. Główny kierunek: poglębiam sieć (liczba parametrów i liczba warst; features & layers), ale nie dopuszczam overfitting (dropout). Warty uwagi i inne parametry: learning rate, loss function, inicalizacja wag, parameters for optimizer i etc."
      ]
    },
    {
      "cell_type": "markdown",
      "metadata": {
        "id": "6HWqjgS3gBlM"
      },
      "source": [
        "# Funkcje, która wypisuje nazwę leku "
      ]
    },
    {
      "cell_type": "markdown",
      "metadata": {
        "id": "PYqQWam3oZfl"
      },
      "source": [
        "## preparation"
      ]
    },
    {
      "cell_type": "code",
      "metadata": {
        "id": "0hVc4iOfjRzd"
      },
      "source": [
        "def encode(name, end=True):\n",
        "    code = [char2id[c] for c in name]\n",
        "    if end:\n",
        "        return torch.tensor([BEGIN_ID] + code + [AFTER_ID]).unsqueeze(0)\n",
        "    else:\n",
        "        return torch.tensor([BEGIN_ID] + code).unsqueeze(0)"
      ],
      "execution_count": null,
      "outputs": []
    },
    {
      "cell_type": "code",
      "metadata": {
        "id": "xzcKyyukl0Ke",
        "colab": {
          "base_uri": "https://localhost:8080/",
          "height": 34
        },
        "outputId": "8040380f-85e4-4690-eef6-6125f3c52d09"
      },
      "source": [
        "encode(\"Ibu\")"
      ],
      "execution_count": null,
      "outputs": [
        {
          "output_type": "execute_result",
          "data": {
            "text/plain": [
              "tensor([[91, 34, 15, 13, 92]])"
            ]
          },
          "metadata": {
            "tags": []
          },
          "execution_count": 237
        }
      ]
    },
    {
      "cell_type": "code",
      "metadata": {
        "id": "Jv2YoZconUAj",
        "colab": {
          "base_uri": "https://localhost:8080/",
          "height": 34
        },
        "outputId": "21dc97da-b2f8-479a-bb2a-1513f6f2d4f7"
      },
      "source": [
        "encode(\"Idu\", end=False)"
      ],
      "execution_count": null,
      "outputs": [
        {
          "output_type": "execute_result",
          "data": {
            "text/plain": [
              "tensor([[91, 34,  4, 13]])"
            ]
          },
          "metadata": {
            "tags": []
          },
          "execution_count": 238
        }
      ]
    },
    {
      "cell_type": "code",
      "metadata": {
        "id": "kWQbcVcEm9OU",
        "colab": {
          "base_uri": "https://localhost:8080/",
          "height": 34
        },
        "outputId": "ae47d993-8678-4d9a-f72e-55d6e2fcd639"
      },
      "source": [
        "pred = modelG7(encode(\"Idu\", end=False).to(device))\n",
        "pred.size()"
      ],
      "execution_count": null,
      "outputs": [
        {
          "output_type": "execute_result",
          "data": {
            "text/plain": [
              "torch.Size([1, 93, 4])"
            ]
          },
          "metadata": {
            "tags": []
          },
          "execution_count": 239
        }
      ]
    },
    {
      "cell_type": "code",
      "metadata": {
        "id": "2i4TV9pa-y0b",
        "colab": {
          "base_uri": "https://localhost:8080/",
          "height": 1000
        },
        "outputId": "f1abb100-3a7c-49e0-fe8a-79fe800eca7d"
      },
      "source": [
        "pred"
      ],
      "execution_count": null,
      "outputs": [
        {
          "output_type": "execute_result",
          "data": {
            "text/plain": [
              "tensor([[[  5.7142,  -2.1157,  -4.7571,  -5.5104],\n",
              "         [  2.0462,   2.2218,   4.9964,   0.1883],\n",
              "         [ -2.5236,   2.3451,   3.7564,   3.6419],\n",
              "         [ -0.9983,   0.1307,   3.9912,   1.6740],\n",
              "         [ -3.4969,   3.0148,   3.0275,   3.1654],\n",
              "         [ -0.0253,   4.8812,   4.2944,   4.3967],\n",
              "         [  0.4243,   6.4930,   2.9160,   4.0678],\n",
              "         [ -1.5192,  -0.7474,   3.8006,   2.1404],\n",
              "         [ -1.9644,   2.8289,   1.3250,   4.2445],\n",
              "         [ -1.2041,  -0.0216,   1.3697,   1.2745],\n",
              "         [ -3.1984,   1.4711,   5.4639,   2.0422],\n",
              "         [  6.2612,  -0.8434,  -0.6680,  -1.2674],\n",
              "         [ -0.4239,   4.8219,   2.2104,   4.1915],\n",
              "         [  0.7329,   3.6092,   4.9494,   2.1368],\n",
              "         [  5.8463,  -1.6113,  -2.5455,  -3.3882],\n",
              "         [  2.2499,   6.2074,   2.7181,   3.0221],\n",
              "         [  6.6152,  -0.9136,  -1.1753,  -4.0463],\n",
              "         [  6.3584,   1.1972,  -2.8505,  -3.3847],\n",
              "         [ -0.6964,   1.8194,  -0.7215,   1.8435],\n",
              "         [ -0.1301,   3.2036,   2.6587,   4.0040],\n",
              "         [  6.6443,   0.0221,  -0.9863,  -3.7379],\n",
              "         [ -0.2604,   3.3820,   0.9033,   5.6767],\n",
              "         [  7.2619,   0.0353,  -0.7413,  -2.3223],\n",
              "         [ -0.5872,   5.8022,   2.9903,   4.5532],\n",
              "         [ -0.2470,   3.1313,   0.4580,   1.3592],\n",
              "         [ -2.5684,   3.0491,  -3.0438,   3.0320],\n",
              "         [  6.8645,   1.2706,  -0.5531,  -0.6788],\n",
              "         [ -4.0516,   3.6274,  -0.3069,   2.5268],\n",
              "         [  1.2551,  -8.2310,  -7.9362,  -7.2875],\n",
              "         [ -5.8225,  -1.5020,  -9.9279,  -8.0866],\n",
              "         [  1.6028,   4.2297,   3.2901,   4.6843],\n",
              "         [  6.5779,  -0.8579,  -3.2782,  -0.5436],\n",
              "         [ -1.6166,   1.5358,   0.3702,  -0.3482],\n",
              "         [  6.4769,   1.7560,  -4.7491,  -3.2521],\n",
              "         [  6.2192,  -1.6504,  -1.4064,  -5.2218],\n",
              "         [  7.0403,   0.7534,  -1.5770,  -0.2473],\n",
              "         [  6.5790,   0.0513,  -0.3052,  -2.4653],\n",
              "         [  4.9182,  -2.7431,  -2.7108,  -5.2804],\n",
              "         [ -1.1194,   0.3386,   0.4816,  -1.0997],\n",
              "         [  5.4781,  -2.1375,  -3.0750,  -0.6158],\n",
              "         [  4.7227,  -1.0204,  -2.7177,  -8.5410],\n",
              "         [ -3.2973,  -2.3925,   1.7845,   0.9762],\n",
              "         [  3.9391,  -2.1700,  -6.9197,  -6.8273],\n",
              "         [  0.7548,   3.1096,   1.7049,   3.2152],\n",
              "         [  7.1698,   0.4672,  -1.7264,  -0.8235],\n",
              "         [  0.6554,  -6.6877,  -9.1238, -10.2645],\n",
              "         [  6.3028,   0.3506,  -1.4408,  -1.9565],\n",
              "         [  5.9504,  -0.0923,  -1.4917,  -2.1439],\n",
              "         [  0.5581,  -5.5927,  -6.0006,  -5.7881],\n",
              "         [  6.4564,  -1.2462,  -2.0714,  -1.4270],\n",
              "         [ -1.5872,  -7.3057,  -8.9093,  -7.1074],\n",
              "         [ -2.8716,  -2.8294,  -5.8721,  -5.1769],\n",
              "         [  6.3137,  -2.8090,  -0.4218,  -4.4274],\n",
              "         [  3.9894,  -4.9506,  -6.3118,  -5.5021],\n",
              "         [ -0.2418,  -2.6186,  -2.8571,  -4.5189],\n",
              "         [  1.5315,   0.4267,   0.0372,   1.2498],\n",
              "         [  3.0920,  -1.4848,  -4.8336,  -5.6664],\n",
              "         [ -1.4144,  -4.1265,  -6.6706,  -4.3448],\n",
              "         [ -1.2763,  -7.6575,  -9.9532,  -9.7935],\n",
              "         [  6.7162,   0.5728,   0.1125,  -2.0629],\n",
              "         [ -2.4497,  -6.7008,  -8.7930,  -7.0137],\n",
              "         [ -2.4921,  -0.8593,  -4.3233,  -6.6864],\n",
              "         [ -1.3943,  -1.9563,  -4.5097,  -2.9763],\n",
              "         [ -3.0075,  -6.6559,  -9.7353,  -8.7347],\n",
              "         [ -1.7158,  -1.8965,  -6.4742,  -7.1399],\n",
              "         [ -1.9611,   1.3069,  -2.2816,  -0.3928],\n",
              "         [ -3.1715,   0.1734,   0.1934,  -1.5658],\n",
              "         [ -6.5639,  -5.9092,  -9.9657,  -7.2504],\n",
              "         [ -0.3008,  -5.5586,  -6.0437,  -6.1011],\n",
              "         [ -3.5065,  -3.7045,  -7.5239,  -4.2862],\n",
              "         [-11.3500,  -5.5226,  -8.4062, -11.8809],\n",
              "         [ -0.9836,  -9.4608, -11.3606,  -8.8783],\n",
              "         [ -0.1535,  -5.7329,  -8.1295,  -7.3772],\n",
              "         [ -0.2265,  -6.9877,  -7.8497,  -9.0721],\n",
              "         [ -1.0985,  -3.5501,  -7.2648,  -4.5293],\n",
              "         [ -2.3777,  -4.6606,  -3.7406, -10.3039],\n",
              "         [  2.9322,  -2.3139,  -3.6880,  -7.0642],\n",
              "         [ -1.5000,  -1.8477,  -7.8165,  -4.5830],\n",
              "         [ -4.4940,  -2.3521,  -1.5691,  -3.1053],\n",
              "         [ -2.6552,  -5.5992,  -3.7944,  -4.5209],\n",
              "         [ -5.0295,  -3.1158,  -8.2614,  -9.4458],\n",
              "         [ -8.1501,  -5.3876,  -8.4551,  -6.8364],\n",
              "         [ -2.1830,  -4.9156, -10.5514, -11.2390],\n",
              "         [  1.3221,  -4.1272,  -7.5114,  -7.1898],\n",
              "         [ -1.0347,  -2.7593,  -8.2278,  -8.4233],\n",
              "         [ -3.1401,  -3.6703,  -6.7173,  -5.5780],\n",
              "         [ -3.1540,  -3.1967,  -6.9624,  -8.7709],\n",
              "         [ -5.7463,  -8.1086, -11.2643, -12.0927],\n",
              "         [ -4.1243,  -4.9884,  -7.7840,  -7.3913],\n",
              "         [ -5.7147,  -2.9942,  -8.1612,  -6.3443],\n",
              "         [ -3.2158,  -3.7761,  -8.3225,  -7.2107],\n",
              "         [ -5.0181,  -5.0430,  -8.8231, -10.0728],\n",
              "         [ -0.8419,  -1.8913,  -1.5871,  -0.3558]]], device='cuda:0',\n",
              "       grad_fn=<PermuteBackward>)"
            ]
          },
          "metadata": {
            "tags": []
          },
          "execution_count": 240
        }
      ]
    },
    {
      "cell_type": "code",
      "metadata": {
        "id": "QYqa-ig2_DNf",
        "colab": {
          "base_uri": "https://localhost:8080/",
          "height": 316
        },
        "outputId": "bf428e93-fdf4-4b5f-a3bb-82a8d6306a0d"
      },
      "source": [
        "pred[0,:,-1].softmax(dim=0)"
      ],
      "execution_count": null,
      "outputs": [
        {
          "output_type": "execute_result",
          "data": {
            "text/plain": [
              "tensor([3.9493e-06, 1.1789e-03, 3.7267e-02, 5.2079e-03, 2.3141e-02, 7.9276e-02,\n",
              "        5.7055e-02, 8.3031e-03, 6.8079e-02, 3.4927e-03, 7.5265e-03, 2.7495e-04,\n",
              "        6.4565e-02, 8.2730e-03, 3.2977e-05, 2.0052e-02, 1.7075e-05, 3.3092e-05,\n",
              "        6.1698e-03, 5.3529e-02, 2.3244e-05, 2.8513e-01, 9.5742e-05, 9.2701e-02,\n",
              "        3.8017e-03, 2.0251e-02, 4.9529e-04, 1.2219e-02, 6.6793e-07, 3.0042e-07,\n",
              "        1.0569e-01, 5.6701e-04, 6.8936e-04, 3.7784e-05, 5.2705e-06, 7.6254e-04,\n",
              "        8.2987e-05, 4.9707e-06, 3.2516e-04, 5.2751e-04, 1.9070e-07, 2.5920e-03,\n",
              "        1.0583e-06, 2.4322e-02, 4.2859e-04, 3.4029e-08, 1.3802e-04, 1.1445e-04,\n",
              "        2.9918e-06, 2.3439e-04, 7.9975e-07, 5.5125e-06, 1.1664e-05, 3.9823e-06,\n",
              "        1.0645e-05, 3.4077e-03, 3.3790e-06, 1.2669e-05, 5.4501e-08, 1.2410e-04,\n",
              "        8.7836e-07, 1.2185e-06, 4.9781e-05, 1.5711e-07, 7.7416e-07, 6.5928e-04,\n",
              "        2.0400e-04, 6.9319e-07, 2.1877e-06, 1.3433e-05, 6.7586e-09, 1.3611e-07,\n",
              "        6.1067e-07, 1.1213e-07, 1.0534e-05, 3.2714e-08, 8.3507e-07, 9.9837e-06,\n",
              "        4.3759e-05, 1.0623e-05, 7.7165e-08, 1.0487e-06, 1.2842e-08, 7.3648e-07,\n",
              "        2.1452e-07, 3.6913e-06, 1.5154e-07, 5.4688e-09, 6.0212e-07, 1.7155e-06,\n",
              "        7.2130e-07, 4.1219e-08, 6.8416e-04], device='cuda:0',\n",
              "       grad_fn=<SoftmaxBackward>)"
            ]
          },
          "metadata": {
            "tags": []
          },
          "execution_count": 241
        }
      ]
    },
    {
      "cell_type": "code",
      "metadata": {
        "id": "3dSJHsEXnc4Q",
        "colab": {
          "base_uri": "https://localhost:8080/",
          "height": 439
        },
        "outputId": "58b51298-1e95-4a27-934f-0fc8d93e9d96"
      },
      "source": [
        "next_letter_prob = pred[0,:,-1].softmax(dim=0).cpu().detach().numpy()\n",
        "next_letter_prob"
      ],
      "execution_count": null,
      "outputs": [
        {
          "output_type": "execute_result",
          "data": {
            "text/plain": [
              "array([3.9492711e-06, 1.1788728e-03, 3.7266754e-02, 5.2078879e-03,\n",
              "       2.3140877e-02, 7.9275742e-02, 5.7055488e-02, 8.3031310e-03,\n",
              "       6.8078920e-02, 3.4926997e-03, 7.5264773e-03, 2.7495457e-04,\n",
              "       6.4564534e-02, 8.2730316e-03, 3.2976521e-05, 2.0051694e-02,\n",
              "       1.7075476e-05, 3.3092205e-05, 6.1697685e-03, 5.3528707e-02,\n",
              "       2.3244003e-05, 2.8513071e-01, 9.5741503e-05, 9.2701025e-02,\n",
              "       3.8016932e-03, 2.0250620e-02, 4.9528887e-04, 1.2219225e-02,\n",
              "       6.6792580e-07, 3.0041645e-07, 1.0568628e-01, 5.6701305e-04,\n",
              "       6.8935589e-04, 3.7783764e-05, 5.2705350e-06, 7.6254108e-04,\n",
              "       8.2987375e-05, 4.9707346e-06, 3.2515731e-04, 5.2750664e-04,\n",
              "       1.9069753e-07, 2.5919846e-03, 1.0583458e-06, 2.4321534e-02,\n",
              "       4.2858793e-04, 3.4029423e-08, 1.3802345e-04, 1.1444625e-04,\n",
              "       2.9918206e-06, 2.3438715e-04, 7.9975109e-07, 5.5124965e-06,\n",
              "       1.1664124e-05, 3.9822730e-06, 1.0644845e-05, 3.4077121e-03,\n",
              "       3.3790152e-06, 1.2668957e-05, 5.4500660e-08, 1.2409613e-04,\n",
              "       8.7835883e-07, 1.2184586e-06, 4.9781291e-05, 1.5711385e-07,\n",
              "       7.7415757e-07, 6.5928302e-04, 2.0400109e-04, 6.9318907e-07,\n",
              "       2.1876565e-06, 1.3433470e-05, 6.7586030e-09, 1.3610769e-07,\n",
              "       6.1066993e-07, 1.1213053e-07, 1.0534282e-05, 3.2714418e-08,\n",
              "       8.3507132e-07, 9.9836507e-06, 4.3758890e-05, 1.0623163e-05,\n",
              "       7.7164515e-08, 1.0486856e-06, 1.2842343e-08, 7.3648209e-07,\n",
              "       2.1451991e-07, 3.6913098e-06, 1.5153560e-07, 5.4687965e-09,\n",
              "       6.0212273e-07, 1.7154761e-06, 7.2130246e-07, 4.1219060e-08,\n",
              "       6.8415829e-04], dtype=float32)"
            ]
          },
          "metadata": {
            "tags": []
          },
          "execution_count": 242
        }
      ]
    },
    {
      "cell_type": "code",
      "metadata": {
        "id": "UWfNKNFTjxY2",
        "colab": {
          "base_uri": "https://localhost:8080/",
          "height": 34
        },
        "outputId": "1fe63263-beb7-4500-ec2b-a320f6c77a36"
      },
      "source": [
        "if 'f' not in char2id:\n",
        "  print('not in char2id')\n",
        "else: \n",
        "  print('in char2id')"
      ],
      "execution_count": null,
      "outputs": [
        {
          "output_type": "stream",
          "text": [
            "in char2id\n"
          ],
          "name": "stdout"
        }
      ]
    },
    {
      "cell_type": "code",
      "metadata": {
        "id": "M4ncL6CBknnp",
        "colab": {
          "base_uri": "https://localhost:8080/",
          "height": 34
        },
        "outputId": "f8873ffd-7e45-481a-ce4b-f90cd375a90c"
      },
      "source": [
        "if '<' not in char2id: # sprawdzam, czy jest używany ten znak\n",
        "  print('not in char2id')\n",
        "else: \n",
        "  print('in char2id')"
      ],
      "execution_count": null,
      "outputs": [
        {
          "output_type": "stream",
          "text": [
            "not in char2id\n"
          ],
          "name": "stdout"
        }
      ]
    },
    {
      "cell_type": "code",
      "metadata": {
        "id": "-x1ZEQCPkqJL",
        "colab": {
          "base_uri": "https://localhost:8080/",
          "height": 34
        },
        "outputId": "9fad4a4c-da36-4d5a-f7d8-3e1d83225616"
      },
      "source": [
        "if '>' not in char2id: # sprawdzam, czy jest używany ten znak\n",
        "  print('not in char2id')\n",
        "else: \n",
        "  print('in char2id')"
      ],
      "execution_count": null,
      "outputs": [
        {
          "output_type": "stream",
          "text": [
            "not in char2id\n"
          ],
          "name": "stdout"
        }
      ]
    },
    {
      "cell_type": "code",
      "metadata": {
        "id": "YZEKHj9mn0XS"
      },
      "source": [
        "chars = [c for i, c in id2char.items()] + [\">\", \"<\"]"
      ],
      "execution_count": null,
      "outputs": []
    },
    {
      "cell_type": "code",
      "metadata": {
        "id": "pOaP7h1_n1-i",
        "colab": {
          "base_uri": "https://localhost:8080/",
          "height": 1000
        },
        "outputId": "05012bf1-57cf-40de-d927-ac5c9bb3b109"
      },
      "source": [
        "chars"
      ],
      "execution_count": null,
      "outputs": [
        {
          "output_type": "execute_result",
          "data": {
            "text/plain": [
              "['Z',\n",
              " 'o',\n",
              " 'l',\n",
              " 'e',\n",
              " 'd',\n",
              " 'r',\n",
              " 'n',\n",
              " 'i',\n",
              " 'c',\n",
              " ' ',\n",
              " 'a',\n",
              " 'F',\n",
              " 's',\n",
              " 'u',\n",
              " 'K',\n",
              " 'b',\n",
              " 'E',\n",
              " 'N',\n",
              " 'g',\n",
              " 't',\n",
              " 'D',\n",
              " 'p',\n",
              " 'A',\n",
              " 'm',\n",
              " 'z',\n",
              " 'k',\n",
              " 'P',\n",
              " 'x',\n",
              " '1',\n",
              " '%',\n",
              " 'v',\n",
              " 'T',\n",
              " 'w',\n",
              " 'B',\n",
              " 'I',\n",
              " 'S',\n",
              " 'R',\n",
              " 'X',\n",
              " 'y',\n",
              " 'H',\n",
              " 'U',\n",
              " 'h',\n",
              " 'J',\n",
              " 'f',\n",
              " 'C',\n",
              " '0',\n",
              " 'L',\n",
              " 'G',\n",
              " '2',\n",
              " 'V',\n",
              " '5',\n",
              " 'ó',\n",
              " 'O',\n",
              " 'W',\n",
              " '.',\n",
              " '-',\n",
              " 'Q',\n",
              " ',',\n",
              " '8',\n",
              " 'M',\n",
              " '7',\n",
              " 'ę',\n",
              " 'ż',\n",
              " '(',\n",
              " ')',\n",
              " 'q',\n",
              " 'j',\n",
              " 'ń',\n",
              " '3',\n",
              " 'ś',\n",
              " 'ć',\n",
              " '4',\n",
              " '9',\n",
              " '6',\n",
              " '+',\n",
              " 'ą',\n",
              " 'Y',\n",
              " 'Ł',\n",
              " 'ł',\n",
              " '/',\n",
              " '^',\n",
              " 'ź',\n",
              " ':',\n",
              " 'Ś',\n",
              " 'Ż',\n",
              " '\"',\n",
              " ';',\n",
              " '°',\n",
              " '&',\n",
              " '–',\n",
              " 'µ',\n",
              " '>',\n",
              " '<']"
            ]
          },
          "metadata": {
            "tags": []
          },
          "execution_count": 247
        }
      ]
    },
    {
      "cell_type": "code",
      "metadata": {
        "id": "D3YqN9Fsnrw2",
        "colab": {
          "base_uri": "https://localhost:8080/",
          "height": 228
        },
        "outputId": "27cd7df3-772e-4c8f-9845-283c84cdb77a"
      },
      "source": [
        "100 * pd.Series(next_letter_prob, index=chars).sort_values(ascending=False)"
      ],
      "execution_count": null,
      "outputs": [
        {
          "output_type": "execute_result",
          "data": {
            "text/plain": [
              "p    2.851307e+01\n",
              "v    1.056863e+01\n",
              "m    9.270103e+00\n",
              "r    7.927574e+00\n",
              "c    6.807892e+00\n",
              "         ...     \n",
              "0    3.402942e-06\n",
              "ą    3.271442e-06\n",
              ":    1.284234e-06\n",
              "ć    6.758603e-07\n",
              "°    5.468797e-07\n",
              "Length: 93, dtype: float32"
            ]
          },
          "metadata": {
            "tags": []
          },
          "execution_count": 248
        }
      ]
    },
    {
      "cell_type": "code",
      "metadata": {
        "id": "gAnW0KzvoCqS",
        "colab": {
          "base_uri": "https://localhost:8080/",
          "height": 34
        },
        "outputId": "d979ffef-6fec-4f05-a567-84b36e299b2d"
      },
      "source": [
        "next_char_id = np.random.choice(len(next_letter_prob), 1, p=next_letter_prob)[0]\n",
        "next_char_id"
      ],
      "execution_count": null,
      "outputs": [
        {
          "output_type": "execute_result",
          "data": {
            "text/plain": [
              "12"
            ]
          },
          "metadata": {
            "tags": []
          },
          "execution_count": 249
        }
      ]
    },
    {
      "cell_type": "code",
      "metadata": {
        "id": "xExT-RDdoL7B",
        "colab": {
          "base_uri": "https://localhost:8080/",
          "height": 34
        },
        "outputId": "10028ccc-6a7c-4848-bac7-c76ed9a28ba0"
      },
      "source": [
        "chars[next_char_id]"
      ],
      "execution_count": null,
      "outputs": [
        {
          "output_type": "execute_result",
          "data": {
            "text/plain": [
              "'t'"
            ]
          },
          "metadata": {
            "tags": []
          },
          "execution_count": 173
        }
      ]
    },
    {
      "cell_type": "markdown",
      "metadata": {
        "id": "e7FG1DozoemR"
      },
      "source": [
        "## funkcja v1"
      ]
    },
    {
      "cell_type": "code",
      "metadata": {
        "id": "s3I8V07SoOIE"
      },
      "source": [
        "def generate(start=\"\", next_chars=55, model=modelG7, temperature=1.):\n",
        "    word = start\n",
        "\n",
        "    for i in range(next_chars):\n",
        "        pred = model(encode(word, end=False).to(device))\n",
        "        next_letter_prob = pred[0,:,-1].softmax(dim=0).cpu().detach().numpy()\n",
        "  \n",
        "        next_letter_prob = next_letter_prob**(1/temperature)\n",
        "        next_letter_prob = next_letter_prob / next_letter_prob.sum()\n",
        "\n",
        "        next_char_id = np.random.choice(len(next_letter_prob), 1, p=next_letter_prob)[0]\n",
        "\n",
        "        word += chars[next_char_id]\n",
        "\n",
        "        if chars[next_char_id] == '<':\n",
        "            break\n",
        "\n",
        "    return word"
      ],
      "execution_count": null,
      "outputs": []
    },
    {
      "cell_type": "code",
      "metadata": {
        "id": "g_AS0sjGoP-J",
        "colab": {
          "base_uri": "https://localhost:8080/",
          "height": 34
        },
        "outputId": "1521b55c-6f4f-4496-c7f1-79f66532f319"
      },
      "source": [
        "generate(model=modelG7)"
      ],
      "execution_count": null,
      "outputs": [
        {
          "output_type": "execute_result",
          "data": {
            "text/plain": [
              "'ClooFarm<'"
            ]
          },
          "metadata": {
            "tags": []
          },
          "execution_count": 251
        }
      ]
    },
    {
      "cell_type": "markdown",
      "metadata": {
        "id": "RpnpC0yDopwh"
      },
      "source": [
        "## funkcja v2 (bez \"<\", \">\")"
      ]
    },
    {
      "cell_type": "code",
      "metadata": {
        "id": "A5L0G8p1ggh4"
      },
      "source": [
        "def generate2(start=\"\", next_chars=55, model=modelG7, temperature=1.):\n",
        "    word = start\n",
        "\n",
        "    for i in range(next_chars):\n",
        "        pred = model(encode(word, end=False).to(device))\n",
        "        next_letter_prob = pred[0,:,-1].softmax(dim=0).cpu().detach().numpy()\n",
        "  \n",
        "        next_letter_prob = next_letter_prob**(1/temperature)\n",
        "        next_letter_prob = next_letter_prob / next_letter_prob.sum()\n",
        "\n",
        "        next_char_id = np.random.choice(len(next_letter_prob), 1, p=next_letter_prob)[0]\n",
        "\n",
        "        word += chars[next_char_id]\n",
        "\n",
        "        if chars[next_char_id] == '<':\n",
        "            break\n",
        "\n",
        "    return (word.replace('<', '')).replace('>', '')"
      ],
      "execution_count": null,
      "outputs": []
    },
    {
      "cell_type": "code",
      "metadata": {
        "id": "EHD9nDI-ge9q",
        "colab": {
          "base_uri": "https://localhost:8080/",
          "height": 34
        },
        "outputId": "bf4b2128-dbdf-4504-e3a6-25f2789731a9"
      },
      "source": [
        "generate2(start=\"\", next_chars=55, model=modelG7, temperature=1.)"
      ],
      "execution_count": null,
      "outputs": [
        {
          "output_type": "execute_result",
          "data": {
            "text/plain": [
              "'Cadniacloc Flumamel Lix lrzow'"
            ]
          },
          "metadata": {
            "tags": []
          },
          "execution_count": 253
        }
      ]
    },
    {
      "cell_type": "markdown",
      "metadata": {
        "id": "clETSFS2grkv"
      },
      "source": [
        "## Funkcje, która wypisuje nazwę leku i dodatkowo sprawdza czy nie jest już w zbiorze trenginowym"
      ]
    },
    {
      "cell_type": "code",
      "metadata": {
        "id": "XRVWb3HDCSPr"
      },
      "source": [
        "def generateCHECK(start=\"\", next_chars=55, model=modelG7, temperature=1.):\n",
        "    word = start\n",
        "\n",
        "    for i in range(next_chars):\n",
        "        pred = model(encode(word, end=False).to(device))\n",
        "        next_letter_prob = pred[0,:,-1].softmax(dim=0).cpu().detach().numpy()\n",
        "  \n",
        "        next_letter_prob = next_letter_prob**(1/temperature)\n",
        "        next_letter_prob = next_letter_prob / next_letter_prob.sum()\n",
        "\n",
        "        next_char_id = np.random.choice(len(next_letter_prob), 1, p=next_letter_prob)[0]\n",
        "\n",
        "        word += chars[next_char_id]\n",
        "\n",
        "        if chars[next_char_id] == '<':\n",
        "            break\n",
        "\n",
        "    word1 = (word.replace('<', '')).replace('>', '')    \n",
        "    if word1 in drugsR_df['title_new'].values:\n",
        "      print(word1, '(istnieje w zbiorze treningowym)')\n",
        "    else:\n",
        "      print(word1, '(nie istnieje w zbiorze treningowym)')\n"
      ],
      "execution_count": null,
      "outputs": []
    },
    {
      "cell_type": "code",
      "metadata": {
        "id": "xwJJhp8Zhzm3",
        "colab": {
          "base_uri": "https://localhost:8080/",
          "height": 34
        },
        "outputId": "307103e6-0f07-48a6-91c4-307dd0eccf4b"
      },
      "source": [
        "generateCHECK(\"\",55,modelG7,temperature=1)"
      ],
      "execution_count": null,
      "outputs": [
        {
          "output_type": "stream",
          "text": [
            "Semberari Alzitino (nie istnieje w zbiorze treningowym)\n"
          ],
          "name": "stdout"
        }
      ]
    },
    {
      "cell_type": "markdown",
      "metadata": {
        "id": "4Izy-mrFo9AA"
      },
      "source": [
        "## examples po 5 dla T=1, T=5 i T=0.2"
      ]
    },
    {
      "cell_type": "code",
      "metadata": {
        "id": "RUmbUgieDgZI",
        "colab": {
          "base_uri": "https://localhost:8080/",
          "height": 193
        },
        "outputId": "981730bf-2283-435d-9532-3a573453dc5b"
      },
      "source": [
        "for i in range (5):\n",
        "  print (generateCHECK(\"\",55,modelG7,1))"
      ],
      "execution_count": null,
      "outputs": [
        {
          "output_type": "stream",
          "text": [
            "Eltamedanthit (nie istnieje w zbiorze treningowym)\n",
            "None\n",
            "Ketosil PR  (nie istnieje w zbiorze treningowym)\n",
            "None\n",
            "Tranctavest Clasen (nie istnieje w zbiorze treningowym)\n",
            "None\n",
            "Tridetal DGPAC (nie istnieje w zbiorze treningowym)\n",
            "None\n",
            "Carvitram  Inułiki (nie istnieje w zbiorze treningowym)\n",
            "None\n"
          ],
          "name": "stdout"
        }
      ]
    },
    {
      "cell_type": "code",
      "metadata": {
        "id": "E_Zq9n5wiPbN",
        "colab": {
          "base_uri": "https://localhost:8080/",
          "height": 193
        },
        "outputId": "a8b5de25-d76f-44bf-88d6-1ad4b069deb0"
      },
      "source": [
        "for i in range (5):\n",
        "  print (generateCHECK(\"\",55,modelG7,5))"
      ],
      "execution_count": null,
      "outputs": [
        {
          "output_type": "stream",
          "text": [
            "G 3Egi -qTLIU- (nie istnieje w zbiorze treningowym)\n",
            "None\n",
            "ndvqEKHmYB (nie istnieje w zbiorze treningowym)\n",
            "None\n",
            "Hg+Trt7RGDC.N (nie istnieje w zbiorze treningowym)\n",
            "None\n",
            "FxUDef4DCyQ50+LK63Eą0 (nie istnieje w zbiorze treningowym)\n",
            "None\n",
            "rmz9–7nOlUAj8oisgiqQ Ph (nie istnieje w zbiorze treningowym)\n",
            "None\n"
          ],
          "name": "stdout"
        }
      ]
    },
    {
      "cell_type": "code",
      "metadata": {
        "id": "mdg7w3KAiXyY",
        "colab": {
          "base_uri": "https://localhost:8080/",
          "height": 193
        },
        "outputId": "9d87ca8e-a4e0-491b-f3ac-cd212f738b48"
      },
      "source": [
        "for i in range (5):\n",
        "  print (generateCHECK(\"\",55,modelG7,0.2))"
      ],
      "execution_count": null,
      "outputs": [
        {
          "output_type": "stream",
          "text": [
            "Alpirin (nie istnieje w zbiorze treningowym)\n",
            "None\n",
            "Prostolin (nie istnieje w zbiorze treningowym)\n",
            "None\n",
            "Colmitabine Actavis (nie istnieje w zbiorze treningowym)\n",
            "None\n",
            "Simvastatin Teva (nie istnieje w zbiorze treningowym)\n",
            "None\n",
            "Prosto-Saston (nie istnieje w zbiorze treningowym)\n",
            "None\n"
          ],
          "name": "stdout"
        }
      ]
    },
    {
      "cell_type": "markdown",
      "metadata": {
        "id": "llW4xghriley"
      },
      "source": [
        "# Funkcję, która dla stringa zwraca *jakąś* miarę prawdopodobności stringa jako nazwy leku \n",
        "\n"
      ]
    },
    {
      "cell_type": "markdown",
      "metadata": {
        "id": "thdnQknjrHKC"
      },
      "source": [
        "## Mój pomysł: Jako miarę chcę używać model, który będzie zwracaj prawdopodobieństwo, że ten string to nazwa leku. Dlatego buduję RNN model: dane= nazwy wygenerowane i prawdziwe, label = fake or real."
      ]
    },
    {
      "cell_type": "markdown",
      "metadata": {
        "id": "8kGrsw6ajPGu"
      },
      "source": [
        "## przygotowywanie danych"
      ]
    },
    {
      "cell_type": "code",
      "metadata": {
        "id": "T8H9ZuJ_RPkA",
        "colab": {
          "base_uri": "https://localhost:8080/",
          "height": 54
        },
        "outputId": "24885144-4d9c-4dbc-bf31-f70d1be34f2e"
      },
      "source": [
        "drugsF = []\n",
        "for i in range(10000):\n",
        "  word=generate2(model=modelG7)\n",
        "  if word not in drugsR_df['title_new'].values:\n",
        "    drugsF.append(word)\n",
        "print(drugsF)"
      ],
      "execution_count": null,
      "outputs": [
        {
          "output_type": "stream",
          "text": [
            "['Anelsit', 'Vortar', 'Coltramun gorte', 'Expitir Zisten', 'Stanud', 'Tontroloc DL', 'Kumezeum', 'Raminus R Elsea', 'Emlepiron', 'Alporator Mulo', 'Digricmine Zolt Flea', 'Risterol 50', 'Galmax', 'Riveb', 'Ziglambina', 'Acpafid', 'Seedinair', 'Plentix 35 K 150 mg', 'Sarvilt', 'Derhinax ', 'Boxixed 40', 'Plegamtio', 'Vinatril', 'Zyxo Premze NEUX', 'Confazolic Cumm', 'Acdoepesto 50', 'NioLuray so', 'Metforric 5%', 'Ipirost 300 mg', 'Symmokekam Orenix', 'Domamyl', 'Capecikon', 'Emfromphal 100 mg tabl.u ', 'Lipolosp', 'Maść Gysprznor', 'Cinaval', 'Alloxlor', 'Flucas 1 R', 'Astioden', 'Contray', 'Themflip', 'Rep-Krimit', 'Nopomacil', 'Zovla', 'Acankan', 'Valsedem', 'Marbofil', 'Pascral', 'Po-Cammestan', 'Pysodinet 100 mg/ml/mf', 'Nrorestel', 'Guhrosera', 'Kintalez', 'Priprinta SCT-LAED', 'Tancum 1625 mg roztwór', 'Azomabinex', 'Oxyjet 0,5% Batros', 'Nutrifad 100', 'Opomycone', 'Travobeman', 'Anzefil', 'Tromact', 'Phonilop 55 mg tabletki', 'Simvhanlis Sandoz', 'Ranemizex 120 mg', 'Chlylonex CS 250', 'Beropon P1255', 'Asmelin', 'Pnanivufil', 'Otremax 500', 'Arcidin SESHPO,', 'DiNiger D6', 'Rasa chR', 'Parcivak 15 mg/ml raztwór', 'Ellopan', 'Emparvop 100 AN', 'Metazolide ', 'Loraspt 500 XO. ', 'Liso-TRT', 'Pialokin', 'Saldaictan', 'Ramopermisite', 'Vinctoton 20', 'Mydosll', 'Porcilis N 10 mg/ml, Spotics', 'Carvetida', 'Deletrozin + Hine-Chasmis', 'Remancon', 'Clamel', 'Nebrenil', 'Transtaneptamidum ra', 'Sralegen DP', 'Ceperbil', 'Hemsx', 'Vidazid ', 'Vitamin ', 'Lomistad ', 'Pastipyralell P', 'Clometarbine 1000 mg', 'Remirtes', 'Canifraid', 'MurifestA', 'Naproxel Viofer', 'Apo-Sperastan Gep', 'Avramys', 'Doxyflac Presza Compe', 'Sł.pagobol', 'Chynovid', 'Euthycolle', 'Somataspin A', 'Zinsurine Accomed', 'Dinestvan', 'Rispedin', 'Amlyo ACTErnochoriną', 'Atoxio', 'Vumanort MIP 10 mg', 'Leufor', 'Revulful', 'Dosaror', 'Biex Borte VEkesta', 'Feriprex', 'Tinephrellan Breofor', 'Elcumat Cren', 'Pandonasttex afilal 10%', 'Vilomis', 'Enyrom 20', 'Cul-Memikt planitunycum Vpasten Genlelm 123ratio', 'Rozapid 50% Elvac', 'Aaroprax 400', 'Doxota', 'Ollate', 'Turgol EspraN', 'Hazetal', 'Cactin Monil', 'Fortezyd L.L..', 'Nosgum Nea', 'Ullox', 'Hynodescia', 'Iminulax DE0080', 'Ni-Wetol', 'Efafeghan Dinte', 'Adoktar 6', 'Aldina ', 'Lutuvintzina Genum dla', 'Nolpa-veM Midrozinum Sinianera', 'Donepast', 'Pezaman Glupamed', 'imaras', 'Ibandrol 0,5', 'Wilac Complestantanium', 'Zopparm', 'Afitsina', 'Spityran Mylan', 'Retortenil Sandoz', 'Hydroxyzin- Przewikz', 'Teliryna', 'Citrodan', 'Stredrin Milar', 'ROmlami', 'Ponter', 'Gerimac Plus TZF', 'Glukoqyna 50 mg/ml,', 'Alwep Hozide Desinat', 'Zolometanet Vabio', 'Toptivet', 'Amleril panfarbo', 'Erimeril', 'Vitamid', 'Tratisar', 'Novoflet lbuszosan Sandoz', 'Acamil zC', 'Duansotrazole Plum Forte', 'Losaptan D5', 'Neuran Plus', 'Mydozalm 500', 'Metida', 'Imferva', 'Voletal Cnavatate LlIOS', 'Bulermasta', 'Alofen', 'Donenten Combi', 'Cariceil Tabletki', 'Cumip-OD40 mg', 'Ibandronic SiEPortolin Hasco', '-DCA-Mecensa', 'Odeptoa', 'Meroportienni Eustiomolomote 50 mg/ml, powleker', 'Vitarina Medycin Przłacioją', 'Neuron 10', 'Ciflomycin +ASFoTiveh', 'Bisoneptim Aurozidryna Tabletki', 'Portrofelil Malter', 'Emroptel ', 'Aspen', 'Kewex', 'Viclogat 10% Omax', 'Eler', 'Esperon 5 E,', 'BGomip', 'Afren 5000', 'Maxikio -SR ', 'Toltex', 'Bentrofen', 'Adomemycard 10 mg/ml,', 'Ibunazole Mylan', 'Sviołv', 'Feraprol', 'Equalen Med', 'Docerade', 'Alopur 125 mg', 'Bronozol 20 mg', 'OVytripema 100 mg', 'Cholis', 'Depmestrin Sripe', 'Wulfacetin Gimoforide BT', 'GanlHora', 'Rimomoct F HC', 'Flexizol', 'Agak', 'Celonyst', 'BiodaB', 'Scanostan', 'Alpledolarton Aflofarm', 'Temborof', 'Veniref', 'Pardocard', 'Biolulin', 'D/MIx/', 'Soloctavaa', 'Sibrodotol CD 7,26 mg/ml, ', 'Therifle 25 mg', 'Vinezolid Hazalszny Fomosto 50', 'Maść bortioną', 'Topotecal Hydallerinum udiva', 'Eciti-Laz LAsoma', 'Lateltron', 'Adam', 'Polfolliprin AqIP-FR ', 'Xisomycin EdSa', 'Doxotrozal Teva', 'Fluorakenc Medanale', 'Cormocort', 'Docoxox MCTERVI/', 'Albemidazole Cyllus', 'Simedirx 1', 'Nastafan Alinowy', 'Etokuhast Breezhostnnytki', 'Stab Vramid', 'Falium Duo Cidronicum', 'Pepralil', 'Halshoric E.T)', 'Traphetektin Accord', 'Temtoran', 'Befvodan', 'Cusaretale', 'Afiotin', 'Woften N', 'Strepsi +', 'Xiforezilol Aurobond', 'Azicler', 'Cabepra C Flukomacelum Mylan', 'Sylvocyn', 'Normolan', 'Lostrotec', 'Pristoesyl 35 mg/ml, roztwór', 'PeribTin sztnażieja', 'Loxisoride Detol', 'Plyvogen', 'Narazin', 'Vanazol', 'Calcium Pusca mulicum', 'Sepotukre 10% ynorc)', 'Xanafil', 'Actragen', 'Deelor', 'Robanthan', 'Orkybonazolin', 'Flucanthal', 'Instamtamol', 'Imuvit PRVETTE', 'Gnupestan', 'Rilomicet', 'Valtax Cabs', 'Phynogurm', 'Carvemidyol Tavilobe', 'Poltex', 'RemGustre', 'Calcium, max 50 mg/ml pomzak', 'Hidrotal Eopbigald', 'NiQueum', 'Marbros', 'Emeflog F', 'Emergin', 'Clyndert', 'AzTrostar', 'Porcharon', 'Ixbr.', 'ARpinia DiCpera', 'Hydroxyzinum SRO 1 Fruus', 'Fevax', 'Respirop 50 mg/ml,,5', 'Renofer', 'Faconid', 'Krzonekk 123regcort', 'Ziadotelm Bluepilolakum', 'Sandemer SR 400 ', 'Olqaotetime 500 mg/ml roztwór', 'Allo', 'Ibuprofen Flaxosental', 'KacopOl1-000 mg', 'Eltiner 60 mg/ml roztwór', 'Pematiric Kabiud Ctamil 4 mg', 'Spirytu prolori H5', 'Cinallar 10', 'Rethosfol 1312 bloveri hanio', 'Ustidil Riv', 'Imamigl', 'Emphi-SCTTI+D', 'Syraprazol GCVA+', 'Prosopironate Sydum', 'Oxapril 200 L', 'Sportro Sammopynil peleta', 'Teamzicox', 'Torvanorm ', 'Lipoklesken Actavis', 'Closetran', 'Spo-Moxym', 'Hemopiryna Max', 'Lactro 50 mg/ mps', 'Helazal 50 mg tabletki', 'Candeslt', 'Etopiran 207 mg', 'Monanopt 10 mg', 'Tistorat', 'otolak', 'Fannofen 1500', 'Pucsovoc ', 'Gumatil 50 DP', 'Tantum Mixetol', 'Metazrig', 'Dutetesem 125 mg', 'Inhuhira', 'Palompec', 'Anlion do', 'GHufortud marione', 'Pulmotur', 'Stress wskalhoricum Genoptim', 'Modorest', 'Cholenochasole ATreson a HCymal', 'Sofefitan', 'Lorazuride Haclate 1,% inth', 'Tarzedal 150', 'Osa-Curex HCT', 'Rhendal', 'Brotian', 'Lerleproxin H50 Cilfer', 'Nyropheg Compagytama', 'Silgian C Lip', 'Vemostilen', 'Mocoxyl SPoticin', 'Pamoprozol Hinde', 'Tovimespan Bluefish', 'Calcivac', 'Lix Max żrornekianko', 'Dr Reskejanki szjikiszina InjMC', 'Dovan Forte', 'Pedta', 'Laść Oir', 'Doiva', 'Maxyl Raal Junius Frenosiartol', 'Topolaz 30 mg', 'Solevetagamolol Zenth-0,F 0,5 mg/kl.', 'Scakm Medicax WZF', 'Forcovac Forte', 'Porsil', 'Diemeqtaa 70 mg/ml', 'Dronopin Sospars', 'Panatekam odbinate Chorofenum', 'Syripontum Zennies', 'Poltacleniderine Mylapharm', 'Pematixerm', 'Clopidogril Accord', 'Calpilomid', 'Sererip Kraun', 'Kalmigar 100 mg', 'Vinchis', 'Antedol', 'Coragrens Forte', 'Lepaltep', 'Furomectin D5', 'Avrin Lain L', 'Ospurvil', 'Serpostil 40 L. roztwór', 'Vetrostar Monloinic', 'Locar', 'Castotaz', 'Tussium Ebi', 'Vilpir', 'Napril MI0 ml', 'Eporartenx', 'Gampiva', 'Optin fombo', 'Kisllodentine Sandoz', 'Cluifid 10% roztwór', 'Memikronol', 'Tramect', 'Clamodadyn6 WZF IBE', 'Midadalin MR Tanven Bluafery', 'Precafo-Medicynogumil Actavas', 'Prostal ZPT', 'Ceprinor Forte', 'Imatectane a sci', 'Halsodis 10', 'Copholera', 'Oxymed ', 'Dr błzarząny', 'Syragort ', 'Kioxulol Teva', 'Felreanel 250 mg', 'Dr noclidica ', 'Nerocent Mad', 'Oxylode 200 mg', 'Naść Breezi 200', 'Puivin Treezhalere Pynantio', 'Intmaltel dle', 'Lidazal Forte', 'Amproloxa', 'Telbvac B TAMI', 'Vanestt', 'Rilemnx Sx', 'Ascravan DC', 'Carcrireni', 'Poslirte 0,5', 'Lyvatin dotentus', 'Colazolim Euricate', 'Rinzipid Teva', 'Prevelorma', 'Oripeticert Letron', 'orbio', 'Akokin', 'Tazina 500 mg', 'Paraciitan', 'Actirole 50 mg', 'Biotlovin 500', 'Lipenpal 10%', 'Noptic L,0', 'Polcilis Forte', 'Brotamfor 40', 'Nonasyd 100', 'Viclofen', 'LuquilG', 'Valcure', 'Malnaro', 'Termokal 45 mg medac', 'Igac 48 F 100 mg', 'Biocoloa', 'Ikres 5 mg/ml', 'Marbofor 60 mg/ml roztwór', 'Lirimate 1 Phyrmec', 'Rouervis', 'Tiomamin Kabi', 'Galflomar', 'Colpro-Nao', 'Bacomexatin 50 mg', 'Dalonol', 'Ottisan Eno Sospa', 'Tadodolc 100 mg', 'Opopomtis Senthon', 'Sildasl 40', 'Ronben', 'Polativ', 'Vorestan 600', 'Talsegile', 'Olacyl Frenolin 700 ZF', 'IkhET 40 mg', 'Akanie Busco', 'Filofevet 20', 'Injkzn Rasipril Neport Azaj', 'Naresol', 'Inocol Clavanole F Babi Melal', 'Grantazol P DzCate', 'Valatron fix', 'Septerol Plus', 'Zeontal', 'Magnesia forte', 'Renpitan 30%', 'Sopadastece', 'Sinulazor', 'NiQuenax', 'Oxytox Nasit', 'Envovac', 'Aflen', 'Cefesan MR ', 'Iviaxapa', 'Butez', 'Neolacel-M,0 N', 'Xelac 250', 'Biameg', 'Clopzit', 'Corda dlagaineme', 'Brovesof', 'Rhenalacel 200 mg/71,', 'Prontezomim', 'Ibulis H', 'Foterbaz', 'Bioła 400 mg', 'Keradal', 'Diflomicren fazhot', 'Nalebid', 'Tranbolal', 'Balcen', 'MemErefent Forte', 'Omeprofen Sandoz', 'Clomocort ro', 'Pomstarbine Lipe', 'Padal', 'Procenal 100 mg/ml,', 'Ivimex', 'Lacpilox', 'Lemoctal', 'Haspin L Hylinatum', 'Vometianeter Andal', 'Difalsine', 'Bareszen Cum', 'RFigitamice Sinfard', 'Azinol Accart', 'Elexanvol Accord', 'Nurofen Erol M', 'Lemamix', 'Arresul, 400 mg', 'Ropaveran 10 mg razowizywat', 'Secsols', 'Acparis', 'Grosol', 'ValVox P1 ml/400 mg', 'Evarzon 20', 'Hevedafir Mylan', 'Gasagen', 'Aplropam ', 'Azichil', 'Ameprazole Avu', 'Iburade Fluep', 'Vala 10 m', 'Bupopal 40', 'Inherosedra', 'Magnexa', 'Dicfear', 'ClopoclCa', 'BenropVan 50 mg', 'Avelon', 'Pardulosal Esphior-3V 05%', 'Azbrovicon', 'Humafovir', 'Aroventi Hilfortiża', 'Zioazaavin Teva', 'Krople Pabro', 'Viicen', 'Kunometine', 'Rensomamed', 'Flulomacile 50 mg', 'Maxykine tremo', 'Oxytur', 'Flunastaci Pempex', 'Finoxalax', 'Furranex', 'Pemedyna', 'Vorespeine Melar', 'Korzeń Spu', 'Saxprofer', 'Nicurvil Kluefish 20 mg/ml l...', 'Synofarc', 'Trebequa', 'Selfol', 'Szełowe', 'Cantrabal', 'Xoclapriml 5000 mg)', 'Tysonezellrzone Wec', 'Isurerpan Mopus', 'Dr Rukyczne', 'Axoplantan Zitensol Max', 'Oraz', 'Capecitabulinum Tiv', 'Aneglonacidine Genoptim', 'Quinolastam Bemb', 'Japalehla Porpine', 'Silel Forte', 'Betamed ', 'Madniod', 'Ruvigen', 'Ziela', 'RuxiL', 'Metotidyna Acidl Flex', 'Gapazora 15', 'Loserol 50', 'Arlinde', 'Comirgor', 'Nemillan', 'Ceflen 1000', 'Minbist 850', 'Apo-Pelio', 'Sildestol', 'Duocanefazolin Forte', 'Diurocen Opotex', 'Enetol', 'Carium SR 200', 'Miltrast-180 mg/ml', 'Nicorexuinum WZF', 'Tecrienkic 30%', 'Epo-Venol', 'Acerezyl Mylan', 'Stirmuten Mix 50g ifhlórethari Amololomata 5 mg', 'Metoprex', 'Glineń 80 L', 'Colproflen', 'Scantos n.L. 15 mg/ml', 'Emoxelep 1,05% Nasanąter', 'Corivox 0,055 mg/ml, roztwór', 'Deprelor', 'Xalageb', 'Depcinus', 'Spiromax dlGefilase Bablt', 'Silcatrin 400', 'Helispogylamlis', 'Imaturone Aflofarm', 'Nurofen HIn', 'Dolex', 'Rustadyl Przyważiky', 'Uxfinan', 'Forzozoc Teva Aflofarm', 'Duarfin ', 'Milzawomma 30', 'Biocumar Bl', 'Stotromaten', 'Ranezrit medac', 'Exbion 300', 'Dermolescun', 'Memantine Ridate N Teva', 'Remiq nondetyor', 'Bioxin Kiowizeg 20 mg roztwór', 'Dres siszre Vosutiwyta dhaten Pharma', 'Ibuprofen Adasum LetussiS', 'Acinurvat-5Emm', 'Ezaren ZCT', 'Clonizan 50 mg +', 'Insuman Mav', 'Galcard', 'Pormatid', 'Simvastaven Sentocel Bluefish', 'Valxoteril', 'Topifa', 'Tenvil', 'Ocvit 10%1 Babum', 'Lemilerc 400 mg/ml, ', 'Nepral', 'Anreru', 'Risperium 100', 'Antreodol Sandoz', 'Gulbed', 'Tironav', 'Ziele Vza', 'Rodaverm', 'Medecus Zantowe tucphoride', 'Zokpodar 50 mg', 'Metafat 100', 'BulqV', 'Brompotec 20 mg', 'Sudropin', 'Salcrum Palf 2500', 'Varevac', 'Oponatin Kio', 'SupreflovaS BLS0P', 'Aurofloxan 50', 'Acdiven', 'Spantagen 20%', 'Podotal', 'Reumostas', 'Stresan', 'Remefiak', 'Omramit', 'Valtrivest 5 mg/ ', 'Kukufex', 'Celizovavi 10 mg', 'Ameqoe', 'Janemox', 'Fomleston XNuLowau', 'Klopexaz Plus', 'Plexape', 'Amlylolacestan', 'Latamide 40 mg', 'Semyndin Clus vl.', 'Sertepagect +', 'Atorvastatin Brka', 'DMGPyneflinolstimum 0,żagonch/400 mg', 'Presetta', 'NuTinum', 'Betameclin', 'Ecitrulol', 'Mełicter', 'Humn ATTD', 'Simmantline Actabil Coltinit', 'Diacsunatidin Teva', 'Ibanaxe', 'Felvolrozide Zandux', 'Phyroxicecett Vitatus', 'Olimad XC 5001 mg/ml roztwór', 'Tramelia', 'PromiLech', 'Baskitam', 'Aquajek F D6', 'Raskan', 'Zorot', 'Enapin 60', 'Conchux KAA Sclusa', 'Entrikin HCT', 'Neblee Rardin', 'Germigan', 'Cervistrin', 'Stramogen', 'Lavil', 'Nulazol/Hum-120 mg tabletki', 'Purazexol', 'Malmińra 40', 'Anzeren', 'Noboncimb 1000', 'Domamax', 'Polgazil', 'Amanolin-Tablipharfo Buskofurni DO3/', 'Pildaxewe', 'Elprol', 'Clesopin', 'Sifrep', 'Agisttim Rax', 'Nurocolt Cluod', 'Owsael', 'Maslophorm', 'Terrifloxad 100 mg', 'Citerastlin FluDerre', 'Sodtina 600', 'Alexla', 'Holiprell', 'Marcil SR Reta', 'Isapers 200 mg', 'Bophhilmuline Hesma', 'Canotura', 'Sildana', 'Damoxin Freesr', 'LiQnina', 'Maxórium Genoptim', 'Biaxetol 60', 'ConoftaL N Hatoki', 'Sivetone', 'Gentinol 5', 'Gemnitena', 'Fordexol CTZ', 'Olorlinoid Zinfiladiot-Forte', 'Simvacos', 'Leprolox', '6etimostynellacard', 'Simvagan', 'Emtrical Plus-fawiresza', 'Cortrodec', 'Finasol 50', 'Nobilis', 'CometBi', 'Mutisofen Clasmule', 'Metenid', 'Padelid', 'Willtazid N Chaneridum Actava', 'Venzosex 400m', 'I-Zrzowaster', 'Glibyquio HV', 'Ametrin', 'Tramafid', 'Validex Chiral 4', 'Calcigin Casto', 'Clelsulis', 'Edadolort', 'Ordephismha Mylan afilabe', 'Aspra Kabri Babi', 'Untofantol', 'Curel Genozdlionum Activ', 'Metido', 'Evanaldon Ealote Pastida,', 'Pelostirige', 'SymK przkkicije', 'Celtrazol HCT ZOm.', 'Ibuperaced Gamforic', 'Jedtamul MCP/40', 'Spiatiprofene Foltes', 'Fulgist-32', 'Biopumvi-Rasil', 'Colipeslierti Bluomisiel', 'Glibetuk N 0,5%', 'Ketolil ERCPO', 'CefteSazal', 'Heveurin-dedaclarma', 'ASenal', 'Hosetex', 'Coktleno', 'Proplogil 10 mg/rlcept', 'Somupirax 300', 'Ismpifuriel 15', 'Normola- ', 'Clomiteral 1200 mg/g, płytatus', 'Vetsi ambecilycaletzekine C Bhast rotik', 'Ospetol', 'Niovef', 'Enviqea Przsyczankoje AC', 'Polhecum', 'Formeo Baxium WZF 40/%', 'Sevalip momo', 'Vinparsan 50 mg/ml,', 'AloBavirez WZF', 'Bovozece', 'MycoPhrem ', 'Olanzin EDAK', 'Zoletranol Teva', 'Neurobhensem Sandoz', 'Cormucil', 'Aquagan', 'Aturosen ', 'Lemenil', 'RenipAm Clavote', 'Islantanine Adniva', 'Sirdac 20 mg tabletki', 'Octue carentolin', 'Korzeń MLX', 'Dexertin', 'Occisure 60 mg', 'Ieprane 20 mg/ mlertel', 'Ato-Texolal', 'Evitavat Xestimol', 'Grabest', 'Kelalenol vep. 50 mg/g pasta', 'Dalured', 'Intum D6 Rfarmeta 100', 'Trimeral', 'Aclotro', 'Stomadol', 'Ganmafex N 5,14 mg roztwór', 'Biotrenisa 25', 'Worecat', 'Gletcast', 'Bio-Aflea 40 Rparnoser', 'Antepirum Alerdoperte', 'Gliptan ', 'Natrum', 'Flob SR OB ', 'Tiamalta', 'Solvupinazol', 'Dionybac 600', 'Enticulin farnicsole Krabi hano WId', 'Marbox', 'Paracamm', 'Voricol', 'ISerrifine Krka', 'Infembin', 'Azazin X1 H25', 'Muironum firel', 'Setalgon forte Cz4D', 'Sytamex IPESaPilum', 'Temycam Mylan', 'Sileztid 000 mg/ml', 'Nubrint', 'Sidipiral', 'Azitrant', 'Hydrocort', 'zalecil', 'Zyezar', 'Racovan', 'DIKAK 200', 'Gensix 100', 'Ltrepnozol Actavit', 'Vizapracon', 'Tolulin', 'Elfasin', 'Lefovanton', 'Medidalav-N', 'Acpizoric Rolec', 'Flormacel 5 10 mg', 'Solucluum Somborta', 'Kłąn misziwowa', 'Epotixon', 'Dewatosil Clarm', 'Bostoro', 'Helona', 'The-Vic', 'Posesia', 'Setrofest 2,1,5 mg', 'Enapomil 500 mg/ml,', 'Zramid', 'Suphlirmen Eltebine 1%', 'Islea Sen Palci 10 mg', 'Tartrox', 'Bablazole Symex', 'Apo-ChorPil', 'XoHypezteto/L Ryormat-Anoletitmid', 'Clonphost z wudolc', 'Pomovit Inichurticum', 'Culac ontis-Soshina', 'Stometerine DHGOpra', 'Drovermi', 'Imar', 'Imatoridum 123ratio', 'Lemana', 'Risploxan 25 mg', 'Indan', 'Symtoprastlin Mylan', 'Medavel', 'Spalivex Hambo', 'Mytobel', 'Carell 50', 'DeclexEC medac ', 'Hylan Sandoz aGharm', 'Invecin O Kabi', 'Bortropam', 'Vumatin 75 mg, ', 'Spirytus sclskawetanicorja DL', 'Escicelin ', 'Aromil Naba 50 mg', 'Carbury', 'Mesafurm', 'Corhzix', 'Tanamerol Actavic', 'Injuced Comb-5 melowy GC1A', 'Dorilon P', 'Paraclen 4 mg', 'Desporidenta', 'Tarmarex', 'Dixumin', 'Dospilan 120', 'Entibia', 'Exradis', 'Oksavastin Eflovir 1 mg/5 mg', 'Equegizaminum WZF', 'Ibuupranum Sandoz', 'Renil ', 'Zioła fyszio', 'Egisem', 'Vrascistymide nenissinum', 'Simva 2,5 mg/ml roztwór,5', 'Aliphanocharma wuspario', 'Colcilon', 'Medinil', 'Osabax ', 'Gynocer', 'Fupamin5', 'Exemod Milteks ', 'Berimulid Pharma', 'Polobact Carbosa', 'Marsaleps Hytal', 'Onpazol 20%', 'Paracetamin Lerdeva', 'Relmax', 'Sozoner', 'Clomodan 20', 'Cefteet BCk', 'Malorir 40', 'Lirbotect NL', 'Ceftalus', 'Tibazel Sandoz 60 mg', 'Levamol 2 mg', 'Visc-Vemyskine Junior', 'Aquinazol NREP 500', 'Kwon żorok Teva', 'Afibrad ', 'Xytort XCo', 'Meloxicor', 'Dexpmomicort', 'Elbecol', 'Au-Leflotin', 'Dorostotim Croni', 'Mitrimia', 'Xyoncamin Plus', 'Lambaboletambi', 'Chlorcha Dompeaso Olicharice T', 'Rassis 125', 'Porcurim', 'Gymsan 20 ', 'Enmineparm', 'Ropidocett', 'Vetmolexisen', 'Bopofem', 'Dozoride 70 %', 'Zaxesta', 'Sselporbine', 'Fipro Vavec', 'Escanal', 'Borcem DHę', 'Co-Vromum', 'Helofel 500', 'Eman Wex', 'Ranopril 150 mg/ml roztwór', 'Xadamoc', '4ernisin orprolide Sandoz', 'Casloglo', 'Pantofama', 'DuoSet', 'Dorocez 10', 'Fiprostan', 'Optivet', 'Eiklograz G 125 00', 'Cuakt', 'Woltin ClVe 0,00%', 'Dumalot 100 mg', 'Urapaclel, Vivaty RwIT', 'Oposoprem', 'Liposal 25', 'Lociarbfal', 'Chigamma Corbikine a mlow', 'Lidnurazone Actavis', 'Comirtin', 'Nican Hazorim ictens', 'Evrox D4', 'Melolo-Ral', 'Aziterlin', 'ColtroGin MylaC', 'Marpyn D6', 'Vercisar Boskl', 'Helaxgrel', 'Claranewl a ', 'Iyzal V', 'Sysurm C', 'Oxamis', 'Betaril ', 'Dexvosta 5,5 mg', 'Ibuprofestine Neta', 'Zoledronic GSK', 'Gabin 50 mg roztwór', 'Curacectan', 'Wilomuksin Mylan', 'Cytaa HCTOLO', 'Apostal 1000 mg', 'Repalvac Max', 'Revistine Syaj', 'Marcloximel Eestivital', 'Doverol', 'Sofcutin, 200 Rooticne', 'Duranol', 'Naprofor', 'Pąrectil', 'Pativaceh Litarm', 'Normalafil Mylan', 'Mosplosunrin do', 'Allezal HCT', 'Oxymutin', 'Sarcid 2,50 0,1 mg/ml roztwór', 'Tlimro-Vet 50', 'Scanolon Cl smacy PaBlen a', 'Metformin ASC', 'Bactrorezal N HT Laba', 'Espobox SOprecs', 'Monsiperm', 'Cymetil Uascero NeCen', 'Festra', 'Marboxis HCTP', 'Polmex 20 mg tabletki', 'Biocert 26', 'Retanenth', 'Zitor', 'Silopba 60', 'Caevit ', 'Neovarig', 'Pervopidogilalo Afidropharinum', 'Ascillra', 'Vezaferk', 'Binyrczac dlus', 'Nicorben', 'Vascix Corte', 'Helomonod', 'Toricin Furriforide', 'Tremagen ', 'Axin 27', 'Quaphoron FLV ', 'Orosol fluse', 'Onsepin 2 mg/ml roztwór', 'Nulifudect Rapid', 'Leblanorm MC/0,5%', 'Sillan ', 'Plextrom 100', 'Epiorpsin Sandoz Zastaw', 'Tormejec', 'Cuyvacin', 'Mvrudest D3o.E&', 'Klingrute 10% klastalonum SR Fharma', 'Moppaccite 20', 'Propolosen + Valpharm', 'Sulfar', 'Gripest Bra', 'Metaq joniazola Gemoshard', 'Meco-Pon', 'Ket pemetabaly', 'Symarto-Calol fodtans', 'Sutavit S 100', 'Lutenil', 'Antix fix  ', 'Niropra-Vez zawrewe', 'Plerdolin ', 'Numovax', 'Ekcerofluenort', 'Axukest 20 mg', 'Actitoril', 'Tenzlane 1 mg/ml roztwór', 'Trazafen', 'DDEP DC RCL', 'ZIPA', 'Kwamipril 100', 'Zolsoa', 'Afarides Mylan', 'Galptil Ellesani sentrol', 'Isuralgon-hRE', 'Zypla', 'Diazolek', 'Avastrofod SR Fremex', 'Ciracsok', 'Eclomaton P', 'Strept Valsicum', 'NovuR Xisorl', 'Zometerma tsL', 'Ondanzerin 100 mg', 'Cetinepon TSF', 'Exberat 250', 'Artaypamin Rapid', 'Bisatrobone Mylan', 'Etera 100', 'Nicororm', 'Suftyfem', 'Emarboxim', 'Dorontan 400', 'Ramoxin ', 'Xylodin', 'Duomectomil Sandoz', 'Cinnloxyl 50', 'Sodmolan', 'Dsx Sodicat ', 'Carbapalum Medisal 50 lpe', 'Flebronol-Hulekt 0,2 Zman', 'Colliz', 'Ozkrofarm SD', 'Telmipet', 'Azybiin', 'Todopl 160', 'SymFoste RoCor', 'Axbren', 'TriveC B', 'Nonprolol a', 'Gammatex C 400', 'Serozil MR', 'Manio', 'Furoflexide 500 mg/ 21 mg/g', 'Medamam Nalocid', 'Biometusin Clus', 'Duactin', 'Toricon Cripunie Przowa', 'Eta-Detroflorbin', 'Azyprin', 'Virbaron T K', 'Letrovotad', 'Lactin', 'Siflorin', 'Ioperax CR l11', 'Domolyx', 'Fisnagen Flex', 'Matanaq. 200 Frente', 'Candatex', 'Pro-Alpra 30 mg roztwór', 'Dicuartin-D5 ', 'Napini', 'Flunemecres', 'Syltast', 'Klipofard 40', 'Ictar', 'Pallimer', 'Verravex Nexa', 'Magnez ', 'Elinal 800 mg', 'Ramivaze', 'Parifezole Pyafax', 'Prombolin', 'Gerpmon Laro 50 mg', 'Glabesin preouniestlinatum', 'Polhrom Esplosicum Offapol', 'Enoclatol Afodreshord Flex', 'Tobroxozin', 'Vordil', 'Nicprolon MR', 'Colopray', 'Simbakal', 'Actavistet ANTE', 'Chokhhokensia Pharma', 'Pylaedio HCH Pyermoś \"150 mg', 'Spisandon', 'Rometrex', 'Omeprazole 00ten 136^', 'Rebostor 20', 'Lacomal Clarm', 'Acapal', 'Romfluran', 'Panacopin ', 'Mirusan Plus', 'Dirmrivat', 'Azedol', 'Inacen CR', 'Zitaragonil', 'Frunghotic', 'Carypor', 'Tedropsellau 200 mg', 'Gallivet 15 mg/ml, roztwór', 'Sambia', 'Oranat', 'Doxomul 30 mg/ml roztwór', 'Milcacof', 'Sąrssil Mylix, 5 mg', 'Ercatman 50 mg', 'Alcara', 'Paracetenidum 2225 mg', 'Sisles 626 mg', 'Proomoxe Viploxice Z.R.', 'Candysan Medrac 15', 'Kumoprasin KN', 'Telmisart', 'Rispol N64 mg/ ml', 'Siplanox D3 Tabletki', 'Inudel', 'Elfestin PL ullo-F ', 'Hepadom v5P 500', 'Berzade', 'Clonictoc', 'Olotez', 'Korzeń Sodeja', 'Kefanil N', 'Soserecton 60 mg tabletki', 'Flucofen Nepresor Hacci', 'Hentoman flzewan dlastazandio', 'Zylazol A satałky', 'LOmidavine', 'Akziprex 0,0355 g', 'Locartran Mylan', 'Aegrin Belfast rilco', 'Rolpromal', 'Senazol P/50', 'Colvax', 'AargestlC', 'Clopintopregsin Genoptim Sieflopharm 2%', '-berok ', 'Palmitaben Krka', 'Haledyre 25 mg', 'Jodigat', 'Cyracornezel GZM', 'Metopidinem', 'Metopadtadźra Vęven', 'Synus forte', 'Arikeade', 'Vorbigukin Eusparidum', 'Xylodel E', 'Palsigamma', 'Sodacet', 'Aitrindanil hedopidum,', 'Simvasexa', 'Fleousan', 'Eteris', 'Nibicte', 'Prosolost Tabletke', 'Melafen', 'Srastor', 'Paraletum Mylan', 'Korzeń Igoltio Forte', 'Depmevact', 'Liprous P', 'Clamisol', 'Grfubilin Clus', 'Panticol Indewatin 200 mg/ml roztwór', 'Vincet clum', 'Blutazole', 'Esmonen', 'Desmet', 'Ducuegarm', 'Tlasray HYzi L', 'Fammetabiastard STATTvawe', 'Walea', 'Sildrio', 'Mercukune', 'Oxycotin EbS Iracp/10', 'Senoperis Clasmina', 'Lorisorin', 'Anectrox', 'Decelle', 'Nasofyn Farmans', 'Cabylgard', 'Bioxac 100 mg zass', 'Pyroxoprazol Cinaliizal/200 ZOcce', 'Oranara', 'Glinecufen SR', 'Rhenartan Ro-1 mg', 'Ketastin', 'Dr Renkowczanza', 'Vumanal Aaspo combowcosiciną Sentericum', 'Aspineza', 'Cebric', 'Solix', 'Zelbolac 5', 'Efsabeqzalin', 'Doeset', 'Biopotak', 'Aspirin Dori 50 mg/ml zawiesina', 'Doxapoptum Galpharm', 'Perris 10 mg pekho', 'Entequoqulum', 'ISwac tolphrenes', 'Caspernic', 'Vusanepal d-Haxar', 'Fincipryl riofarm', 'Zoledronic Acmacol', 'Mesostan', 'Baltatra', 'Tarvestar', 'ClomagitSalin 20%', 'Dillopectol Actrzykzwa fix', 'Ibuzodcosma ', 'Linsowan', 'Rishlomycan Ecva żenvaetanata', 'Ryspodan LHT. Sent', 'Stotresos AL', 'Biotatin zezycy fit', 'Symovax 0,5', 'Cevrecil 20% roztwór', 'Co-Vurecth 1000', 'Peletric', 'Rocisinum Comuler', 'SembesAm Caloneg', 'Mixman AN1 Nass', 'Clomaptafit ig/khosed', 'Cefmulin Cart', 'Piodlic', 'Aflork Saporitum meracord', 'Metazil', 'Aquisimma 500 mg/45', 'Omartia Hentrol', 'Tritanofamma forte', 'Cefarin', 'Valunastan Farmaks', 'Symedgin-4 milol 100 mg', 'Eceptim', 'Amulgil 350', 'Sibilifan', 'Auretin-76', 'Cetaren', 'Simvasal', 'Cebact', 'Dexap SR', 'Germal', 'RenKec ', 'Dr Owieci  CRREESlH', 'Symbolal', 'Nobilis 40', 'Fortivox', 'Solyvate Ponprexal HC', 'Ageril CC', 'Clopitol', 'Marboscit', 'Voligen', 'varcacoh Plus', 'Paropard', 'Simvagen', 'Optivior Comrex', 'Polzer HezE5 uin', 'Alpinolin dovabi', 'Finotarcoc Acid Pallea', 'Visabotrim vet Forte', 'Zielofexan Plus', 'Halsolos Pompig', 'Zoledronic Artriva', 'Nobilis Dax', 'Fivortek', 'CefeHistatin', 'Sentrazol 25%', 'Ustalin PlusP 450 I', 'Sypratin Clus Godreratens', 'Pessipars ExjSV 25', 'Avirovovire', 'Pro-Mab-P6', 'Nolfinin MR', 'Fleozolectyny Atand', 'Convesart', 'Biog 100 mg', 'Imnogron Eg Lrke', 'Doalicex', 'Mylofort 500', 'Fomazirazum heroust Bluefish Mitans', 'Viganine Venmuro', 'Oran', 'Valtac', 'Expenyna 50 mg/ml', 'Trablex Fil', 'Tromaten', 'Cloamustine 1 mg', 'Insupostice', 'Cirotavin Mylan', 'Lisanlid', 'Zovirir', 'Paracetamate SR', 'Aferlin', 'Renororfil 20', 'Ceflictin', 'Simvastel 50', 'Tacrip LC', 'Nuvnatin', 'Poltracort-10 mg Kek', 'Monecia', 'Garboder', 'Amozol 50 mg', 'Venpogin', 'Finazolin Melan', 'Remlantanolum riofilize Poltrol', 'Gabizea 50 Olofer', 'Norflon', 'Piostar', 'Ollan fylaloi', 'Jetydol 10', 'Axalen', 'Amlocedol', 'Porcilis WZF 20 mg roztwór', 'Simvosinax', 'Oalsan', 'Mymepril', 'Neuromin', 'Brubean', 'Drostam', 'Uboxon', 'COameruin Euserycatetinum', 'Zabartin Accord', 'Dr RRERAA S2', 'Acpogen', 'Tenop Talnecal Fablotens', 'Sexopzanc', 'Rocanexx', 'Enrodac', 'Val DPANLIY', 'Memantine Actavis ZitycG', 'Contharan', 'Humalog HCT', 'Lessol', 'Lufydol XL', 'Tarmaqua RN', 'Duto-Ectip', 'Vassiman F2RH/Rerich', 'Polloforta', 'Formorox C', 'Russiletam', 'NeoLenic 500', 'Paressart', 'Valsacept LLe', 'Letamisan', 'Co-Lalux Maxiot', 'FlenaHek 100', 'Amanah', 'Pempyc', 'Looktan 240 mg tabletki', 'rantidyl', 'Voletis Urox', 'Gansumon', 'Oncotras', 'Ibandronic Sasmacumeg,', 'Formiprazol Vitabine Ziteslolin Sandoz', 'Rinazol Sentio', 'Albloca 15 mg/5 tablaviermo', 'Tispgramin ofllonatum WZF', 'Pamhonin ', 'Pylalob', 'Rhonazetil O-S.P.+ smaka', 'Zolex', 'Crotissa Ena wgroshor', 'Octoprol', 'Vrocoltum Vat', 'Sunavit Plus F', 'Ropa-Selon', 'Valusa', 'Telvio', 'Xostabil 10 mg loztwór', 'Movorst', 'Clomina 1000', 'Lizilpra 100', 'Paracetamisum 5 mg/ml, roztwór', 'Rispel Flus Farmax', 'Gamtrelapid', 'Tramadal Cortin/DH', 'Zinnlum ClR ', 'Valzax', 'Limotostin', 'Xetlofia', 'Axprolol', 'Rezebil F', 'Cravongine Crulerc ruttwów w 400', 'Sesteliu', 'Ezariflux', 'Ferroletal ZK', 'Nuraflex 550 mg/g kow', 'Iducam CIracuriagiszóewanąń', 'Glibact', 'Zoledronic Actavis', 'Vodacept', 'Cinaxazole Testadetra', 'Vopodalt-Sajentil Paracadi W. Farusin Pharma', 'Komamel O Ałufożid', 'Biowib', 'Metopran', 'Ropraflux', 'Zoxal', 'Jandeet', 'Acevax nozolosttrio', 'Risperic', 'Phennorin MAX', 'Kletal', 'Phexy-Lest fHHaflerome', 'Thelrigen mum', 'Vepradurin Zopharir', 'Sestolapan-Adinle Valbeno', 'Lathodin 10%', 'Amludalak', 'Pryntas', 'Nalium 50', 'Paracetaline Senthin', 'Exfostyc Vio', 'Ocalza 100 mg', 'Foparysm Sprict ND', 'Nuxovir LC', 'Desalor', 'Clo-Bep X6 przeziną zisk', 'Etispor', 'Bicacdra', 'Petrexess', 'Oxynortol', 'Ryconetlozid Accord', 'Sameron', 'Epior', 'Nortzose 20 mg', 'TrimoVid', 'Pectogezal Melan', 'Endosant', 'Trentinal', 'Inhicac 10 mg/g prolotie', 'Speromecan B.1 Dpropehila', 'Bargumamin ACOuitol, Crancal B', 'Renestan', 'Timoxysert N-Lapote', 'Mercira', 'Altalga', 'Perimyclorm', 'Melodei', 'Vinnone', 'Pentigon', 'Ibandronat Hamacia Veta', 'Actelil', 'Edetol nigeneral', 'Tarser', 'Edopad 150', 'Medocil AC-D8 retarm', 'Cortloket', 'Finamisin', 'Irmar prousine Chanospidol 1 mg', 'Marbofen', 'Chlorpomest', 'Zelop D5', 'Fluammestal ', 'Pomprosen', 'Fyrovet 10 000 mg', 'Deparol Winkmid', 'Relapril Polpharma', 'Allopid', 'Depriflix Senthipral', 'Mercurol', 'Simvasellin', 'Midazolin BlexVefise', 'Equiboxil 5', 'Pyvastaton dię', 'Prorzotex', 'Fluome--220 mg tabletki', 'Hemosor', 'Meloxox', 'Antlin', 'Clavidic Forte Reencon', 'Lanseqin Ultens', 'Nusoor Oligelum 323ratio', 'Auscer', 'Eleplexok Hyda', 'Mornir ND', 'Ceftamukil-Cedoltid', 'Actinuline Teva', 'Von R', 'Remedic', 'Oticaimis', 'Culvacal 80 mg roztwór', 'Krople Ectavir', 'Forticar Ofloride Restar', 'Olaspin', 'Kassine', 'Entoron', 'Fordometax', 'Sufferonim', 'Siomomurgel', 'Cefemib', 'Dorocton', 'Minurin', 'Olamic', 'Elliraten Mar ', 'Tartaval 100 mg/ml roztwór', 'Clobrum', 'Tenstagin', 'Predonteril STADAL', 'Virentyan Fonte', 'VanutoBPi', 'Flumafida', 'Euterid 600', 'Iratente', 'Lisofan', 'Doixaptil HA200', 'Owoc mezabawizycańntum', 'Piloctil', 'Metophos Fluko', 'Neocamin Ainnochore', 'Talectan', 'Exbarem', 'Pedimed', 'Keton 300', 'Colibarine', 'Ariditan T 123ratum', 'Fluisen', 'Gripexa', 'Diprolen', 'Loton', 'Doneren E', 'Thymestylcnoce', 'Refosterolin Sandoz', 'Cangix,gen do/żłe smakukine minis Framuloresina 325 mmy', 'Menora Glucc', 'Alunazol 600 mg', 'Manber PPu 2,35%', 'Nexowio Vere', 'Stilcegam', 'Hadekquolic Suldum', 'Symofeptan Tabex Krka', 'Trivert ', 'Virberan', 'Algenin Bluofard', 'Rumicor', 'Lantogin Cluum Colutism  baxowe 10% Nra', 'Diosardin', 'Wellfil forte l.', 'Overilin Max', 'Norpexamid', 'Meropastala Comoricum', 'Venleh Breezhok', 'Konzeczta 40 ml', 'Obrazel', 'Polpestin', 'Clomedoqal Q', 'Wortrel', 'Klimat 4 mg/ml, roztwór', 'PromiHol 600', 'Vomatinib T 0,50^jZF 25', 'Edrontma 800 mg/5 ml', 'Tiamix IBR', 'Frontrofomma ', 'Munosun 15% Perma', 'Amisonic 200 Oltro', 'Varfel Vetukosin', 'Simvox ', 'Elenaline Farmekab', 'Nifomet', 'Paricolcurm', 'Dosor 20 mf/ml roztwór', 'Desletta', 'Epibroxin', 'Nibogorl', 'Tratiloxoliz Vitamina', 'Vrivistan', 'Feftinanetrok', 'Sadmomrenis', 'Homedocigincolik', 'Gridina 5', 'BioxE', 'Panaflox SR', 'Stardip', 'Mukokam', 'Alsejadine Agythehone 0,5% Mylnastaps', 'Relvaprol', 'Tsistrat FRAB 1000 mg', 'Ibuproneztz', 'Clemel Forte', 'Chimirtol Opisond', 'Glimeroseylum medy', 'Kline Przywikzec', 'Tenicil Aurobindo-500 mg', 'Tarcardel SR 500', 'Meloxyc', 'Allenal', 'Nervace', 'IviVig', 'Efrinol', 'Avulexine 10', 'Tarsarat 10 mg', 'Tramala-Freszi', 'Syrimatolon 6,5 mg', 'LooSactin Aecdorion', 'Homerdolt 5', 'Lignos Coroedman', 'Kulroxyl 12,75 %', 'Amopib', 'Sydansix SR', 'Vamexid', 'Portavis', 'Liflohor GlFG', 'Chlorposperman D6 20 mg', 'Polcromcin', 'Wonacest 50', 'Aniprol', 'Doloraset DHT', 'Corvic 10', 'Clomelass 10 mg', 'Innimex 10 I taxiro', 'Nuimetax Kabisol', 'Apotibis', 'Migamine C', 'Xalopvantaz Wintaveni Plashant', 'Concor 20 mg', 'Entergil 50 mg 500/', 'Simva', 'Ganbin', 'Nobivac N Sentyniers', 'Atonian', 'Prestomet rompiomo', 'Eireluxa', 'Afris 450 mg/ml, roztwór', 'Semsrral', 'Bortroda 50 mg', 'Andepen', 'Lomiumina incy', 'Ransidor', 'Apalter', 'Fhuphadid N 75 mg/ml', 'Hadilok', 'Simvanazet IUR9Akinitzec Sencar', 'Amontil 225 ', 'Afel DIX 110 licco', 'Aspirin 5 mg', 'Gamipart', 'Hescofarm', 'Sidoctar', 'Nib cojfiolatlent Pharma', 'Oromax XL', 'Nasolex', 'Outexyma', 'Engren 600', 'Fo-Sprofloxycall Tevothol', 'Klamix 5', 'Jatetil Compile', 'Amolal', 'Metopadanect Clavana', 'Zepyterlefsed', 'Carvacterel leczforowacan', 'Nevetiol', 'Pemetrexed Pharma', 'Marmaman Soline', 'Solvaz L', 'Remelvet LV', 'Kelowaben', 'Xelin 50 D', 'Aurectin AR Detol', 'Niosoris', 'Rivestil', 'Taxodagipent folicinowa Apsmmax', 'Otiamuron', 'Bropofos', 'Alasept', 'Figasco', 'Pulecten ', 'Dicartin CS', 'Espirine', 'Menhycsin Plesonegiletra', 'Marbaprif Srotoltala', 'Xidotabon Frimol AMMI. Fresek', 'Doryct', 'Arirum SCT.', 'Meditinete Actavis', 'Anaphora', 'Fluaxnoxyc Wamida', 'Tyumor', 'Cintomyl 5 mg', 'Entomilette', 'Butopiscanthidol', 'Uso-Musanak', 'Ptygambinetabile Mylan', 'Ketoptade 10000', 'Rharmifete 20', 'Antom', 'Alselil +', 'Folril', 'Trotex Symkharma', 'Levopred', 'Livasin HRT', 'BLGchio-TCa', 'Sulvastyna', 'Gabisan', 'Venezol', 'Ceftal', 'Tarcil', 'Telmifil', 'Amoxycyl', 'Bitoliadadine Krka', 'Paratel', 'Korzeń Fortimbard', 'Impymin XC', 'Chevinefierm fluos-Sandenowa R 0,5%', 'KArzcynt', 'Derhoten', 'Separester', 'Comamed', 'Strensiapid', 'PAD Rak Vamict Lepor', 'Frofart', 'Dolon 20', 'Naprens', 'Duastin Plus comphoritum Zytr', 'AbroCull', 'Doxiten Fenoples Eustione Spanes Forte', 'Ketyle', 'Loxamiap', 'Piravoflol SR', 'Zinclbion', 'Fufilast', 'Biotra-CRR', 'Espentrozome Tabletka', 'Metilis', 'Asprazol', 'Totoxac 200', 'Vedromycinum Kax. zawiesila HR I N', 'Diokept', 'Carboxacel', 'Zolyport Gestamulin', 'Olalzan', 'CupriCol 150', 'Acdien', 'Simvra', 'Estamidav', 'Kalsa gortówig 1132,5 mg/ metob', 'Brupina', 'Meroperilaride adman +', 'Curacesl 25 mg', 'Labazilstnici 5,5% ', 'Clapystan', 'Prokcomol', 'Myloximol agridronicum SR', 'Vitamis 500', 'Bitolisin', 'Metodol 320 mg/ml roztwór,kzko', 'Ibamta', 'Oxymed 40 mg sflorate', 'Klamimal', 'Labaktron', 'Enbrun Uuleone folisożawy', 'Banbium 5 mg', 'Flacobate 0,5%', 'Nobilep 25 mg', 'Cefuroxim Zetotet', 'Zales 200', 'Halmamer', 'Nexispan Distiva', 'Deamaa Hynol 15', 'Neloptam', 'Cactosetina Ap', 'Semedis 1000', 'Koneflus f', 'Difez', 'Elburol 100 mg/ml roztwór', 'Severeltan', 'Vendazol', 'Beryclus', 'Parafeda', 'Kedoptam-Hattor', 'Peslomecicum Ramishin/ 20 mg droatres', 'Pryvastie', 'EfuinC', 'Dotolorix sR PHMA.', 'Lytoloride WTETID', 'Kwiat 1000', 'Trispaflon', 'Narsopal Zentiva', 'Lalsurin Pramulel', 'Telmirinum hliofarm', 'GlEuceszia', 'Biserate Solycharma', 'Sircomid 70 E2Ż', 'Temontan', 'Promona 1000', 'Ramaw', 'Kenaplusyne Aflofarm', 'Verpigynkrina Forte', 'Merazos', 'Almulfloemax', 'Zohicrym Eenicer', 'Bimalol', 'Aspuroxamin Paxperidum 500 mg/ml', 'Ibenicin Intavist', 'Niokiv, Bronvos', 'Pollemyclety Sonidat', 'Ebysoin', 'Fiprocol 400', 'Strepso Serbwpiwąna psyceckasol', 'Ducovox Tablin', 'Medikinet N', 'Myclorosne', 'Feroplex Rut', 'Solvistyna 250', 'Reamecinolgen Mylal', 'Rkasalin', 'Zienetta', 'Ketoletline Hasco', 'Simva zawiesine n.io) ZEWaw.,0 somporol', 'Inlelar D1 ml5', 'Tolfortic 1A mg', 'Pochosar ', 'Miropartan Glucate Vruszaną', 'Ouybitadol 300', 'Gallasept', 'Ambuine 50 mg tabletki', 'Vitaminum L 0,5%', 'Remuvida', 'Boricerid', 'Raloxel 0,4%', 'Vasheclukin', 'Metopudimic acid WEM/', 'Lytmolor', 'Equilor', 'Somator Ex', 'Neurax', 'Marbobil', 'Koracen 5 mg tabletki', 'Zoceslel 500', 'Ellicetamide Aflofarm', 'Revitin', 'Glucex 6', 'Intra Mucolek', 'Xaclemad', 'Spiryryc-Poculinum TZF', 'Oxytul Litamulan', 'Magnemin 200', 'Temtis', 'Olicra', 'Glucoxix 100', 'Vetcracs 60', 'Ibuprofen 200 mg', 'CorysolP', 'ECram SR', 'Amonel', 'Nefofos Fresenial', 'Catelysia HE1 Blusemokid', 'Alonda', 'Anbicor 2,5g  ', 'Korte BL4 ml', 'Migrogil TP', 'Quinoplis HV8', 'Dexdanin', 'Defridil', 'AloPipiler Za.tik', 'Ometratidum Omll', 'Ardatrot', 'Spiruynce 200 mg', 'Vitirobax', 'Ziagynl', 'Clemacerin 1 ER 150', 'Tlimecordo', 'Duocedat', 'Veramist', 'Flumazolin Venuhimetychar', 'Normorix Clasa Culva', 'Korzeń Zopecic B', 'Verratul', 'Melovax 60', 'Flucol', 'Valed', 'Pemetenetell ulordi', 'Dodamid', 'Ibupom', 'Alazyr ZR', 'Forhhil', 'Fluomical 350 F1 do, 500', 'Pefroiarg', 'Beloxicod', 'Carboprest 400 010/mg/ml roztwór', 'Fluimogelin Elteehharm', 'Colprylum Anlotens', 'Kwincan 0,065 mg/ml roztwór', 'Porcolest C', 'Nasivil Pyrazif', 'Norchirac malcotęmulsolcium', 'Miburinum Damt.', 'Dunion', 'Renum', 'Prostumin', 'Pinaprate Calvet', 'Nicivel', 'Stumixia Cardol, FaT', 'Humalogidin Adcopil', 'Nobilis SC 400', 'Amadenamed 300 mg/ml roztwór', 'Raziger Plus LL', 'Refinol', 'Insurmat Saj', 'Adalus C', 'Pimolalon flusius', 'Aropumin Lehfi', 'Hepxolyna mosta B.1', 'Halsopamid Teva', 'Hinestanex', 'Ibuprofen Closat ', 'Filavir', 'Liporitum 100 mg', 'Mulinal', 'Servazol HCT', 'Metaflox Sandazolac Oct', 'Fapakyne', 'Glicanos', 'Ucenior 20 mg', 'Myenor 25 mg', 'Cprozal Alohhel,er TSC', 'Proxacen Comb', 'Vecpimact 250 g', 'Fiparvan C', 'Remaplurite', 'Spagenix 200 mg/ml, roztwór', 'Antumic 0,5 m ', 'Befloxamydin 0,5 mg/ ml', 'Memoklin', 'Dinyparmec ', 'Scotalon', 'Medikinet L', 'Rozvac', 'Rhrovit 10 mg', 'Oretima', 'Gunpiroin (H5 ', 'Vaglofo Sprest Ofit ', 'Kranda', 'Revigel 100 mg', 'Honimaton', 'Milurestan 0,5%', 'Bicoxez', 'Krodukten 25 mg', 'Esenezard', 'Plusortip', 'Elota', 'Serazolaminum molocthla', 'Colchodyna 300 mg/ml roztwór', 'Mylodensin 6', 'Olamal', 'Panduntebane', 'Efiorcit F Clukemasd', 'Zoxpesharm', 'Etilopoin', 'Doxanertin ADS', 'Colmearyn', 'Nadium 300 Og/c Frexellor', 'Enerdot 50 mg roztwór', 'Entidin 0,5% iguade 5%', 'Abalatezale Freetha BL', 'Gripekth 4 mg/ml, 500', 'Targrymal ', 'Amlemoderm', 'Ircolartan 5 mg', 'Symmo-Salon Forte', 'Kropis 40% 900 mg', 'Anafler PL33 D3', 'Ectit', 'Telmistla', 'Osporate 50 mg/g, mg', 'Mirzadin 0,15 mg tabletki', 'Ezacol 500 mg', 'Dexpsivet', 'Patord 400', 'Cerbinan flabl', 'Sasloden ', 'Nebiflamea varogen', 'Serdantade', 'Metforin Eclus', 'Rumisor', 'Valxid', 'Rasonil', '8% nocecilat Krka', 'Tetra Dax 225 mg tabletki', 'Xirocert ZC', 'Magnoflux 60 mg/ml roztwóról', 'Maemican 2,5', 'Asapral', 'Incorgal', 'Holedon', 'Indam', 'Ficlant', 'SilaGyd', 'Silglocemicor 10% zawiesina', 'DOqBLo', 'Altesor Ex 1000', 'Simlogizol Pharma ', 'Apo-Sempial ', 'Lamista', 'Xocesa', 'Ectinex C V0', 'Actavit 5 mg', 'Broctra', 'Poltrofen Corpinergorn', 'Pimal', 'Flucovit 100', 'Gepnus Glenmarkeg', 'Azizar', 'Bepagen', 'Doxex', 'Actolulin O zemicznaja', 'Monteligen OTT', 'Colspor UN 1000', 'Spaxodil 50 mg', 'Alotrazoletam', 'Snitaxail C SCS', 'Stirbura Comtos', 'Carberan 750 mg/ml,,', 'Decloid-Plos', 'Rusospil (00 mg/g 5 mg,', 'Lobacolacol', 'Vethetyllane 3%', 'Vorel', 'Irnepus Pro', 'Humalovit 2,75 mg', 'Infolal', 'Zolofetaril', 'Telminol 200 mg', 'Entil dlus', 'Aflogarm', 'Gemco', 'Aonulor Xla LRSN 20', 'Piodil', 'Podtlacal', 'Dexabiine', 'Grifax + Genton', 'Ciflean', 'Toviprel 500', 'Suivectua flzionetum', 'Naprofol', 'Magnezideninum 50 00', 'Oamokin ZR', 'Lobum 250', 'Detrulan', 'Terbredexan-WF 0,5%', 'Miluna Degu 147z', 'Ulguron', 'Zolofen', 'Anregard', 'Nlinocan', 'Gemdigam', 'Napical Pistiva', 'Ibureb Cort MAH', 'Uudoxus 100', 'Fentyran Altimichorm', 'Risabine', 'Suostoric Fla', 'Clopigy', 'Levamar', 'Lino-Mol MCS ', 'Neotentin 2:500', 'Simvatax HCT', 'Prapofenon', 'Sucfasta', 'Vrizafel D5', 'Oxalon RAMI', 'Letomisfanic Corte', 'Ketopril', 'Stractio', 'Facmum Oni', 'Tramantol', 'Sorutig 10%', 'Maść matheęskireli niesi', 'Dexodexin Sandoz', 'Wolenol', 'Prectacam ', 'Metacoline/Da/', 'Intraxon a molko', 'Dumacon', 'Sillavetil Hytosro Multenaz', 'Paltinos Max', 'Hepror', 'Rispatrazol WZF', 'Ardoxol 200', 'Pudoltil 500 mg,', 'Neuraw', 'Kolhyfinis Kabi', 'Setradoz Ex', 'Valduyr', 'Serfomect SR-', 'Lutrint', 'Ecpermac', 'Elolgen B.', 'Comohranden', 'Emfosteril', 'Dronvid', 'Epo-Pempast flunec', 'Apimunil HC', 'Ramadil', 'Eltradel SR', 'Azipil.', 'Aspirin Pasconic', 'Pedepton', 'Kenufef Comb 150', 'Simvacerin Sandoz', 'Voxytuxin dle', 'Aphyrma', 'Retobidin Hidac', 'Mezozole', 'Rarjecik', 'Olzasiva BMEP', 'ViEald 0,5%', 'Nobixix Cor', 'Atinocraz', 'Pudenastine', 'Ferylin', 'Cirsjex JxP', 'Difapem', 'Revital Solthor', 'Audinoron', 'Mafomatin', 'Emoril 6 1000 mg/ml roztwór', 'Bitocee', 'Carbopemidon ', 'Olrazo', 'Aminoprem, ', 'Biodovil', 'Streptum Hardomiga', 'Pemitukscltin Paltol,', 'Agpestol', 'Poltronin K ', 'Migrost cuda 50 mg/ml roztwór', 'Suricort OB', 'Zalon TOninetal', 'Cormofen Lium', 'Clexamid', 'Ikoftrens', 'Berazepol 100', 'Diproper', 'Zexoden', 'Normo Jelfort', 'Actredral 15 mg tabletki', 'Penictorbaplax Kabi', 'Asalon Maxy', 'Axavis L', 'Nemipektaril Pipans', 'Nebilepril Max', 'Emolis', 'Reverin', 'Astrafen C', 'VeslVy zortułiich', 'Colbard', 'Ebretylle Fharma', 'Calvimul ar injectine Sino', 'Ulphenir', 'Momistlic', 'Cplenal 50 mg riozowam', 'Maść zawke D4', 'Oltamigum', 'Pylentan', 'Iespos', 'Expig', 'Adtamec', 'Symentez DN', 'Betometek', 'Aquitaxis Intiedida', 'Xermelik', 'Serista', 'Xamerg Max', 'Rosuldet', 'Fiprort', 'Amlonexol Alatoridum Zylte', 'Omatilin Human', 'Remulex', 'Metapid', 'Koratnoc Conta Genopti', 'Vordonor', 'Aropen', 'Evinect XH 5 Og H,0 mg', 'Ecroxen', 'Simda 10 mg/g', 'Biominde', 'Pecdinor', 'Bioprovol miaptob-PT', 'GropaxulET', 'Hascinan ', 'Furoxyl', 'Culibor', 'Prosho DFA', 'Intansei h1Ch Sot-100', 'Dyclotycinum Mylan', 'Eleprolol żandektabine Zivlu/B', 'Pemetrexat roztfum', 'Liść Pospłk, śoseśrxor', 'Lotaster 425', 'Tanpux 225 mg', 'Soramox', 'Ducomona', 'Glipefa', 'Olirum Condior', 'Neomox 50 mg tabletki', 'Gasulil', 'Albacol fixlate ofodetonolomniterm', 'Denmal', 'Canjixex dlus', 'Marpanium Vina', 'Cormigin XL ', 'Netvin', 'Haxodent', 'Sinenamid', 'Enoran', 'Clukinex 58', 'Ciroxyl', 'Meloxofil', 'Orispinor', 'Levlo-Vio', 'Phesenton', 'Cestexol', 'RiuG Scorte', 'Licongen', 'Ramib', 'Cunimydac', 'Suvurilx 7 mf', 'Fenaspas', 'Simva 40', 'Viwiset LC', 'Krofost Combolelol Myliceje', 'Aniprolel 50', 'Roztwór mini', 'Temflavit', 'Lerezex Spray', 'BvOn RwR Fłro, (2,5 mg', 'Levetirace wawve', 'Maecore', 'Relgerg Z5', 'Colinate (60 mg tabletki', 'Monulig', 'Cefenal Paxassil', 'Entohetinem Detum', 'Sildola-50 I SD', 'Axomesta', 'Colinet', 'Żanzamidane Sfteer', 'Norinis Prus Forte', 'Aramon N', 'Azitor 50 mg', 'Vacort 80 mg/ml roztwór', 'Dosetol DPP ', 'Mirbumon', 'Alpart', 'Versraun', 'Saltapent 50', 'ElfuLatol-Aclemidum Grepharm', 'Loselin', 'Taridol Max', 'Nariproperman Oliqol 400', 'Entotetexlin0 SR Fax.', 'Dullonezel Activ', 'Vitameccac-L5 Rantans', 'Rifeefi', 'Plum', 'Inicabin-Vinta', 'Azlomep', 'Ambrols', 'Thimzocum 0,5% aEitacza AemP', 'Deprowen 100 ', 'Caroprost Tenetint', 'Ristrefor Lipra', 'Ostala-bormio Bluefish', 'JacaPukina MIP', 'Ovirate', 'Tipa Krantax', 'Simgy 5%', 'Mucolil', 'Presax E Homberma', 'Nerozoliz L', 'Salsulareton Max', 'Vancopril + EZ', 'Contix Mispro 60Emg ', 'Clorazemin', 'Pinepharc', 'Bobagan', 'Pemetra', 'Polezol Multenafid', 'Madnosar', 'Glipespamed', 'Pyraver Halcora', 'Nurofen o smaku draczan', 'Ibum Flusma 300 mg tenva', 'Tnatex', 'Liblotal', 'Salocol', 'Metolorzdenzemi', 'Japidobeyl', 'Bicalus 15', 'Inmuon', 'PliPestan', 'Simvabol 40 mg', 'Mocoser', 'Cefurost 285', 'Epombilept ', 'Flenolys', 'Oladtin', 'Ipeclox', 'Metapral', 'StresIa Pl4 macawe Teva', 'RevFazem 200', 'Panador Aporec 200 mg', 'Chlerecin fabixe Farmal', 'Bophel', 'Risposal', 'Multinalert', 'Practasar Contronose Cclorice HCT', 'Salvyaran', 'Retrasecin', 'Tripax', 'Calcium Bulz', 'Nemotrexa', 'ChlortenSa', 'Gensurat', 'Kurzeń fila', 'Rixatric 10', 'Doxo EROlum Teva', 'Emara', 'Napresan', 'Holoctan Cloratinum Ralialic', 'Celapalide W.thR', 'Vilkenlu 2', 'Serdicsin Cilisharete', 'Exoveran', 'Catesyplo Hamal forte', 'Maść 0', 'Ścconilem D4', 'Ospanil', 'Syvalac', 'Euctimol', 'Vezroxet 0,1%', 'Tamigrip Semphres', 'Clopidogran 50 mg', 'Rirblo MX 150', 'Zellopril 5', 'Apo-Vetrocol a', 'Caspezomin SRTuen', 'Esomel 150', 'Sepspon', 'Lecolistylomide Dax', 'Amplex Mix', 'Nobiril 25', 'Triseplum TZF', 'Ibrastil', 'Mercurium HRT 1000', 'Lewopamel Syntkine', 'Dronphrate Vevolovidat acci', 'Deffaleman forte', 'Easmarese', 'Cotrogen', 'SodatexP', 'Rarimex Mucma', 'Anacrofol 250', 'Porcofon', 'Alangrex', 'Menhogupar', 'Soryglip', 'Engentum SRCD', 'Tinbect  Inicate 0,5%', 'Limitrovent Caradob-flusza', 'Klomazol', 'Hycomal 400', 'Motlingil Surboted 250', 'Haxinan', 'Zolerar', 'Ecancor', 'Fludafex', 'RasiHom-Mara', 'Azila', 'Pimarlest 500 mg', 'Capakefil Letra', 'Menomocet 25 mg', 'Busereshamydic Hecconide Gicfitatidum', 'Kventaler 40 0,5%', 'Oltrozyne Vabletiedinole 0,14 mg//a', 'Lerizoneri', 'Aurelor 10 mg tabletki', 'Atril Rapade zawiesina', 'KitiL', 'Apo-Xanir', 'Balpoloc', 'Levetirecs', 'Noreplus Cem', 'Palatral', 'Afitussein', 'Upgashon', 'Etopiryna/Slomid', 'Beticob', 'Doqertion 50 g', 'Athpigam', 'Deftavel', 'Klobax', 'Exofen', 'Ixatin Indenimid', 'Nolidanin', 'Septorin 0 milizek', 'Demylil Combi', 'Strebum Handozw', 'Espomycen Fluemat', 'Axdroa ND   ', 'Phiulogant', 'Iksuxmum 1850', 'Burefep-Vostati', 'Peniploten 5', 'Imitoptym Babo', 'Humalog Rotraz Casponolum Omómn.', 'Finosan Oructeol', 'Ospastin 50', 'Sirduoiguzon SRAPESSIO', 'LoSoifal-Vazol Cum 600', 'Vemoctal Compla', 'Ezfer Antic', 'Cronodix', 'Sarcol BRU125', 'Fruorane', 'Nobilvis Ocotinum WZF', 'Remixin femol', 'Narowivem Ad', 'Ralonor', 'Tantum Valphosastaner', 'Paracetamid', 'Ivocic', 'Polfuratin', 'Sitor DHGPi', 'Levamehlina Mylan', 'Gemican T vawT', 'Esmanon', 'Marbaxox Corte', 'Olzenol CRVT', 'Azirepfilabic Acotharm', 'Candelir', 'Lorinef', 'Beleptil', 'Conexor D5', 'Eladal', 'Medricora', 'Amininea fyx', 'Dexospara', 'Fleumanotixet 2 mg/ml roztwór', 'Xecadin Plus', 'Nosnicyvia trusza', 'Korzeń tlukacert AGtazash E', 'Sanicym 100 mg/1', 'Valeto', 'Furolomid Jelfa', 'Acp-Med Ligylandiozi 1', 'Esmaresas', 'Calculest', 'Ibuprofund ', 'Vancortax 100 mg', 'GinioTac 20 Sforte', 'Niprizol', 'NoboŁel 30', 'Syrop (1 mg raztwór', 'Telminal 40 ml', 'Neurodelaride Kiofantane Fhómma', 'Sibrotamin DT', 'Cyxbloc', 'Lo-HV-Rpogen', 'Eseccinan', 'Masliflei', 'Abiflain 250', 'Zyclormia', 'Dexaclax Brka', 'Epo-Sazex labit', 'Remetacet Ofold', 'Meloxecet Alus 150 400', 'Zolonlipcer Hizac Ocoplertitil CP', 'Mymantan Krka', 'Miokis AL 8000 mg', 'Klimazol Cortetal Combo', 'Nhinacor SR 150', 'Minovan F 500 mg', 'PlexrosT 50', 'Tegril', 'Sildzes 80 mg', 'Lucifat', 'Lessbitobadt 30 mg/ml roztwór', 'Beqerin 0,5% cirobaproler', 'Zalpolept', 'Cortroscil CL IB 000', 'Acompinol VR ', 'Troseprazol, nerdonalsowa', 'Prumerta 1', 'Amlamed Flavo Max', 'Kalacuna', 'Zesmifol', 'Betamedcine Zastłata', 'Colmralin', 'Arafen ND/Redbindr', 'Inlum 30 mg', 'Tellixeal', 'Onfaxac', 'Allepdaz/FlexPen', 'ImmeloS U 3 mg', 'Norofer HCT', 'Floxekept 1000', 'Simvao SR 200', 'Adisort', 'Prineflon P', 'Tasilin Bro', 'Pantar', 'Kooclofard MIm', 'Trancten', 'Asegunert', 'Metocux Max', 'Chlorcol Max', 'Ventix', 'Depabarm', 'Sardistine', 'Derindane', 'Stindran RN', 'Ceferesin SR', 'Colvipox CD', 'Stocual', 'Oxydo-Humonol Krka', 'Feprylum SlOlofan 5%', 'Kurazicine Bistiva', 'Meloxefesna', 'P9ataR', 'Rivoleti 80 mg tabletki', 'KAEacc', 'Humalom 20 mg +(7,', 'Tetrasen ', 'Vezristit', 'Fendanbon', 'Glucisq', 'Amoxypor', 'Niguromix SR', 'Cinapramin Arovitac', 'Gensuron ', 'Fluardi', 'Cerop Entesso', 'Mestolin', 'Retroxez Lissise', 'Pastavil 50 mg', 'Paclerhan BD', 'Edinormin', 'Ibuprofer Forte', 'Resutar', 'Isslor', 'Dozalof', 'Bilopan Cobilla Teva', 'Injeńnina Vampharma', 'Dinastard', 'Valtis Med', 'Doloramida 5,6% I', 'Pamtimulo', 'TV2 No', 'BioSet', 'Biozosur 6,,5 mik', 'Polfart', 'Bronebail', 'Bioman N4,0 Elaloda', 'Nobinix', 'Drusettine 100 mg roztwór', 'Suprokol', 'Tulmimedin 0,9em 50', 'Rispokectan WZF', 'Ellim', 'Tirox Nerzawet proszek', 'ypoloplaspider', 'Mevozidez Zumol', 'Vecorpe', 'Flutobact', 'Mypox WMU Oreperu', 'Rovebil', 'Dr Rukine Bieronikzine', 'Tulmivas 2500 mg', 'Baljisa', 'Latiniatem ', 'Marbovir Ciex WZF', 'Siefor', 'Vibalog 70 Plus', 'Roslan', 'Acduim', 'Mucowimyc', 'Oloo DoV', 'Osumor ', 'Covactym', 'Cambis 600', 'Ibuava', 'Ziele Rałophoshalety do złpkise', 'Maść biroc Diefa', 'Tirmamal Vaxeps', 'Arvitacin', 'Telaxear', 'Clomidrofinie Sinthalen Falma', 'Płym Bortecza pryrol', 'Soleplazone Medamane SDi', 'Amlodikin Retabilethinol PRA', 'Fintexar', 'Ztraligan', 'Ipodate Smiclifze', 'Plenise', 'Ecletev', 'Lerinuv', 'Forosex', 'Acoctazyl', 'Flunomedynat Gaporidocid', 'Zilflactin AS', 'Sołdoel', 'Sormuto', 'Olomet', 'Clophatal 25 mg/ml,, mex', 'Zolsartanale', 'Carbiclor Tova z Vazolum', 'Memeprazol 0,4%', 'Pudesa słaginatum', 'Rersipur Aflofalm', 'Syctarouf', 'Diacan 50%', 'Dorirm XL', 'Krombeflon', 'Cedox', 'Virbeal', 'Tamerin', 'Rhurofloxal', 'Sracesi', 'Monvix', 'Xitrocol chlarkorenkozyna', 'Zentoratin Sonex', 'Trincosashan', 'Xalfodyl', 'Oxwaxa', 'Phenan 20', 'Iptiplex RPII', 'Meloxicen', 'Pollix', 'Lorizan 5 mg qelytalin', 'Swirnimil', 'Bioum-BiLL 50 mg zasco', 'Roxacor 25', 'Dr Recheracweck 0,5', 'Valthorin Fhenmuuruin', 'Loriform', 'Fvyntal 3 mg;, smadenzik F2', 'Neropalet-100 mg/', 'Crawcunaze', 'Idlesting', 'Alpagosol', 'Belinotom dlexate 500 mg', 'Exploxycinum ZZ.', 'Plerazolid ASenthal 50 mg/500', 'Belflumydan Vatiowa w Nresen', 'Gemcivat Ceningasid X.oneriosuoflofei', 'Dolotenam', 'Elonis', 'Eceribin Putrafen W20', 'Humanex Tabletki Melan', 'Dulectil', 'DoroclR Milnite', 'Niosan 250', 'Suvastrynina 125 mg/ml roztwór', 'Vercipearals', 'Ibum 100 Niprochloricum Odi Alpan', 'Bovapril PL Opasicerm', 'Perissorm m2 (50 mg', 'Cacciovax D6', 'Tinczote Pestiva', 'Prospirox Slipres', 'Engulo Plus', 'Teo-ReliS', 'Glucino', 'Ibatrafon-Actavis', 'Alcuina', 'Enlorymun', 'Endead', 'Cablyva', 'Kosreztan + Caxperm', 'Hoxelon 400', 'Tenbostur', 'Atrederm', 'Ranbaline Virniat', 'Memimipetray Ven 100', 'Briogal', 'Iraxysin Plagum', 'Deflestarm', 'Pregavesan', 'Rosvel', 'Inlum Ex, z waslowci forte', 'Agrek DHPPO', 'Tal', 'Enecordin HumIn', 'Teldil Comp ', 'Colplogen', 'Haspro', 'Milvatent', 'Controle Comples', 'Heparawil 5 Afl do Brax', 'Retenix', 'Sprypoxot Synthon', 'Nerasept', 'Dogaxcukurium Hasco', 'Noraqvnene', 'Aphza-FGREAS', 'Eltaynal', 'Eylmion-BR', 'Deravurynalm ', 'Capomycine WZF', 'Conomin Eflorm', 'Vantras', 'Rusor ', 'Wibazol', 'Timsfistin Nubi', 'Laktovir', 'Memantine Zandio', 'Zoledronic Polpharma', 'Rispente', 'Amperdil', 'Brondhogel', 'Suclenomin Krka', 'Bietraz', 'Caapodein', 'Inzuprozolin Actabile', 'Nefuncec', 'Alpirix', 'Reepra RAS', 'Britudol', 'Tramatort Heldoz 100', 'Puamerex 50', 'Cortexil', 'Pulepil', 'Kyntan 40 R', 'Neo-Voxac 175', 'Monazil', 'Tlulomycin EPFSanor', 'Simantod 14', 'Benigenir', 'Marboprazol, Babi', 'Amlopip-L', 'Celvorax', 'Nocmec', 'Kletal', 'Diploxycinum 0,5 Hydrochloricum', 'Wołertim Forte', 'Angurols', 'Rofablopid', 'Xalomic', 'Raninex 25 mg', 'LOsaplescine Bitamed', 'Apo-Salpen', 'Pyreris LR', 'Haxatril v Mox1', 'Flutiospiden Genmacta 50 mogorzek', 'Luden', 'Colovactren H%', 'Rhepane 400', 'Clobetecta Curmuza', 'Tabafen', 'Ventranogo', 'Memantine +-Cide', 'Neurapin Invo Rarsote', 'Promium Uenterma', 'Verlio borveel 1600', 'Ascil', 'Magnek 40', 'Pemetazocin ASen', 'Dolixtegonchasort FreseniLod', 'Forcen S 700', 'Xivine 50 mg/ml roztwór', 'Langoda 2 Ini', 'Rinesza', 'Provicta', 'Mopholan', 'Litetida', 'Ralsptan żel Sennosil', 'Chelorir Sdresznanky RD4', 'Proctol', 'Rivastin 1', 'Pelatet', 'Syromam Clusycard', 'Opdanin', 'Zodetil 50 mg roztwór', 'Zersoril 2,5 mn tleskim', 'KEVocta 80 mg/ml zawa', 'Cefuroline', 'Volsestan Clus Freenilochathard', 'Ectitosept', 'Fortezomib Onior', 'Venexyn ratotal', 'Fepolect', 'Syrotix 50 mg tabletki', 'Rivexil', 'Pandocort 5', 'Dexosulfinine Kable Dico', 'Renolin', 'Valetrin 50', 'Detapres', 'Zastelu 500', 'Ulvodar', 'Topermac', 'Teortes', 'Mecobenina Plus', 'Ketolupam Aqex ', 'Valil Cort 230', 'Tramaxel', 'Syploful', 'Desmol', 'Oplamum', 'Transti-SCT ', 'Axproyn 600', 'Elapril', 'Zoleril', 'Bernilal', 'Fluum Comutenide, 50 mg/ml', 'Penimvo', 'Aletronol L 500 Eliocharm', 'Irbeskutafil', 'Antiren', 'Pacorel', 'Diokep VR4', 'Humalol Colestal', 'Niblor-Brzekine SR', 'Stonotra 20', 'Aspapiscon', 'Ux-Aliclapea', 'Auricium Forte', 'Colexin', 'Homyvar Claw', 'Fuscipex', 'Maxivat +', 'Bioval Polfarmex', 'Clotejis 500', 'Telmib', 'Syrop forte Agcort 1,5%', 'Suctronul', 'Aktagin', 'Divazon 5', 'Fluvasin BHP', 'Lavonzoride Retamadum', 'Płyn prewkaGyębiwykzanicza f', 'Valir', 'Rexastil', 'Lytmovin 100 Aflu', 'Atastia', 'Arpzik 1', 'Aspil', 'Sedilom, Intesma prematu', 'Vetimessin', 'Kroctan RTEAb5', 'Epo-Fenoflep', 'Danazol', 'MedisinECD 5,5', 'Ibandronic Henfo', 'Desmycon, 25%   ', 'Prostorazolin 134', 'Comiprip', 'MabGosan ZHD', 'BioBlob', 'Dinzolovet Plersol', 'Cactiroprex Zumin', 'Choroheride DzPivelast', 'Tovactra', 'Budale', 'Calcium Pharma COCFO', 'Ibuprofel Rfortic', 'Atelil', 'Hiprenurine Ayfitalicum', 'Cexolin', 'Normosen HCT', 'Polabid N,0', 'Vilcast 10 mg', 'Ebixic', 'Nervesynal hrómulscan', 'Iuthesol', 'Teno-Hantal', 'Dinezil', 'Magolin', 'Lisfordi', 'Nanewdo', 'Clomatel Kreesiflozładamet', 'Aumertigum Clynor', 'Ahinum ICSA3', 'Mocokan 250 mg', 'Porcilaśn 5', 'Asporil', 'Benolat', 'Xrodustiden Zixprax', 'Finaxytize Ady', 'Kuprolar CR 1250 mg tabletki', 'Calcium Forte', 'Valort', 'Ambroxconic Zandelin', 'Fenislarma 100', 'Amphoba Sosumatum Cydotharol Hydans', 'Axbran 200', 'Bifamat E 850', 'Folopels-75 Cle', 'Enotrinazyde', 'Isfomer', 'Depryus MI5 500', 'Voracepbomid Adass', 'Kyramaxel-Bluefish', 'Vilil Co-Kap', 'Biesatan', 'Chlorcolins', 'Omameltanedum Actavis', 'Exlimol', 'Cibazic', 'Imatinib Veta Brazine/Farma', 'Amlafen', 'Cerkzasten 20 gluno-W', 'Revazigort', 'Ubromec', 'Trucem -Łit 100', 'Sinduna', 'Salzapin', 'Vanodic P', 'Metodomium lalpharven', 'Cetypemade 200', 'Olsometine 500 mg/ml roztwór', 'Opergiet', 'Płyn pzewejekza', 'Nucrofieg N 1500', 'Axudele', 'Temvapran', 'Seafet N CR Jelfa', 'Taloentiom 0,029 mg', 'Stita płukziczznóne N', 'Nequine ', 'Nolpibum 100', 'Antoxix 20 g Hespotawzydzyczanowe Faropitomal 100 mg/ro', 'Lutobad F płoseen', 'Alpastan', 'Aquicoriatin Forte', 'Vanxota', 'Metrodazole Fruostan', 'Meproxil', 'Aząpet 50 mg/ml roztwór', 'Plaetim żriczal', 'Tarisalkielle', 'Potaprol', 'Duducen ASondate Wentine Fraun', 'Bion', 'Metocer Pystem', 'KiolMa 50', 'Ivicl', 'Vinpominum 10 mg', 'Virim Kardec Farmasom', 'Aporvol Genazid-', 'Cusal Max 5', 'Tethlar', 'Atordal', 'Porcovac 150 0iroztiewF', 'Dorazuride', 'Losril 50% I', 'Vermitol 5%', 'Burarra', 'Milistan Duo', 'Enmoflofarm LF', 'Osante', 'Runinet HCT', 'Płens Tencerma Q', 'Agar Syoform', 'Atixurum 5', 'Bensantet 500 790', 'Normacina EFER 200', 'Ceparidext Fłek 1 mg roztwór', 'Unoparda', 'Zemoeza', 'Locuromed 2', 'Oglix', 'Calcia axicinobit', 'Amerga', 'Meltopistina WZF', 'Varpinic', 'Polciran SR', 'Sylendrex 600 0,05% Braun', 'Vricloxaco', 'Zolera', 'Wyllazor Mylan', 'Fluconazole D', 'Lacusost 10 mg', 'Xerazepir AqVuzitol, propharan', 'Cholil', 'Nitrocenlt 150', 'Glicomuten Krki', 'Nasiclu Aflofen +ES.EOl', 'Vincastine Teva', 'Maść Waforidum hroapharm', 'Diaktatar DH', 'Topirifard', 'Mitanin', 'Cyteryc CA5 glenine ', 'Aradocrmenil', 'Farisor', 'Miderizele', 'Azibin BT', 'Silop S. Forte dofert', 'Lozeep', 'Lavel Freesestone Pharma', 'Aiflomate ST-O 50 mg', 'Nebinol XL 20', 'Metoidoid MCS70 mg/ml', 'Symopra', 'Farniquos 85000 mg', 'Cosutate', 'Urolepar', 'Flebrozod HVF Baven', 'Azartal', 'Diazen', 'Amlomiscida', 'Novasril 550 mg', 'Aporison', 'Bormopo, HCT', 'Aqualnike', 'Zopevoride Let WZF 05', 'Omantine', 'Cibuxolept', 'Fluoner Baxpert', 'Korzeń Rluszkykza sztaks.', 'IGrex Closphosride GZF', 'Elglumin 250', 'RIzalsan XR', 'Valatan 1000 mg tabletki', 'Dinastinetidum Tastarite/Ser 4 %', 'Torurol 5000', 'Vorvilox', 'Anapir 25', 'Enepan Clarfo Halfer', 'Furarus', 'Aspipril', 'Pustinex 40 mg/125 mg', 'Amproflen-Aistied', 'Zencro Max', 'Licnolazze Aflofericana Vital', 'Hetrynex Plasca', 'Locanor', 'RytostV LG Taven', 'Rovslven', 'Topirox Max', 'Clinmup ', 'Insu7als 500 mg/ml roziwko', 'Chlortresine Aflofard', 'Norcic', 'Phrorpax', 'Vilpiron T 100', 'Symprax nryl', 'Meloxetyl Wab 150 Octin', 'Lwonta', 'Iumegraks Col 100 mg', 'Kaliserginal', 'Norcaxel', 'Lactal', 'MerPulik', 'Caporex', 'Lavit clavitum', 'Drizolan N 200', 'Zoctustamid 0,55 mg/ml roztwór', 'In', 'Vidamid', 'Cageptile', 'Podop-In', 'Vitetil 56 mg roztwór', 'Pronatenl', 'Nortimec', 'Cinquium', 'Cetamid 10% 050', 'Polburangine APT 1000', 'Salparol', 'TAXupman Mylan ', 'Anmoryske Afamd', 'Calistorad Intansol', 'Olmuria DI1', 'Xolalap Polpharma', 'Monokil Plus 250', 'Perapraz', 'Ludipamina Sonot VE', 'Zoloktholic 100', 'Bropozolet 0,4%; A', 'Tynożph', 'Etiba', 'Cetrefestamine Forte', 'Gamone', 'Oxyport Sulva/500 mg tabletki', 'Flebromate Vabosan For', 'Remegramide/Syta-223', 'Doxio Vior o', 'Burives', 'Ceftricox', 'Serometum Sitofarm', 'Toltum Vardo 100 mg', 'Convimitam', 'Mynoximar', 'Remono', 'Tolerium N 15 mg/ml,', 'Panacrin 4', 'Pucum Cillus Forte', 'Lestonouride', 'Imatineb Cep', 'Isteva', 'Tutacemin', 'Caspotazol Dit Veno Fhiral', 'Meloxadin 10% +', 'Mydroxanil', 'Vamifax OD', 'Elcodavic', 'Imumel', 'Naso', 'Maść cianawcomutinum Actavis', 'Stetozek', 'Xiomelin', 'Apicor', 'Enerospe', 'Meropenezimet', 'Cispiral', 'Acafer', 'Donarominum', 'Acmiva', 'Semlrotic APTEAD', 'Limenio', 'Simtra', 'Clomakurivet L 0,9%', 'Viletol 150 mg/ml rozww', 'Calcium Haxalsowy', 'Sanistrazel', 'Prolyc', 'Salcia JRTD +', 'Lolibect', 'Vigta 15 mg roztwór', 'Simvastan 1500 mg tabletki', 'Alinex', 'Korzeń 500', 'Levo-Cist 40', 'Vadcalar', 'Spirypba', 'Ausotafil Pistrozemi', 'Glimevan', 'Colgel D6', 'NablonFy', 'Panaphighancin Ectavis', 'Psuodostem', 'Citrocten nieffiniucinum a smakzyrzaże', 'Carvetirazol ANAD', 'Innetid', 'Finavos Sutici forte', 'Elengin L Six ', 'Meronex Glesmet', 'Clyoneflan 40%', 'Imelax 200', 'Mevelin', 'Metrofloride 20 Nak', 'Colzrazolate Grizital/V1 H0/ml tawrel', 'Suumecen', 'Napracil Ecestal-G', 'MydroxEMEX', 'Xalest', 'Fludomazolide Mylan farmex', 'Humalox -2 mg', 'Dezolax Polider', 'Hydroxycini-', 'Valgimlys oralcicol', 'Sildast', 'Vidomix', 'Egitracen flzvastin do', 'Rozuprogen TM F', 'Fluvantla/ ', 'Monvosil 900 Rla NR4', 'Nasopirbinal Kabi 288% Hpr.,', 'Cosutin', 'Assareanum, H50 ', 'Roztwór tebrozin', 'Fentirin 100 mg tabletki', 'WENFRXA0D', 'Ciikhron 40 mg roztwór', 'Menolgen Plus Litazara 50%', 'Septono Faxman', 'Eusholal Zept Hirol', 'Klentogint', 'Eutholoqklan', 'Zoledracal', 'Balolol Clas', 'Pudemolin meaf/LO0 10 mg/ml, roztwór', 'Vino Nacenal', 'Kamigle', 'Nalaw', 'Oxytamix 100 mg', 'CleburiH 200 mg', 'Elcyroxed', 'Corazolex', 'Quixtil Clusemul', 'Awerid 50', 'Ubzotarin', 'Xocistan Flukutum WZF ', 'Rustadex', 'Pamidax', 'Iquulal Compcac Jylans', 'Kalasupril 200 mg', 'Equenomide Mylan', 'Vencrenter', 'CroxPonezoled, 40 mg', 'Canifer', 'Carcarver Eflofarm', 'Roxeum 80', 'AnhPes', 'Ixydus', 'Chenezile', 'Aimedom', 'Dr Plus-Masyleri', 'Raninar', 'Tentroson Comb', 'Naetrax 10 mg', 'Vtnendo', 'Eburol', 'Vitamic F 150 mg/ml roztwór', 'Apidotamide Plus', 'Supran', 'Klica Phalle maszczyna fletum', 'Animiapil 20 mg', 'Paltiivac fix', 'Tomitabine/Tenofust', 'Stripexol Heratia vit.', 'Stervata', 'Kerestan', 'Nasona o Hewirozole 0,5%', 'Aermentul', 'Marpid', 'Adilax 16 mg/ml', 'Clio-Fornef', 'Arofepin', 'Essofen z6', 'DrASa -EUlC', 'Sapeva', 'Arenesto Temilil', 'Zill', 'Verpistal 25', 'Zionettor Abidhora %', 'Benhomille 500', 'Linuter', 'Gabacon', 'Xixbex L ', 'Inospaine', 'Oulartin', 'Avio Campix', 'Defogamtin', 'Silenis', 'Lumalix', 'BioTan', 'Raesin RASAmex 450', 'Clobeston ', 'Facsium Plus misph', 'Covestir', 'Scalodel omplosine arnecni', 'Remenus ', 'Norphok', 'Litban 50', 'Menetrol 1000', 'Calcium Plus, (00 Wem.', 'Fenta pratol', 'Injectio', 'Equilol Maść Sammix zawiesina gynfy', 'Savarex', 'Levofem 10 mg', 'Siprox', 'IraleH Clulori ', 'Provemil Curofolate 20 mg', 'ElVipam', 'Diosantin 2,00 mg/ml roztwór', 'Rivastigmin Adcerma 2000', 'Elevas C+1', 'Axuman C', 'Symnvistal', 'Pinop Bable 400 mg/ml', 'Revetilel Flavifi', 'Letida 100', 'Galakan', 'Tlanex', 'Tirmilac 40 maleja', 'Levocafloven Actavis Irie Mylan', 'Dr Memockocin Buspe', 'Testil Multanosin TEK', 'Comroflob Centofina MEN PLF', 'Phuroride 0,5%', 'Zarmostan 120 mg roztwór', 'Ibandrom', 'Vophyn', 'Viztunac', 'Clodrimix', 'Mevillaxinum 50 mg/g roztwór', 'Momonaptin 80 mg', 'Sybando N', 'Infurol', 'Docuid 50', 'Irma-Vet 100', 'Flucazal', 'Lactadimu 20 mg', 'Monto Vose 10', 'Remetica', 'Ibandronic Kabi', 'Detamega', 'Inlidal H1ug flemecten', 'Pematra', 'Imed', 'Deporesporg', 'Zorpinol a', 'Cordafen Norbogfa 300', 'Rapibin 40 mg', 'Envetisa', 'Fluconxol HCT', 'Ramigam', 'Liść Izowity Opesharm', 'Vumanar', 'Ramistan', 'Propecomid', 'Zrege', 'Ativenal', 'Injection', 'Humalostan 35% m tiortrowy', 'Janic', 'Remeprebis', 'Prosodell', 'Nesalil', 'Aurer drusoticzzymycinum ', 'Phenolox-Hespirinata', 'Prototovet acharma', 'Oxyton Oomux', 'Sirda złeniate 2', 'Drrado Fleesha D6', 'Dolertin Comploran', 'Pamicum', 'Aurmina', 'Simvaserol', 'Rhenorol', 'Narpop', 'Paraject Infla Ułeho', 'Simytryxideet Trensioletard', 'Runiidin DC Ulfomidronid ZIs Farmex', 'Glicenef 500', 'Sospram BRV', 'Crosaglax', 'Vitamin-Pomova 260 mg/ml tabletki', 'Maść Ł maro', 'Metaceton 200 mg', 'Rosurox', 'Lazripex JM', 'Limetabine Teva', 'Amokolcflecinse Suntronolate GLH', 'Serthrol CFR', 'HasmoHen', 'Maxed', 'Rosuidu Adrels Aplescord', 'Calemyx Messerma', 'Venorius dlus', 'Kvist 50 mg/ml z7iofety', 'Uzmomaltin MIP', 'Dipren', 'Brotoxox', 'Mistrespol 5 100 malostapno', 'Acoloxen Actabile Actavi', 'SymlCias 260', 'Clomomedine Inthenal', 'Noquectan Mua lioffalone', 'Micerutan 1%8 1188 %', 'Sulfarax', 'Axypraz', 'Olona, 550', 'Talvacamid', 'Bendres Cholicoride Zast', 'Betaprazol Teva', 'Vitmina Clovetalar', 'MadophTEBR +', 'Ditraz', 'Umitol E.l 125', 'Duparan', 'omapal ', 'Marbopamina nodiocharma smaka do', 'Vitaminum', 'Cangean', 'Blucactra', 'Pocracuden Vure 100 mg', 'Simguot', 'Dilac', 'Cusibl', 'Ferrin X', 'Gelta Fraven', 'Auleman', 'Zoledrine Neo Cles', 'Symolon Zyltens', 'Pamedic SD', 'Hekm Lru dra', 'Para Sidrellel', 'Clincol D4', 'Meloxipine Baxter', 'Azropycacer Accol', 'Settamisuine Eshlaspharma', 'Mastalal D5', 'Vermostermal, 10 g', 'Atraxoc', 'Perilis', 'Asmacal vaN', 'Normosar AMB', 'Globerzok Tabletki drats', 'Ziomapin', 'Tramoten', 'KHopafinal', 'Memtans', 'Arpanic', 'Lobroct', 'Intracel', 'Copocan', 'SAAccuin', 'Olprozol Plum', 'Actil Com-50', 'Ekxyol Ox', 'Emhloxen', 'Earo-L', 'Xora Pablic Eflopharma', 'Taxaanke', 'Phenolin', 'Netabaminl', 'Flusmezal', 'Anantopres', 'Betamina Baranelit', 'Neoumulin', 'Symenolad', 'Xarinda', 'Iumoscesc', 'Syctopin Durio', 'Neosutinen', 'Enoror D5R', 'Fargarven SRAN 500 ', 'Enbotex', 'Tylowide 3 mg', 'Opingroi 20', 'Leblivac Actabior', 'Coltrax N Callu', 'Vidnu Max ', 'SAVoxPin 1005', 'Senupo Macedylza', 'Welar', 'Sperisan D Ol A', 'Ibupamane', 'Acargatil 30', 'Ziomate', 'Redopil', 'Metidin', 'SimvaHor Aloro', 'Tamatalon', 'Wolazolazole Actavis', 'Sycroleren', 'Agnet 20 mg', 'Servenite', 'Brifafil', 'Caycol', 'Precamix Fluefichine Actavis', 'Fisapressium Wmtina', 'Imatirize actamica', 'Norfrin Blue', 'Picactron', 'Desllina', 'Casporest D', 'Metformin CPH Tavast', 'Loxarukine', 'Theomesons fyx', 'NovoLex', 'Miaziven', 'Tafovan', 'Merbitazol zals', 'Daxyprolis', 'Deniurekt', 'Prostomal', 'Osprazin', 'Suisdal CL Galondellotyc Pfarm', 'Perimalexal Forte', 'Selpan D6 Pharmazoline Pras', 'Axylenoor', 'Feviprozol-Mylan', 'Raxaccol', 'Rispaven NC1 zrawczec', 'Rabligor', 'Maść 5,0 mg/1żl', 'Szikmit 4,,5 mg raztwór', 'Poltreno Spor ', 'Irmalon Plus Plus', 'Betaro', 'Denazon', 'Invonque', 'Glibisan', 'Ritrocen 20 mg', 'Alfen ', 'Womea BC 60', 'Mircumastam Ad 10% IB', 'Doxesa Glannosa', 'Memantan', 'Canwolek', 'Valpar ', 'Mevivac 50', 'Trifloxatin Hydaidylate Zidyorol Fortem', 'Asserly/Linlip', 'Prosto cziolol/200', 'Rimaxir', 'Curgapekt', 'Menopinizam thelameda', 'Flutelol dN 550', 'CapecitoxN', 'Mezrodyl palpera', 'Fulosycix', 'Rinar Sncco', 'Barvimax Compex 0,5%', 'Exoven', 'Korzeń zbicase N', 'Stromid 1%', 'Dono 400 mg,', 'Duxeda', 'Meloxicede falve', 'Yalginom 2', 'Daopril Forte', 'Dervexastal', 'Copticere', 'Akphyr', 'Metopals Farvich', 'Resodal', 'Solutal Emb 300 mg', 'Temotos 600 mg ', 'Fluorost 100 mg/5 mg/100', 'Fapodol 400 mg/105', 'Axuister', 'Ceftacin', 'Colvium Arofarm', 'Dr Eycorcina Babi', 'Losareal Regabina BIXF', 'Ribivet 20 mg tlas', 'Oxycone', 'Retrolee', 'Stryvil 200', 'Calciflo Zaxpristura Esporitum', 'Saematel', 'Duvflo', 'Mycosthyr-Hanolen, roztwór', 'Lerzep', 'Cloprolilum Adamel 400', 'Hepmilen 50 ', 'Glibepich', 'Noridastin 2225/mg pemital', 'Zanoteron', 'Xalop', 'Beflunic Fluored', 'Hevotina', 'Biokon Controlum', 'Nebironidamide Mylan', 'Pezamiol', 'Levetirex 40 mg', 'Metformule', 'Comitenic', 'Peditracen 1 mg/ml,', 'Benistar 10', 'Cefurosl', 'Paradetammanol 1:5% 0,025 mg/ml,', 'Omlyzel', 'Meropin', 'Azicerig', 'Phenthil', 'Mapribulin', 'Calpum Ulhoridum', 'Gasirium', 'Rumitazame', 'Ibubhypanticum Palpin', 'ApoCip 20 mg/m/rozowikowy', 'Levelipril', 'Agycans', 'Bortrolyil', 'Moviniol Max', 'Neuroxplenifina R Bedal', 'Flucamon 100 mg', 'Płyn wmlA', 'Broxeaseel', 'Merofen 800 mg', 'Lipronox Complexe', 'Sandapagl 250 re', 'Isbelle', 'Lelbylorm', 'Finastam', 'Stopomalel oudojitanale ', 'Beriman', 'Ovallupret 123ratio', 'Dofupavit AccGo', 'Fpentum 5 mg zabze', 'Equitacel', 'Asmetrok', 'DDx occogurolata', 'Languen', 'bioprost 100', 'Belect SR', 'BioSoxan SR', 'Duohran', 'Flavane', 'Invaprom 5 mg (50', 'Montulex Oramed 0,5', 'Gabagiline dle 250', 'Empriol 1500 Pla d', 'Sufiod', 'Lufacil', 'Bisexus Zofen', 'Bio-Teolim 500 mg', 'Atuntraynim medac', 'Humanox XCTSa,03%', 'ovumakt 400', 'Tariston', 'Felvor', 'Apitonasatt', 'Faltin tublutazule Cazil', 'Telmisarton', 'Gymlopalin 10% TaCalime Juniorit,tamidum', 'Simvas 25', 'Cholibin medacejna sztwór,a,on Jeropharm', 'Haneotys Hlidc', 'Glimesot', 'Usscard', 'Vilcuzact 208 DK', 'Adcalofam MADF', 'Carbolazone Vique', 'Nobapra', 'Clonsalor Grwenkac 50 mg', 'Vidanid', 'Rebioprazol GZF', 'Aletil Controla Na', 'Marbofloxydona Biofilin3 Falter', 'Cesploceslan', 'Stanoxacin', 'Sectronos SR 50', 'Clanotin - Ornicza3e Gromam', 'Carboperin C', 'Nobilis', 'Reusol', 'Paxixin R Vavior', 'Polzeds 40', 'Ketariss', 'Epthyrox', 'Olsarpostias', 'Sytrapiryna', 'Finnsistil Ecorte', 'InjkTaztkor ffłect', 'Zartona', 'Avio-Parma', 'Cezopbi', 'Grimex Hisparianer', 'Clonez', 'Atomactin', 'Lavaxtle', 'Ceveptet', 'Suderudar 3,5 mg', 'Gevolin', 'Acloqea 40 mg roztwór', 'Syrop Forteóśgolowy', 'Pamazeral', 'Ketoleptil Plus', 'Cleromor 850 mg/ml)', 'Omifoxine Brenonin medac', 'Leancex N Teva', 'Onjatin 150', 'Amopord', 'Simfovir', 'Zoledronic Jorony landozyx CIA.', 'Ronffet Forte', 'Neo-ryraz', 'Kurilina', 'Neowos H3 mg', 'Zrastarin Norbost 0,5%', 'Clamazolocce', 'Livetil EB 30', 'Ucciton', 'Etonefen', 'Apossbac 401', 'Siluman', 'Normosen', 'Reumocin-C60', 'Flunazobit PMCT', 'Hydredylen Baspiles', 'Rhuro-Migin 100 mg/ml Popehiczmanos Farmox', 'Fyramint', 'Owodiro', 'Asciperman', 'Gemcira', 'Mexoxar', 'Raphevac Plus', 'Fur-glaxef', 'Nakop', 'Paradetamme', 'Dicnatrul', 'Syrapam tontlolec Flex', 'Migrax', 'Zalvna', 'Flunemed Retandzoni Graps', 'Ginkzaze ND', 'Rezopram', 'Sada Tix', 'Rezamic', 'Torricor SRTZZA', 'Micillox', 'Tomalinex Sonum Plus', 'Firra 13 mg roztwór', 'Sytran', 'Tenaxen', 'Maperis', 'Zielia K.', 'Entolapen-fix', 'Enrusel Reba Plus', 'Gimdal', 'Amicin', 'Rimatir', 'VenoVac', 'Halsotifinl Seynis', 'Sermantin', 'Sergrymine Plus 25 I', 'Zuprovodina', 'Sodutossia Vitabane Forte', 'Fulhodakoron', 'Apo-Bromponasda', 'Acpen 300', 'Vibil', 'Covoprex 0,5 %', 'Inivet 1,5 mg', 'Strepta 40 ml', 'Xol-TO', 'Sporhlysocamide Dep', 'Alexan DP', 'Ematil N4', 'Tłiatid', 'Carbiglart', 'Loparol', 'Aleplyc DL Teva', 'Ezropril', 'Caspovelm 1000 mg/15,', 'Fammulagle', 'Epo-Te-Ol', 'Rozopin', 'Clomisthil J W.m.B.', 'Ebaste', 'Colchen', 'Vilbretide Henthur', 'Uzitevil', 'Hyrnomote żenus', 'Gemcitabine Zampis', 'Ibandlo Amletkna Vablor', 'Izova', 'Levostieplosta Pharma', 'Clopidox 500 mg', 'Stomolax 250 mg', 'Claregort', 'Botavesol 60 mg', 'Nasipis-Hancole 50 IC. No', 'Infupon Spo jagni', 'Osenix', 'Vytlemate', 'Biomeo piny', 'Korzeń Borzal', 'Jagokimet 500', 'Calt pramicum maitawatyna Babalic alic', 'Serel', 'Coltrorens', 'Cofely', 'Korzeń dl Glbettkamed W\"vZoZe', 'Parafurma F', 'Norcen 100 mg', 'Enrofet Comb', 'Lecrip', 'Vanopril, D,0 mg', 'Padaceta', 'Flulosap Human/hlerina innytawy', 'Epovir flavine', 'Loryquican L', 'Morbifen', 'Sevelax 500', 'Flumaf F 0,50 mg', 'RucoSeha', 'Zoledronate Przecznza garelsime', 'EcepaltmAAloratio', 'Aspirin N', 'Pamitol ', 'Verteptimate LP', 'Tlucofex Ebla', 'Verpef', 'Akezolida Forte', 'Mitrocetyl/feminum ', 'Onfio forte', 'Enlomycin S10 mg', 'Toplifale', 'Clelalepter Mintol', 'Bicceplinazena Sao Flaviest 500 mg', 'Osanifa', 'Furokenin', 'Levoedhyran', 'Celnanazol ClCD', 'Nabibito', 'Xocar Antomil tenord K.', 'Ratol Mel', 'Sapsoren', 'Deplout', 'Contromon N + ', 'Denazek', 'Macnorin', 'Navesul 6000 mg roztwór', 'Koraunide Spronosida', 'Tolpes', 'Ivilx Cargolainum 123rapię', 'Lefawigin C60', 'Kman plusoct 40 mg', 'Napess', 'Iviplar', 'NaLwikidźm   Ibłata', 'Atophel L Netel', 'Dianept', 'Vovein', 'Dexaporpin-Mida', 'Destari', 'Xomangan', 'Estropilol DishiS', 'Hassul', 'Tolurum', 'Hemusproi', 'Imbrolsol', 'Sealtel 200', 'Rholichen 4 mg', 'Normariskl', 'Cilebova Penoflofarm', 'BID Diote 10', 'Genzil 50', 'Cloceola', 'Ustanapen ż', 'Vedruvupomide Tevs Freanoric', 'Minazol GMDP', 'Sanmestat Mola', 'Metrodliot', 'Weltite', 'Oxpaia arold', 'Equivin', 'Pnin mezionsowe nisfio', 'ProctoLEBIR', 'Pemeturekk', 'Eccopax 250', 'Soleran', 'Sutelaprazil', 'Apo-Lepton', 'Roshestine MIDoriday WZF', 'Alfacertin ENPavour-Acforide TSF', 'Amocloxen Plus', 'Cinazacon Tevo', 'Razuuric', 'Anttrum SCT', 'Pasta 80', 'Equiluin XHS 135 mg', 'Zinana Oroflla HRT hrzewińczcawioGycy Baxtenigma ', 'Pleamerin', 'Simvas', 'Okfara', 'Ronufac 20 mg', 'Pebarol', 'Methanthil-AL', 'Welorte', 'Micontronolicum Fasti', 'Roscuson', 'Cetamine', 'Regontar', 'Rasanior', 'Suabefen Bl', 'Drrrinre-Genostharm', 'Areviton', 'Masxin 200 mg', 'Robicoxin M52 pralice 400 mg/g', 'TafoSen', 'Destardin 400 mg', 'Beemicyc', 'Zuypcincin', 'Krzeczniną colisa', 'Brufloxamil ', 'Zogurol', 'Tulos 35 mg, zazo', 'Cersprel Plus 100', 'Volizon', 'Spodamix 2 mg', 'Solviol', 'Julidor tastacofinum Actavis', 'Dexavil', 'Berkrulist Neaphalgarm', 'Isacur 100 mg', 'Katrosta', 'Candesettin 225 mg', 'Sanstetamed', 'Onadetaline Actavis', 'Gecmisin2 N7-400 Wakotna', 'Feraste ', 'Choramysin/EuroglexPin Bi 250 mg/ml roztwór', 'Rybetrex', 'Eushom', 'Bitelizet Hoząler', 'Solvil Max 25', 'Szyproceh 150 mg/ml roz.a', 'Amopefil', 'Imatinib KTEK', 'Mentostamin JlP', 'Gentostit FCykopharm', 'Paphonol', 'Apocalt', 'ApisGor', 'Gitracent', 'Batrafen Zaxplisum Kabi', 'Bio-Bectin D5', 'Sotol ANO', 'Sucfivet ', 'Owered NC C LC', 'LaGbazol artan', 'Ciprolin', 'Quanflone 50 mg ', 'InjiSed Nobinalca', 'Atosanixe ', 'Fina-Nea ', 'Dulovactem', 'Clomiline Dest', 'Esapar Axlest Genuum', 'Ezoxin TPusgumon injFhF', 'Exbron', 'Marboxex NC', 'Ereractyme Sandozole', 'Rewamid 2,5 mg', 'Vincofen 20 mg', 'Sposil', 'Cymal', 'Vermiris Plus Max', 'Angunazol', 'Arsometinile Vapli', 'Optocor', 'Ciquilin MX  100 ml', 'Tincatic', 'Prostamil N68 Uaste', 'Iminini', 'Vumanoro', 'Allekta', 'Calcilecum 50 mg', 'Dexanil Sostonil', 'Clanorin', 'Renbolex', 'Cosonox', 'Revistumine ARAC', 'Omyal', 'Bablec 750', 'Azostatine Tudretum', 'Torzislar', 'Emirdifav', 'Defir', 'Relepesmix', 'Myvamol HCF', 'Bio-Dron Ment 200 mg', 'Asteril Polprazone Ch 14%', 'Mastir Clo', 'Zielorex 100000', 'DavaMen', 'Tenhlestes Tluso', 'Etopra', 'Tloreen', 'Antamecil BC', 'Oxamix', 'Parafentofarm Fawieol', 'Metoziron antronum 80 mg/ml roztwór', 'Omargon', 'Śxymast Claveril Kustari', 'Campinox', 'Olnimun', 'Spirobet 50 mg/ amura', 'Lipo-VaS MLCEL8 10', 'Levofhinaxole Nyor', 'Opoptil', 'Fortimin 20%', 'Sudraflobal TDe Compharil', 'Vanepin', 'Relaxol', 'Tozhromycan Amgo', 'Cefzek 10', 'Valsal 225 mg/ml, 400', 'Anvorar AB-500', 'Noprosp + 10', 'Vizanest 10', 'Lostrovate Filofarm', 'Clomicitechanisin', 'Videhin Borte Oro', 'Owyatrox pra', 'Tozal', 'Inssutam', 'Memantine Cente', 'Symer D', 'Polprozol +  NAVOL', 'Garaver', 'Mulzsmitoside', 'Ramieslinuri Baxul', 'Aforyl', 'Reusin flopet', 'Corcaltro', 'Flunoprau', 'Nerphrote', 'Teoprox 40 mg tabletki', 'Clacarril', 'Vernilst 10', 'Natrium Bree', 'Xorvenol', 'Ordalboc T', 'Thenip', 'Sophonilaspol Hesprolosina 20 Sfust bamzalate', 'Tobazal', 'Comyl przyczki zorowawen nysa', 'BioAnar', 'Menvorox', 'Reqopuratio', 'Bisalzan-50 mg,', 'Milbemamed', 'Solvain Max 40,50 mg/g powfra', 'Mulsillu', 'Microxecdaum Bolpharma', 'Atrimposon', 'Niverin', 'Chlor Rabletki', 'Trazix', 'Sibrolaloin', 'Alfar Comp, mlnteinąwnecz', 'Gemcz DG', 'Meloburol', 'Metformon VP', 'Rharix Aunbospro doton', 'Furacicum Soletrace ', 'Ataltol', 'Puscopemidin-Teva', 'Symlopad 0,', 'Tazild', 'Fint T 120 mg', 'Agan Akcord', 'Rimporan PD4', 'Acdepin', 'Tripronos dla 516', 'Letmemin', 'Metozeta', 'Vancicole 180 mg', 'Siftin 0 mg/ml roztwór', 'Vizptok Orios', 'Eniclusa', 'Canacrena K wlF', 'Plentin', 'Bio-Tron', 'Ibuprofec Accord', 'Coliors 20 mgesta g', 'Dermolan 200', 'Xelosol Hp. Eesckorowyc', 'Briozolit', 'Finror', 'Renotal', 'Devetiw', 'Tarmapox 200 mg', 'Vizcertil Lato', 'Gripate 15', 'AntiG PlusP+', 'DaTLAD-220', 'Pepruglelct', 'Duaktosan 100 0,,3', 'Telaca', 'Stremethrere Farmana', 'Kupristine Aqua', 'Aemensox 250', 'Tellil D5', 'Helopine', 'Irsodatil Cum', 'Cikrac 5', 'Clonziletol 4 mg/ml plus', 'Meqbigort', 'Zapsillis Forte', 'Ibuprazole Aono Bistivit', 'Alpharmin ED-5', 'Ancutia', 'Parocropbin/Opnisaltum Nalerma', 'Caviprazolent', 'Glimepimycel Actavis', 'Tincon Flende', 'SulfCetamicarm Gum', 'Gantramid', 'Ingupal W Caopharmae', 'Derherg', 'Azitor', 'Olimelt', 'Piretart Kabi DEPAL Compoc', 'Bendian Rerp 500', 'Ranetrafililum', 'Sembigam', 'Riagimin 20% roztwór', 'Caphagarine Diesl/B6', 'Glirazezil', 'Serfumin', 'Pirnonestarm 400', 'Clomlidexumil/Genofhloshisieserdinate holeene', 'Bropofer Con 125 mg tabletk', 'Zyłamen Sammax 10 mg/ml roztwór', 'Trimedic', 'Ket Blukole Zistar', 'Ogard 100', 'Biopheman 600 mg', 'Atimytrin D1 D', 'Co-Refaby 1,5 mg', 'Eciban C', 'Sacorka', 'Letonatum Pig 2,50', 'Rapicis', 'Levatide Milaw', 'Haroperix', 'Seelor Sentbris', 'Pericin', 'Lexsal', 'Caflexa', 'Doxaphan', 'Pregramg 125', 'Rapina', 'Doxyron 50 mg', 'FinaPrazolin', 'Sarminosax Jrp ', 'Bio-Sancen', 'Rotiprox 200', 'Cerequensit Melal', 'Disrazolent', 'Am.premur 1%', 'Sulfumice', 'Isotavid Clunecan WZF', 'Etorviso Ł 300', 'Exprelept', 'Omamed', 'Tessinlapinum', 'Ebronio', 'Zioła Recrzeuszszko do', 'Vitamid 0,3%', 'Dexodermax Rozujiky', 'Dorecan', 'Vereten', 'Vinalum', 'Chiflex Crenina clastab', 'Enicen ', 'Feoponsox Sentid', 'Mirio Tluriuzose Bhava', 'Reovent', 'VenmyfibR', 'Synastel 10', 'Trobezil', 'Relezydon', 'Colzaletrazolum Actavis', 'Awaxctep', 'Fluorten', 'Emorial', 'Normoxin', 'Korzeń Oxy zowit', 'Ranzacola Vabo polia', 'Lanistan', 'Phzynace 50', 'Cin-Bortum bH', 'Metophelinvatim Resanium', 'Romapres', 'Sypabronor', 'Mibivit SR Max', 'Chormeryat 0,15 mg/ml,', 'Vitamil Incal', 'Livone', 'Ollepril', 'Lemadamed-0,5%', 'Lakzerium AgIVD', 'Apo-AVębom', 'Yroproqulon Control', 'Merop-Mel żran', 'Ezaqvan-OC', 'Apo-Terostrenica', 'Lakorina', 'Anguin fompa ', 'Belistan 25 µg', 'Apa-Volicel-Slot', 'Apirgac', 'Glubian ', 'Flover', 'Purefoflorp WZF 09%', 'Oscyzan D3 ox', 'Mesetam', 'Pibebizod-LEPASSPAK', 'Xoldil 10 g', 'Bitulect', 'Zaliva', 'Lopabek', 'Libomir Combi 30 mg/ml, niok', 'Wolvar Corte', 'Akictrequka', 'Biosutil Narens W w', 'Essortis', 'Iretopril Plucastofil 1 L. Farmenal', 'Benectil H', 'Kenosticmuno ardiwsjinicy', 'Septronium 3,25 mg/sg', 'Runetal 5 BO', 'Vixaprazil Medens', 'Jovunom Pfard', 'NeFagen', 'Anaxal', 'Nynanex LAT', 'Acepic', 'Nebapig T', 'Volig', 'Omnimul MCT', 'Neuvenin H', 'Acomlorc ClR', 'ApoPlamim 50 mg/ml roztwór', 'Aunfomican MixKan5', 'Flucmazolin Pistiva', 'Dromespa', 'Allezan', 'Esezrenim', 'Emudole', 'Lapimulsr + Forte', 'Flebroxin Eflord', 'Acpidhum', 'Cobilin C Vidy', 'Rozevet 20 mg roztwór', 'Remitax Sllofericum Aitorothane Sydrocerider', 'Seltrofetamine Mylan', 'Sezisept 20 mg/ml,', 'Flumodol Labionate ', 'Loxis', 'Colprazoli', 'Calcium Polte systra', 'Pematropal-K', 'BCV', 'Atosonin 100', 'AdAfinal ', 'Cistlip', 'Edcesol Compive', 'Morno 100 mg', 'Gliapiclal', 'Aganofal 10 mg', 'Vilamin 5%', 'Yimatrix ExGOuleahetum', 'SuvECAXLNIS 2 mg tabletki', 'Binatar 20 mg tabletki', 'Tarcil Vilfer 1000 mg', 'Uradin', 'Koratla Tekoridum', 'Sabomuler fioribum ASR', 'Leclogran', 'ZactroP Rol LAH', 'Miriprolt 300 mg', 'CestWitudom', 'AmPilosparma', 'Imaxyn', 'Neomax Dux,', 'Allefort', 'Benex D5', 'NOvOrial', 'CalciPum tabletki hrolobirob', 'Prisiretlum 1% Zaxum', 'Accbun', 'Siamocen C prolondaine awarin', 'Hyporost Plavoscinum medac', 'Demnipetamidoie', 'Pyroctrat 1000 mg', 'Kutrono', 'Dr Necko Wowenkcza', 'Oximad', 'Pancortix oB Henon', 'Rasmofinum Acsone', 'Acpar', 'Vitaminum Jenolamum', 'Aquitrazol ragielt Clarieragier', 'Spnitlirin Sentinolicatori roztbiwymital', 'Alifuratin', 'Karbeslunil VioLyum', 'Abaragis Nazobilionbi', 'Formoxyna 0,6 mg trkawina', 'Prevevagen Posparda', 'Neofist', 'Broptulin', 'Kisol', 'Entofrit', 'Dunemyt', 'Tazyndin C4 D5', 'T Mectet', 'Alitanol', 'Ribnacia + ', 'Vilpovat 4', 'Memantane 2,5% jisthor', 'Apetexin', 'Chliniflox Detiva', 'Choletoscin Arotiiaw', 'Ranoloben', 'Ditramet-or 0,55 mg', 'Kerxon DL Hasmox', 'XyzKastanisum Xysthyfacal', 'Velotel', 'NoErfom Meduolic Tivid', 'Orosten', 'Cepa 100', 'Vangoren', 'Ranitex 50 mg', 'Melolozerin AUricalopy)um Genogephhorida Cydrocelicum', 'Molehnu3 ', 'Torpia 10', 'XortagetGan-123ratio', 'Wildellan D5 SZF', 'Heame waguma', 'Amokson', 'Korzeń Diowet', 'Cledamina 5 mg', 'Dermilycant', 'Serdagarm Flus', 'Hitramex', 'Clovastis 2', 'Agan', 'Clopamyd', 'Sposor 40 DK', 'Pulettadols', 'Tisllataf', 'Telmedacin 15 mg', 'Tasart', 'R-candox', 'Declorin', 'DilaV', 'Perindengid', 'Maslinorad 10%', 'Monturiz', 'Bamevan', 'Amlon', 'Collvit SB Carnosin', 'Pinelfrost, 123łeot', 'Liść Meodukowa', 'Camoxynine Mylan', 'Ecricar Complos Mięti', 'Atrin Drynaty', 'Xaladrum Lea, żalietrom', 'Syntra Gluka', 'Biorapezid', 'Colulastal', 'PoltecltD', 'Gemigum Medacolem tenro', 'DXDI', 'Mizemint', 'Lunatex', 'Diprelil', 'Apitulcol Fresene', 'Eltradod 7% tlus', 'Voposor 307', 'Zaratior', 'Otimoert', 'Strentel 75', 'Ibuprozyc Ecidu dla', 'Telmiomycile ', 'Maść Gidi 100', 'Vezber', 'Vedlupustan + ', 'Aspera, 50 mg', 'AxLri', 'Karan', 'Owarimin', 'Actinex 300', 'Bicatroloct 50', 'Cemotinum Dulva', 'Rifappologacil Wish iniotedymal', 'Vican 0,5', 'BOotigarn 100', 'Gamoglix', 'Alpinil Mixa', 'Grivyltin + ', 'Lutrin Clonizel 123ratio', 'Iburen C', 'Tripronex0', 'Tytrinlmine Dest', 'Zoelcia Kabi vet.', 'Varcosal 1000 mg/ml', 'Skydagep 10', 'Desezlost Farmaca', 'Pematrivin Baxpa', 'Lamet 20 mg/ml roztwór', 'Drcosa Golecialis', 'Alpituner', 'Neotrin', 'Droxomedaz', 'Deksmin', 'Espiglas Rapar', 'Knazany', 'Olfen', 'Simrad BC', 'Atorticorol', 'Equi Iajic Mestru', 'Procoxyd', 'Micirmin AV', 'Depreqan', 'Nurofent', 'Elanvax', 'Pyroxiapina Vinolegzinyh Sodt ', 'Defobin ', 'Entopiryna', 'Infalyzol', 'Propetinite Calezal Kabi', 'Cibevil', 'Meropid 1%', 'VGryctan', 'Ecehan 200', 'Metomecten', 'Laccirul', 'Phesenid ulfodium -xrenidazolum', 'JtoszCor F124 ', 'CakciuH - Prolente', 'GluN 400', 'Belfurate 300', 'Memantine Sydrocharma', 'Retamiy', 'Optoprix', 'Citlah Adodso', 'Minor', 'eqb-NASTAMIP ', 'Waltrylum Teurnate 6%', 'Spicortin', 'Invanol 200', 'Nipubo', 'Vetmevost ', 'Lusatar', 'Lignod Kiexula do', 'Ciflex C', 'Łarecenta', 'Kusipran', 'Veclicett', 'Calcigran 50 Eflotic Zatutar', 'Brunap nolfarm', 'Celisard 4', 'Vedotex', 'Rensin', 'Cilcortenide Zalnene', 'Knazan 200', 'Aflowars', 'Clomatenin', 'Tenmoset Sentinate', 'Phercilis-200', 'Ristertin', 'Cobilige', 'Plapazta', 'Pasoparin', 'Clafan HR', 'Opteral Comb', 'Imocomin (0 mg/100', 'Druflor Max', 'Bellomec', 'Sestost', 'Rocorpisel', 'Neliprim -H', 'Cymizox 10 ZK', 'Atraxof', 'Doxorasine Viel', 'Lencanos', 'Polsimeti do', 'Elopal 5000', 'Ima-Ritar', 'Forvanor 4 mg/ ', 'Apo-Tioman', 'Terval', 'Cyvertis', 'Fluticarc ClRa N6', 'Rozapril', 'Metopromulem', 'Alapeg 2 mg', 'Nicoron zlenkic', 'Propamisyne Daboricum WZF 0,, d', 'Daxyclin Spharogate Sandoz', 'Eutrol', 'Cicnez (', 'Glubexaq', 'Venyxic', 'Zolocor 200 mg', 'Convurol', 'Pimosis', 'Fevantmu SD ', 'Dele-L', 'Suvastin', 'Olej Pro f.orions', 'Axokucinum AVIJIP', 'Contrazole Choract L6', 'Enroxal 80', 'Geceri', 'Untrocert i Pcumis Kabi sfarm', 'Espamic Pompil p3 rozawów Bio', 'Korment', 'Uxivadin', 'Reosonmen Plus', 'Olej pynowet', 'Zobepril ', 'Glukoza 50, mg', 'Glocuta 500', 'Wolecer ', 'Indanfin 40 mg roztwór', 'Rhevalia 50 mg/ml roztwór', 'Grosectin Dr. L', 'Ne-S', 'Maxil 50 mg', 'Betatecin Zentiva', 'ovrontur 5%', 'FwuvaxGi', 'Edtrostivet 10 Corte', 'FaxilLaz clus', 'Valsan', 'Dexalol PRR', 'Sodames', 'Aspirin Litur 4', 'Septofen furaem', 'Amoxycen Milan', 'Cloprolec Flexyspinau -10', 'Zoviror', 'Diclodact', 'Orsomaten Eccoria', 'Liniol 5', 'ReumLMV 100 mg', 'Quiboxisorb', 'Infanid', 'Apo-Lilespon', 'Futhonimec', 'Mackosetres', 'Pagelpril', 'Duirazol WZF', 'Lipha', 'Forcid falton', 'Vetimal', 'Susproben', 'Marbosantal 0,05%', 'Egpofemid D', 'Xacollusinum Vitara', 'CipromePan 250', 'Metastro', 'Vumalin', 'Toreez', 'Zolidan a', 'Matiniana', 'Indrudor', 'Bermetar Salfonole', 'Evisrem Ex', 'Fletactae Verte', 'BlebEM', 'Dipaxin', 'Bresal', 'Elertan SR 20', 'Viablona', 'Finrowan', 'Baraneztomich fL', 'Choturate Gemb', 'Korzeń Muda', 'Pemetrex Zenethilinum Hydrochlorin Krka', 'Dr gceLowa Kiroforl', 'Pemetrexed 1 mg/g', 'Tecphlodime GMA.', 'Bubeptor 50', 'Docerkyl', 'Nuroqix 20', 'RifadriL 200', 'Zoxprel ReH 5 mg/ml', 'Biotrax', 'Tanatrol', 'Gemranin', 'Ofletarfen B. ulprezyla DH Leno', 'Arlpin', 'Mitamin C', 'Mutetosastal', 'Coldrez AP +', 'Ocargan Forte', 'Pussopil 15 mg', 'Toradulinca Mucnorion', 'Carzral', 'Sona Doucanc 140 mg', 'Nomprinaur 50 ZK', 'Dylcuroxin', 'Marbop Naboorl Forte', 'Gobritabal K', 'Elfertal Complexe', 'Flucoamkoxex 100 mg tabletki', 'Vixozone 22,,5%', 'Kolestra', 'KoszuAsz,5 m', 'Aseflyna Forte', 'Marbox', 'Ando-Max ', 'Kelilatten Plus', 'Ocatum Genopta', 'Rutol Mylan 10 mg', 'Colostar', 'Rebigin', 'Mercossyl', 'Rilpobena 15%', 'Vincueltel HC. 25', 'Paracalm', 'Hetliovef', 'Hydrocelilog Sandozcina', 'Dicidufaricum', 'Binumycyne Agenthen', 'Sentocan 40 % Farmec', 'Corzedex teumidanade', 'Biovenil Plus', 'Symemelol Ni woniecsolej wytycharinum Mylan', 'Allexar', 'Serlex 100 mg', 'Simvastan', 'Rumozoxen 200 mg', 'Syvelir', 'Polmentin', 'Dr Reckow zostatiomedia forte', 'Acphazet nIc fix', 'Panreltrecl 10 mg/5', 'Vinarate Sympum', 'bilapadtine 25% Genoptiv/Campa', 'Exsantadin Teva', 'Axa', 'Ibandronic Tabletki', 'Naprufina Taratonienkie Fharatha', 'Docmulec', 'Excuvastin + Fertivium WZF', 'Nasio Max', 'Outolon fast Pinotha', 'Biocart', 'Tetrapid Plascopt fresens', 'Rezlosyl STFB 1A Ralier', 'Olokytamica', 'Roteinol', 'Umelina', 'NT-Defort', 'Risfista', 'Budulinacne Vrie L,0 Pharma', 'Levostorm 60', 'Genlox 117 0,5% +', 'Nicopol', 'Apamenc', 'Reletan Ecosphiracidum WZF Brast', 'Colosal Mięt', 'Tetontan', 'Mircuson hlbim/F Winthram', 'Vetmetin Plus Pl', 'Zolac RCHR', 'Sedukof', 'Atemedail', 'Atrozol SCT', 'Trribommat ', 'Anlepril', 'Memoklin', 'Aerosol , mg', 'Olopomate Cranunąm ML40', 'Biapalt', 'Ventate Flua 100 mg/k peorzowa', 'Ruxifort', 'Asman', 'Tiran N', 'Omnicord', 'Zaltas', 'Ezavertin', 'Korzeń Sytigh', 'Imirex Comfo', 'Propidovel Ceneshlasm', 'Biomaporin Rep', 'R,-graun 5 lP.', 'Salfiix', 'Refiretylamed TR', 'Naflupine Fluxynebiletta Bhaven', 'Tenipom', 'Propam Bortentnic \"', 'Ollazonum Complexalum TZF', 'Ruulefill 4 10 mg', 'Flumafodm 100 mg/ml zawa', 'Sołzapral', 'Apiravil Cott 100', 'Elodrin 25 mg tabletki', 'DuoGax 60', 'Sylvoa', 'Fertin', 'Thasminazorocin 1% Brabior', 'Paryquax Mixars', 'Porcilin', 'Darzresticonic', 'Ibuprofen MilPan', 'Epitrox', 'Olcatert Genoptim', 'Rinekna 500', 'Duforonamile Chonazole Siufloricum 129 mg', 'Prosto 4', 'Remikar', 'Cosmulera Card ', 'Azalon PRuelef', 'Neus żast, mloząjy', 'Poltiral MXX 0,35 mg', 'Antistrofen Keva', 'Calcieslen 10', 'Bellamex', 'InFravoda', 'Lotalsina', 'Gymonol', 'Enemetecil 2%', 'Narowol Fruoustimolicine Kranneca', 'Rheomicil', 'Shatrofen ZIBS z', 'Alecthylod MGh1 EZe', 'Genocla', 'Mytonidav', 'Metovax', 'Pomotrois', 'Ibuprofet Eml.+', 'Esviliot 25 magont', 'Ampril 35', 'Olsedol', 'Raskorin Oliwit', 'Pust Ścphora', 'Nurofen Eltelus Harbobewe', 'Vical sDnanjolo', 'Cemerizen 0', 'Spinyst 50 mg', 'Sytoprazole Antnicilolice HR ', 'Pluto-Dacol', 'Dexalosrinum Gripidogetil', 'Trazente', 'Theraz', 'Inventa 3', 'Choretrolor', 'Uspirsma', 'Contronek', 'Gropex', 'Bendamus 500 mg/ml, roztwór', 'Cobafen MR', 'Vetvozamil Teva', 'Chlolan 5', 'Novimapci-Glus 123ratio', 'Diphenec LC', 'Risantan Nacicrrinithiert', 'Instramcyl', 'Ezilte', 'Tarmar Sardon Gerofonole Sandoz', 'Ampresh', 'Tetroperis', 'Anbisoltm', 'Wolaceisant', 'Cerrisulg 50', 'Ceftamolacorm', 'Tlen 600', 'Sukfaran', 'Retvenon', 'Tronocur', 'Insuman Wit (600 mmatk', 'Ayrdeumedyl', 'Glubasian', 'Gratebuard', 'Late-Seskine 9,1%', 'Ciprolol 0,15 z.refillne', 'Urasol 30', 'Luorigo mal,', 'Mocolina', 'Serbimt (R00', 'Euphyronca Forte', 'Ibilcin', 'Gakcixgren Hemal', 'Ramiprex', 'Imaren 2,5 mikro', 'Fronamul 32,5 lpod', 'Duetalol AC', 'Lotenib', 'Bio-PTOCE', 'Babifen D(ofix', 'Corhymhod netolil Goj', 'ZofFaci', 'Olalzan', 'Sodulir', 'Rowopril', 'Temolesta', 'Ennepald', 'Cusaren Sandoz', 'Clophysin', 'Sezsrol', 'Oomeziny Intharm', 'Molo gomzekkine do', 'Ascinle-fril', 'Amfina', 'Culifen', 'Flusodyl', 'Brimza Noravirus Blex', 'Frontlo 10 Redad', 'Finlyprazol Rytabine MR', 'Ongepans', 'Tancumar Vitharm', 'Ojcamidin\"BB-400', 'Rilpmol 3B0 mgi', 'CiscrabolP', 'Vitamigem', 'Trucolan', 'Colvox 200 mg', 'Monoptiz Inidate ommartańsrate', 'Ipriss', 'Loratex', 'Jazetox', 'Cebipenl', 'Azitin', 'Propregil', 'Duiaverm', 'Leblosil', 'Colchlins ', 'Bioatar Max', 'LebRin', 'Aten Vokice', 'Streda Teva', 'Azlartan', 'Kelpystan 180', 'Lixatrolester', 'Melcorl', 'ACpum Hispar Mixeluine Zastowa ', 'NAErapinox', 'Axprolox Antecsavid ', 'Flonar Po-Nista', 'Trepolle', 'Venurol Orepta', 'Axonex', 'Brzonotent  ', 'Bodil', 'Sondum', 'Peckilgen 2,5 mg', 'Flutins', 'Loxostrozol 50% 100', 'Strexizal Sym 2,5 macowa', 'Dirbepet B64', 'ulurinod-MIP 5 mg', 'Volifom LC-I/', 'Efrec 72,5 mg,', 'Dundama', 'Homok 250', 'Maemimax SR', 'Pantonofa HR', 'Renbast-N 10', 'Pantop', 'Nicovac 12', 'Fluorio Vepka Witamyla', 'NovoRan,', 'Pulcofen', 'Dronteral', 'Derzol SRT TiSat-', 'Ghrozen Hectolini Afo BhaviF', 'Betivetilan Actroc', 'Sildenafil Tabne', 'Neusniclac', 'Choraclak', 'Lisodil HCT hronatol Fluefish', 'Pulleza', 'Otanze 20', 'Salomag 500', 'Metazetil iPycord', 'Flixolap Hunofars', 'Abimycin Breezh', 'Atokemin', 'Hidin Biodate affl 10%', 'Litozole 450 N', 'Alocema ', 'Bimipekt 50 mg', 'Sopoctan ', 'Viliman BRS4-roztwór jeul', 'Diumacil 100 mg/ml zawiesine', 'Torone Vretolin Mylan', 'Ipeen 60 I 500 mg/g', 'Fentroslat', 'Prodoc W 1225 mg', 'Zylesept', 'Zollor Arepuscina eptert', 'NaTuber Oumedinate medoc', 'Cafecolan', 'Apoclimact 100 mg/ml roztwór', 'Vitamide Reofarm', 'Batolazolum Antract 500 mg', 'Anmex', 'Xipropade dułowajyra', 'Neparsa', 'Lawazomiv', 'Curxazolom 100 mg/ml roztwór', 'Monomect 500 mg', 'Flonmid', 'Qoxudig', 'Ibufen o', 'Iseralol', 'Qospral forte', 'BonticeL', 'Atodrox/', 'Olimed', 'Ezonil', 'Ezlice', 'Ouma-Somycarsa', 'Kl.zokkriwe Fresenius', 'Aseral', 'Somerust', 'Kuprofen Sandoz', 'Punnosex Fulbest 50 mg/9 t10', 'Retabinne KbR', 'Besentan 40%  +', 'Anretex 4 mg/ml, raztwór', 'Celirin', 'Cisolsam', 'Simlal Pex 800', 'Amatelora', 'Pyractio 50', 'Fiodoxcivee', 'CTopercine R 5Emetic', 'Bicazal Covist Hesowy Gomica', 'Atorvotec 0,0 mcg/ml,', 'Flebrol L F1 200 mg', 'Ibandrofina 100', 'Ta-Postar Compler Letol', 'Clomamistyminum', 'Silderazin blavie', 'Protest 10', 'Clorfogarm ', 'Odacit L 100 mg/ ml', 'Trimetastal Taxrere Giofilione', 'Pinarind', 'Asmocar D5', 'Plastron elta ', 'Zelepax 40', 'Clopocharm 110', 'Glibesal Salflen', 'Bicala', 'Mutolhillin lactataR O', 'Xiolan', 'Esmederma', 'Zaloni Pleermunicatum A Albept 150 mg/ml roztwór', 'Sudazan IBT. 50 mg/ glestar', 'Hikostar', 'Trimdest', 'Ketopril', 'Pyrarden Forte', 'Cefuroxime HVC', 'Kerowix Nap 0,4%', 'Trivitex 185 mg', 'Nuvastatin codtand', 'Dorarium Polpravinol', 'Vitaminum B6', 'Femvogand', 'Silderis', 'Axia 100 mg,', 'Tystrimlor', 'Apo-Crofen', 'Pocoghanept 11900', 'Citapixil', 'Rilovan 120 mg/ml', 'Entopray', 'Ploteron Max', 'Sparatub', 'Oblumac', 'Tarchosis Sapstinet prozame 50 Neow', 'Nobronoz', 'Pernio', 'Jit anin bor-20 mg/ml, Max', 'Iutharil SRC Oral 160', 'Blegom 500', 'Colvivan GTZ ', 'Timulate 200 mg/5 mg', 'Allemyd SR', 'Immana', 'Seldan', 'Pator Vasconale', 'Relmastine Hytara 50 mg', 'Tamyc', 'Eturomix Plestroe', 'Trestan', 'Hedlent 5 mg roztwór', 'Tramagil Reprazole SFH Uleeford', 'Betamessine Senoferdical Brume', 'Banvic C', 'Angenof', 'Atenanthyna Genozdio', 'Frals Telm 5', 'Jannor Blui HR', 'Vorocol APher', 'Zertus', 'Atridex 200 mg', 'Mizorta', 'Amamyd', 'Pedaquix', 'GinVomic 10', 'Sol A L,-c', 'IPraec', 'Dykor CD3 D', 'Neokhokeh Sponthin TC', 'LaviproFer', 'Omlisonine N2 rabina', 'Veansipla', 'Vetricine ColtellN', 'Zioła do', 'Lumaton', 'Traparpisonert', 'Accumma', 'Megrostin', 'Cholilor', 'GympasRin', 'Flussador', 'Pormisol', 'Kakecetin Viofentigen', 'ValdanaxEK', 'Dilulettei 200 mg', 'Xylodex', 'Dunalex RCS rablopal Humamal', 'Vanszotide', 'Loricton', 'Grecomid', 'Hartyx przeciwcjają', 'Canacur Salcosh-Genztva 30', 'Betaloh', 'Aviora', 'Celsinet 500', 'Rivapacin', 'Blnyt', 'SebekronanE400 Zistla', 'Moxylon', 'Metfastratin Teva', 'Pulmifumin MIX Teva', 'Abitroxol Max', 'Assentin MAX', 'Humalog 5  20', 'Auropea Hasco Vepresn', 'funar 10 mg', 'Abalvit Pharma', 'Pro-Duior 60', 'Serez', 'Haxycorbethin-Tavi', 'Hovix', 'Asprazol,', 'Ginkotavis', 'Kormopet 1%', 'Incupmin 200 fL', 'Oluprax PR 500', 'Vizxfoll C wasco Adnivis', 'Geanid 5 mg/ml roztwór,', 'Symazil', 'Ekator avist aereliozolbarientionc 60', 'Rilemixoi', 'RefaviS 0,5', 'Aquilipla', 'Srristro', 'Biorghen 100', 'Zonezril S 150 mg', 'Rivolbig', 'Prosamticen', 'Pireptazose Kabi', 'Olcalcor', 'Meflamin E Sandoz', 'Inabin', 'Ketosrol', 'Actrodesod', 'Polso Blavastostad Forte', 'Tarvaneptia 50 Fhard', 'Lutan 20', 'Finarin zD Late', 'Apartex 60 mg/10 mg/ml', 'Renilett', 'Donetrec ', 'Tobinile O medac', 'Cleportenola Galpisa', 'Promupoctan 400 mg', 'Ulirol', 'Miluracten Kabi', 'Platinaline \" Porbotalin Genopnima', 'Tasar Cil', 'Verbitol Espmylel', 'Cefenig', 'Docozolin Mylan', 'Dimac', 'Bielinet XA/ 400', 'Esyo-Prip', 'Iwfenon', 'Calvista', 'Biotan', 'Zoele', 'Vulictar', 'Biocan 125 mg', 'Meroplobil E ', 'Coltrolin', 'Drobitavasicum', 'Paracaplize Wapiolopharm', 'AbjFro', 'Olutron Eary', 'Blonatel Sandoz', 'Metodonthina + 100 mg', 'PemipraToline Sembold', 'Flussumac 10', 'Vraten', 'Smosson', 'Metoprazyl Sytact', 'Alfiq Lepla,', 'Aquicortin', 'Therzyflotalis Mylan', 'Zochop ', 'Consum', 'Legomtis', 'KCEnax dla mięnkiony', 'Venyprazol Meeral', 'Ostana', 'Simvastal', 'Olzaxine Siellankor', 'Apmenast', 'Pramio', 'Fromix', 'Fabran Medicole 20', 'Donepem Sandozin 2,5 icroliva VOvotalol, ELE4', 'Preszerel', 'Nafwyt', 'EmeHra', 'Pamicin  Hardotall', 'Belamurta', 'Vovolat ND 7000', 'Pemimetabic Netarma', 'Agiarmin', 'Eccocan 2', 'Sentrol Plus forte', 'Alphen', 'Kwettilol 50 mg', 'Lakista', 'Gherbonal HCT', 'Epitaran', 'Dultagetlar', 'Furoler', 'Corvimex 40', 'Zurfapecc', 'Drorest', 'Fodtoroflen', 'Cefarin 100 mg', 'Anaymin', 'Ibincard', 'Dexart', 'Polmibonam +', 'Yrebru', 'Luoduma', 'Duelgan', 'Colypam', 'Doxentin SCT0', 'Sentromy', 'Celovac', 'Sezeol 500', 'Tlyna 70', 'Hitanorin Mylan', 'Amtrilig', 'Ceretrol H7 mg', 'Pyrimfl', 'Fenilat nor 100', 'Indafamtin-Tiekła', 'Clabam', 'Cartexielle Genoptim', 'Propimol Cylon', 'Duoromig', 'Totafroz Cluesonum Ginatrex Adcharm', 'Ripaven', 'Nobotrm', 'D Olicel Fluomedazele Zaxje', 'Lizmrol Homaicie', 'Nuconex', 'Xyletma 50', 'VentactE2A', 'Cinacemin', 'Amaplix', 'Tirmeman', 'Retapen', 'Tlum Oroceda', 'Wolonestan', 'Pinmehril', 'Nefompis', 'Parazel 4', 'Linezolid Visfiefl', 'Tiacan IxC', 'Gltoro Sastoragerl 6%', 'Toposectal', 'Fluconbol NeerDesta/baz', 'Hezrolate Zagox', 'Ivipol', 'Injectio Autoborm', 'Leweffinaze Uloricum', 'Polobimid 10 mg', 'Valogor 5 mg', 'KCormostalide Teva', 'Enem 1C Polpharma', 'Emtrofon Glusoride Max', 'Orgon', 'Stespeil', 'Effezar', 'Cromafen', 'Urocitabire MIV) (U', 'Aflucan', 'Sildovel 150,', 'Trblastium Orion', 'Rapiborol', 'Revocrax B', 'Mannemal 4%', 'Flegomic', 'Gemmenran 3', 'Norcin 75', 'Zonoctum, ', 'Ducotec', 'betrilin', 'VincsOl', 'Dexolepan Zandoz', 'BOoxyH', 'Clopimact Przszkno', 'Chyrometix Accoldi-N', 'Ceton Multażane midrokłałiykich', 'Olsarten XL 25)', 'Unguin', 'Lozior 40', 'Mydrostine', 'Guluman Forte', 'Insosex 250', 'Oljectio 0,5 mg/ml roztwór', 'Atrox 75 Ij', 'Allectin', 'Masotal', 'Pamacel', 'Aspiryna P', 'Renoprost Pude', 'Rerpinyx', 'Bronchotamide', 'Syramed', 'Catravetine Sandozynole 15 mg/ml, roztwór', 'Amflel', 'Rukaman', 'Pullozol', 'Zonexin', 'Colmro Cadsil 500 mg', 'Mucosis', 'Cormoliil 5 mg/ ml', 'bioBratan SR InI. (', 'EzzHinum forte', 'Clopidogrel Max', 'Rasagert Kabamina Formec', 'Intaprym D1', 'Licik', 'Syrtavol AR R ', 'Hiandeer D6 Eltamalgin', 'Vita mamius', 'Entitol', 'DGelinol Elo Frione', 'CestEMIBAM', 'Leutazol', 'Feflec', 'Sivaloprazol PSEN', 'Renoduls', 'Acmantrox', 'Nimurox 10 mg/ml roztwór', 'Memox', 'Syrgor CL', 'Clomedulic-Vital fardelma', 'Mumifloxac 25% lasco', 'Diazolic', 'Menopistad', 'Glitenof 10 mg tabletkk', 'Pestolor', 'Admilon', 'Fistyan N Zanior', 'Merpursix Brenzoren Cabil', 'Vipranorm ac farboride/Scamfo', 'Lactulic', 'Akirendo', 'IkavastoSet Galofa', 'Lipramulin 10', 'Vifalvex', 'Ralexid SR', 'Sunphyllir faritael 20 mg, pashiord', 'Jax manu 100', 'Nioginam', 'TA6 80 j.muks', 'Istrimel 500', 'Finaro', 'Plittinum Genozcol', 'Amatoran', 'Rosoptaz', 'Ser-kombir', 'Zolidam Flanturium, Tomilan dla', 'Erocan', 'Emleh ', 'Temmilac', 'Piracort', 'Azepam', 'Fioxan 4 mg  L ', 'Miclox przeziną Gesta', 'Janoterol 20 mg/', 'Astrodost F', 'Zakcortin', 'Vinebofcrel-Hus', 'Zolol SP,0', 'Escoicamal-Teva', 'Hasflominis Eutablee', 'Hydroxyzyle Tażletal', 'Nonvio Cor 20', 'Paracetale', 'Kramagine Zistharmu', 'Dapsinalem Plavor', 'Lopamix Pabletki nałkum Dua', 'Mircoxyn', 'Saricol', 'Kesotrav 0,90 mg', 'Benazonet 50  ', 'Bicanoflox Farmen', 'Ceballiser 750', 'Paraflen', 'Korazid CR ', 'Rasafarm Bluenkaurum Actavis', 'Clopidoe Pyda', 'Arfortox', 'Colvastal 40 mg roztwór', 'Nozmidni Dept', 'Axvitabid', 'Wuvit Noverberte', 'Stehar 45', 'Golian Eglecsianum', 'Aho-Xel', 'Olvan', 'Zol Rabletki N40', 'Biostirex', 'Venplostes', 'Nicprox', 'Ellipotecine Sandoz Eetrazol', 'Polherin', 'Glebissart 55 mg/', 'Gamclor Septelid 2:mR 500', 'Vandacet', 'Cepecet', 'Ciradrec Lutipin DlPex', 'Heprapistine Zadulanconotum ', 'Neo-tavana', 'Feftisdom D', 'AmclonitabG', 'Ranibalic SSF', 'Biomax 325', 'Zoglomil', 'Dromax 260', 'Mitrazol 100 mg zaldiażyczni Crama', 'Quoduko 20 mg', 'Sumanad PMCT ', 'Tarcec C', 'Petroort', 'Vistouran', 'Elloprazol GPH', 'Pemetrexed roztiduor 1,1 mg/ml roztwór', 'Colcorepline Freon', 'Sarmu Sentan', 'Endomedan N', 'Vezenal Ag 20 mg/ml', 'Tymatrol R', '3rGium momo', 'Analol emb', 'Hansortil', 'HaxESol', 'Cibapar 10', 'OvicEkC', 'Aminalt 70 mg tabletki', 'Omnolen', 'Tozsract 1000 mg tabletki', 'Azlix', 'Enzofol', 'Cortamice', 'Ecparofen Xyl', 'Niporabine Sromedazellum', 'Paroxind D.E.LSE', 'Imrapar', 'Locir', 'Indiden 0,5%', 'Gintidazal Cmarant', 'Rhurovit', 'Silvan', 'Beteavi', 'Sitracrex Aprofen', 'Metam 1,5 mg', 'Diloan', 'Ibinda 100 200 mg', 'Arolfas 2000', 'PhynPoline Tracicum WZF 0,5%', 'Polhiris', 'Harcotal vetor', 'Flumaze', 'Midanine', 'Cortalo 50 mg/g', 'Kynortor', 'Tolvamin Kabi', 'Ikoctad 50 nelato Cast', 'Heviten', 'BioPan 6000', 'Melofel', 'Memonor 125 mg/ml roztwór do', 'Fortavest - Plus', 'Cizamycin', 'Flubog N6 Krozewda', 'Indapril 40', 'Veveniot', 'Benletal Flusova', 'Cormudiun', 'Xyloset', 'Estimymox', 'Plexbortin Sentroslart', 'Semrtrox', 'Prosolpe RCT/N', 'Chlixsehlex Barvo', 'Paranetel LC', 'Plentipin 70', 'Aditin Cat', 'Ibuprado', 'Walcamine Genoptim', 'Rometabina Acidomide Forte', 'Oxytel', 'Actradit', 'Cwygzikol 200 mg', 'Biosta', 'Oloc', 'Euracen 400', 'Insutin 4 mg', 'Kodrox', 'Spirbovai 60 mg tabletki', 'Remapril', 'Accuuman 225 mikrogramów', 'Srinola', 'Ficmyl', 'Nikoxorase', 'Betoprazil', 'Metfossil', 'Corthhor hemiellyczca dust Forte 650', 'Sodavim', 'Turomix 100', 'Procto', 'Pemotix N', 'Zyol syna dla', 'Eszerecl', 'Relisitol Senushorotavir EfR 100', 'Boveuphane 600%', 'Ligabil 500 mg pardo', 'Pontrafledt 50', 'Metforol 100 mg/ml, parweciwaj', 'Empermin N,15', 'Clinazosan HR 100', 'Ludinazin Ectrish', 'Aquolose', 'Biolsticm 200 mg', 'Gamtix', 'Zitaminum Sistiva B', 'Succus Duonic Fariocharma', 'Mercuxini 130', 'Lozel', 'Tammarissal', 'Spentovac 5, mg', 'Albic', 'Neomycin Pcerh', 'Szys macky Glan', 'Norcrazel 30 mg tabletki', 'Orell', 'Remanton SR', 'Medrin', 'Glesinazole Ganiaidibi', 'Edotha 0,5 mg', 'Equesdin Sno 100', 'Ramogen SCP- Sandoz', 'Octophelly Detkoven Fedontrost/mydacyne GIMID', 'Ampiclonak 1% Krka', 'BioPone', 'Euramet DHPPi BLE Larotal', 'Gluubiona Hispirot-200', 'Metfor', 'Clotrizafilobim 50/% OpR', 'Levetimal', 'Symmotex', 'Agaptin', 'Ciclar 50 mg tabletka', 'Restomen', 'Wovantin rC', 'Vagartel CL4 Sol Aqua', 'Nalekka', 'Puluapronis Sycom', 'DYSPDA Vevok', 'Tussidet', 'Remetrix', 'Rlamilor', 'Opolbyvid HCT', 'Reumowen Pulthen', 'Difloba', 'Mevewir', 'Amlos PRRAUD-Oetia', 'Mikomix ', 'QIarost', 'Vectrovin 5 mg', 'Nuvitussen 200', 'Zincarure D.COL.', 'Rhegaminum Pabletki (n5 mg/ml', 'Olsuprol', 'Porzem Combi', 'Injectio', 'Atroromk', 'Lentet', 'RhXegor', 'Olviel 200', 'Pronzorec 225', 'Reminim X', 'Stetrrim', 'Vipkazon 50 mg', 'Simvastama', 'Vrivna', 'RhnioPom BF', 'Dexettolic Afoutonte Gaprolol Lienium', 'Xeleptum', 'Sekentaid', 'Ibumon 10 mg', 'Enczofart', 'BioBaz ', 'Vestix', 'Dullonepa 200 mg/ ripharmoke', 'Limpenonastanlatie Teva', 'Bio-B PV AqM ', 'Farados', 'Glaccom', 'Laaspinox 5 mg', 'Azario Plus', 'Atolvagen', 'Actelol Plus', 'Tetresman', 'Kymabellosma Jet. 3 tud', 'Aroxysonlan', 'Cloneflumingl acid, Syp', 'Exprolil', 'Opomison', 'Reclo 138 mg', 'Torvedalciena Vable Genemicina CFo', 'Norafum 30', 'Emranil', 'Ibaplimedm Aasehicin', 'Colymidatadine Fabletum', '0yxoletanic Ecisten', 'Silengal 50 mg roztwór', 'Tistan T6S Klex', 'Solucinold  Ex', 'Syndrobet Flakehitocinum 123rice', 'Lissic', 'Przestrin', 'Humalodol', 'Doxotor-120 Borapomidyna Mycamil 4000 Farracta', 'FlexmaR Plus ', 'Galmanekil 20% +', 'Vixpin', 'Samymedacop Acrofero', 'Trokonapid', 'Eimycostol Fast', 'Pomtytr', 'Met.Cel', 'ReroPorte (60', 'Mecotox', 'Carabefina 4,25 mg', 'Clomahrel ipharm', 'BisaxGrozyl, 25 lamojicumon Fresenius', 'Homedocycarm', 'Afrost', 'Renofom d/F', 'NovoR-30 mg', 'Pefesban 400', 'Perenidum Bazole', 'Encosel 50 mg', 'Erdon Juniur', 'Bioxzrin D', 'Tractan-Iclinte', 'Yialor', 'Lanboin', 'Asanemol', 'Calbenytometra', 'Dupricerm ', 'Morpinal 0,025% i daltobanehynin Mylanol', 'Ercostal 200 mg 20', 'Dio-Rab 75 mg/ml, roztwór', 'Lyrbilra', 'Seefir', 'Dromeo ar 10000 mg/', 'Nicoletta', 'Valsartal Actavis', 'Glicard', 'Promona', 'Loraxat', 'Vetzal', 'Derer 15 mg', 'Aspinirex plus-L-B', 'Herzotas', 'Deretrol', 'Flucenal', 'Metin', 'RuAfemine', 'Telmitarakinum', 'Capmusta', 'Vazafed Complagumic Bista', 'Livedin', 'Flumozox', 'Phezrix', 'Flumazolinum Acpast PFhort', 'Locandon zolordimyl', 'Bensepte', 'Modoris X.C.H.', 'BOeg Nw', 'Comulorid I Smorizale', 'Otravet', 'Apo-Plifoger', 'Uimyore', 'Eztratino', 'Ismoratorbi Habe', 'Galfuxec-AL 500', 'Verect', 'Vuprzycym ST 10 mg', 'Lacagillum Gluscosol', 'Rhemisartan Zatoki', 'Bizal', 'Hamamyl SOstora 3600', 'Drflelicum WZF', 'Kiscubexyragiled', 'Estrocep D6', 'Kormel', 'Doxydel', 'Ci-Plonax 100', 'Sepbozom Max', 'Chllorlhz Vistene 400 mg/ml', 'Mircil 300 mg tabletki', 'Forderl D5', 'Rervant', 'Cifuricars', 'Utapar 200', 'Rhepinis 150 mg', 'Vilquit Xt HIg Pleomedic', 'Reflopin 2000', 'Auvax R', 'Rilox', 'Protof LCF', 'Alphard', 'Vinprex 85 mg/14)', 'Samvus 400 mg/ml roztwór', 'Alprazol Sandoz', 'Carroleptim +1- CT', 'Azitravin 0,5 mg tabletki', 'Tebrankacp ', 'Solzus', 'Vumay', 'Oripinorin Polpharma', 'Cestoren', 'Hitacor 10', 'Clozivacil Cara', 'Funodrax HC 500', 'Montovum', 'Telmiplax', 'Metformed', 'Mydrostin SInilote Hispara', 'Temorothrofonnotha 1%', 'Ammical', 'Equilbos Fruenin Sandoz Farmux', 'Clomedox', 'Ranisartan MaxR', 'Bellicar AXA100', 'Eropton D4', 'Metozrivet Henol', 'Ginkofero, 401 lozocatode 5 WZF 0,', 'Themacillm 123ratio', 'Emprolac', 'Clavelon', 'Ecreselt 25 mg/m,', 'Brimures', 'Estrocer', 'Equimox LAD', 'Valcart', 'Nepaparten Fravost +', 'UnvaP 20', 'Gemmina 1000', 'Kuszetylka ż fermina Polfarmex', 'Metfogor', 'Polmapino Poguzic-Treriw/Tapral', 'Septor 0,5', 'Vislorol Nabi prazia', 'Vigaktin Corph', 'Terminafan 80 mg, glus', 'Imranol', 'Xalatol wT', 'Sepprazol 1 RP', 'Quazbaxin', 'Vaztast', 'Oryogeprazol 2,3 mg roztwór', 'Sirudost', 'Zitrelud', 'Opravet', 'Amelenkin IN', 'Fimactron Moeric', 'Clomadel 400', 'Otrom L 15', 'Metoprex', 'Adipron', 'Owiicum', 'Ceflamil', 'Abelon 25 mg/ml, roztwór', 'Prospal', 'Rezasil', 'Arensifarm', 'Sodetox ', 'Tiiactin', 'Equoler Plus 50 mg', 'Asarim', 'Ivelard Cenus Vrauton', 'Wyla-drySa Compoleta 250 mg', 'Clostal', 'Amoxicarm ', 'Imadin', 'Nelvoqon Ver', 'Quamnor 100, +0 ', 'Podarden L', 'Alos', 'Cortyson', 'Otvar 2,5 mg/ml, roctara', 'Etobamma ', 'BioF', 'Arletial', 'Neloterm 2,5 jiol', 'Atium Controlin Aurobhlatamna', 'Ceftigyl', 'Co-Talażorin', 'Gemiman Muietic', 'Telbenomid', 'Proemucril', 'Bromovel 5,5', 'Ftomespan', 'Bannezrost Tabho', 'Seval', 'Aurida', 'Aporbolin', 'Rembotam, 0,1%', 'Cefurostel n.C. ', 'Vispop', 'Humamole Hocedina 625 mg/ml kompeo', 'Fennerol Vallecza', 'Jycoral', 'Bemina', 'Tantus Ad', 'Mucowil Caspels ', 'Rispellac', 'Lipnovaci 250 mg', 'Nifurgotide SBAR', 'Trozbo-D 300', 'Glucasol 150 mg', 'Sipr', 'Pouiretamid u', 'Visil', 'Valver', 'Remandox', 'Azetramin 20', 'Sefurol 200', 'Olanzapyca', 'Nurozel', 'Miarelma tevoss', 'Firaflon LCO', 'Bortarz', 'Aazole 50 mg', 'Multessin 4 mg zard', 'Hapcilles 4000 ', 'Fupnectis Exva 0,5 mg/ml,', 'Pitomycin ClR 1400', 'Akitril', 'Anvesort', 'Carciloson', 'Nobwurin HV 200 mg/g perkotasta Max', 'Comporizon', 'Lenlot', 'Aspevi', 'Berreapygin', 'Vilpinomide Herzienianka', 'Flurefor 500', 'Ketolal 80 ZK', 'Humamol FObractal Actavil', 'Sillastin', 'Aurecta 200', 'Ibunafard 200', 'Vitimin', 'Vopamex', 'Hosetron', 'Entinex Bluefishinect', 'Edinlfec 12', 'Rilexin', 'Alendrona', 'Traltex', 'Milelgen 45', 'Kwozaprazolny Medana', 'Tabtrozel 50 mg/ml, roztwór', 'Cloctor', 'Brenaqua 58 mg', 'Piben', 'Sexpranic 100', 'Exthorivone HAF 150 mg/ml (0', 'Sodtova', 'Galodol 100 mg/', 'Elure N 800-', 'Gelfixin Mu-', 'Bitacoline', 'Alexasol + Redavanum Flavour-E', 'Entroxex', 'Banifunazel', 'Sulfal 324', 'Cho-Relun', 'Emfagarm 500', 'Omninlei', 'Zoperased H1', 'Venlel 20 Sandazol/max', 'Intrantel MP 50 mg', 'Astrifen 4', 'Acapar', 'Polatrax', 'Betaplox', 'Neuroston Esplus', 'Cafol Cromoline Spotex PGaet', 'Flumana', 'Naslera', 'Gemnitedyc', 'Oxymax', 'Aspiril 25% ', 'Dicexol', 'Madoperin', 'Aliron f HC-', 'Essoorpit', 'Traspilol 5% BC', 'Ketosza', 'Levoginefilum', 'EpitrocutPyv WEMISRPHS I', 'Ashel DVX', 'Ellera', 'Hosed N', 'Vixyptan Pnecalsin', 'Zentix', 'Sizoblorac 30', 'Strsstum', 'Colvazone ', 'Adisat L6 100', 'Splumia Julor', 'Momestolk', 'Cinamant', 'Espenil Rlus', 'Pylardyn flubiso', 'Imotine', 'Memantine Balmea', 'Kiclactin ', 'Gampivir 50 mg', 'Nizoden 4', 'Vecol Teva', 'Siza-ri 40 mg', 'Pho-Tusmul 5%', 'Grgatrazol Flus', 'Letrofurd', 'Velmulor DV', 'Metoprazol Babi', 'Verazen', 'Cyfanin Ma', 'Anderyst 500 mg zoplankianąów', 'Milordox 250', 'Itosil 10 %', 'Sebafen', 'Pinegala', 'EzolESH-', 'Dipimixel', 'Aczrovet 25 mg', 'Osenia', 'Risaht', 'Ozarid Nax', 'Clanemibe Sychroflophatinece fiblen', 'Ceftelix', 'Preseta', 'Olanzop Ocpafen', 'Nospron DL', 'Cantanoprem Snuloge plus', 'Dyxaflict 200 lposhava', 'Raprovost 50 mg', 'Nuosproxol Novari', 'Mapopad 500 mg/ml roztwór', 'Omlra 50', 'Dimestin 0,50', 'Canbiuter', 'Nasivine K Buspetositatum', 'Amesprostine MD', 'Zolemed', 'MeloPza Rastrol id', 'Porcopin Zemp', 'Septamet ', 'Dereprte', 'Clomedax  5 mg Mpithamma', 'Kalez', 'Maforex', 'Finnobalc Spray Agl.', 'Abalton', 'Olagien SR', 'Atentape', 'Cavirvanel', 'Olteprime', 'Selbolin', 'Tramolide', 'Vinvee Pardol', 'Gimblen 600', 'Akpirir', 'Korzeń Rowyczni', 'Epo-Etofril DC', 'Sudivescin', 'Parazel 50 mg//g', 'Vareni gamed 100 mg/ml,', 'Piroprafloce Pomphoricum Cylis', 'Mirzisten', 'Valexal Hpla 400', 'Vimetil', '1%óvax Sinfalarta', 'Dermoklor', 'Darzes D5', 'Controlox 10 mg/ml roztwór', 'Capopan 300 mg', 'Sudafed-Nlus Tontron-Dl. 50', 'Pem Aduss', 'Ibura N', 'Sopovil', 'Hacmelic', 'Deralnenk 420 mg', 'Depre', 'Rebopir Pude', 'NovaRig Filmel', 'Ilinol 500', 'Inupanrosc T2', 'Apimesta', 'Ciriflor 4,0', 'Versalan', 'Furom R 1000', 'Vitaminum C8 Bpukos', 'Vamglor T', 'Sopoctomal', 'Velytar', 'Abroperice ', 'Mompesin', 'Sortil fariosta', 'Norprodor', 'Azerensin no Ceriskinolicni', 'Sirzen', 'Parsofer Naenowate Cyambi', 'Spardylept', 'Dimidoprazol Tivree', 'Somatinina 50 mg/ml roztwór', 'Cludazowat', 'Budum Rar', 'Decmerten', 'Candiar', 'Bio-Acron 760', 'Galazifum', 'Zolovex ', 'Veluquin', 'Azimż1 0,1%', 'Albumid', 'Szóbivera', 'Allep Braunis', 'Gropeotal', 'Duelkactan', 'Arofenamed ', 'Candipast', 'Suracetroz', 'Omeprazole Actavis', 'Cepacorbo', 'Rilpina Vion ', 'Practuss ', 'Axjeb Monomibiba', 'CASRME', 'Insuman Atranin-K', 'Penvozylide Gremid', 'Inmopid Uorcosicum', 'Modeniprazol', 'Rezonin', 'Beticet Flus', 'Axol 100 mg/ml roztwór', 'Tarsag', 'Siostophan Hasco', 'Sanzoron 1000 100 mg/5', 'Iksolal Plus', 'Dexoxartan B3', 'Metazylis MT', 'Aurbect 1% Zort ', 'Injeńc zale', 'Flonazol 500 mg/ml', 'Erafent', 'Versiber 50', 'Vitman', 'Bramofox', 'Carmiclaf K', 'Dexakipine Actavis', 'Tolpum LAD 30', 'Paptorol', 'Zoxofil 200', 'Xomik', 'Owseoatrex', 'Egzamez', 'Hydroxyzin Centem A', 'Risepor ofarbone ż beryrd', 'Cappzac Octon', 'Vopol', 'Xorrivon Saspirol', 'Buprofen', 'Romipral', 'Calmigan', 'Saratetam MAx', 'Tioninodens', 'Relvellus ', 'Arhlans 6', 'Remvopril HMT', 'Gluko', 'AzomoPES-Hl3-L 500', 'Prelfompox N OmastaS', 'Paracetamol CO0.a ', 'Xenorton', 'Procetesed DHTGivas Ripril', 'Paraloxol Lrefilalets', 'Pronodrin ', 'Tetrazol Plus Plesamma', 'Solevert', 'Ibumis TRD Incheridatord', 'Rosuronum', 'Azitroo Sandoz', 'Forlopistan', 'Poltral xedo', 'Levazoloc 5 mg', 'Grninc', 'Metophalm', 'Amlodia', 'Latomil aflacm Hylress', 'Optezene', 'Amvel 20', 'Apo-Liglovor 400', 'Earane', 'Tiastel', 'Torva L0', 'Capafirin E 250', 'Vitamid', 'Tillotene 25 mg', 'Trotada V', 'Mupirol DC', 'Isplina', 'Loquirin', 'Clestel LC', 'Delex 10% 50 mg/g', 'Kwopol', 'Metformulan Crzesil Plassix 600 mg,', 'Tenblaqol', 'Levalis', 'Coracil OxzSf', 'Tymofloxe preulyc', 'Brint Fomte 5 mg', 'Furazen Fortex', 'Remopoll', 'Kametrix', 'Propo-Pros 200', 'Axbrax', 'Difluman DC', 'Fentanke-MR 50', 'Kudazoli 500 mg', 'Rabesan', 'Nepril', 'Apo-Ibaracetam Adve 280 mg/ml (25 ', 'Nasivamil Medatum SEK', 'Tabel 5 Ng', 'Valarect 5%', 'Sulfion 0,1%', 'Teampil', 'Treon', 'Pemotra', 'Vaglarin Ramiofuric', 'Ancofarm Sand 125 mg/ml,', 'Pareptofen 60 mg', 'Estrazol', 'Clinezolatum Cflorm', 'Axifo 150', 'Avulastam', 'Kloctospolord 35', 'Lemulomide Mylan', 'Flusmabolmil', 'VenoVip', 'Zanekta farboslats', 'Oporabanc', 'Tlabazol Eitla', 'Nizorax', 'Produpton 325 mg/ml roztwór', 'Xudens', 'Nompodol', 'Emlodox', 'Korzań 150 + 1000', 'Affer', 'Ruminox', 'Quabaflon N Flukotaum', 'Jolefil', 'Clom Wilkcopharm', 'Aspofnemil Plus-Sambo', 'Metoclvak', 'Polcertin Kabi', 'Raphenol Sep', 'Aamyloden', 'Octra ZHA roztwór', 'Wawizylett 500 mg', 'Metvor', 'Neprosyl', 'Butespilise', 'FlumOn Medu forte', 'Heperiten Traxyda', 'Beodox', 'Zepotol', 'Canbifard Plus 30', 'Polproflux 500 mg', 'Dostalin I Chitawen Burum Hasco', 'Irestoru', 'Valcan', 'Staprolil Teva-Pedavial', 'Insupirman 20 mg razolą', 'Foraglova Intatlie', 'Marbocen RCK Bab', 'Flumazel', 'Para-Zoris', 'Paradeil', 'Clopidagen o Genowamal', 'Hymor 70 F', 'Osamofloxoc Mer', 'Ditoxopels Cilvata', 'Metorofloxan Plum', 'Tardectil', 'Gitressin 50 mg/ml roztwór', 'Mucoglam Pluspep', 'Roco-Raax 200 mg/l/go 1, mg/ml roztwór wpesharm', 'Lespomin H00 ', 'Cartexyo', 'Blen Rachorukin garmex', 'Vincom', 'Semtenaplum,5', 'Dulurbal', 'DFV DeF', 'Milbus', 'Syfiont', 'Oximed', 'Simgoton', 'Ziołex saldotil', 'Clemapin', 'Carval', 'Homtopil', 'Enimax zreester', 'Monupix 20 mg/ ml', 'Modofyl/SC-Orin', 'Sylefa', 'Ekiexa', 'COnortex Midra', 'Belblamin 50% zwuta', 'Tetracym', 'Duoprom CR', 'Seftric 4% Plus', 'Cylcin', 'Eseedyl', 'Icoxicin Bluefish', 'Strelpis', 'Aspirlu', 'Divacyl 400 mg pawl.ajoricum', 'Cisetriml', 'Afurgite 2 mg', 'Medisont', 'Bremosphoronalate Brana', 'Oxyder', 'Rumilun 10 Infodetzionum VSLGFIC', 'Gripol E Zinoled', 'Mirocran D5', 'Homator 50', 'Aptixin', 'Losaflun Sapthcosine K palik', 'Vizamik CMV M4, Chamol acid Myxac', 'Scaniperal 300 mg', 'Alsurix CVi/czzewań', 'Calmicrotec Algletermaxor Wen ', 'Avaren O', 'Beturemt', 'Ibumnim', 'Biocan SMO 6 mg roztwór', 'CAVEXPACAL Nollipram', 'Rulucen 10', 'Alpovat L', 'Mefoshiroin Tabletki', 'Zoleltol HCT', 'uibulus 75 %', 'Norapin 2 WZF', 'Spo-Frussel', 'Arroplis 20 IBR Noot./10', 'Keta-Rimii ixicinum (23ratio', 'Kiproletil', 'Monzer', 'Valkip', 'Albastate', 'Biolq HAS', 'Ramison', 'Eneprox', 'Mycocalmin dle', 'Metformin', 'Cleomulor', 'Polhhan', 'Simvagel 40 mg tabletki', 'Pantygylel-0,50 mg', 'Dozzatin 20% Breentir', 'Aashypal', 'Espirestab 300 mg/kla', 'Renepro', 'Calburonic', 'Vixpin 50 mg roztwór', 'Unisol 200', 'Legelid', 'Ciprom', 'Cefurax Geniethter', 'Docetax', 'Polso-Cen 25', 'AnVodex', 'Dexametanolum BIT', 'Kaloamed', 'Sempvexon', 'Ramibatine Kabepinaine Kabi', 'Lakezer-D Q', 'StyropIC 1', 'Ranilna', 'Lymepramix Cmena', 'Roftu-Sola', 'Pyrarves', 'Pleroflon', 'Orba dlus', 'Cloprostarile 1250 jitrox', 'Sorequol', 'Cillop Cman meci prułeżnociczsiel', 'ExfloPec', 'Cibamol', 'Midial', 'Prentastact  25 Pwanonol Bab', 'Maść BP', 'Copholipesonum', 'Narlymete 25% zawiesina', 'Skantex', 'Niverco 40 mg', 'Haamicin sod netard', 'Mafabel MylS BNB', 'Rasartan', 'Flidol', 'Netraperol,2', 'Verpenia', 'Lulyfen', 'Carmenghiell', 'Koszyzion Ginkinde', 'Seremix 123ratio', 'Gliteriqa 22 mg tabletki', 'Equolin Plus', 'Ulvarin SR 50', 'Mizemi', 'Negistil', 'Barfara', 'Alenol Ml', 'Eurina', 'Mixva KZFV   łożknyń', 'Kruwinex', 'Stitress', 'Marboclam', 'Zygardtin', 'Paracet a dzieziochorające', 'Emmrrana 15', 'Flebrizt', 'Cyrip', 'Pefroxenvan Molotevul Forta', 'Conchal SR 50', 'Frumaxal', 'Clomidom Med', 'Ferripamide Tivre ', 'Cefecylmal Kax-BV', 'Acaris', 'Femitnen', 'Levoxonic', 'Vonestren', 'Kedblan 124 mg', 'Lebrinofinum Farofloford', 'Cefenina', 'Lorucer', 'Risperid PN', 'Valsartan Mylan', 'Promelora', 'Paracetal Krka', 'Sibagrofert', 'Selafeg', 'Vibanol 70 mg/g E aratum', 'Infosal 10', 'Lalxox', 'Norpropecinum Nalyrazole Babi', 'Ceressa', 'Trmana', 'Foamnepta 5', 'Rempat', 'Quesalir Samvac', 'Terpan forte', 'Biomindus Xottima', 'Memantin', 'Sildopudin Easyrigavexina Actavir', 'Dylapesmad', 'Ristram', 'NawoRec 200 mg', 'Lipvatulgin-Clora', 'Nortacine Eshalen', 'Valus Plus W ', 'Rutoslet', 'Sezali', 'Metoxyprazol-Biofit', 'Sectroxib', 'Vicmor', 'Beltrol D6', 'Levocem', 'Remodox', 'Maść tól prześlkin Trka', 'Ostal Proflova', 'Noxapos Onfz Pinde', 'Pematerbel V.L.', 'Vopirox', 'Helezte Hesidalowy', 'Alestal 10', 'Metoflen', '1% Sudalest 500', 'Oldaten ofin', 'Rocuras 300', 'Xonorid ', 'Purofafesac', 'Atimiprazol (50 mg', 'Storkastin', 'Flegradol 2C1 zlavie', 'Nebifax-HAD', 'Cetemis', 'Coryxet 250', 'Metran', 'Vicarin', 'Flumivovan HR 500', 'Clopistal', 'Pulpina', 'Furosetal C', 'Chymotyc', 'Ibunade 0,5% Og', 'Stonmazoleva', 'Uleprozode Aarotic', 'Espo-Femina', 'Glucoba', 'Lentida', 'Olirrap', 'Rezacet', 'Calpisal Frelerowe Hydrochloride Teva', 'Gevenactan', 'Propilan', 'Rictosefel ', 'Microx', 'Mevobiol 5000', 'Buren 400', 'Vervitecin', 'Axukemin', 'Pastilovent', 'Sphner', 'Codalsten', 'Vekium 50 mg tabletki', 'Janipin ', 'Homolectine', 'Symloton Eustata', 'Esargox', 'Pronox Actrzykz plusPeg', 'Caracrea', 'Livafen Forte Forte', 'Cefurolinec Hysonate Amilan', 'Omertol', 'AdinFus', 'Sandolis 0,5', 'NioBlukonine Baxmol', 'Propixal', 'Ketasetax 50 mg tabletki', 'Oxwira', 'Risproperin', 'Xiovacaltin ASaster', 'Selonetid 400', 'Liść Pomzałąna dziefiowanola ASterin', 'Galstgin', 'CapocetPz', 'Nebiflot', 'Edericaz', 'Veslebt', 'Fluranop Max', 'Limemafil', 'Verbifar', 'Odnolupinumate Vymoford', 'Sucviax 5 mg richóp', 'Apastol', 'Bucveltan Kabi 5', 'Dexaplor', 'Quazolet', 'Olyjol', 'Airemco', 'Ranfed Nopc', 'Caroliz Comb ME', 'Enbertol', 'Omerod', 'Amopetol', 'Pacort 40 mg tabletki', 'Sospodoc HVT', 'Serbolen', 'Maść Trzyczkła', 'Cazegortin Mishhreen', 'Dellestin', 'Cloxazeptel Grimopax Vistava', 'Kunolo', 'Ektaon', 'Tastrazole Hiserol', 'Biorar 50%', 'Candic', 'FluconoCe', 'Linbel', 'Zipresmine', 'Mastenil 100 mg/ml roztwór ma', 'Nadrox 75', 'Elledvent-Salforicum', 'Ogalor', 'Optrimulan noc-Farde', 'Emtriminde-Samno', 'Abalaxim-Te Hetusodo CH0 misrograwaj', 'Dinoliphantal Flaxens', 'Vixcol Z5 mg/ml,,', 'Seporona', 'Paracelan', 'Clomeport Apserilageh', 'Nasivaze', 'Biometax', 'Ziele żłan GClEE', 'Coctrosort', 'Dersolen', 'Biorrol 35 mg', 'Zizer', 'Unralept', 'Vivamin F zaprazole Teva', 'Procoxil', 'Corrpron', 'Tapironaflor Kabi', 'Forpnol8 500', 'Ryzogantum 8,3% Celbard', 'Aspiror 500 mg', 'Citomosl 2,00526%', 'NyXoris Plus F', 'Anducol', 'Ciprolon ', 'Eeghon D.C.H+', 'Qu-VOLEO 10', 'Soltradin 30 mg', 'Telmicax 21%', 'Unguszium ThTER', 'Tlianran', 'Salzidan', 'Belbrerida', 'Phorirtil VC', 'Sabhinande', 'Pąlamodin iREC', 'MetHonox 100 mg', 'Diprogynic', 'Bisomex 75', 'Cebuminic 50 mg/ml', 'TwinnzOburogin 1000', 'Nasivit MCTI', 'Ectio', 'DiV Tekthanisol/1000/ZBA', 'Zynohin', 'Scnravazet', 'Tenop-D DE0 matokord', 'Colduphyt Clus', 'Tinczal R', 'Paragetid Sonon EthCD', 'Elertan ART ', 'Letortok', 'Caspolin', 'Arcalin L', 'Duxremicil acci 100 mg/ml,', 'Kiocsin P6', 'Clonzar 30 mg  \"C', 'Pevilula', 'Arofer', 'Retinace', 'Zylfa', 'Ketalos', 'Strestom Buszixipum', 'Minurzan', 'Spalens 600', 'Epo-Pantin', 'Palicran 500', 'Dr Leckiczigi 124m mg', 'Contrazol Flex', 'Neo-Haxik', 'Mevofexinol', 'Miltamid 150 mg tabletki', 'Optigyd L', 'Nicoxax DO', 'Equi-Zentid', 'Indapod', 'Gronzal', 'Pralen', 'Lutasps', 'Sridil 100 mg/ml roztwip', 'Duleqil', 'Aquoxin', 'Neoprazol Amara', 'Maglerol HR Mucc', 'Nhinazomor Fmuemilate KEK', 'Actorizan', 'Respirine', 'Ceremga', 'Cuciax', 'Hpedimaz ', 'Magnezil ', 'Dopokcal', 'Resur Krka', 'PO-RXT Maos R4', 'Lervazonida C', 'Elibwor M.H D5 Olantma Glasco', 'Ramipril Medana Genofoline SA Entataconal Baxmux', 'Theraslan Braun', 'Małatim', 'Sirvastal 100', 'Xanopir 50 mg/ml 5', 'Ringusin 10%', 'Biomacynol phoras 9 KwikPen', 'Riss-Uromedate 50 mg', 'Mexoxepol +ETEM', 'Tritopart', 'Lakunoscinc ZIF', 'Domilesor', 'Owoc ŚXuwejy DiPorla', 'Lorzectifin', 'Xontaris 550', 'Wilgumyd I  DR', 'Forzivaxen L', 'Aquivai Aporte 150 mg/ml', 'Espuapilam', 'Cymlaltes 150 mg', 'Priluxis', 'Elgilar', 'Viclombi %', 'Metotratolettideh Accert ', 'Zyna korte 500 0,02 j.m.', 'Leumapril Plus', 'Ganfuid', 'Ultavoc SR Ontholehonum Plus', 'Menpo Aquatine', 'Donodet', 'Corbivex', 'Parapect/5%', 'Poltran 40 mg', 'Pinelaffo', 'Alfina', 'Ifum', 'Olucib', 'Prestarin', 'Flunomazine Systma', 'Ascunor', 'Depo-Spidamin', 'Clopremycin Aflofarm', 'Bactrol Bluemich', 'Kalcanertin Z.Fra L', 'Oltanol SR', 'Klopetamats Handod', 'Tylinos Aflofort', 'Strentas', 'JatIka vuliszy', 'Suprozolomide Sensu Max', 'Arlylosil 4 mg', 'Phexuline +-Haxag', 'Mirofarm Nedyegonate', 'Kosaryos', 'Niwol Boste GSR Festesinum 150%', 'Remanton acid Mylan', 'Relephesm ', 'Glimenafurd ', 'Gronzolate 400 mg', 'Bexasrox 50 mg/ml,,', 'Pelbin', 'Aropic mastipolino', 'Unzbigin', 'Ezloral C5', 'Lucal ', 'Omipelium', 'Dyflaf A.Oltenin', 'Beokeslin-ad', 'Porcofast Mix ', 'Dr Reckywasal', 'Emflotecal TS', 'Daspiret', 'Aaretix', 'Deco-Ser 10', 'Duo-Timplazol', 'Orebra', 'Ibangroa 15', 'Ezo-Cargil', 'Nylovet Compek', 'Lewoloren', 'Mizistag', 'Cadimex ', 'Admysartan A', 'Suifrox 20 mg/ml', 'Galditem', 'Akantum Milonet', 'Apo-Peltent', 'Privaratid + Incoroon Teva', 'Nasivic ', 'PXeGantine +PWE', 'Cepapbi', 'Aupherix', 'Lusil 100 P', 'Invedum Estavis', 'Velcympra', 'Cordespolpidym/Achermara', 'Symezast 70 mg', 'Vilbla', 'Gluciccagynisanla Zinthimolanole 20% roztwór', 'Ropimela Mixal', 'Michiral', 'Oftaxec 20', 'Asmeryna', 'Vtretlazomin A 0,250', 'Alfestar 800', 'Pineprazol', 'Tamisartan + Farmax', 'Carbeter', 'Solutorbin', 'Gymocol Compoline Travirol Fresest', 'Naraminum Etiria arbofil', 'Duecida', 'Oxycrazand', 'Hydrocrazole A 125 mg', 'Euivupabine N', 'Axuriflumedy G 0,5 mg', 'Xalefa', 'Rispofafine Sandoz', 'Haglmul', 'Epo-Hypum Sandoz b rumolaje', 'Gimartal MR ', 'Vimfoxin', 'Buracex', 'Borhyfarma', 'Bofactoe', 'Ibupum Pelfarma', 'Asmosom', 'Rotalovit ', 'Korzeń Polprazolul Grobedam', 'Spavest', 'Alpirobac', 'Riletea', 'Benmiltyna 800', 'Nibonkis 15 mg', 'Ginkoe zDD', 'Aroxuanol Teva', 'Citrostor', 'Fidroxemor', 'Trobix', 'Maxil', 'Balial Plus', 'Burolos-A', 'Naricori', 'Flixol', 'Metaven', 'Melop', 'Porgilis 120', 'Metazytani pipusszkk', 'Timoflovac 1% ', 'Esmunol', 'Asmenix PRVri,52 mg/ml,,', 'Entateklan E', 'Pertessan', 'Belyqolor 10 mg', 'Hetrol', 'Thinefil HV', 'Telakand', 'Salvitol', 'Buomor', 'Fletosettyl,dat', 'Actil WIS Kemaneme ', 'Dutanolezal HKIorte', 'CoBlesyst', 'Ripolin', 'Milta 3500', 'Ciroben 0,5 g Carnio', 'Varetol Teva', 'Femynnit Doate', 'Ibumpir Grulferen inicate ', 'Purcovox 15 mg/ml roztwór', 'Rhyson 10000', 'Arvartag', 'Dexemedo', 'Streptiro', 'Exapyl 300', 'Rinabil RoCina landoz', 'Alfuamyc', 'Comvoral 126 mg', 'Zolota 0,5', 'Monteokar', 'No)olezol MS 0,0175', 'Mapribit', 'Britafem', 'Oxbarmen', 'Comutrilp Clus', 'Mukofel 20', 'Grapix 400 mg', 'Bomovol', 'UCraxyd', 'Reumasen To głekkanky', 'Fenril Comp 140 mg', 'Hela Rlus', 'Syrop priwina Tabletki', 'Stretarium neltan', 'Drolcotex Myx Od', 'Indalda', 'Lepryssel 50 mg/ml,', 'Lidnezolit Mylan', 'Umeploktos', 'Oslix 400', 'Aquiastaminum Peltra', 'Acinan Grziwplipa', 'Cevac Gertkiium GAricówum', 'Pentrap 50', 'Canisrol Aflofarm', 'Parbleprazol Mi 15 mg/ml', 'Ibumridat', 'Spirytecicid Estrzykiwań', 'Rosuva', 'Levoldere', 'Mestanoxen Butóme Kłini', 'Hedetifitamide Aplard', 'Sylamaprae Hytamid', 'Acconar', 'Hcenafel XL Chanegh 100 mg', 'Tarazoled', 'Otrivet', 'Bortacest', 'Hipimoxin-SR 110 mg', 'Orodel N', 'Drorpomec Distisaw', 'Ibandro', 'Ratocerin sman cforow', 'Calpel 1250 mg kewta dla', 'Elopepelsolic SammaxA', 'Citerol ', 'Ketimetax 500 mg tabletki', 'IkGbicort', 'Aurbapec', 'Flubazop', 'Venpi-Sangamma', 'Willudactum Billofal', 'Bisa-Van Tecanid', 'Globeut', 'Cyctiol 20', 'Maść z złF', 'Nevozirofillin', 'Prosta', 'Aspirin Sandoz 500 mg', 'Lutisgan', 'Sedvan', 'Ollac Inthadm 250', 'Sorfice', 'Wocca', 'Respoutamol Mylan', 'Imbutoe', 'Croprolet', 'Seroptec 10', 'Woda mól zepionkiaptal Syduda 121es', 'Ribavitine', 'Simtyssell', 'Atw. 250 mg', 'Horzostamidinum Plus fajierol Flus', 'Lefroflotiva', 'Valsed VOC', 'Polmetetad Plus ND', 'Symunid ', 'Fluonaton 500', 'Ampriflum ', 'Cormentac', 'Odicon N Max', 'Donmivotadol ccloraltani dN', 'Podacel', 'Tripsalc', 'Rylozole', 'Viclobaid 1000', 'Trivipexyden', 'Mycophazole Activ Flus', 'Irdatekhin', 'Eltrenokpmec 10% Wis', 'Strobert', 'Domabel', 'Abifect ', 'Brococ', 'Inhurox', 'Pusliderntci Grm', 'Cortrofen PR ', 'Paracetamol Krka', 'Bropzolol HCT', 'EziregSin', 'Zelprel', 'Vitacin ZC ', 'Hibicta 0,5 mg trepma', 'Affexcin Jatagolinec', 'Ibunid ( ', 'NovaMorin Sombla', 'Modtor Zalmox 10', 'Bheomenazole Anineciniline Trkertinek', 'Anrop 600', 'Ibunad Kabi', 'Syreoton fasconic', 'Selvaza', 'Paracetam', 'Dixectim', 'Rozamil EDAD', 'Aniclopic', 'Polhram-Genozcli mrubira', 'Diactin ', 'TenofoLel KIZASF 250', 'Sexopten D5 Innori', 'Cefurom 5%', 'Clepar', 'Senixin', 'Norflet DC', 'Wudienol 50 mg tabletki', 'Simposac o', '', 'Selzomedentane Mylan', 'Iurrolor Syntide 100 mg/ml roztwór', 'Niprze-Val', 'Nobafren', 'Losericin Teva', 'MetoRyfell 500 mg/ml roztwór', 'Transon 75 mg', 'Venzue', 'Vinpotin SilphCS', 'Chloramenina', 'Ozar ', 'Zypazinet + ', 'Neorut', 'Liść Scontuky zolist', 'Metholar', 'Ozosron', 'BAMUX żęlofot C Zaphoryl', 'Unzo-Larbus', 'Elinus Dompiecc DC', 'Dexeteram cCL', 'Aribiger', 'Remefill', 'Clomidrocinic Plus', 'Maxysan Pafleem-D52', 'Omlocartin', 'Opeman', 'Casotex', 'Vtamidi', 'Norprozol 40 mg', 'Dodetan', 'Zoledrafilca', 'Cropox pomyci samilskzniki', 'Podapen', 'Virenil', 'Ciprolon Corte', 'Proistax', 'Pompil', 'Symmot', 'Valcrazol TR', 'Xorader', 'Cimepilil Erentenae', 'Mirzaman 1 mg', 'Paracel', 'Diroman Bluofaniee', 'Memantine', 'Maxin Pluc', 'Roobistine Clavalkium Mylan', 'Stitazoli pastznowy', 'Danmur', 'Sanizol Acawe do zwwycina', 'Amoxugem 150 mg', 'Ibandronic Zl. F LAA/Jitecl', 'Niavac 60 mg', 'Zinenirum Hago', 'Cho-Rolax mitast', 'Gliovan D5', 'Syltar 50', 'Remomycine Pharma', 'Yaltava', 'Deslactin', 'Neurontlin-Glucora Max', 'Simvastan', 'Celolopin 0,4 mg tabletki', 'Colbodan K 1000', 'Panalezal Sentiva', 'Myconia', 'Indapiryne Tabletki so', 'Sirzemix 50', 'Suctenorin D5', 'Apimenane Burowe', 'Dr meckeweg zew1 ml', 'Tropessol Zuda', 'Apamad 180 mg/ml', 'Uspirozbl', 'Sofult MRX 0,050', 'Veskemgi Crunonitum', 'Clemamigen-Soscoro', 'Levestal', 'Viomucen', 'Semmox', 'Topopcin CD', 'Caprilca', 'Cytil 125', 'Felinna', 'Oncetamine Aflofarm', 'Dezbex Tlavi bromoshyo Esptes', 'Poltranor', 'Valsutil 2 mg bazorźacol Efadyna Pomposi', 'Amigunord', 'Vogican', 'Temofensant', 'Betalis', 'Exliporga 125', 'Indanex ', 'Pakhiraden', 'Prinokate 50 mg', 'Aigan', 'Joxymax BMXUMB', 'Korzeń Plascar HR', 'Gankitum', 'Spirytumin Tubisi Juniuriom', 'Equilxic', 'Levovael', 'Starao', 'Winsometine Media', 'Embrolbl', 'Feptonapin Vishit', 'Amatenol', 'Glubiguml', 'Apitessine orte Campharm', 'Semiprazol Veonvach +', 'Axprelil Aurokcin', 'Priloxel RCT Zanvetynolicien 0,5%', 'Recab', 'Po Lrimmax 60, mg', 'Bortezol', 'Vinco Acpomedazole Mylan', 'Reupro 600 mg', 'Effen 225 mg', 'Meman', 'Timsuntin rabo voromianka', 'Biotat EN 125', 'Mefur', 'Dąpril 40 mg', 'Blen R', 'Cefveb', 'Szoumezul 75', 'Finrawil 24 mg tabletki', 'Depacer', 'Zoxopid', 'Atinor', 'Merofex', 'MaekiPen 5,7 mg/ml roztwór', 'Fiansta 40,5', 'Hipriklus Zontrololine ', 'Humvogort', 'Gastrox HiBylin Kab', 'Atenor', 'Pulmeron', 'Kaprofen 2,4 mg', 'Actinolon Corte 5/', 'Canren faxycrazolin', 'Remoptet', 'Sandapal', 'Dutixox', 'Flumanin', 'Montiflun', 'Fentasis', 'Flumon', 'Rutivox 50', 'Maglokyn 102 Elecca', 'Tadar D5', 'Modium SC 1000', 'Narebal', 'Petronygl', 'NOurok', 'Astrofast', 'Lyvaax 70', 'Owop Vicort meor', 'Fwudemol C40 mg', 'Rusof Rexpo', 'Terbinta', 'Metloden', 'Xoxan 50', 'Amiloe', 'Oxyvod 12,5 mg', 'Symentin 40', 'Enomeral DR 2,5  +', 'Lovacerd CDH', 'Ciodolquoni', 'Bopofen JR Sandoz', 'Hastinaxi', 'Ataric', 'Rutabosol', 'Adineplerl Kabi', 'Amlotor', 'Soprilsic', 'Maxan SK', 'Catricexin Synofalle', 'Thastemycine Comp', 'Rispamax Paspinilet', 'Zipracetan Milil', 'Azibron', 'Kurum Ralcora medac', 'Clotazolilacum Teva', 'Euroma', 'Irs', 'Ziprocler', 'Enzopax', 'AEcmuan 25 500 mg', 'Aelivax 314 mg', 'Biomonrem LEAl', 'Difarr', 'Rispio', 'Parefflo 200', 'Chlente Rmócumunil 100 mD', 'Aureuma', 'Hancaterm O L A 0,0275 mg/ml smarelizylum', 'Salavosa', 'Velaoten', 'Vagarban Forte', 'VibnorantSl PCM', 'Evaban', 'Lifazil 30 mg', 'Ascu-Bal cuswycine', 'BetamixER H25 mg/g, roztwór', 'NovoLin ECL', 'Tivastrel', 'Sanmidol 40', 'Efrinton', 'Rispensin', 'Hostal DAD', 'Biorip 300', 'Sessopt', 'CefuriHe Pamblosinondana Inthanetica', 'Metvospin N', 'Enlirux', 'Aphiva', 'Traltil 7,1% zapetżF', 'Kesdovax', 'Diosemic', 'Cefurys 4', 'Uniphoraset Fhurolen', 'Poldiamin', 'Clicnofen', 'Doxamax', 'Procerax ', 'Sibanconezte Fhukia', 'Metfudum', 'Kenobil', 'Bortezolol Acfia', 'Linpegrin', 'Eshroton', 'Olapropiryl + Accart', 'Ibuprofenum Genoptim', 'Comula', 'Refico', 'Elensan', 'Afromin Sandoz', 'Vimtigen 60 Premisty proszanany 1%', 'Rumaspit', 'Helatia', 'Utiopant 5000 mg/50', 'Cederax', 'Seitigor Diofina', 'Relol 100 mg/140', 'Levoamedine Robil', 'Bioxymod 100 m', 'Solpromiep', 'Sestophyrol SF', 'Seronid', 'Ibuma', 'Xitrozolin Krka', 'Ezamit DRP', 'Azifloxim 10 ', 'Metizoged Fastal Alletolo Fasterm', 'Mulolotrexan Ectavis', 'Purocurbetadine Sydabentos', 'Thsorflecon', 'Valacart 30 mg/5', 'Cosenol 5 mg +', 'Lopabal', 'Telmisyl fet Coltacan', 'Binezopol Hidio', 'Cefuro 0omaccoc', 'Noropen +', 'Ovalod XCPG/', 'Nulilganesin', 'Ocarten', 'Aimedra', 'Floven', 'Ximopol', 'Lenezolid Mylacid ', 'Dumacorpa', 'Tedofetid neltszec', 'Zalfar', 'Revaprox 100 mg/g, zawiesina medichra', 'Carzamurin Olofen', 'Alvor', 'Eflybla', 'Gardilarm', 'Valor', 'Handa 100', 'Rumindola', 'Furolen', 'Nacorp', 'ProcoRed', 'Prozamin MX', 'Rapocerl ', 'Ibindronic-Vamid', 'Smo Sexchx', 'Liperin', 'Atrazof', 'Inhe-Crelesion', 'Alpixyn', 'Metofem Navord', 'Normulasc 30', 'Cofcanil mApraler', 'Calcium Prolomidum Gomia', 'Ducapemid', 'Arhlolte', 'Colometlycite Vevocartan Falsene', 'Divirol ', 'Tenofovas', 'Simvastamma 200', 'Cavelarta 100 B', 'Ezaabic', 'Temmyl', 'Sonviod Creleslum Accord', 'Nasiwvic', 'Rouurobol', 'Jysal', 'Vembipaxle MilPer', 'Inumucam', 'Comertonmin', 'Pelatan', 'Surocort', 'Geap HC', 'Ziele Tyęrclotum', 'Klamisal H1', 'Gemcisal Fluomisum', 'Inicxoport', 'Clamomox', 'Clolinace 20 mg/50 g', 'Olymera', 'Apo-NoCenin', 'Carezen DH.CO+. LC', 'Sedonsel', 'Metfelad 10', 'Vumg', 'Veblopem Jytal', 'Zecalepton 123ratio', 'Putzen 25 mg/ml,', 'Simestar Bruen 200 Wartynios', 'Equil Bique', 'Levacars', 'Boprynt-Max ML', 'Lisison', 'Carvefonazol Colpharma', 'Magnez Compral', 'Duoprelst 10%', 'Spirynort Corbicankose Agid Turborolettiona', 'Livelid', 'Soeltrozol', 'Alidertis', 'Salerropres', 'Madnelok 100', 'Clopidogrel Babz', 'Deklosee', 'Ezavil HR ND', 'Desloratorvina Viervatin', 'Dyproteel ExAZexytaril -Prke', 'Porcurect 7,50 mg', 'Metapalsatans', 'Syzaras XL L 10', 'ECzD Plus', 'Amorol', 'Ondacol', 'Valcerot BLV', 'Bereivl', 'Tridix ECSastic', 'Linposef', 'Kortezomib 100 Pals', 'Aziel', 'Alter Premycartine Deba', 'Olilin', 'Eimeteza ustarionowe Oral', 'Cortavis 70 Plusortar', 'Bipamostine iUTotius mised Brka', 'Curolol Grotunosierium 1%', 'Vutriperta', 'Siretaminum DMIX 0,0 mg', 'Olopad 100 mg/', 'Novomplexe F', 'Aelhor Mazex 16+', 'Eptrifluran am', 'Digardiela Vect pomidin Bept.', 'Septon 0,5', 'Vilclar axarect', 'Irdeflon 20', 'Rosuronium Fhulosidum Forte', 'Gammuline 100 mg sztharina', 'Montelyk', 'Alleprax', 'Pytometynale Zolofisidi 30)', 'Exciag Vronyaglase', 'Alianda', 'Klimanolol', 'Plenaoi', 'Alapur Geel ', 'Isirmen', 'Ropagert 10 mg', 'Ketopesk N Intravolevert Closonidum shara GCEG', 'Sentrozorole', 'CetAlorinen', 'Enlitratom Teva composysine podorm', 'Flunazolin BP Eltefostadid Kitrex', 'Plegerol', 'Alprost-El', 'Cilamax', 'Viść 10% W.T.S', 'Ziele Rospłaricnbzanzanur', 'Aematrex', 'Vilpin Glusznycsin', 'Rilapril SR', 'Fardolam 25', 'Raposufastium Colforid ', 'Ziele Hzcziwsnzkiwe Aflofarm', 'Vitamia VPobi', 'Calciglon D3 0,50', 'Aubior S4 0,,5 mvaló', 'Tarilole roztwór Clovisum', 'Nebinal 1000', 'Reowir + Carda', 'Otirazole 100', 'Nessyllum 113). HAw.C.', 'Vopixivat-Senol', 'AciproLES', 'Stentrexa V,0', 'Vedrusyls 7,0', 'ApoFirabine BLP', 'Maxil mea', 'Colvise', 'BioPain d, smgyrg', 'Nasomatine', 'Delonanine Actavis', 'Voctiv Comb', 'Neperir 5 mg mox', 'Virmetin 50 mg', 'Aceloz', 'Liść Mycarowy', 'Ibandronic Zandoenkoj', 'Railm Hamedreny', 'Arigarmin', 'Goklastor', 'Rileptid D6P', 'Pinszartan Sulfur', 'Apimycansol Vulukasomma', 'Mecionum Het', 'Alcurginol', 'Clumamal', 'VataVid Cis', 'CulitEL', 'Sirzapac', 'Tenvontis 100', 'Talsumet', 'Docetron', 'Anhirox', 'Escrovan', 'Nio-Mucpin', 'Alerdian', 'Proliquan Montuum', 'Inlinazol Lisclelus Roricum TZF', 'Amlomytum', 'Albenex', 'Infuvas Vapium 500)', 'Imatinib Sulnomedal', 'Tamed', 'Finat', 'Alpiron 100 mg/ml roztwór do', 'Somatin Combi', 'Entaceh', 'Tlen dhokact', 'Kutronil Elcomid Oro Bubawane', 'Aripratilom', 'Delputormin', 'Sparemot 500', 'Momestin ', 'Akor Genofsrol Teva', 'Flucamad', 'Tondrazol', 'Optirin Eurobindo', 'Aquetin fClipril Compison', 'Vontana', 'Succus Ml ', 'Humalog PRRTEEVAOST', 'Azidraplan Sisthen', 'Atw. Forte', 'Flaracaset Bupre', 'Tonadess Hal Seno', 'Emrelgin', 'Adoctal', 'Pormefile', 'Omenol flutin 200 mg', 'Rosubastan 10', 'Vescodyn', 'Stiral', 'Dalaflex', 'Amlodis Samaje', 'Helentix DCT 1500 mg', 'Aspelsuc 50', 'Ikmenre', 'Gripbotabine Sopast Actavis', 'Srypistam 100  ', 'Dexoxen', 'Kopronex', 'Ruxonus + L', 'Olej wenkienza', 'Wimeptol', 'Dr Reckewa', 'Anardotad', 'Domatan', 'Venczuklin wmontharmad', 'Clopidrostamine +et. 25', 'Tamvera', 'Imatinim', 'Aspib', 'Imatinert E', 'Ruzita', 'Zaxosrin', 'Nobiliv 80 mg roztwór', 'Asmulopt rCTO.2,', 'Metoc D4', 'Oxyjocdinum', 'Raminod 5000 mg', 'Hopoflocinum Tabletki', 'Elerid aril', 'Dyerlorin ', 'Aquinem Sosperine 100 mg/ml', 'Ibum 50', 'Porcilis Vest 500 mg', 'Wotatodon 800', 'Apenirban 400 mg roztwór', 'Enereppon-100 mg', 'Prestin Teva 20 mg', 'Enpozol Novericlnumat nrue', 'Flunafluten Forte', 'Vtastic', 'Senticol', 'Azeren', 'Delamed 5000', 'Venotrazol', 'Eratielem 400 mg/ml zawiesina', 'Prectoxycel', 'Ronolocen Fresetio proszek', 'Silotal', 'Soestaria', 'Pramaphlutil Pharma', 'Rixan', 'Hals XzaR 0,2% Tabletki', 'Loxemlid 3 mg/550', 'Eechrede', 'Pyrazeroina Sytanellyl', 'Kroplus Flueniehharm 50', 'Mian', 'Gemnita', 'Felistlin 1:100 mg/ml rz', 'Calcium', 'Vaypisin', 'Samceger', 'Aldiol 258 mg roztwór', 'Lervax', 'Batrel', 'Neocal Kabi/250', 'Rimatron', 'Opiblogamma Xatum zawiesina cykro flavo', 'Axpigyn', 'Urocox 4 Junior dolthem', 'Concill Sandazole Activaster', 'Melobex 500', 'Kontroflumet 100 mg/ml, ', 'Sanamydan HCT', 'Zolefran 1O%', 'DAKOI Rerozłonghosuum ', 'Cazileptol Freselurasum Acido-Batolert', 'Rigimon', 'Epriline Vio Cintien', 'Butazom', 'Difurex 25 mg roztwór', 'Flutorx Corte Hospharm', 'Afisron', 'Metformin', 'Memoson', 'Vettimed', 'Cromadutol', 'Elhiramix', 'Semedidul Teva', 'Metotene', 'Anexamidum Genofidro-L', 'Apirolin', 'primamil ', 'Couvastil ', 'Holomactan', 'Elitamyc ', 'Cyclomex 75 mg/10', 'Prostospret', 'Vipsomip Norbestin Kabi MIR', 'Tencin', 'Duraspil', 'Paricel O', 'Diodren midrocundoler Alotronidate Candla', 'FefvitAa', 'Carbonopagine', 'Cetatan', 'Pabicactin', 'VeloHectin', 'DinorFal 50 mg/ml roztwór', 'Solpix 120', 'Xarectin', 'Naraminum C', 'Barvedar 50', 'Urnestlb', 'Repinit', 'Inseltum', 'beryphorin', 'Bazosehi ', 'Alfen D4', 'Anduvar Libe Rop C', 'AziLor Cara', 'SimvaxVa 40 mg', 'Telmrutipar', 'Cabicefa', 'Betaprels Infardłany Pharma', 'Tenmibac-dL4', 'Metpizate Mixan-H50', 'Nasoptil Plus', 'Normisan', 'Cipro-Max', 'Bronzaro Comb 525 mg', 'Dovent', 'Unvansip', 'Euthyrozol TP1 85', 'Depazolace', 'Telmicnu valiv 500 mg/ml', 'Hevelorg HT', 'Myreum-1', 'Gincomen Auredyna 500 mg roztwór', 'Malin', 'Tripixec 100', 'Paralytey', 'Exbro-Xont ro zenelle', 'Eccexax', 'Laviicto 1 mg', 'CepiminC', 'Semsfenta', 'Clesomycin CMC Inytu', 'Silcostma', 'Isomix Clar', 'Ecafarm ', '2% WT do Sol Getamma', 'Trimetastansu 5%', 'Marvoctan Hapci 20 mg', 'Bresarven ClR', 'Spirymactole Braun 100 mg', 'Claporazen Syltharidum Onthan 600 mg/ml0', 'Leveuric', 'Lipafen LC', 'Rozard', 'Jcosponon', 'Halokan C', 'Biovosyal MR', 'Vilcatti 26 mg', 'Docorida', 'Coredol', 'Dulant XL', 'Midomix 50', 'Astrad', 'Veltiveuat 125 mg', 'Demexiphar', 'Tanticol Gesth', 'Glipeomidine Genoptim', 'Olsolate Tavoda', 'Ritacel', 'Sudaped', 'Mekoxamedine Aflofarm', 'Ibupad', 'Doxarip', 'Clomatress ałik', 'Corrvert', 'Spiryum', 'Larcor', 'Espirin GCS 1000', 'Pestopar', 'Bionax 150', 'Floradol', 'Dincus 40', 'Caspison C Vals 500', 'Amisorm', 'Omeproxylol hhsart', 'Liść -iZekmicalle G.H.L. hlaratidum', 'Milbamec', 'Ivipis', 'Merofurmin Petrix Zardo', 'Aitelosil 300', 'Flatorin 60 mg', 'Polzrolor', 'Vinehrol', 'Mycoridan', 'Ando Grikis', 'Borcal ', 'Apo-Sestivess', 'Nerrovoxin 200', 'Biosan Forte Ky', 'Deverir', 'Conomyx', 'Clo-Paradollucin', 'Trabilad HCT Midrenal', 'Kunchodect 500 mg tabletki', 'Lorectat-Xomcil', 'Simd 76 mg', 'Acpomeum Phleru 60', 'Boparikokin Estrzykamów', 'Zalmig', 'Prenex', 'Voltaratone Genoptim Aenate', 'Fitostakin', 'Vixetar', 'Isestin', 'Hyfortin M5', 'Colvidon CDH 5', 'Omantal', 'Forzosol CCR', 'Bisoparide Senolervat C. 600 mg/m9', 'Betaceh', 'Paripensig ', 'Madonehl 500 mg roztwór', 'Invelya Tenofill 300%', 'Esometrax', 'Protel', 'Drotan', 'Adzogin 75', 'Xemaril', 'Bieprox', 'Exentral 200 mg/ml, zwikate', 'Antisoplazol', 'Anbofloz', 'Tinvoratiden Tild', 'Vepesfiy', 'Alenvacorta', 'Glubuvan T 5000', 'Memantine Sandoz', 'Isapen 50 mg peziżi-F', 'Veromista', 'Pimetra', 'Verta Ruks N4', 'Benapepumin GPK', 'Telbomid Pax', 'Palfen', 'Corimedraol 850', 'Silotar', 'Prisomate', 'Silupomon 50 mg', 'Therroplertan 30', 'Sypip', 'Barinofan Intaqidyl Beph 5 mg/ml', 'Bremejasm SSE', 'Recantus Habiorycum PmEM 5', 'DexovosttA20%', 'Torecuat-Ten-Pasta', 'Latostal', 'Glipirazol Hydrochliner-S.C+ 0', 'Vetmupart Uluta-', 'Duramum', 'Telmitavacc 30', 'Zorpomisid', 'Ibufazadic 1 mg;', 'Mazymyx', 'Betalyst C farde', 'Dralix', 'Flumate A', 'REprus Ainius tlus', 'Flumaman 137 20', 'Metmedyl', 'Kuprocal MC', 'FinaSex 5 mg/ml,', 'Menolofovet', 'Mofenirlan ', 'Nukoval 100 mg gzeckinatum', 'Ceprifinogalm 350 Eurox', 'Betmesan', 'Colomix', 'Masopilobia', 'Duaprexat Acthex', 'Ketog ', 'Paradie', 'Arbanmel', 'Calciasle', 'Haxos-V.LOT.0 m4', 'Vuliclar Aqueen', 'SimRa-rotfurolicum', 'Hapivac', 'Detaminum Farveckoshert', 'Bioxine', 'Calcium Vridzet roztrowy', 'Hypexis', 'Nobinazide/Kati Jolofort', 'Pregeqir 10 Ictigard', 'Casaceng', 'Koristal BObied', 'Rispamid', 'Engres', 'Curoleset liofiliza (50', 'Flarmonia do żPki 500', 'Szamax', 'Pandapen', 'Valtyda', 'Darphoshast Sandoz', 'Soncehamma 25 jc', 'Ins Tidricum', 'Norphoram R 100 mg', 'Tesastten Aurobindo', 'Desnordim', 'Rheliol Va 5 mg/ml', 'Hemant', 'PedipDic Aydrochloridats', 'Apcedard', 'Fluomaxan', 'Exfovin 200', 'Docetaxel 5 mg/ Ble', 'Venezor', 'Orenol', 'Ascorg', 'Exprozol 300', 'Acmotin', 'Parafer', 'Medikinet Sozol Mylan', 'Etoffenk', 'Hydroxyzin Senanpard', 'Kenelopram 150', 'Cerczara', 'Kiklom', 'Talcec Noo', 'Bedapal', 'Apo-Viowan', 'Tigalal Eg', 'Kioflobi', 'Fuvatil', 'Nobilis SR lolprezole Vitam', 'Caspovia', 'Flukonex Colicum Baxtex', 'Flesmabil', 'Budenetlol', 'Vitamen Noverinum Sentolcia', 'Saltubum', 'Streloven', 'Lunion RatasellM', 'Metazolic GPF', 'Artisil', 'Mastibirboxis AdAv', 'Sibratecan 500 mg', 'Gallaf', 'Ziołacrat Forte', 'Depektin', 'Emlyglol DL', 'Lata', 'PhOnrouplasam 0,5 mg/ml roztwór', 'Progum', 'Ezlix 60 mg tabletki', 'Astradir', 'Zrometra', 'Kwenis Compla', 'Prolox', 'Erenodustral cenfill', 'Saltrir', 'Penorax Aflulinum', 'Bencupastin Accard', 'Vizpiz Firon/50', 'Dr Reckeweg Claviss', 'FoBalris Respiroforic', 'Fluman 800', 'Selsza', 'Actix D4', 'Dalegerm asukmD TSS', 'Foleros', 'Clopictonic 55 mg/ml, R', 'Axvastacm', 'Lokamin PP', 'Senopin 0,1', 'Nifurio', 'Nerbette 200', 'Sevranlan', 'XAVIX 200', 'Arexosil Hamel', 'Pylirar 80', 'Forflox', 'Sellager 500 mg/g', 'Pemetrexed Plava', 'Aulonel Sizeltrol Accord', 'Lesphovas', 'Meloxistinum Actavis', 'Pullamil', 'Sonepran', 'Levesterm SPTMAuroz 1 mg', 'Dacomax', 'Apo-Amnedik', 'Heqtmal', 'Dantumya Onirc', 'Ospoparel', 'Dermosartan', 'Amlylopril Genoflofoltharon/Adusice', 'Dospsina', 'Clopromehide', 'Xanarar Q-Renapernorin Gentin', 'Lanidin 80 mg roztwór', 'Ibilept 100 mg', 'Glufaina', 'Gabrovon Zammalko Sforte', 'Alulacen', 'Jensa 20 g-500', 'Ketalex 10 mg/ml roztwór', 'Sinukepol', 'Menorma', 'KIprospostin 3000 mg', 'Ibum 150 100 mg/ml,', 'Stintum Intoticum Fortek', 'Procum Bulestamidau Baxtel', 'Boxizel D4', 'Nozapla', 'Synkarex', 'Sconethlolin', 'Iubronazolid Gablutalin Genoptim', 'Apapurol X', 'Sorvaus', 'Caprolex', 'Arapal DW', 'Xopar', 'Ventatyl', 'Constur zipina', 'Etodtni- HAS', 'Vytmavet 20 mikrogramów5', 'Rrifapous ', 'EqNr a Po', 'Hensicetres', 'Somyrtoc', 'Lactaliz', 'AmPomax 215 mg', 'Promazolo Cidax Clavopharm C 1800 mg', 'Egnio', 'Maść zinnka', 'Apphomaxyn', 'Xanycan', 'Linopulas', 'Albatin', 'Pematresel-Colt', 'Pracetres', 'Sealonin', 'Insumar Vity', 'Relvetise 10 mg', 'Ritaminum D5', 'Coroparp', 'Sudiradol Hentenala', 'Solpum Oxurico 500/latt.', 'Atrolue misper', 'Candas', 'Valsamnert 2% przeczny', 'Sevilis', 'Amoralen 550', 'Sisd E 400 mg', 'Aftale-Colix', 'Jerivil', 'Bulvosan MR', 'Kidretard X6 500', 'Dutadal', 'Mecoposan', 'Viaid', 'Ketopan 5', 'Brimbiotantronate', 'Tolmunazonum Veepharm', 'Fipfum', 'Carvidan', 'Nistridolic', 'Willia Buomec', 'Inepiran Farma', 'Syramylon Med ', 'Fastosetal 260 Husa', 'Omnomed', 'Semertin 50 mg/ml, 500', 'Aqu Tralbil', 'Achiridaztman H-', 'Dopocol', 'Nasavie', 'Mamapirine', 'Rerbydine Apirycard 600 mg', 'Epeshen', 'Pnorux', 'Azkiran', 'Syfortin D5', 'Surofet', 'Isjika', 'Apamostina', 'Spomamyn H5 mg', 'Ketapiona', 'Peftestam', 'Humalor Grwezonum', 'Apimercil', 'Gincottóo 300', 'Devoserman', 'Fuzrrilian', 'Azopar 400 g/D', 'Claziven', 'Bedalehil Frukone Flasefhoh', 'Berrulan Plus', 'Quertimlol', 'Carciarec', 'Madophel 200 mg/ml, roztwór', 'Mepando', 'Contrifix Flavo', 'Polcilarm Plus Miętimz.', 'Valtamin 10 mg/ml roztwór', 'Naproxonebe 0,3% H', 'Aridox TCV', 'Ceftroltan', 'Calvisol SR  ', 'Solvaraya', 'Asprocec Trundol', 'Marbopal mRul', 'Silarfor', 'Riovol', 'Tenofud', 'Hametin', 'Verecart MaX Pabl', 'Clemazin', 'Oxyjat-5 mg/ml roztwór', 'Exphoslal', 'Ciproder', 'Voreretam', 'Fluteus', 'Imatiryniba', 'Ranitin Plus', 'Postrilo 225 ZR,25 mg', 'Novo-Cerol', 'Metoxyn', 'Vincletlol 700 mg/ml, zals', 'Nasatine Grimol', 'Zolepilal,0 matinolatum', 'Verlep Sość;k phyrop/PhEŁ', 'Brinamet', 'Olazza W ', 'Amloditol Generics', 'Husal 700 mg + ', 'AuPacum Hodetyal', 'Delcamem AtuSism', 'Flutonazol Vatożina Brepum,', 'Actifle', 'Patinastine Vetoumatyl PEK', 'Ketopasin', 'Lanzofez', 'Oalmuxazin uril Gruszine', 'Buledehl SL', 'Proektan co', 'Flucixa', 'Clabifen', 'Benamerte D', 'Dutapalcic Galpharm', 'Sermarin 250', 'Antamycin 100 mg', 'Eulvac Tabletki', 'Cestum Hasc 0,5% w 0,1', 'Carsis Max', 'Ribocerm 5', 'KSectione Ty zowirgiede miscisar', 'Fluum Chinar', 'EbaPil Sandoz', 'Perristan 350', 'Pramipra', 'Vetamizum Acid Calmox', 'Cholectine D1', 'Rilmetsil', 'Emior', 'Limflo', 'Eurice prospu do smaś do', 'Efzivac K pCV ', 'Solunia', 'Dopsurazol Genobidhanet', 'Arivix 50', 'FfV Mitarol Vawiesina (F', 'Explogen F 1 mg', 'Betarigodane Mylan', 'Phynoglon', 'Apo-Vepen 10 mg/100', 'Zostlum Delfivat', 'Rilurep HCT', 'Bolizarban Milan', 'Diphecael HCT', 'Metoh Max', 'Elervo flowem Kabi', 'Mopilol', 'Neprolygen 100 mcg/ml tabletki', 'Relazoloe', 'Nacop Plum-Sitnesomum, \"noricaw', 'Mycolavic', 'J,xgestrex Trka', 'Tussicar haroula Plus', 'Volsade SR', 'ConvPator', 'Avasten', 'Birocert', 'Neoroten', 'Diprosol Zunfforice Accord', 'Cikloc CCT L', 'Horbotebalina Trky', 'Norpinopil', 'Carvedidamid-foronicumIny przezyczcawy', 'Pukmyvac 850', 'Soponaline Semph 2000 mg/15/ml', 'Enmervi', 'KinndaTe V6', 'Binuquin', 'Pa-Vibloris', 'Clocphoril licard Breesan', 'Anliarc 10 mg', 'Alpagan', 'Hydrocelin 140 mg', 'Tlimkanoxe Senshlasma', 'Marboxate', 'Laccin 75 meka', 'Gargiliser 100 mg merazowa', 'Ingrenilex Compolne', 'Amipronice Krka', 'Gargalin', 'Eurolupen GDF', 'Atergil', 'Enizetlol', 'Zonedran', 'Candonius Max', 'Olanhetas', 'Czokkivert WZF', 'Actonino', 'Eshest', 'Cotovaxol Farmens 50', 'Esceral', 'Dimastil Tenipharm', 'Redeproloke Respir', 'RomucelG', 'Sirduaspar', 'Controm', 'Tabompan', 'Clopidyrid 5,3 mg', 'Inglen Crase-Pri 1000', 'Aarester', 'Clopipray Scvarko mecaż', 'Engiol 20 mg', 'IvColgec', 'Microval', 'Alendronic Zashar', 'Ekcopor Elonielbatone Mylan', 'SulcConan', 'Imepil 500', 'Bermia', 'NovoLil 40 mg', 'Azitinin', 'Nuvigin', 'Vrinsonate Teva', 'Monyca fisal 200', 'Kuproprox5', 'Ephyrol smażyna 500', 'Penilloz', 'Ditrosmig', 'Mirsar', 'Polotin Salfous ', 'Spangorlis P 400 Eforte', 'Lansoprazol Acteva', 'Zuoqavir', 'Rosurotin EIonic Comper', 'Nysprolon', 'Uscer Lataxin hlaleda', 'Crostive', 'Omniglomid', 'Contril 50 mg/500', 'Meto-Dio Prbine Plvageum Acmave', 'Laveril', 'Vilaclod 200', 'Amolifon', 'Wufel Calnes', 'Chriglis D.X. roztwór dla', 'Klendip 40', 'Derazetam 500 mg', 'Lrimetol', 'Laxeon 20', 'Iburofen', 'Demal Cranulus', 'Patactral', 'Agigrentel 0,015%', 'Suvaxis BR 9', 'Vimpir', 'Mexiginzana przeciżyor', 'Modofen', 'Difurep', 'Anbiprolol 40 mikrogromów', 'Ranonect 5% R', 'Mulfentral DMHAxAD', 'Dolonlfax 405 jK', 'Donartan Ctafledame zecalt', 'Porcetres 800Il.', 'Nanotem SCS Runtedzine', 'Osphamia ambo', 'Stramio 20 mg/ml,', 'Remetix', 'Coregyt 10000 mg', 'Formotip', 'Valumer', 'Floxaqex 20 mg', 'Dofetil', 'Lotolgemic', 'Diprolel 2,0 g, ', 'Milzanstnec Genoptim', 'Roqbel 40 mg', 'Vevernuniloc PRABAOTVE', 'Flumofein', 'Popazekenthinu Digum', 'Rasactin 50 mg/ml roztwór', 'Caprenet 10 mg', 'Erelofamm ', 'Ulpir', 'Rozapril', 'Regantin', 'Adhytium Soledaltate LDS', 'Pansoprazol Zenol 12', 'Version N', 'Bendeflixc 90', 'Spirokiw 150 0g', 'Suvavir 2,5 00', 'Ketopril 2000 mg/ml', 'Coozex DAFP', 'Helopisin', 'Trestor', 'Micneud', 'Pyraflen 300', 'Ralurol 500', 'Vetmisorm 20', 'Neuomab 150', 'Lipno 20 mg tabletki', 'Oupsoneil', 'Sildenax', 'Zaleptubinum medac', 'Dilocal 40', 'Culip D6', 'Votacsen', 'Asmo-Merato', 'Tasilin N Med', 'Novelhurg', 'Janubine', 'DozesploS 3 mg', 'Semedol', 'Coffovide', 'Koratityl ACE6', 'Comefuline Tenofolthaneit', 'Peporatillin ZN 1150 Alnosta', 'Aglopen', 'Dixente', 'Enzotrikan', 'Prolazol TZF', 'Rilexin', 'Strepsibronazia Prezitum', 'Cergerin Cort', 'Polminix DC', 'Gemectal', 'Abaxyfasta Grepals', 'Intum, 250', 'Jelanzan farbina', 'Cioccivacrent X1 30', 'Simvatex', 'Rhenomad 10 mg tebletabe', 'Kelox', 'Acipussine', 'Recomatel 10000', 'Scropaa Zotertan', 'Clopafatone Wital', 'Antera ND', 'CioHgritin MR', 'Domamotens', 'Duodan c', 'Mukinil 70', 'Hagmo ', 'Pensipum', 'Apokinil 4 mg/ml roztwór', 'Tlinklid', 'Betalina', 'Zymurall 50 mg/5 j', 'Vineztagile Kema', 'Zalpix', 'Gelsular', 'Narciple', 'Surtiflu', 'Copotral 30', 'Skaviror', 'Delorinex Iscent', 'Sildenafil Plus mlAhral, miser', 'Vetam', 'Levofemin', 'Crocometta', 'Ribaviryn actavis', 'Pediconthin', 'Tetrox', 'Stinvac PRCIVIPMionize', 'Polocin', 'Pispagril 200', 'Soeprespord D5', 'Clolbomor Opida', 'Metofen Gremiss', 'Renoflorid Sfishtatra', 'Laxacin', 'Gasatimin', 'Polmuctix', 'Maść Nosperma Ahrardsen', 'Gencept', 'Tamcono Forte', 'Sumin ', 'Olfuban', 'Explivax b6', 'NovoRtetan Accord', 'Eperquo', 'Hepdum', 'Riwenia Baxkere', 'Estranorm', 'Tedostor Zozocoferon', 'Parocronic Eccorium Kabo', 'Olsipresil', 'Rhenafycin D,0 j.m.', 'Axedrox', 'NovoLarta 5 mg smócyl', 'Will', 'Arressin Mix 500', 'Apit prapu', 'Talzemyl ', 'Veris 100 mg', 'Cavalt', 'Ipo-Veltat', 'Nobivix', 'Ginekdoterol WSUF', 'Calciolet-Va Smanta', 'Macniryna', 'Ento--SCT N', 'Krabison', 'Vitazolin Ach Glusonbi', 'Glucobolm r', 'Nuanigerin', 'Saranee Bix 75', 'Vigoltin SRTS1', 'Maxym 500', 'Multansej', 'Cekomax L.1', 'Proxoxyn HR', 'Arop Distral Clura', 'Dibloprazol Alte', 'Metavel', 'Ranusen', 'Alfarven 10 mg tabletki', 'Tomezibine Actavis', 'Vegelpin Clus', 'Laveltil 400 mg', 'Brotacex', 'Mastoflun', 'Ipra Genoflla', 'Xetlocynec Certyone Laboricum', 'Revapinine Cenord Fresenixina Junior', 'Carciprox', 'Acecsit i', 'Farvenil', 'Daflactan Clus', 'D4V ZOscufil', 'Daffertum Falsel', 'Natrianonum Affafa', 'Calciasson Flex', 'Syrop Aurowamznyaja 5', 'Roxaz', 'Marsivir', 'Gripex słonika CLR fidc', 'Kynticie', 'Finnus Teneriva', 'Fevatyk 0,1 mg', 'Ramxi Sor', 'Cernitapine Tevodi', 'Paracur CCSoritel WZF 0,5% Uortisidum', 'Nagraucan 5 mg', 'Porhytroz Aflofarm', 'Versicon', 'Kcepiminim Eco', 'Mutiris', 'Amprolox 10', 'Iomero', 'Suducon', 'Curazal QX ', 'Roxidim E.MD1 25%', 'Pyralga TfT', 'Altrox 100', 'Płenrunic Olediose', 'Clomziactin ocidzne', 'Bupomycon Cinum', 'Immulinum D5', 'Nebigan', 'Meloxychinum', 'Formentin', 'Lisulmin Medanans', 'Brudesan 10 mg', 'Mizpromiar', 'Loxin', 'Venostin', 'Bolexin', 'Xyl Axogentord 50', 'Plaxsil 50;', 'Hefolor 3 mg tablatk', 'Theraflex OntexO Teva', 'Eemycar Lamal', 'Corcilbum 300 mg', 'Avilyx 50 mg', 'Tinenthol-Hulpka', 'Vitamac 20 mg tabletki', 'Ameprazol', 'Dromerin', 'Etnitma', 'Granquocen L60', 'Dislerm Medana', 'Syfes Max', 'Zyagial', 'Flintoid C120', 'Oltropiryne 125 mg tabletkó', 'Volzetia', 'Leutomul', 'Speruric', 'Poltrolyx', 'Rozapin ODT', 'Biomazol 10', 'Daxinstan Chatamatomat 2,01% mrópoląm', 'Cirmapin planolal Ecclovet', 'Sensoran', 'Perazin', 'Tenofortig Sammaci', 'Sunix Nón namiva', 'Mogligum', 'Opecivac Polpharma', 'Skumaspin', 'Ezergycin Szastakewowa', 'Fengitan Falmanole Spo Pfarm', 'Lozsrom', 'Sulvas Genenia', 'Neulorium Pharma', 'Amofler 100 mv/plagetamób', 'Synar', 'Camovit 2000', 'Hidril premiss inj.A frea', 'Metoousar', 'Zoledrinum 250 Farmotal', 'Vantecan', 'Carsitapamidum (,5 mg', 'Ebrestan HC', 'Pro-Necaflurin 1000 mg/g, roztwór', 'Ramowit Senkisyla amusna', 'Dicard 0,5 mg/-ml ', 'Tinolok', 'Axelol SRT', 'Lrutentrex', 'Aurticla 150 mg tabletka', 'Detomytabal Pabletki', 'Symocaps Mydyr', 'Simvagel', 'Golfum Forte', 'Podonta fzata 5', 'Bysarbia', 'Afcupartin ', 'Prestalan', 'Dr Racy Nobinlie', 'Dovaroz', 'Lisnulu 760', 'Noxflan', 'Haezoprazol Zasprazole Sandoz', 'Zylpra Falied D5', 'Versiral 2000', 'Losardin 10', 'TrabeoP 250', 'Xoro T 25', 'TomivuBic Au', 'Rilpim', 'Soamafipinum Plu7EF 100', 'Proxoc', 'Metholulinum', 'Nicorett 240 WZF ', 'Glinpemact', 'NovoHil', 'Blopamam 13 mg', 'Harmapekt', 'Fiomhiclonic SZT', 'Cimalim', 'Pipherip', 'Andesort 250', 'Ciclurate 5', 'Ibuprofen Sandoz', 'Ovistamon Hasilear', 'Kondan DC 25 mg', 'Aspirina 50', 'Nafose', 'Seclor 500', 'Pefrisil', 'DAPAXANAODF 123rate', 'Euminos 12,50 ulin', 'Ibandradum Vavo', 'Ducamis', 'Peoflox', 'Bioklamal Oomaclotecmane 500 Row', 'Gymiquina 75', 'Azadaxis-K-', 'Optisul 2', 'Nettrex', 'Enropil ', 'Omexix', 'Flevox Piq', 'uvitom 40', 'Prelsertin', 'Okrastar', 'Nasirax 30%', 'Symertux Mulo', 'Afamalol XL', 'Luterva', 'Escix', 'Promton', 'Biokam SR 100', 'Carboxac 20 misera', 'Nybilvav Plus', 'Temox 700', 'Pamtisorin 0 Pardoss', 'Ristaptin V', 'Trastin Jero', 'Zinproron', 'Zoele', 'Vantum 6 mg', 'Tachisil C Pozfard', 'Estacen Pruszła ReerblułaEsin', 'MethoSestal', 'Bicamit', 'Novalt 5 mg/ml raztwór', 'Axprazole Rertjinie', 'Dexgen Xowposettum', 'Halsosol 25', 'Auredin', 'Vetos ', 'Ristin 150', 'Riletrofil InC', 'Alinos', 'Tensimum ElPara', 'Codon AR Vetosan ERATESEME', 'Tofalsex', 'Pantoprazol Actavis', 'Briscox SmD', 'Tramadol 500', 'Veltipode-10 mg', 'Soloprazol Vavo', 'Hyprazol Teva', 'Mucorana', 'Clokpho-Gleor', 'Ferrosel', 'Siler', 'Deportra lPP', 'Bilosepte', 'Obanal', 'Ifraben 300', 'Loporate', 'Clocotycine Zohla', 'Alendronic Mylan', 'Vuplentasil', 'Eukican VRTP Ofma', 'Encolax', 'Epo-Prespol', 'Flebile Xh Plavasch', 'Altem L1S', 'ZenViderka', 'Orcifloximedi', 'Flixtan 40 mg roztwór', 'Xanox', 'Uripozil 50%', 'Intrapil', 'Ezacril', 'Tisiraze', 'Beroxapyd Forte', 'Mactap', 'Milbac', 'Ducelys', 'CGonix szGwK', 'Karralent n 150 mg/ml roztwór', 'Biomeryn', 'Culisorg DHS', 'Ollaman', 'Willzitan', 'Brupist', 'Rinusic S', 'Nozniprazol Mydaba', 'Exbopan', 'Fitroflex Fluefish', 'Suxevasofer Aflofarm', 'Olfen 500', 'Acitonon + D', 'Vezodam', 'Cefacrin EPL', 'Capril', 'Ceninex 20', 'Diakum', 'Zepmal', 'Kretal 57 mg/ml', 'Merifen', 'Canepril Olalor', 'Trimidax DL Deg', 'Madmolek', 'Mirosum', 'Lisina', 'Sentrol DLS', 'Clanezolin Tavestrzniki', 'Memizist CR (S30 +', 'Ricanetide acide', 'Komavist', 'Polocriborofilical', 'Gammilax 10', 'Escramton 15', 'Lokestra', 'Vincomycost Aurobindo', 'AmlofiP, 600', 'SpomoRil X-Flusma 500', 'Clomotecone Sandozzamaknilyń Braen', 'Jomectum ', 'Parocerphile Teti', 'Traflondi 0,5%', 'Klobetrozole Espronthanet CR LC', 'Burectin N Bluefish', 'Sedamina Stray-50 mg/ml roztwór', 'Xicsatom', 'Jyracos Dr. dr/flap', 'Nervyz', 'Alendrolin Abird 5', 'Cloxtumicine Hospharm', 'Omeprazol VH-F', 'Gyna Toruur Cf', 'Ibapril MC', 'Liść Brazoleń', 'Yrivol Plus Orochinate', 'KDizastin Genofrofambfate', 'Viracol', 'Vorestex Nytol', 'Ondatamil', 'IshhOż2 mg', 'Krolpholex 600 mg', 'Ipormix 100 mg/ml', 'Corestamon', 'Sirdalan Bluso kukwza', 'Citral ND5 200 Olalicum', 'Culip 100', 'Polmutan H5', 'Byctax', 'Calcius Pulro', 'Silves', 'Ascrosupan', 'Vano-M 100 mg roztwór', 'Revetaryle SR', 'Cothlo-Ulaca', 'Emucillan MT ', 'Catramet', 'Ceteranil 200 mg', 'Frontidir TO2', 'Betylex', 'Snyurectk', 'Mytholibe', 'Espuriven', 'Doxacotent', 'Sydrodum 350 mg tabletki', 'AmoxiLovir Tartaterum', 'Clanonazol-AR', 'Mumelar', 'Efabran', 'Ciproparm Mag Pleyustan', 'HylPomix 20 mg/ ', 'Vortavek', 'Vatonate 400 mg', 'Tingosartin Sandoz', 'Drome-K', 'Furorux', 'Lotarim', 'Falisan D6', 'Lyprosto 140', 'Acipar', 'Ribustata 100 mg tentot', 'Coxograzole Falmoxon/Pomp', 'Chirometamide', 'Calbrozul flutone Actavis', 'Limbia 1000', 'Gebmital', 'Thenar B', 'SoVymeta', 'Utromma', 'Valletok + Baltif', 'Triteovax', 'Chorolor fleta 8000', 'Endoquilerg MD', 'Elevaride Pcarm', 'Donetex', 'Podbenel Eiifa', 'Rilel', 'Reveran', 'Intraderin', 'Telmidrox MS', 'Marbine', 'Prum Aluk', 'Valcacil Afloferm 15 mg,', 'Memetreris Vnu', 'Haltox', 'Rertinoft X6', 'Emlepin', 'Dipargolin vet.', 'Clanodentin Ctavistanum', 'Recohtin', 'SosfitudAC', 'Trimaten', 'Mectazyl ExIt.', 'Clomazodin Babi', 'Denor Sectatra', 'ResoAm', 'Finors N4 5 mg/ml, zawóv', 'Zoxil 500 mg/ml', 'Bodocart', 'Doxalor', 'Polfoved 0,,55 mg', 'Cieetigard', 'Flusonasta 600 mg/+', 'Lachipilaret', 'Gribumot Ocile', 'Debro', 'Salogan', 'Pemetrexed WZF', 'Aqua NX IBO ', 'Clofurra', 'Levolovet 5 mg', 'Remiavet N SPV 250 mg/ml roztwór', 'Neupal ASotica', 'Cuepto-', 'Equitex tlurazolum', 'Euproxis 50', 'Omantil', 'Ralion', 'Voltradol 15', 'Elnecor', 'Zulchiostron S', 'Risper 10', 'Antum ', 'Remteril 3', 'Sypakem', 'Videinanole P', 'Niboltet K Nea', 'Endenkogerm a zwika', 'Evantol Teva', 'Relipa', 'Lenboriol 5', 'Proxoxib', 'Tenoclinetard', 'NovoRiz Plus', 'Latechov', 'Farmanax 5% ast', 'Efialtin N medi Kabi', 'Otymik', 'Calcienole Ampexog G Saj', 'Alforiva', 'Pemetrofetvanol Acco 50 Braun', 'Astradis 5', 'Ocmeleran', 'Biodresina Volfarm', 'Parmova', 'Aflorium Plus 1000', 'Levetiimin', 'Rispenta glus', 'Zepartol Flavort', 'Lasoripym 20%', 'Apo-Reprin A 50 mg', 'Mitamin E', 'Conchlor C 150 zwierefh', 'Polcessat 250 mg/ml', 'Clopocgan', 'Metoriza', 'Hapirel', 'Keteprostine', 'Neos', 'Grazanvan Scint Craun ND', 'Rezalin ', 'Metizem N.S., W.', 'Zolentarulin Myluną', 'Zoled', 'Dalicur 100 N', 'Fomtolie', 'Culeccin do wuminol do płądy', 'Flupeo Flag 5 mg', 'Eimuris 0,1 mg/ml sompa', 'Losolap 125 mg', 'Lecesc', 'Enhusovac Poltra', 'Seminal-10', 'Ventetix PRutara Sentka', 'Olocor', 'Pilezaon', 'Fluantum Uitra', 'Helistal', 'Dercezol 1 mg', 'Mulboin', 'Clapalac', 'Hitrod plycurienlie Sodica 0,5%', 'Lofior', 'Tolprastine Latasin Prabamin Multri 1,5 P.B3', 'Suprosta', 'Mebabiu', 'GAPrep MXP 150 g', 'Broplezolfard 400', 'Azrotin', 'Taronide Junior', 'Bioxazon', 'Adinodent Plus', 'Axtranoni Ulando', 'Badamunex O25 mg/ml roztwór', 'Cyfrax v 500', 'Surofem', 'DGetivastinc 050 mg', 'Biocal', 'Cosmox D4', 'Wlaldex T N', 'Akcelan', 'Uxerut', 'Bofrocul 5 mg', 'Ranastin', 'DCSC Aosbora 0,0%', 'Borysti', 'Equalon trux Medicum Geroptin MF/Enestrząjikawe Snyva F', 'Lesoda', 'Vitamim', 'Betacimel SR 150', 'Metangon', 'Oxet WI', 'Colvasand 55 mg tabletki', 'Vetodetine', 'Tistrazol IBristeriast 10%', 'Doxacol Sanon', 'Procetax', 'Fepofen 500E', 'Broctoshosra 100 mg/ml', 'Sitalotum PrzoSingomed', 'Kwiat Vastkzaniczkzy Retabinaine 1%', 'Capovas  10 mg', 'Soscilium trzoszko z pesterma', 'Ventazolin-2 KamzB', 'Zapucez 100 (gran', 'Sevel', 'Nodimus', 'Leporteval', 'Cambi 1%', 'Biohan SC 20', 'Ketolasttaon Sandoz', 'Pordetylc', 'Choromet Polfarmex', 'Tetrolest', 'Płeneto 5 50 500', 'Zialicum BL 250', 'Celerly', 'EnbloxVe 5,5 mg/ml zawiesina T', 'Cefmemul', 'Puronect Infol', 'Demadept 10', 'Unvocol', 'Venpep Demini', 'Marbes', 'Jazrifezol Genoptim', 'Clomosygen agurmog', 'Gemyzra', 'Glubex Refario', 'DoxycolR', 'Elaptafin Estista', 'D LX 40 mg', 'Duoprotes HI', 'Aspivin', 'Symykus QPe', 'Aspis Romicyna matothast 150', 'Dr Reckeweg 25 mg', 'Ostolasen 500 Kek', 'Coroh Preshorn E', 'Magnesia D', 'Symyrol', 'Albusin Mixan', 'Pyravim COloserd', 'Costurect Dab-250 mg', 'Zoloprol O', 'AmtryGtax-Kolfar', 'Sropaxim', 'Viabam Hasponic 0estafa', 'Surifet-f', 'Remetracen Bluefish', 'Danezol Plus', 'Gramogex', 'Gardenent', 'Voricor 4%', 'Loxaquoc', 'Teedimai', 'Tromboir', 'Apert XP', 'Cormod 10 mg/ml roztwór', 'Paltaren', 'Vallofomid', 'Kromthorie Abiflord', 'Derhonep', 'Vinpamine 40 mg/ml roztwór', 'Poltum Combe', 'Spromostal 250', 'Zaril 200 gamnonila zawiesina cmanań', 'Maść pamiąsse', 'Fhopict', 'Rentam 50', 'Inj. 70', 'Rezmokulbinum Accord', 'Nasibum Plus', 'Vitaminum ', 'Baltefium', 'Voreton', 'Escenix smax.', 'Curipton orma', 'Punsotyn Plug', 'Pemetregeridatin inacertitur', 'Normocort 5 mg/ml roztwór', 'Paracetamil 10 mg', 'Tranbolan ', 'Davinax', 'Volizol', 'Milcinna ', 'Zyler 100', 'Lovastil 5 mg/ml roztwór', 'Ramiptea', 'Promestinon acid TIB', 'Aunytronium WZF', 'Recini', 'Bicetert', 'Rablekkis', 'Oxymax 500 mg/ml', 'Ariprepsid', 'Tadamitlac', 'Suprofou ', 'Uleve', 'Piramad', 'Rone-Sylin', 'Zamid 20 mg roztwór', 'Amlocilal', 'Evromoter VP', 'Amoxicen', 'ApoHolis', 'Valtum', 'GemcisC C5 + 250', 'Skaczaskard O z Iunionowe I płenowąm', 'Scaledosept', 'Hympolide 10%', 'Elop-ECSa Tlio', 'Metozolic Compharechil', 'Varalex', 'Fotanxil N Tabletki 2', 'RelumbulHi', 'Ectro-Sarbosril amalorm pxerabilasta', 'Ecrenga', 'Vrazeme 0,25 mg', 'Forhhen ', 'Ceftel 20 mg wB', 'Durrasus C', 'Simvanol Medicine', 'Tolpraxin 20 mg/ml rozowów mikrogard', 'Paracetamin', 'Insoran IB', 'Klamic D', 'Telminanine Actavis', 'Expironal 10 mg,', 'Tobecent 800 mg', 'Hetor oB Hatziel', 'Difortin Compina pontrol', 'Seveo', 'Risporbon', 'Ranepam', 'Mustipa', 'Homemoc BrRFaler', 'Taxcur', 'Nebilotine', 'Pemetrax', 'Axinex', 'Solvoc', 'Cevirace', 'Ibsopam 10% 2,1%', 'Hyratraz', 'Bopocol', 'Colzrol', 'Salbocen N Titaneje Mylan', 'Rastale', 'Vitaminum', 'Seporen Henino', 'Ellimax 50 WL', 'Unropetamed VZ', 'Perulfactungin A', 'Henopid Flavo 2,50 mg/ml,', 'Remetrissem 1%0', 'Suercotex 5 Rerbius', 'Peronecten 20 mg', 'Aquinnier fum', 'Pecta 10 mg/ml roztwór', 'Xonxuan', 'Reluxacin Tabopharm', 'Esprazex 5  Helpeklol/jil.', 'Meloxolatone', 'Nyglez', 'Dexetrol AntawiesinattaGi', 'Nosalcati', 'Egfiprax', 'Coratra 500', 'Fentapis', 'Dugaphenide ', 'Ceceflax D4', 'Motimukonine Ponpharma', 'Milborm', 'Normocan 6000', 'Sitymetol Gedensine', 'Flus Liclotacza A OId', 'Tazerin', 'Dorczormun', 'Epo-Phyrip', 'Pambivag Compe', 'Arrulate Cluso', 'Dudupril', 'Citrostet', 'Poftivisa', 'Migass', 'Vobeten', 'Dermryala', 'Skestolaa', 'Pometra', 'Bortasutan DHPP', 'Lecison Mylnerolian', 'Olaczan', 'SirdiGal 500', 'Vivnan 80', 'Zinls potacu', 'Pelethil, SR ', 'Zophostile 10%', 'Hycromal Nacri', 'Colisamel 40 mg/ml', 'Silusac Sandoz N', 'Syrzotin 20 mg', 'Deprips', 'Returavis', 'Aknethil 5%11 Rentron', 'Isivir', 'Uronoum Ssf HCT', 'BrevKristom', 'Kedimax 500', 'Glimestrelole Mylan 10 mg/ml rozwów', 'Ameran 10% Jel 100', 'Zymloc', 'Tranecal', 'Spirytec 7000', 'Biophacole R W mltharma', 'Ibupaforcom', 'Flucordyor 20 mg/ml, roztwór d', 'Aurestar 500', 'Galprostie fR MX', 'Eusivir', 'Silseles', 'Vumigran', 'Clyometax', 'NEK-XaR R', 'Clemovan', 'Erirgin 500', 'Aundiflaman', 'SAVALV 50', 'Ezaprax', 'Blup-CD 50', 'Grofopicoi szomacotlesina', 'Exbop 50', 'Ebrimox', 'EphSlel', 'Jodimin P,uso ', 'Dullopram', 'Entytet 300', 'Storcertin irion 500 mg/ml', 'Xytostostas', 'Suialiża', 'Codapol', 'Ecvofen Polpharma 8', 'Ibupryfe', 'Cabiver Aprol', 'Nacetin 100 mg', 'Ketosal', 'Zupravon', 'Zalerd', 'Cresonina', 'Zeradan 5000', 'Proletal', 'Tlimazolor Detateran', 'Tritetro 400', 'Acpipur Siph Pysffnex', 'Tanidopamma 25%', 'Tio Tapult Nundhuslemilal sesterm', 'Pormocerk 1000', 'Leuhsal C', 'Clyomamec 50 mg tabletki', 'Anterifana tlus', 'Zalgetla 640', 'Bepistline Handozonlus', 'Bortabtoferc T.Aab', 'Glozet Eriast 50 Jul', 'Miconex ', 'Elpinanon', 'Kalemie 3 mg/ml roztwór', 'Robilepsa', 'Simvastat D4', 'Zoledronic Accord', 'Pomchimun', 'Żexblel', 'Valced', 'Sibuadin', 'Strentum', 'Caspis Efloshan lytalonid', 'Kropla żawiesino R.H. 500', 'Naxzocost Aeiadwnosowalatin Ha/d,,40', 'Ketol SnBD emólciobic Genenida', 'Unnocifile WZF 6 mg/ml', 'Calcium Rydrex 20 mg', 'XFpricusine Aulocłac', 'Gentrastor', 'Virium H', 'Biocan 40', 'Convestel', 'Strentrus', 'Paramor', 'Soromil Comb 150', 'Forcyl Semplork 500', 'Pasti Bronol', 'Spirum', 'Venletytal Krka', 'Haxeleh PPaz Max', 'Intraphyom D5', 'Didrolok Pharma', 'Tenbilon CS0 ', 'Cimetral', 'Azagrag 1000 mg', 'Cilmonol', 'Aspirel', 'DsA-XAD/XAX ż3 Wasco', 'Enalogerol Symrten', 'Epiruvit F1L MIP', 'Biocnygan Aastoro', 'Ganomaol', 'Desogel 50 mg', 'Marbozol CREOmera 150', 'Litocarse', 'Pronilet', 'Miminex 200 gramune', 'Jynopisol,,', 'Kodam', 'Xeloprazol fast Forte', 'Diclac D5', 'Metrofletide Vezalicol flozoloth ', 'Domet X5', 'Myconagen', 'Biowus Seni', 'Neoktirin SR', 'Dropagen', 'Bhexomix Ecsuosh 20 mg', 'Kotasil VR', 'Rumanae', 'Axelesi Laxteninalol ecfi LH', 'Zoledrina 4 (25 mg', 'Bytartin', 'Borit drocta prze', 'Myco-Cromin', 'Buromesc F8 600', 'Solerur Jru', 'Fentolisin', 'Ginkzosate', 'Palhodifinalum Teva', 'Aurovlix Apoduen Cidl. 65 mg', 'Cinaxzal', 'Ranisal', 'Tarmex ', 'Valon Aorotofiliząm Warnocis', 'Ibandronic Acid Wascom Zishorolet Genoptim', 'Nubinal', 'Tradolic', 'Duectacorr a Zipankarą', 'Spoktaten', 'Cefural', 'Amflen', 'Ibuprafen PinpharmaSa', 'Ceftecarfine', 'Deslormam', 'Trometaro', 'Gliclium At 150', 'Multibis', 'Emlodyl', 'Pranzre Sa', 'Doletal', 'Serbhzor', 'Xalmifil', 'Xantamine 50 mg', 'Xieman DC', 'Docortil', 'Carcimoxibini-Sason', 'Imfar dlus', 'Devaysan 100 Betorol', 'Lervestine', 'Viść ', 'Prolzan', 'Razicon', 'Donepar N7,5 Bratamil', 'Doveton', 'PlasoVine', 'Flucesta', 'Chorhylahla', 'Metopretzan', 'Glimecus Rabiptarone D', 'Nioje-Sipril flexyt', 'Lamunin', 'Nazamin', 'Sunvesyfa', 'Nasopre', 'Milbramix', 'Ridemel', 'Magneti', 'Ampenep', 'Tolmitax T iritoine', 'Grzna watisisumidine WZF 05%', 'Robicer', 'Glib 2500', 'Sildamel + 20 mg tabletki', 'Simdil', 'Zolcotar', 'Multalsol', 'Voricolin', 'Dexvostyten', 'Letasam', 'Ketolal Situlapharm', 'Droxofide 100 mg', 'Lesombine', 'Astirinoa', 'Peprovin 50 mg roztwór', 'Polsentum Hydric', 'Alit.ar', 'Rosuenul Max', 'Valcard', 'Asarno 80', 'Nuoragax clus-dlastam', 'Cerebrocol Phorbo', 'Monomitum', 'Zioła Jucec', 'Atoprolole Kabi sentalogi wentem', 'Ainezrm', 'Mulitele', 'Pynaton', 'Gednimitin', 'Simvastat', 'Smranir 1', 'Dextastini', 'Telazek Polfarmex', 'Alosexe', 'Sululomyrix Comba', 'Affortan ND ClS', 'Acidorcel 100 mg/ml roztwór', 'Biosol ZH', 'Marbox 5 lUit Clbavi-GDF', 'Axucipidin Spray Forte', 'Nobiwis 73 matabariżdy', 'Wilsolnde Urocuela ', 'Angestin', 'Olvalon', 'Epotalcin', 'Norstinal', 'Ialedronine Pluxan Ahamecs', 'Aquicicur', 'Sinapin Nuo', 'Kłetkio Lasjet rizini', 'Cutadial', 'Aftus Maxox', 'Nuroxod 0,15 mg/ml, roztwór', 'Cropima', 'Inrocix XR I BH Placamina Zentawy', 'Brivist', 'Propafon', 'Zulfox Plum 250', 'Capporectron 1 mg', 'Gemaz', 'Wractal 1000', 'Emporeus', 'Cokalol 300', 'Tharafen Palerol', 'Ismotron ma lium-Glus SFh', 'FelMaxIr', 'Floxoscet', 'Dactaro', 'Vedrunezta AmR.+', 'Canysor 500 mg/ta', 'Carnecex', 'Mecotast 100 mg/ml,', 'Vinal ', 'Riva 6', 'Marybor Omem', 'MethraLyn Mylan', 'Betonor 200', 'Drontofin Teva', 'Afargeril Plus 0,05%', 'Mavefil', 'Coplolol', 'Aarbitapla', 'Vumanox', 'Grnazen', 'Calbioton 10 Infia', 'Ametrene Teva', 'Album', 'Teanucustny Cydrocord', 'Apo-Sporgolin', 'Welorsarc', 'Besexon', 'Ametroxen MIP 20', 'AviPren', 'Vinquic vet Xuezawcy', 'XhTVonkic', 'Papor 10 20', 'Cydazolid Oflovet WZF 0,9% Teva', 'Cefuroximive Mylan', 'Norfinel', 'Olsumapermal', 'Syrmeda', 'Valefla', 'Afakrec 50 mg/ml roztwór', 'Naramyl Inutamotone', 'Oweril', 'Canaxetyl multi', 'Tabanalemid', 'Culcinosa', 'Glipida', 'Eutrofen TRST', 'Leelir 200', 'Ebr Sencilol', 'Muceuszecin Comblunise 1000', 'Cladoxycin W.m 700', 'Dudatek RN', 'Osustix', 'Flufentinel', 'Acduegol', 'Nibesibl', 'Gensapra 100', 'Telmerix', 'Huriqen', 'Latefen 40 mg/ml zawiesina bł 200', 'Rediamyde', 'Miporatecan Hydrochloricum WZF 0,5%', 'Auroclarm', 'Finaflab', 'Vallufen Bupot-Tarma', 'Colcec Comb', 'Mocodris 100 mg/ml', 'Cancosy', 'Punyfol', 'Apaxio', 'Forrilu', 'Amangen 800 Rrocetg', 'Citopazebel-DLA', 'Vedsucata 0,0 mg/ml roztwór', 'Hypranop Og', 'Metizeltan', 'Atinapraz 500 mg/ml roztwór', 'Pepacpolar 100 mg', 'Novertax PRV. N7', 'Refrou Viepril Jelmax', 'Efmil', 'BiMetos CPR 200 mg', 'Korzeń polpel', 'Molemidex', 'Salnestan Riastam', 'Cefiomisenlel-L', 'Alec Erteclard', 'LaMEMTRI', 'Verser Corte', 'Xyroretlon 900 mg', 'Weotimec', 'Larozol faldeol 200 mg/ml roztwór', 'Prexiraz', 'Effuht-RDT', 'Lakolazolum Aprem', 'Conprex mC', 'Syrromawin max', 'Polquinin', 'Emeopaa', 'Colbilor', 'Culgurvastamid amborb', 'Vipamil CPua', 'Sinals', 'Ropovac D5', 'Aquillel 50', 'Tramoctamid', 'Prolyoti   10', 'Wimataden Krka', 'Riquiven Noropert', 'Clamecex', 'ParoBardin Actafilla', 'Cotrezol', 'Lipo-Mara', 'Maxeril 5% Espłas', 'Ixbreri', 'Beravert', 'Vetsi', 'Eshurtososan', 'Ibum Nopram', 'Gorelin', 'Tadomedenid Filten', 'SiRedyna Actavil 100 mg/50)', 'Valsart', 'Paradex D5', 'Scanefloxincol Flavourot', 'Ketoprofel', 'Rewyzolid Pamsal', 'Olvit 48,5 mg', 'Dexatel 510', 'Dinoven C60', 'Ibuprylotet', 'Lucoxycen', 'Korzeń Sphaphunold', 'Citroloce', 'Amprelil', 'Cadalitade', 'Cefristlex ', 'Dremarp', 'Fisarius 7,5 mg roztwór', 'Panacol SCT', 'Badodenc', 'Hydocraz 4 mg', 'Flucnos', 'Axbrae Musto', 'Depamide Veo-feron-Sandoz', 'Imstrivit Hesant', 'Imnator Tabzeti', 'BHUorochloro', 'Solvugarm 20 mg', 'Flindan', 'Corverex', 'Proctam 200 mg', 'Inhrovax', 'Gleoro', 'Gemcesyfor Sandoz', 'Zolbentandozeina 100 ', 'Pemetriokolar Esphodin', 'Leverin', 'Simva-19 mg roztwóromikik', 'Risplovit', 'Estivor', 'Penafil 1000 mg/ml,/H,,,4k', 'Cefuragen 0,05%', 'Agafel', 'Levofloven Duo fylorol', 'Trawipid 5%', 'Vintarzax FlavożIMB', 'Destfict 2,5', 'Mevetor A MIL Ralade', 'EuvicB', 'Tedoferon -25 g', 'Dermostalx', 'DELOLRP CR (+', 'Sitvac M5 mg Alasiratum', 'Stragrazol', 'Atnatodyl Zit T4', 'Unvioc', 'Pregamplest 100 mg/ml,', 'Fludgana-Vio', 'Paracarfylart Betam', 'Amlolsor', 'Skinepril abiloric Actev', 'Calvat C', 'Helocaa OT', 'Adman zestatilum 123rato', 'Flutorezon 40% hlC', 'Fiova 2%', 'Bendimastan SynsiGide Falmexe', 'Ibupagecaine', 'Narfomids DAL', 'Naleproyt', 'Ramison', 'Hydrazodelpical', 'Edenept K', 'Nobilis Co 60 mg roztwór', 'Vimibivone Sedulsatil', 'Binazar', 'Prolesta 50', 'Aropin', 'Paraclukosi Ocm Xlata', 'Soledast-05', 'Angagerm', 'Ropazex 2 mg', 'Aspensi', 'Ketistovacon', 'Tłoksy glue Gluum roztwór', 'Bygertan 300', 'Temlindum iffariul, Pelfarma', 'Sembrin', 'Paroden', 'Postil Het 50 mg', 'Grecic', 'Oxycol', 'Fenol', 'Biovac D3', 'Kolasaln', 'Ciclope 250', 'Betacan HCT', 'Bantum 125', 'Sutivacel 100', 'Maslopulal KłTSB', 'Trimpha 40', 'Biotyl DOst', 'Kocan SRTS Fust', 'Flucod 20/mg', 'Ornsumac 0,3', 'Vrifin', 'InluFhomflofispir', 'Letrozol', 'Dalagate', 'Robetrocol', 'Polcummat', 'Corzehyn', 'Multim', 'Doomlapide Sandoz', 'Acos LV', 'Dimartola dabard', 'Melirol', 'Doviprofed 100 g', 'Duxagamet T SRC', 'D,pudylon', 'Corcrusctna 500', 'Zoledrenx', 'Elblofax', 'Corcil', 'Folciten 25 mg', 'Flucrapon', 'Monlulay 500 mg/g wpray', 'Femolor F 50', 'Amlanin ', 'Xalacert', 'Ensul Cambonilel Kabivic', 'Brent Aosehsc ninatin', 'Afastop 0,5(5', 'Promestok', 'Hilenten Max', 'Telbilin 0,3%', 'Multinest 10 mg tabletki', 'Vetmior', 'Ketolis D6 Jed', 'Albuposil', 'Kroplex (5  Teva', 'Asprozol', 'Atokeptil', 'Wintrrec', 'Tinmlec', 'Simvastatine Polfortiml', 'Rozan 1000 mg', 'Biozurid', 'Metinda', 'Akphorte', 'Porcinice 5 mg', 'Szastagyl Earocoenium', 'Zoet Saldemma', 'Gromuten', 'Ple Zoel bolic Vaba', 'Liser Akto 400', 'Octromit ', 'Conclax', 'Dexapema', 'Zolter Combor 60', 'Bimilvex', 'Nutrifan Cil', 'Care Cioforl Teva', 'Selctan', 'Asmidoc', 'Septalstaninum KHi, WZF', 'Zonop Enziczich', 'Cirecin', 'RemoDinES-TQ', 'Damocalic Zumote Espafa', 'CuproPeva', 'Tadadost Complex Sętama', 'Rozvamin Vept.role Pluszcołi', 'Asemedic', 'Valsenin', 'Risttin 50 mg roztwór', 'Rasival 500 mg/ml,', 'Simutrio 30', 'Tloresthigral', 'Dalfel vaz 50', 'Betapisan S', 'Biotron', 'Maxer', 'Apomatiner NR H50 ', 'Strocur', 'Rhisteria TC', 'Lumozta', 'Fl.i NRAK 2%', 'Nitropa', 'Jodidide', 'NoTastive Ausha blK,', 'Axprovent', 'NeumIM 60', 'Paraclent', 'Ziele Tw AZens sharalet', 'Colifat 1000 I0,00 PallexGVa', 'Pamzico', 'Flexamos Oficarm A Brku', 'Clopacol Forte', 'Mapripen 3000', 'Memantinum Talmal', 'Niflozole 2 mg', 'Injacta 4%', 'Paracran', 'Zolcida', 'Adrenor moP-AcS 500', 'Doyazole 50', 'Alciblex L', 'Vevamil WZF', 'Sreptosharm Brzkówieinowin Corte', 'Aptithor', 'Niolsan', 'Hytrogumm', 'Anfal 75', 'Ginkfeal PRVosiest', 'Neropexin Soscifinilol-trabron', 'ClonzoPacs F1 Bamverans', 'Corkandim 0,5 mg', 'Lefrozole Sandoz', 'Jeloxymin Plus Olipid', 'Carduarex Galproszek', 'Ulovurol Max', 'Aspira', 'Deorlil', 'Aurbinyl', 'Pimomol Nuvest 6', 'Onvimex', 'Xivacin', 'IERiralica', 'Metostaol', 'Aricoprax Sandoz', 'Amphonil 20 mg', 'Nobec 10', 'Tempon', 'Omenod 10 Felo', 'Dicocelte Babi', 'Ibuprofen-Earetamma Sandoz', 'Flunazol', 'Kitartin NF', 'Senthekarate', 'NO-Alec Reg 2,5 mg tabletki', 'Marbost', 'Norazol', 'Colcafal', 'Aulo', 'Sammarol ', 'Linutol', 'Respan 150', 'Izuprazon Teva', 'Plentrosin Stol ogurm', 'Pemetrexed roilis', 'Acometax', 'Vopo-Perofard', 'Acsodan Senoven', 'Carepder 160 mg', 'Excinor', 'Sinunguman Mulokin Pabletki', 'Alimal', 'Prostol', 'Epalriis 20 mg/ml roztwór', 'Vumalote V 100 mg/melkułato', 'Mixbaq', 'Vizacor 25 mg', 'Fluoratol', 'Capicina', 'EquiPuma', 'Culghiar 125', 'Melhosprem', 'Olviton', 'Amotrix', 'Dotamisar', 'Egcin', 'Heterecl 50 mlg', 'Rumulok FlR', 'Bered LC', 'Boxtyla', 'Zoprobadamide TraMan', 'Noborpet', 'Sillax', 'Ranomer', 'Carigen', 'Tripamul Hatanic Med', 'Tankup 200', 'Aviofentide 1%', 'Phytamic', 'Viprolox Hispila', 'Metozidin VGA4 Ritrexirum', 'Osparga 180', 'Culvistan', 'Telminum Elpesidhine Sprayct', 'Betanil', 'Hitracil', 'Frumogid', 'Benaflo b. 400', 'Tarkimed zylatoronin Teva', 'Ketexascin', 'Dutolamed Tabletki smakum', 'Amlodsan 10 mg', 'Plenox ', 'Midiranort', 'Metforma', 'Menvoxid', 'Rhiamin', 'Influmazin ix', 'Anthrozos', 'Tranchida', 'Euthyloletic Ascord', 'Cormo-Oedex', 'Calcium Kekan', 'Levoboletamal', 'Gnacexal', 'Maść bawirol Gaptimi-Sespimatus', 'Ixil 50 zla,szotadinąhinum', 'Fepopum', 'Fluban Freeclum', 'Imaturacinum Afloferadol', 'Pandolyd', 'Pemetrex XCH', 'Astorulon HCT 12500 mg/ml/ml/D', 'Lopamistia -', 'Prazel Inle', 'Apo-Menocon', 'Kezisic 200', 'Nomtopery VP7 roztwór d, proszek sznowia', 'Cevirot', 'Dacarestmal 100 mg', 'Nalitia Spray', 'Razucec Dispirol', 'Suramed fort', 'Advantage', 'Rilben', 'Fortecal Plus', 'Cokcuig 50; 500', 'Tynlan', 'Remiplantane', 'Rekamin 3', 'Ibupoxine Actavis 0,6%', 'Strepsils Ponbard ', 'Zolud', 'Bodalabor Cor', 'Lerea ', 'Fluaradil', 'Crovesin ML 500', 'Promozam 10/g roztwór', 'Ranuker', 'Flucemix C', 'Vozzwpnawietiosina floricum', 'Scprolis', 'Serultin Cluema 100', 'Vercil', 'Vicarm SCT  0,3^iwade', 'Tolygron 0,4%', 'Biomac', 'Cybulettic Taratamidat', 'Forzes MCT MR', 'Ioltra', 'Tripoqól N', 'Memantan Flavouruterdinum', 'Silgri', 'Equigna 10 mg tabletki', 'ColiLAm, zZ9', 'Rastangan', 'Jedopheg', 'Echinahyclol-Cylt', 'Owani 25 mg/10', 'Calcium', 'Soplo-V7', 'Corinobatre 40ź', 'Nobilis 100', 'VhEPORGRRAC', 'Dardostal', 'Blipzoktan smacz, zep', 'Nobilis conpharmaea', 'Biumo-Centanex E 7,5%', 'Bilesla', 'Enilatel', 'Entaatexa', 'Taxistla', 'Propilost Tracs 40', 'Lolium-Medacs', 'Welhisol', 'Coloten 20', 'Cortrim 25', 'Temontus D3 T', 'Hytamatol', 'Xetlil Bluefish', 'Remetrifonale Symb.MH vit', 'Xylortis', 'Trmolan 20 mg', 'Nasape', 'Bendomusty Iqva', 'Brestodis', 'Normonex B6 Marurils', 'Mukecina Ofleda', 'BioMan', 'Carvecnusin', 'Rozaprin', 'Magnez 60 mg tabletki', 'Viaxese', 'Hasatgin', 'Lactuvio', 'Oscaps', 'Ivadra Nabewe iBIBo Sandozolblowet Rerishanovet ', 'ArthriflygR', 'Pemipraxil', 'Ritamic', 'Nańzic Rol', 'Owoc So/cowajanecy', 'Andusresrin B6', 'Vitazistad', 'Stramotecol Max', 'Zoxopynl', 'Xixbamostan Gbuard', 'Cormotine 50 mg, i', 'Bru-Dalol', 'Ibuprofen Zatoki', 'Cistoroxex Gol Milan', 'Anvin Noo 10', 'Cetaran', 'Losalba', 'Lorco-Sactol ', 'Lexodnixol Uemeda', 'DFOgodals Kabi', 'Nasemin O', 'Cinacton 0,5 mg/ml roztwór', 'Levetaragilomide Sandoz', 'Simatid Elseż,valil', 'Joncu ', 'Levetirydazilum HR', 'Pastigan Munorc kasodord', 'Cloprocenta', 'Priltast 10 mg', 'RhAMEDA Forte HCT', 'Cortex', 'Souremen', 'Scandoprost 100 mg/ml roztwór', 'Ketyl', 'Serspeb', 'Sulfafen', 'Saprimyx MCT (p.', 'Capopetol', 'Ezibrastin-abhhastion Intavis', 'Cenvia XumHEO Charma', 'Kramosyaton Żamins 50 mg/', 'Tlimemax BRES', 'Hixalbal 1 Inicicum', 'Citra Medacol, 500 mg/ml,', 'Epormel', 'Soricum', 'Beneflovet Gon,ot.Es', 'LuluraxEP', 'Simvastor', 'Catecia Hpod-Coveron Auricsofhina 2,5 mg/r', 'Rababine', 'Aripal', 'Curofen-40 mg roztwór', 'Meto-RDSREPU5,,5 mg/', 'Mylozuratloc Adid', 'Cycmrifen MIX 300 mg/ml roztwór', 'Cluipitic 0,3% D.', 'Neurontin Vechlort', 'Nytomia', 'Varsen 50 mg/ml tabletki', 'Infupocid', 'Gemcava', 'Comoctal', 'Zolor 40g +', 'Resorroglavate', 'Zospid', 'Erlamex SSS', 'LaFortolen Farofer', 'Romequofo Complexianszaną infirofil, 250 mg/ml roztwór', 'Ketolus Azinita Foda', 'Haxedil 500 mg tabletki', 'Injecta', 'Penamyce 2 mg/s', 'Asafolin Z3 25%', 'Caretrofen Cl ', 'Thimacla H', 'Drunfentimine Medycile Brzożąc;', 'Proctor 40000', 'Rhuridol 5 N Tavaliszard', 'Clinzonux octamax sil', 'Crostamil Mylan', 'NasakbaM Trkoshole', 'Lacaltin Kabi', 'Nasito', 'Agarmagen', 'Arvitol VS', 'Torcogex flsa', 'Furoxysan Fresenolla 25 mg/', 'Xalectura', 'Andualda', 'Elofor Litabanis WZF 60 mg/ml/s', 'Xytompal, wCT', 'Pemecresterm', 'Trissal', 'Hypralon CBH', 'Natels', 'Griplatol 1%', 'Cyclogramil Sandoz', 'PeraPol', 'Hipracin E Jan', 'Maść zarnąkabione-Sot', 'Amlamix C Kólukob', 'Agzripar', 'Softonis', 'Lablonez', 'Elfencar', 'Aspevi 100', 'Mycortic', 'Luanex', 'Anupran', 'Telmilapide Solucmuplosine', 'Tansol Plus', 'Doxymole Zoliferoloidy', 'Octanes', 'Amlocel', 'Caryspix', 'Hascinate Bluefish', 'Raneztd', 'Odis flukacs 5% (Am', 'Clopervox SU200 Nitra', 'Calcium dostma', 'Stonoptix Sarbonicil', 'Chotro-Alorac', 'Deslorm Laptipid', 'FvyLM 200 Ilno', 'Azizil Flavox Farmastura', 'Bhobedal ', 'Azalexl', 'Contril DV', 'Donuman', 'Oviterma 400 mg/ml roztwór', 'Doxil JKriekio', 'Apo-Midrin', 'Lonzo Jelisol', 'Verhlix', 'Movirux C+', 'Topacoline Dr. Mal', 'Ibuprofen Zotabsen', 'Misbarnix', 'Massilep 100 mm +', 'Doxaxel', 'Somatuxid Gutastal Synthif-LAmO 260 mg', 'Atrodolt 400 mg/100', 'Glunexantada', 'Entilox', 'Albarest 140 mg', 'Cinachit Clorato 0,9%', 'BioBoran 200 mg/g zów,', 'Taxatil fast', 'Zoladomivem', 'Proctol', 'Aderatum 600', 'Opoopar', 'Bromonyor', 'Apo-Premehin Pals', 'Hiprosten', 'Idix Olinal', 'Glimpric', 'PlaVus Reeprolinum', 'Zolycra Neepril HD flosipal', 'Podanecil', 'Intabam Mescastin-Adfag', 'Amoxic', 'Moslemux', 'Metoped', 'Sudimaton ', 'Oidan', 'Vincum Samma 30 mg', 'Plusantum BR zeb', 'AmeziL', 'Colmena', 'Flumamid N4 0,3%; L', 'Rosfal', 'Milura', 'Sanevar', 'Aropar', 'Kłiansoton 25 mg', 'Cevetikican', 'Emlaa a', 'BrombiPin L', 'Retaman', 'Metocloxil', 'Retonan NX', 'Omcasen', 'Levocistel', 'Dolel 1000 mg', 'Ibumna 15', 'Gemlyquan', 'Rilece', 'Rasikrenk', 'Atrin Pent', 'Lignoc 500', 'Pentastig', 'Htavir ', 'Telolapid Fara', 'Strepso 2,5 mg', 'Cheroc', 'Carvenept', 'RetriQex', 'Diloger', 'Sydrocilis 1 mg J', 'Bubalrox', 'Ginkoflozal Spraynt ', 'Octacem', 'Ola DiCorid SU10', 'Limril', 'Adavo LCT', 'Netialin DAX ', 'Avioman', 'Urohal', 'Euthirizin Exehtelle', 'Encoflon MixM Ex', 'Momocen S', 'Caneflax N VT ', 'Erdopar', 'Metazal Tabletkik', 'Lebortin', 'Kruplo', 'Borhece', 'Berostor', 'Norvostatin L. 100 mg/ml restająmiw', 'Sorestan farinum Nipra', 'Ibum Milienka wudusjan', 'Olseva Gluce', 'TrexaB', 'Frontian', 'Cholistrexogarolum Teva', 'Nebroced', 'Prezu Boretic ro', 'Estitoten', 'Pylimlex2de', 'Obymna', 'Naąroblen 2%', 'Livractin Zuoponnne Bra.usina Vavo', 'Versicoan', 'Sirdefaspil Faridaboben', 'Salzoplus', 'Tasivac BP', 'Onpisor', 'Rivemikus', 'U', 'Plusokal', 'Caprivent', 'Omtamix T 25', 'Ustrac', 'Paracetass', 'Kalivan K-żłuda', 'Gedofloxac', 'Fiproclatin-Meda', 'Nispuxin L5 1000 mg', 'Lignodyr Cleverinum Compla', 'Dutaron Plus Sledu 2%S0', 'Toncile', 'Trentan', 'Xorazol Made', 'Clonisan', 'Festran ACSanthil', 'Laxaty', 'Holetot Eossu', 'Momplini', 'Olvac Meltrol', 'Sambrofolal ', 'Cotulite 50%,', 'Memantel', 'Rhibastin', 'Nirbectimicaz', 'Nasifine-ExED 500', 'SymFyprolon-+ 15% GCL', 'Lynolin', 'Geminot', 'Ghuroquil', 'Actamyspral Tabletki (30 mg/ml roztwór', 'Olaztoprazol SC Braun', 'Tembitaberm WZF', 'Ower Forte', 'Equilen 25 mg tabletki j', 'Modis 6000', 'Ererdagrazolemidum trot.', 'Ambrolil Tioflofen Jelta']\n"
          ],
          "name": "stdout"
        }
      ]
    },
    {
      "cell_type": "code",
      "metadata": {
        "id": "PtcWNLrp8mF3",
        "colab": {
          "base_uri": "https://localhost:8080/",
          "height": 34
        },
        "outputId": "7783c0d2-2475-4589-fd7c-e9febffc13ab"
      },
      "source": [
        "len(drugsF)"
      ],
      "execution_count": null,
      "outputs": [
        {
          "output_type": "execute_result",
          "data": {
            "text/plain": [
              "9984"
            ]
          },
          "metadata": {
            "tags": []
          },
          "execution_count": 331
        }
      ]
    },
    {
      "cell_type": "code",
      "metadata": {
        "id": "BWQYV9kTXk37"
      },
      "source": [
        "drugsF_df = pd.DataFrame(drugsF, columns=['title_new'])"
      ],
      "execution_count": null,
      "outputs": []
    },
    {
      "cell_type": "code",
      "metadata": {
        "id": "9_LXC5Ks8tlB",
        "colab": {
          "base_uri": "https://localhost:8080/",
          "height": 166
        },
        "outputId": "89fd50f2-0ceb-4054-983e-3543fd0fec96"
      },
      "source": [
        "drugsF_df.describe()"
      ],
      "execution_count": null,
      "outputs": [
        {
          "output_type": "execute_result",
          "data": {
            "text/html": [
              "<div>\n",
              "<style scoped>\n",
              "    .dataframe tbody tr th:only-of-type {\n",
              "        vertical-align: middle;\n",
              "    }\n",
              "\n",
              "    .dataframe tbody tr th {\n",
              "        vertical-align: top;\n",
              "    }\n",
              "\n",
              "    .dataframe thead th {\n",
              "        text-align: right;\n",
              "    }\n",
              "</style>\n",
              "<table border=\"1\" class=\"dataframe\">\n",
              "  <thead>\n",
              "    <tr style=\"text-align: right;\">\n",
              "      <th></th>\n",
              "      <th>title_new</th>\n",
              "    </tr>\n",
              "  </thead>\n",
              "  <tbody>\n",
              "    <tr>\n",
              "      <th>count</th>\n",
              "      <td>9984</td>\n",
              "    </tr>\n",
              "    <tr>\n",
              "      <th>unique</th>\n",
              "      <td>9966</td>\n",
              "    </tr>\n",
              "    <tr>\n",
              "      <th>top</th>\n",
              "      <td>Marbox</td>\n",
              "    </tr>\n",
              "    <tr>\n",
              "      <th>freq</th>\n",
              "      <td>2</td>\n",
              "    </tr>\n",
              "  </tbody>\n",
              "</table>\n",
              "</div>"
            ],
            "text/plain": [
              "       title_new\n",
              "count       9984\n",
              "unique      9966\n",
              "top       Marbox\n",
              "freq           2"
            ]
          },
          "metadata": {
            "tags": []
          },
          "execution_count": 333
        }
      ]
    },
    {
      "cell_type": "code",
      "metadata": {
        "id": "KY6djbxV8iQz"
      },
      "source": [
        "drugsF_df = pd.DataFrame(drugsF_df['title_new'].unique(),columns=['title_new'])"
      ],
      "execution_count": null,
      "outputs": []
    },
    {
      "cell_type": "code",
      "metadata": {
        "id": "e1rCl8Qo9_4e",
        "colab": {
          "base_uri": "https://localhost:8080/",
          "height": 166
        },
        "outputId": "59781a66-030b-4fb5-8496-0fc6d71209bd"
      },
      "source": [
        "drugsF_df.describe()"
      ],
      "execution_count": null,
      "outputs": [
        {
          "output_type": "execute_result",
          "data": {
            "text/html": [
              "<div>\n",
              "<style scoped>\n",
              "    .dataframe tbody tr th:only-of-type {\n",
              "        vertical-align: middle;\n",
              "    }\n",
              "\n",
              "    .dataframe tbody tr th {\n",
              "        vertical-align: top;\n",
              "    }\n",
              "\n",
              "    .dataframe thead th {\n",
              "        text-align: right;\n",
              "    }\n",
              "</style>\n",
              "<table border=\"1\" class=\"dataframe\">\n",
              "  <thead>\n",
              "    <tr style=\"text-align: right;\">\n",
              "      <th></th>\n",
              "      <th>title_new</th>\n",
              "    </tr>\n",
              "  </thead>\n",
              "  <tbody>\n",
              "    <tr>\n",
              "      <th>count</th>\n",
              "      <td>9966</td>\n",
              "    </tr>\n",
              "    <tr>\n",
              "      <th>unique</th>\n",
              "      <td>9966</td>\n",
              "    </tr>\n",
              "    <tr>\n",
              "      <th>top</th>\n",
              "      <td>Frals Telm 5</td>\n",
              "    </tr>\n",
              "    <tr>\n",
              "      <th>freq</th>\n",
              "      <td>1</td>\n",
              "    </tr>\n",
              "  </tbody>\n",
              "</table>\n",
              "</div>"
            ],
            "text/plain": [
              "           title_new\n",
              "count           9966\n",
              "unique          9966\n",
              "top     Frals Telm 5\n",
              "freq               1"
            ]
          },
          "metadata": {
            "tags": []
          },
          "execution_count": 335
        }
      ]
    },
    {
      "cell_type": "code",
      "metadata": {
        "id": "PwrL9t-kljNj"
      },
      "source": [
        "drugsF_df['label']='fake'"
      ],
      "execution_count": null,
      "outputs": []
    },
    {
      "cell_type": "code",
      "metadata": {
        "id": "gPmJuzpW0X7E",
        "colab": {
          "base_uri": "https://localhost:8080/",
          "height": 343
        },
        "outputId": "8b78eb5b-c1fc-40aa-fc33-5a2622dc8afe"
      },
      "source": [
        "drugsF_df.head(10)"
      ],
      "execution_count": null,
      "outputs": [
        {
          "output_type": "execute_result",
          "data": {
            "text/html": [
              "<div>\n",
              "<style scoped>\n",
              "    .dataframe tbody tr th:only-of-type {\n",
              "        vertical-align: middle;\n",
              "    }\n",
              "\n",
              "    .dataframe tbody tr th {\n",
              "        vertical-align: top;\n",
              "    }\n",
              "\n",
              "    .dataframe thead th {\n",
              "        text-align: right;\n",
              "    }\n",
              "</style>\n",
              "<table border=\"1\" class=\"dataframe\">\n",
              "  <thead>\n",
              "    <tr style=\"text-align: right;\">\n",
              "      <th></th>\n",
              "      <th>title_new</th>\n",
              "      <th>label</th>\n",
              "    </tr>\n",
              "  </thead>\n",
              "  <tbody>\n",
              "    <tr>\n",
              "      <th>0</th>\n",
              "      <td>Anelsit</td>\n",
              "      <td>fake</td>\n",
              "    </tr>\n",
              "    <tr>\n",
              "      <th>1</th>\n",
              "      <td>Vortar</td>\n",
              "      <td>fake</td>\n",
              "    </tr>\n",
              "    <tr>\n",
              "      <th>2</th>\n",
              "      <td>Coltramun gorte</td>\n",
              "      <td>fake</td>\n",
              "    </tr>\n",
              "    <tr>\n",
              "      <th>3</th>\n",
              "      <td>Expitir Zisten</td>\n",
              "      <td>fake</td>\n",
              "    </tr>\n",
              "    <tr>\n",
              "      <th>4</th>\n",
              "      <td>Stanud</td>\n",
              "      <td>fake</td>\n",
              "    </tr>\n",
              "    <tr>\n",
              "      <th>5</th>\n",
              "      <td>Tontroloc DL</td>\n",
              "      <td>fake</td>\n",
              "    </tr>\n",
              "    <tr>\n",
              "      <th>6</th>\n",
              "      <td>Kumezeum</td>\n",
              "      <td>fake</td>\n",
              "    </tr>\n",
              "    <tr>\n",
              "      <th>7</th>\n",
              "      <td>Raminus R Elsea</td>\n",
              "      <td>fake</td>\n",
              "    </tr>\n",
              "    <tr>\n",
              "      <th>8</th>\n",
              "      <td>Emlepiron</td>\n",
              "      <td>fake</td>\n",
              "    </tr>\n",
              "    <tr>\n",
              "      <th>9</th>\n",
              "      <td>Alporator Mulo</td>\n",
              "      <td>fake</td>\n",
              "    </tr>\n",
              "  </tbody>\n",
              "</table>\n",
              "</div>"
            ],
            "text/plain": [
              "         title_new label\n",
              "0          Anelsit  fake\n",
              "1           Vortar  fake\n",
              "2  Coltramun gorte  fake\n",
              "3   Expitir Zisten  fake\n",
              "4           Stanud  fake\n",
              "5     Tontroloc DL  fake\n",
              "6         Kumezeum  fake\n",
              "7  Raminus R Elsea  fake\n",
              "8        Emlepiron  fake\n",
              "9   Alporator Mulo  fake"
            ]
          },
          "metadata": {
            "tags": []
          },
          "execution_count": 337
        }
      ]
    },
    {
      "cell_type": "code",
      "metadata": {
        "id": "FLfdzOLk8PZo",
        "colab": {
          "base_uri": "https://localhost:8080/",
          "height": 140
        },
        "outputId": "98b0e712-2dce-43dc-ff76-ff2390f38b7d"
      },
      "source": [
        "drugsF_df.info()"
      ],
      "execution_count": null,
      "outputs": [
        {
          "output_type": "stream",
          "text": [
            "<class 'pandas.core.frame.DataFrame'>\n",
            "RangeIndex: 9966 entries, 0 to 9965\n",
            "Data columns (total 2 columns):\n",
            "title_new    9966 non-null object\n",
            "label        9966 non-null object\n",
            "dtypes: object(2)\n",
            "memory usage: 155.8+ KB\n"
          ],
          "name": "stdout"
        }
      ]
    },
    {
      "cell_type": "code",
      "metadata": {
        "id": "tQGZA8Rl2z4x"
      },
      "source": [
        "drugsL_df=drugsF_df.append(drugsR_df)"
      ],
      "execution_count": null,
      "outputs": []
    },
    {
      "cell_type": "code",
      "metadata": {
        "id": "X8IcYWv93Ufp",
        "colab": {
          "base_uri": "https://localhost:8080/",
          "height": 343
        },
        "outputId": "e12807ea-f399-479d-8641-722f8e038c9a"
      },
      "source": [
        "drugsL_df.head(10)"
      ],
      "execution_count": null,
      "outputs": [
        {
          "output_type": "execute_result",
          "data": {
            "text/html": [
              "<div>\n",
              "<style scoped>\n",
              "    .dataframe tbody tr th:only-of-type {\n",
              "        vertical-align: middle;\n",
              "    }\n",
              "\n",
              "    .dataframe tbody tr th {\n",
              "        vertical-align: top;\n",
              "    }\n",
              "\n",
              "    .dataframe thead th {\n",
              "        text-align: right;\n",
              "    }\n",
              "</style>\n",
              "<table border=\"1\" class=\"dataframe\">\n",
              "  <thead>\n",
              "    <tr style=\"text-align: right;\">\n",
              "      <th></th>\n",
              "      <th>title_new</th>\n",
              "      <th>label</th>\n",
              "    </tr>\n",
              "  </thead>\n",
              "  <tbody>\n",
              "    <tr>\n",
              "      <th>0</th>\n",
              "      <td>Anelsit</td>\n",
              "      <td>fake</td>\n",
              "    </tr>\n",
              "    <tr>\n",
              "      <th>1</th>\n",
              "      <td>Vortar</td>\n",
              "      <td>fake</td>\n",
              "    </tr>\n",
              "    <tr>\n",
              "      <th>2</th>\n",
              "      <td>Coltramun gorte</td>\n",
              "      <td>fake</td>\n",
              "    </tr>\n",
              "    <tr>\n",
              "      <th>3</th>\n",
              "      <td>Expitir Zisten</td>\n",
              "      <td>fake</td>\n",
              "    </tr>\n",
              "    <tr>\n",
              "      <th>4</th>\n",
              "      <td>Stanud</td>\n",
              "      <td>fake</td>\n",
              "    </tr>\n",
              "    <tr>\n",
              "      <th>5</th>\n",
              "      <td>Tontroloc DL</td>\n",
              "      <td>fake</td>\n",
              "    </tr>\n",
              "    <tr>\n",
              "      <th>6</th>\n",
              "      <td>Kumezeum</td>\n",
              "      <td>fake</td>\n",
              "    </tr>\n",
              "    <tr>\n",
              "      <th>7</th>\n",
              "      <td>Raminus R Elsea</td>\n",
              "      <td>fake</td>\n",
              "    </tr>\n",
              "    <tr>\n",
              "      <th>8</th>\n",
              "      <td>Emlepiron</td>\n",
              "      <td>fake</td>\n",
              "    </tr>\n",
              "    <tr>\n",
              "      <th>9</th>\n",
              "      <td>Alporator Mulo</td>\n",
              "      <td>fake</td>\n",
              "    </tr>\n",
              "  </tbody>\n",
              "</table>\n",
              "</div>"
            ],
            "text/plain": [
              "         title_new label\n",
              "0          Anelsit  fake\n",
              "1           Vortar  fake\n",
              "2  Coltramun gorte  fake\n",
              "3   Expitir Zisten  fake\n",
              "4           Stanud  fake\n",
              "5     Tontroloc DL  fake\n",
              "6         Kumezeum  fake\n",
              "7  Raminus R Elsea  fake\n",
              "8        Emlepiron  fake\n",
              "9   Alporator Mulo  fake"
            ]
          },
          "metadata": {
            "tags": []
          },
          "execution_count": 340
        }
      ]
    },
    {
      "cell_type": "code",
      "metadata": {
        "id": "h0p-haIs-m3i",
        "colab": {
          "base_uri": "https://localhost:8080/",
          "height": 166
        },
        "outputId": "5ad08fbb-06bb-4cea-b5f2-168d9ece4a6a"
      },
      "source": [
        "drugsR_df.describe()"
      ],
      "execution_count": null,
      "outputs": [
        {
          "output_type": "execute_result",
          "data": {
            "text/html": [
              "<div>\n",
              "<style scoped>\n",
              "    .dataframe tbody tr th:only-of-type {\n",
              "        vertical-align: middle;\n",
              "    }\n",
              "\n",
              "    .dataframe tbody tr th {\n",
              "        vertical-align: top;\n",
              "    }\n",
              "\n",
              "    .dataframe thead th {\n",
              "        text-align: right;\n",
              "    }\n",
              "</style>\n",
              "<table border=\"1\" class=\"dataframe\">\n",
              "  <thead>\n",
              "    <tr style=\"text-align: right;\">\n",
              "      <th></th>\n",
              "      <th>title_new</th>\n",
              "      <th>label</th>\n",
              "    </tr>\n",
              "  </thead>\n",
              "  <tbody>\n",
              "    <tr>\n",
              "      <th>count</th>\n",
              "      <td>9363</td>\n",
              "      <td>9363</td>\n",
              "    </tr>\n",
              "    <tr>\n",
              "      <th>unique</th>\n",
              "      <td>9363</td>\n",
              "      <td>1</td>\n",
              "    </tr>\n",
              "    <tr>\n",
              "      <th>top</th>\n",
              "      <td>Candesartan HCT Tchaikapharma</td>\n",
              "      <td>real</td>\n",
              "    </tr>\n",
              "    <tr>\n",
              "      <th>freq</th>\n",
              "      <td>1</td>\n",
              "      <td>9363</td>\n",
              "    </tr>\n",
              "  </tbody>\n",
              "</table>\n",
              "</div>"
            ],
            "text/plain": [
              "                            title_new label\n",
              "count                            9363  9363\n",
              "unique                           9363     1\n",
              "top     Candesartan HCT Tchaikapharma  real\n",
              "freq                                1  9363"
            ]
          },
          "metadata": {
            "tags": []
          },
          "execution_count": 341
        }
      ]
    },
    {
      "cell_type": "code",
      "metadata": {
        "id": "cz8-xT1w-pxd",
        "colab": {
          "base_uri": "https://localhost:8080/",
          "height": 166
        },
        "outputId": "110a6163-1ffc-49c5-e4d7-0d7c660ef7b0"
      },
      "source": [
        "drugsF_df.describe()"
      ],
      "execution_count": null,
      "outputs": [
        {
          "output_type": "execute_result",
          "data": {
            "text/html": [
              "<div>\n",
              "<style scoped>\n",
              "    .dataframe tbody tr th:only-of-type {\n",
              "        vertical-align: middle;\n",
              "    }\n",
              "\n",
              "    .dataframe tbody tr th {\n",
              "        vertical-align: top;\n",
              "    }\n",
              "\n",
              "    .dataframe thead th {\n",
              "        text-align: right;\n",
              "    }\n",
              "</style>\n",
              "<table border=\"1\" class=\"dataframe\">\n",
              "  <thead>\n",
              "    <tr style=\"text-align: right;\">\n",
              "      <th></th>\n",
              "      <th>title_new</th>\n",
              "      <th>label</th>\n",
              "    </tr>\n",
              "  </thead>\n",
              "  <tbody>\n",
              "    <tr>\n",
              "      <th>count</th>\n",
              "      <td>9966</td>\n",
              "      <td>9966</td>\n",
              "    </tr>\n",
              "    <tr>\n",
              "      <th>unique</th>\n",
              "      <td>9966</td>\n",
              "      <td>1</td>\n",
              "    </tr>\n",
              "    <tr>\n",
              "      <th>top</th>\n",
              "      <td>Frals Telm 5</td>\n",
              "      <td>fake</td>\n",
              "    </tr>\n",
              "    <tr>\n",
              "      <th>freq</th>\n",
              "      <td>1</td>\n",
              "      <td>9966</td>\n",
              "    </tr>\n",
              "  </tbody>\n",
              "</table>\n",
              "</div>"
            ],
            "text/plain": [
              "           title_new label\n",
              "count           9966  9966\n",
              "unique          9966     1\n",
              "top     Frals Telm 5  fake\n",
              "freq               1  9966"
            ]
          },
          "metadata": {
            "tags": []
          },
          "execution_count": 342
        }
      ]
    },
    {
      "cell_type": "code",
      "metadata": {
        "id": "WZAyLRVv3XN_",
        "colab": {
          "base_uri": "https://localhost:8080/",
          "height": 164
        },
        "outputId": "ae93376e-ed05-416e-d0ae-49695815e19f"
      },
      "source": [
        "drugsL_df.describe()"
      ],
      "execution_count": null,
      "outputs": [
        {
          "output_type": "execute_result",
          "data": {
            "text/html": [
              "<div>\n",
              "<style scoped>\n",
              "    .dataframe tbody tr th:only-of-type {\n",
              "        vertical-align: middle;\n",
              "    }\n",
              "\n",
              "    .dataframe tbody tr th {\n",
              "        vertical-align: top;\n",
              "    }\n",
              "\n",
              "    .dataframe thead th {\n",
              "        text-align: right;\n",
              "    }\n",
              "</style>\n",
              "<table border=\"1\" class=\"dataframe\">\n",
              "  <thead>\n",
              "    <tr style=\"text-align: right;\">\n",
              "      <th></th>\n",
              "      <th>title_new</th>\n",
              "      <th>label</th>\n",
              "    </tr>\n",
              "  </thead>\n",
              "  <tbody>\n",
              "    <tr>\n",
              "      <th>count</th>\n",
              "      <td>19329</td>\n",
              "      <td>19329</td>\n",
              "    </tr>\n",
              "    <tr>\n",
              "      <th>unique</th>\n",
              "      <td>19329</td>\n",
              "      <td>2</td>\n",
              "    </tr>\n",
              "    <tr>\n",
              "      <th>top</th>\n",
              "      <td>Broctoshosra 100 mg/ml</td>\n",
              "      <td>fake</td>\n",
              "    </tr>\n",
              "    <tr>\n",
              "      <th>freq</th>\n",
              "      <td>1</td>\n",
              "      <td>9966</td>\n",
              "    </tr>\n",
              "  </tbody>\n",
              "</table>\n",
              "</div>"
            ],
            "text/plain": [
              "                     title_new  label\n",
              "count                    19329  19329\n",
              "unique                   19329      2\n",
              "top     Broctoshosra 100 mg/ml   fake\n",
              "freq                         1   9966"
            ]
          },
          "metadata": {
            "tags": []
          },
          "execution_count": 360
        }
      ]
    },
    {
      "cell_type": "code",
      "metadata": {
        "id": "tTaziC6_5mby",
        "colab": {
          "base_uri": "https://localhost:8080/",
          "height": 35
        },
        "outputId": "d27ff74f-7e99-4510-9f70-4508d341bb55"
      },
      "source": [
        "lang2id = {lang: i for i, lang in enumerate(drugsL_df['label'].value_counts().index)}\n",
        "lang2id"
      ],
      "execution_count": null,
      "outputs": [
        {
          "output_type": "execute_result",
          "data": {
            "text/plain": [
              "{'fake': 0, 'real': 1}"
            ]
          },
          "metadata": {
            "tags": []
          },
          "execution_count": 361
        }
      ]
    },
    {
      "cell_type": "code",
      "metadata": {
        "id": "K2hUKCNuDcj-",
        "colab": {
          "base_uri": "https://localhost:8080/",
          "height": 35
        },
        "outputId": "97ad9ebe-b152-4e8f-fe61-36722980bdcb"
      },
      "source": [
        "max_len"
      ],
      "execution_count": null,
      "outputs": [
        {
          "output_type": "execute_result",
          "data": {
            "text/plain": [
              "55"
            ]
          },
          "metadata": {
            "tags": []
          },
          "execution_count": 362
        }
      ]
    },
    {
      "cell_type": "code",
      "metadata": {
        "id": "s70R6DFZ3hmo"
      },
      "source": [
        "X2 = np.zeros((len(drugsL_df), max_len), dtype=np.int64) ###########\n",
        "X2[:,:] = AFTER_ID\n",
        "X2[:,0] = BEGIN_ID\n",
        "\n",
        "Y2 = np.zeros(len(drugsL_df), dtype=np.int64)"
      ],
      "execution_count": null,
      "outputs": []
    },
    {
      "cell_type": "code",
      "metadata": {
        "id": "KjK7UtHV4vNc"
      },
      "source": [
        "for i, (name, lang) in drugsL_df.iterrows():\n",
        "    Y2[i] = lang2id[lang]\n",
        "    for j, c in enumerate(name):\n",
        "        if j + 1 >= max_len:\n",
        "            break\n",
        "        X2[i, j + 1] = char2id[c]"
      ],
      "execution_count": null,
      "outputs": []
    },
    {
      "cell_type": "code",
      "metadata": {
        "id": "E_3RdTjT63Su",
        "colab": {
          "base_uri": "https://localhost:8080/",
          "height": 35
        },
        "outputId": "272183dc-3eae-4d5c-e28d-f73acf19acd0"
      },
      "source": [
        "Y2, Y2.shape"
      ],
      "execution_count": null,
      "outputs": [
        {
          "output_type": "execute_result",
          "data": {
            "text/plain": [
              "(array([1, 1, 1, ..., 0, 0, 0]), (19329,))"
            ]
          },
          "metadata": {
            "tags": []
          },
          "execution_count": 365
        }
      ]
    },
    {
      "cell_type": "code",
      "metadata": {
        "id": "rMTIljbN66Wi",
        "colab": {
          "base_uri": "https://localhost:8080/",
          "height": 141
        },
        "outputId": "f3cc4d62-fe3a-4625-fd56-441977f4c7cc"
      },
      "source": [
        "X2, X2.shape"
      ],
      "execution_count": null,
      "outputs": [
        {
          "output_type": "execute_result",
          "data": {
            "text/plain": [
              "(array([[91,  0,  1, ..., 92, 92, 92],\n",
              "        [91, 16,  4, ..., 92, 92, 92],\n",
              "        [91, 17, 10, ..., 92, 92, 92],\n",
              "        ...,\n",
              "        [91, 92, 92, ..., 92, 92, 92],\n",
              "        [91, 92, 92, ..., 92, 92, 92],\n",
              "        [91, 92, 92, ..., 92, 92, 92]]), (19329, 55))"
            ]
          },
          "metadata": {
            "tags": []
          },
          "execution_count": 366
        }
      ]
    },
    {
      "cell_type": "markdown",
      "metadata": {
        "id": "h9JPZEEyK7YW"
      },
      "source": [
        "## wczytywanie danych"
      ]
    },
    {
      "cell_type": "code",
      "metadata": {
        "id": "mqh0P8s87D19"
      },
      "source": [
        "X2_train, X2_test, Y2_train, Y2_test = train_test_split(X2, Y2, test_size=0.25, random_state=42)"
      ],
      "execution_count": null,
      "outputs": []
    },
    {
      "cell_type": "code",
      "metadata": {
        "id": "msEd45dQ7JM-"
      },
      "source": [
        "trainloader2 = DataLoader(TensorDataset(torch.from_numpy(X2_train).long(),\n",
        "                                       torch.from_numpy(Y2_train).long()),\n",
        "                         batch_size=128, shuffle=True)\n",
        "testloader2 = DataLoader(TensorDataset(torch.from_numpy(X2_test).long(),\n",
        "                                      torch.from_numpy(Y2_test).long()),\n",
        "                         batch_size=128, shuffle=False)\n",
        "\n",
        "\n",
        "dataloaders2= {\n",
        "    \"train\": trainloader2,\n",
        "    \"validation\": testloader2\n",
        "}"
      ],
      "execution_count": null,
      "outputs": []
    },
    {
      "cell_type": "markdown",
      "metadata": {
        "id": "eU7I05L4LDUS"
      },
      "source": [
        "## model default"
      ]
    },
    {
      "cell_type": "code",
      "metadata": {
        "id": "10A_NSaV7YiF"
      },
      "source": [
        "class RecurrentLSTM(nn.Module):\n",
        "    def __init__(self, embedding_size, hidden_size):\n",
        "        super().__init__()\n",
        "        self.emb = nn.Embedding(len(char2id) + 2, embedding_size)\n",
        "        self.lstm = nn.LSTM(input_size=embedding_size, hidden_size=hidden_size)\n",
        "        # note: input size is the numer of channels/embedding dim, NOT length\n",
        "        self.fc = nn.Linear(hidden_size, len(lang2id))\n",
        "\n",
        "    def forward(self, x):\n",
        "        x = self.emb(x)\n",
        "        x = x.permute(1, 0, 2)  # BLC -> LBC\n",
        "        output, (hidden, cell) = self.lstm(x)\n",
        "        res = self.fc(cell).squeeze(0)\n",
        "        return res"
      ],
      "execution_count": null,
      "outputs": []
    },
    {
      "cell_type": "code",
      "metadata": {
        "id": "qExxdn3h7VCt"
      },
      "source": [
        "# train on cuda if available\n",
        "device = torch.device('cuda:0' if torch.cuda.is_available() else 'cpu')\n",
        "\n",
        "def train_model(model, criterion, optimizer, num_epochs=10):\n",
        "    liveloss = PlotLosses()\n",
        "    model = model.to(device)\n",
        "    \n",
        "    for epoch in range(num_epochs):\n",
        "        logs = {}\n",
        "        for phase in ['train', 'validation']:\n",
        "            if phase == 'train':\n",
        "                model.train()\n",
        "            else:\n",
        "                model.eval()\n",
        "\n",
        "            running_loss = 0.0\n",
        "            running_corrects = 0\n",
        "\n",
        "            for inputs, labels in dataloaders2[phase]:\n",
        "                inputs = inputs.to(device)\n",
        "                labels = labels.to(device)\n",
        "\n",
        "                outputs = model(inputs)\n",
        "                loss = criterion(outputs, labels)\n",
        "\n",
        "                if phase == 'train':\n",
        "                    optimizer.zero_grad()\n",
        "                    loss.backward()\n",
        "                    optimizer.step()\n",
        "\n",
        "                _, preds = torch.max(outputs, 1)\n",
        "                running_loss += loss.detach() * inputs.size(0)\n",
        "                running_corrects += torch.sum(preds == labels.data)\n",
        "\n",
        "            epoch_loss = running_loss / len(dataloaders2[phase].dataset)\n",
        "            epoch_acc = running_corrects.float() / len(dataloaders2[phase].dataset)\n",
        "            \n",
        "            prefix = ''\n",
        "            if phase == 'validation':\n",
        "                prefix = 'val_'\n",
        "\n",
        "            logs[prefix + 'log loss'] = epoch_loss.item()\n",
        "            logs[prefix + 'accuracy'] = epoch_acc.item()\n",
        "        \n",
        "        liveloss.update(logs)\n",
        "        liveloss.draw()"
      ],
      "execution_count": null,
      "outputs": []
    },
    {
      "cell_type": "code",
      "metadata": {
        "id": "0qgi-aO67aAc"
      },
      "source": [
        "X2_example = torch.from_numpy(X2_train[:3]).long().to(device)"
      ],
      "execution_count": null,
      "outputs": []
    },
    {
      "cell_type": "code",
      "metadata": {
        "id": "R9WKn2GQUASD",
        "colab": {
          "base_uri": "https://localhost:8080/",
          "height": 230
        },
        "outputId": "d1a16f93-daa2-4fe2-b913-f2c0e69e727a"
      },
      "source": [
        "X2_example"
      ],
      "execution_count": null,
      "outputs": [
        {
          "output_type": "execute_result",
          "data": {
            "text/plain": [
              "tensor([[91, 92, 92, 92, 92, 92, 92, 92, 92, 92, 92, 92, 92, 92, 92, 92, 92, 92,\n",
              "         92, 92, 92, 92, 92, 92, 92, 92, 92, 92, 92, 92, 92, 92, 92, 92, 92, 92,\n",
              "         92, 92, 92, 92, 92, 92, 92, 92, 92, 92, 92, 92, 92, 92, 92, 92, 92, 92,\n",
              "         92],\n",
              "        [91, 92, 92, 92, 92, 92, 92, 92, 92, 92, 92, 92, 92, 92, 92, 92, 92, 92,\n",
              "         92, 92, 92, 92, 92, 92, 92, 92, 92, 92, 92, 92, 92, 92, 92, 92, 92, 92,\n",
              "         92, 92, 92, 92, 92, 92, 92, 92, 92, 92, 92, 92, 92, 92, 92, 92, 92, 92,\n",
              "         92],\n",
              "        [91, 44,  2,  1, 21,  7,  4,  7, 27, 92, 92, 92, 92, 92, 92, 92, 92, 92,\n",
              "         92, 92, 92, 92, 92, 92, 92, 92, 92, 92, 92, 92, 92, 92, 92, 92, 92, 92,\n",
              "         92, 92, 92, 92, 92, 92, 92, 92, 92, 92, 92, 92, 92, 92, 92, 92, 92, 92,\n",
              "         92]], device='cuda:0')"
            ]
          },
          "metadata": {
            "tags": []
          },
          "execution_count": 374
        }
      ]
    },
    {
      "cell_type": "code",
      "metadata": {
        "id": "tCa6l5Dr7hj5",
        "colab": {
          "base_uri": "https://localhost:8080/",
          "height": 106
        },
        "outputId": "76c5ac64-79b5-4a89-8021-f1d1031ddb9e"
      },
      "source": [
        "modelR = RecurrentLSTM(embedding_size=5, hidden_size=16).to(device)\n",
        "modelR"
      ],
      "execution_count": null,
      "outputs": [
        {
          "output_type": "execute_result",
          "data": {
            "text/plain": [
              "RecurrentLSTM(\n",
              "  (emb): Embedding(93, 5)\n",
              "  (lstm): LSTM(5, 16)\n",
              "  (fc): Linear(in_features=16, out_features=2, bias=True)\n",
              ")"
            ]
          },
          "metadata": {
            "tags": []
          },
          "execution_count": 375
        }
      ]
    },
    {
      "cell_type": "code",
      "metadata": {
        "id": "V_jq16AM7kFW",
        "colab": {
          "base_uri": "https://localhost:8080/",
          "height": 35
        },
        "outputId": "a6e5a971-28c2-40e4-9b07-b84cababa6c3"
      },
      "source": [
        "modelR(X2_example).size()"
      ],
      "execution_count": null,
      "outputs": [
        {
          "output_type": "execute_result",
          "data": {
            "text/plain": [
              "torch.Size([3, 2])"
            ]
          },
          "metadata": {
            "tags": []
          },
          "execution_count": 376
        }
      ]
    },
    {
      "cell_type": "markdown",
      "metadata": {
        "id": "ZhbMuDzpLH-u"
      },
      "source": [
        "## trening i ewaluacja"
      ]
    },
    {
      "cell_type": "code",
      "metadata": {
        "id": "RHPg0AMm7rUc",
        "colab": {
          "base_uri": "https://localhost:8080/",
          "height": 451
        },
        "outputId": "d6197fa5-1ce3-4611-a8ac-1abaea2edaa3"
      },
      "source": [
        "modelR1 = RecurrentLSTM(embedding_size=5, hidden_size=16)\n",
        "\n",
        "optimizer = optim.Adam(modelR1.parameters(), lr=0.01)\n",
        "criterion = nn.CrossEntropyLoss()\n",
        "\n",
        "train_model(modelR1, criterion, optimizer, num_epochs=20)"
      ],
      "execution_count": null,
      "outputs": [
        {
          "output_type": "display_data",
          "data": {
            "image/png": "[encoded data removed]",
            "text/plain": [
              "<Figure size 864x576 with 2 Axes>"
            ]
          },
          "metadata": {
            "tags": []
          }
        },
        {
          "output_type": "stream",
          "text": [
            "log loss:\n",
            "training   (min:    0.108, max:    0.701, cur:    0.108)\n",
            "validation (min:    0.114, max:    0.694, cur:    0.116)\n",
            "\n",
            "accuracy:\n",
            "training   (min:    0.504, max:    0.969, cur:    0.969)\n",
            "validation (min:    0.512, max:    0.968, cur:    0.968)\n"
          ],
          "name": "stdout"
        }
      ]
    },
    {
      "cell_type": "code",
      "metadata": {
        "id": "cFi_-HU3k47e",
        "colab": {
          "base_uri": "https://localhost:8080/",
          "height": 451
        },
        "outputId": "0b8f5eee-654e-4492-9c3a-49da44270a78"
      },
      "source": [
        "modelR2 = RecurrentLSTM(embedding_size=5, hidden_size=55)\n",
        "\n",
        "optimizer = optim.Adam(modelR2.parameters(), lr=0.01)\n",
        "criterion = nn.CrossEntropyLoss()\n",
        "\n",
        "train_model(modelR2, criterion, optimizer, num_epochs=20)"
      ],
      "execution_count": null,
      "outputs": [
        {
          "output_type": "display_data",
          "data": {
            "image/png": "[encoded data removed]",
            "text/plain": [
              "<Figure size 864x576 with 2 Axes>"
            ]
          },
          "metadata": {
            "tags": []
          }
        },
        {
          "output_type": "stream",
          "text": [
            "log loss:\n",
            "training   (min:    0.112, max:    0.695, cur:    0.112)\n",
            "validation (min:    0.115, max:    0.697, cur:    0.115)\n",
            "\n",
            "accuracy:\n",
            "training   (min:    0.508, max:    0.969, cur:    0.969)\n",
            "validation (min:    0.488, max:    0.968, cur:    0.968)\n"
          ],
          "name": "stdout"
        }
      ]
    },
    {
      "cell_type": "markdown",
      "metadata": {
        "id": "UYGElhCOHKfU"
      },
      "source": [
        "## Komentarz 2. Musiałabym sprawdzić czy architektura odpowiada celu \"many to one\", potem zrobić hyperparameter tuning. Nie można aktualnych wyników uzywać, ale dalej zaprezentuję jak by to miało być używane."
      ]
    },
    {
      "cell_type": "markdown",
      "metadata": {
        "id": "Ia3vZDHNDWx5"
      },
      "source": [
        "## Reading between the layers\n",
        "\n",
        "https://towardsdatascience.com/reading-between-the-layers-lstm-network-7956ad192e58"
      ]
    },
    {
      "cell_type": "code",
      "metadata": {
        "id": "CH5Ls_-uyhBi",
        "colab": {
          "base_uri": "https://localhost:8080/",
          "height": 266
        },
        "outputId": "0228648b-d298-4cc3-9349-767baa2bf367"
      },
      "source": [
        "dataiter = iter(trainloader2)\n",
        "x, y = dataiter.next()\n",
        "x = x.type(torch.LongTensor)\n",
        "print ('X is', x)\n",
        "print ('Y is', y)\n",
        "print ('Shape of X and y are :', x.shape, y.shape)"
      ],
      "execution_count": null,
      "outputs": [
        {
          "output_type": "stream",
          "text": [
            "X is tensor([[91, 36,  1,  ..., 92, 92, 92],\n",
            "        [91, 92, 92,  ..., 92, 92, 92],\n",
            "        [91, 46,  1,  ..., 92, 92, 92],\n",
            "        ...,\n",
            "        [91, 92, 92,  ..., 92, 92, 92],\n",
            "        [91, 14,  3,  ..., 92, 92, 92],\n",
            "        [91, 92, 92,  ..., 92, 92, 92]])\n",
            "Y is tensor([0, 0, 1, 1, 1, 0, 0, 1, 1, 1, 1, 1, 0, 0, 1, 1, 1, 1, 1, 1, 0, 1, 0, 0,\n",
            "        0, 1, 0, 1, 0, 0, 0, 0, 1, 1, 0, 0, 1, 1, 0, 1, 0, 0, 0, 0, 1, 1, 0, 1,\n",
            "        1, 0, 1, 1, 1, 0, 1, 0, 1, 0, 0, 0, 1, 1, 1, 0, 1, 0, 1, 1, 0, 0, 1, 1,\n",
            "        0, 0, 0, 0, 1, 1, 0, 0, 1, 1, 0, 1, 0, 0, 0, 1, 0, 1, 0, 0, 1, 1, 1, 1,\n",
            "        0, 1, 1, 1, 0, 1, 0, 0, 0, 0, 0, 0, 1, 0, 0, 1, 0, 1, 0, 1, 0, 1, 1, 1,\n",
            "        1, 1, 1, 1, 0, 0, 0, 0])\n",
            "Shape of X and y are : torch.Size([128, 55]) torch.Size([128])\n"
          ],
          "name": "stdout"
        }
      ]
    },
    {
      "cell_type": "code",
      "metadata": {
        "id": "STKMeynd8VgV",
        "colab": {
          "base_uri": "https://localhost:8080/",
          "height": 34
        },
        "outputId": "2d19105b-d815-4169-8f2d-96f95cc688e7"
      },
      "source": [
        "len(lang2id)"
      ],
      "execution_count": null,
      "outputs": [
        {
          "output_type": "execute_result",
          "data": {
            "text/plain": [
              "2"
            ]
          },
          "metadata": {
            "tags": []
          },
          "execution_count": 370
        }
      ]
    },
    {
      "cell_type": "code",
      "metadata": {
        "id": "k2fo_Ae_CaFH",
        "colab": {
          "base_uri": "https://localhost:8080/",
          "height": 52
        },
        "outputId": "5553d61b-9295-4fe0-a630-be90e6c14eb5"
      },
      "source": [
        "embedding_dim=5\n",
        "embeds = nn.Embedding(len(char2id) + 2, embedding_dim)\n",
        "print ('Embedding layer is ', embeds)\n",
        "print ('Embedding layer weights ', embeds.weight.shape)"
      ],
      "execution_count": null,
      "outputs": [
        {
          "output_type": "stream",
          "text": [
            "Embedding layer is  Embedding(93, 5)\n",
            "Embedding layer weights  torch.Size([93, 5])\n"
          ],
          "name": "stdout"
        }
      ]
    },
    {
      "cell_type": "code",
      "metadata": {
        "id": "oPUJLnzwDBOM",
        "colab": {
          "base_uri": "https://localhost:8080/",
          "height": 914
        },
        "outputId": "34a7162a-f5c1-4dde-9a94-4bf6c2386256"
      },
      "source": [
        "embeds_out = embeds(x)\n",
        "print ('Embedding layer output shape', embeds_out.shape)\n",
        "print ('Embedding layer output ', embeds_out)"
      ],
      "execution_count": null,
      "outputs": [
        {
          "output_type": "stream",
          "text": [
            "Embedding layer output shape torch.Size([128, 55, 5])\n",
            "Embedding layer output  tensor([[[ 0.5520, -0.7024,  3.2907, -0.2127, -0.0545],\n",
            "         [-0.4006, -2.1275,  0.4451, -0.6748, -0.5968],\n",
            "         [ 1.1321, -0.4845,  0.1639,  1.3498, -1.8314],\n",
            "         ...,\n",
            "         [ 0.8249, -1.3711, -1.3112, -0.4979,  0.2331],\n",
            "         [ 0.8249, -1.3711, -1.3112, -0.4979,  0.2331],\n",
            "         [ 0.8249, -1.3711, -1.3112, -0.4979,  0.2331]],\n",
            "\n",
            "        [[ 0.5520, -0.7024,  3.2907, -0.2127, -0.0545],\n",
            "         [ 0.6018, -0.6633,  0.1832,  0.0431, -0.4979],\n",
            "         [-0.7485,  2.1620, -1.2363,  0.7718,  0.5160],\n",
            "         ...,\n",
            "         [ 0.8249, -1.3711, -1.3112, -0.4979,  0.2331],\n",
            "         [ 0.8249, -1.3711, -1.3112, -0.4979,  0.2331],\n",
            "         [ 0.8249, -1.3711, -1.3112, -0.4979,  0.2331]],\n",
            "\n",
            "        [[ 0.5520, -0.7024,  3.2907, -0.2127, -0.0545],\n",
            "         [ 0.2070, -0.0047,  0.0517,  0.3409,  0.7548],\n",
            "         [-1.0432, -0.7450,  0.7136,  0.8881,  0.3432],\n",
            "         ...,\n",
            "         [ 0.8249, -1.3711, -1.3112, -0.4979,  0.2331],\n",
            "         [ 0.8249, -1.3711, -1.3112, -0.4979,  0.2331],\n",
            "         [ 0.8249, -1.3711, -1.3112, -0.4979,  0.2331]],\n",
            "\n",
            "        ...,\n",
            "\n",
            "        [[ 0.5520, -0.7024,  3.2907, -0.2127, -0.0545],\n",
            "         [ 0.6018, -0.6633,  0.1832,  0.0431, -0.4979],\n",
            "         [-1.2198, -0.2981, -0.2071,  1.0056, -0.0757],\n",
            "         ...,\n",
            "         [ 0.8249, -1.3711, -1.3112, -0.4979,  0.2331],\n",
            "         [ 0.8249, -1.3711, -1.3112, -0.4979,  0.2331],\n",
            "         [ 0.8249, -1.3711, -1.3112, -0.4979,  0.2331]],\n",
            "\n",
            "        [[ 0.5520, -0.7024,  3.2907, -0.2127, -0.0545],\n",
            "         [ 0.8249, -1.3711, -1.3112, -0.4979,  0.2331],\n",
            "         [ 0.8249, -1.3711, -1.3112, -0.4979,  0.2331],\n",
            "         ...,\n",
            "         [ 0.8249, -1.3711, -1.3112, -0.4979,  0.2331],\n",
            "         [ 0.8249, -1.3711, -1.3112, -0.4979,  0.2331],\n",
            "         [ 0.8249, -1.3711, -1.3112, -0.4979,  0.2331]],\n",
            "\n",
            "        [[ 0.5520, -0.7024,  3.2907, -0.2127, -0.0545],\n",
            "         [-0.4543,  0.0135,  0.3248,  0.6796,  1.1857],\n",
            "         [ 1.0242, -2.1644,  0.1295,  0.1829,  0.1159],\n",
            "         ...,\n",
            "         [ 0.8249, -1.3711, -1.3112, -0.4979,  0.2331],\n",
            "         [ 0.8249, -1.3711, -1.3112, -0.4979,  0.2331],\n",
            "         [ 0.8249, -1.3711, -1.3112, -0.4979,  0.2331]]],\n",
            "       grad_fn=<EmbeddingBackward>)\n"
          ],
          "name": "stdout"
        }
      ]
    },
    {
      "cell_type": "code",
      "metadata": {
        "id": "27aNmweSDSym",
        "colab": {
          "base_uri": "https://localhost:8080/",
          "height": 914
        },
        "outputId": "362ed901-2345-404f-f14a-3f7eaa1d8b55"
      },
      "source": [
        "# initializing the hidden state to 0\n",
        "hidden=None\n",
        "lstm = nn.LSTM(input_size=embedding_dim, hidden_size=16, num_layers=2, batch_first=True)\n",
        "lstm_out, h = lstm(embeds_out, hidden)\n",
        "print ('LSTM layer output shape', lstm_out.shape)\n",
        "print ('LSTM layer output ', lstm_out)"
      ],
      "execution_count": null,
      "outputs": [
        {
          "output_type": "stream",
          "text": [
            "LSTM layer output shape torch.Size([128, 55, 16])\n",
            "LSTM layer output  tensor([[[ 0.0356, -0.0315, -0.0768,  ..., -0.0022, -0.0124,  0.0710],\n",
            "         [ 0.0938, -0.0370, -0.1158,  ...,  0.0284, -0.0450,  0.1336],\n",
            "         [ 0.0760, -0.0517, -0.1392,  ...,  0.0251, -0.0297,  0.1539],\n",
            "         ...,\n",
            "         [ 0.0996, -0.0601, -0.1691,  ...,  0.0089, -0.1149,  0.2682],\n",
            "         [ 0.0996, -0.0601, -0.1691,  ...,  0.0089, -0.1149,  0.2682],\n",
            "         [ 0.0996, -0.0601, -0.1692,  ...,  0.0088, -0.1149,  0.2682]],\n",
            "\n",
            "        [[ 0.0356, -0.0315, -0.0768,  ..., -0.0022, -0.0124,  0.0710],\n",
            "         [ 0.0617, -0.0446, -0.1145,  ...,  0.0135, -0.0223,  0.1213],\n",
            "         [ 0.0651, -0.0517, -0.1328,  ...,  0.0181, -0.0166,  0.1500],\n",
            "         ...,\n",
            "         [ 0.0996, -0.0601, -0.1692,  ...,  0.0088, -0.1149,  0.2682],\n",
            "         [ 0.0996, -0.0601, -0.1692,  ...,  0.0088, -0.1149,  0.2682],\n",
            "         [ 0.0996, -0.0601, -0.1692,  ...,  0.0088, -0.1149,  0.2682]],\n",
            "\n",
            "        [[ 0.0356, -0.0315, -0.0768,  ..., -0.0022, -0.0124,  0.0710],\n",
            "         [ 0.0628, -0.0465, -0.1143,  ...,  0.0127, -0.0214,  0.1191],\n",
            "         [ 0.0948, -0.0479, -0.1288,  ...,  0.0237, -0.0223,  0.1428],\n",
            "         ...,\n",
            "         [ 0.0996, -0.0601, -0.1692,  ...,  0.0088, -0.1149,  0.2682],\n",
            "         [ 0.0996, -0.0601, -0.1692,  ...,  0.0088, -0.1149,  0.2682],\n",
            "         [ 0.0996, -0.0601, -0.1692,  ...,  0.0088, -0.1149,  0.2682]],\n",
            "\n",
            "        ...,\n",
            "\n",
            "        [[ 0.0356, -0.0315, -0.0768,  ..., -0.0022, -0.0124,  0.0710],\n",
            "         [ 0.0617, -0.0446, -0.1145,  ...,  0.0135, -0.0223,  0.1213],\n",
            "         [ 0.0918, -0.0468, -0.1273,  ...,  0.0272, -0.0232,  0.1486],\n",
            "         ...,\n",
            "         [ 0.0996, -0.0601, -0.1692,  ...,  0.0088, -0.1149,  0.2682],\n",
            "         [ 0.0996, -0.0601, -0.1692,  ...,  0.0088, -0.1149,  0.2682],\n",
            "         [ 0.0996, -0.0601, -0.1692,  ...,  0.0088, -0.1149,  0.2682]],\n",
            "\n",
            "        [[ 0.0356, -0.0315, -0.0768,  ..., -0.0022, -0.0124,  0.0710],\n",
            "         [ 0.0690, -0.0469, -0.1182,  ...,  0.0217, -0.0390,  0.1390],\n",
            "         [ 0.0835, -0.0554, -0.1410,  ...,  0.0325, -0.0613,  0.1862],\n",
            "         ...,\n",
            "         [ 0.0996, -0.0601, -0.1692,  ...,  0.0088, -0.1149,  0.2682],\n",
            "         [ 0.0996, -0.0601, -0.1692,  ...,  0.0088, -0.1149,  0.2682],\n",
            "         [ 0.0996, -0.0601, -0.1692,  ...,  0.0088, -0.1149,  0.2682]],\n",
            "\n",
            "        [[ 0.0356, -0.0315, -0.0768,  ..., -0.0022, -0.0124,  0.0710],\n",
            "         [ 0.0709, -0.0430, -0.1131,  ...,  0.0112, -0.0183,  0.1143],\n",
            "         [ 0.0838, -0.0536, -0.1354,  ...,  0.0268, -0.0325,  0.1550],\n",
            "         ...,\n",
            "         [ 0.0996, -0.0601, -0.1692,  ...,  0.0088, -0.1149,  0.2682],\n",
            "         [ 0.0996, -0.0601, -0.1692,  ...,  0.0088, -0.1149,  0.2682],\n",
            "         [ 0.0996, -0.0601, -0.1692,  ...,  0.0088, -0.1149,  0.2682]]],\n",
            "       grad_fn=<TransposeBackward0>)\n"
          ],
          "name": "stdout"
        }
      ]
    },
    {
      "cell_type": "code",
      "metadata": {
        "id": "DhjhrYFUECmX",
        "colab": {
          "base_uri": "https://localhost:8080/",
          "height": 158
        },
        "outputId": "d3dfce4d-92a9-4704-e431-76e5119fe807"
      },
      "source": [
        "fc = nn.Linear(in_features=16, out_features=1)\n",
        "fc_out = fc(lstm_out.contiguous().view(-1, 16))\n",
        "print ('FC layer output shape', fc_out.shape)\n",
        "print ('FC layer output ', fc_out)"
      ],
      "execution_count": null,
      "outputs": [
        {
          "output_type": "stream",
          "text": [
            "FC layer output shape torch.Size([7040, 1])\n",
            "FC layer output  tensor([[-0.2064],\n",
            "        [-0.1912],\n",
            "        [-0.1572],\n",
            "        ...,\n",
            "        [-0.1053],\n",
            "        [-0.1053],\n",
            "        [-0.1053]], grad_fn=<AddmmBackward>)\n"
          ],
          "name": "stdout"
        }
      ]
    },
    {
      "cell_type": "code",
      "metadata": {
        "id": "slFjqUNsEZry",
        "colab": {
          "base_uri": "https://localhost:8080/",
          "height": 158
        },
        "outputId": "b4daa9b3-c157-477a-ef99-38024713ffe8"
      },
      "source": [
        "fc = nn.Linear(in_features=16, out_features=2)\n",
        "fc_out = fc(lstm_out.contiguous().view(-1, 16))\n",
        "print ('FC layer output shape', fc_out.shape)\n",
        "print ('FC layer output ', fc_out)"
      ],
      "execution_count": null,
      "outputs": [
        {
          "output_type": "stream",
          "text": [
            "FC layer output shape torch.Size([7040, 2])\n",
            "FC layer output  tensor([[0.0008, 0.0249],\n",
            "        [0.0291, 0.0381],\n",
            "        [0.0695, 0.0906],\n",
            "        ...,\n",
            "        [0.0719, 0.0338],\n",
            "        [0.0719, 0.0338],\n",
            "        [0.0719, 0.0338]], grad_fn=<AddmmBackward>)\n"
          ],
          "name": "stdout"
        }
      ]
    },
    {
      "cell_type": "markdown",
      "metadata": {
        "id": "SVuI5RMnJKsQ"
      },
      "source": [
        "## preparation"
      ]
    },
    {
      "cell_type": "code",
      "metadata": {
        "id": "cfnEKiOE8v_u",
        "colab": {
          "base_uri": "https://localhost:8080/",
          "height": 35
        },
        "outputId": "ca0ce5bc-c8c2-41a0-ec6d-4b8ac2fab91c"
      },
      "source": [
        "pred = modelR2(encode(\"Biomagnal\", end=False).to(device))\n",
        "pred.size"
      ],
      "execution_count": null,
      "outputs": [
        {
          "output_type": "execute_result",
          "data": {
            "text/plain": [
              "<function Tensor.size>"
            ]
          },
          "metadata": {
            "tags": []
          },
          "execution_count": 407
        }
      ]
    },
    {
      "cell_type": "code",
      "metadata": {
        "id": "xZ8T0ky_-HUw",
        "colab": {
          "base_uri": "https://localhost:8080/",
          "height": 35
        },
        "outputId": "6026b71e-b614-41ca-9056-7e2e10219042"
      },
      "source": [
        "pred.softmax(dim=1)"
      ],
      "execution_count": null,
      "outputs": [
        {
          "output_type": "execute_result",
          "data": {
            "text/plain": [
              "tensor([[0.6978, 0.3022]], device='cuda:0', grad_fn=<SoftmaxBackward>)"
            ]
          },
          "metadata": {
            "tags": []
          },
          "execution_count": 408
        }
      ]
    },
    {
      "cell_type": "code",
      "metadata": {
        "id": "Afb1kkAyKRVc",
        "colab": {
          "base_uri": "https://localhost:8080/",
          "height": 35
        },
        "outputId": "68c5ab03-95ad-40d6-d96b-3e7fc6a7c0b9"
      },
      "source": [
        "pred1 = modelR2(encode(\"Sascvdda sqa\", end=False).to(device))\n",
        "pred1.size"
      ],
      "execution_count": null,
      "outputs": [
        {
          "output_type": "execute_result",
          "data": {
            "text/plain": [
              "<function Tensor.size>"
            ]
          },
          "metadata": {
            "tags": []
          },
          "execution_count": 409
        }
      ]
    },
    {
      "cell_type": "code",
      "metadata": {
        "id": "m8QKXp_5fMPf",
        "colab": {
          "base_uri": "https://localhost:8080/",
          "height": 35
        },
        "outputId": "d7a50a29-38a2-4d9c-ea1c-00d45d46c0e0"
      },
      "source": [
        "pred1.softmax(dim=1).cpu()"
      ],
      "execution_count": null,
      "outputs": [
        {
          "output_type": "execute_result",
          "data": {
            "text/plain": [
              "tensor([[0.0615, 0.9385]], grad_fn=<CopyBackwards>)"
            ]
          },
          "metadata": {
            "tags": []
          },
          "execution_count": 410
        }
      ]
    },
    {
      "cell_type": "code",
      "metadata": {
        "id": "T6uctV-4KwmM",
        "colab": {
          "base_uri": "https://localhost:8080/",
          "height": 35
        },
        "outputId": "7ceb7243-356c-44e0-ffd0-6db097b9a794"
      },
      "source": [
        "pred2 = modelR2(encode(\"Paracetamol\", end=False).to(device))\n",
        "pred2.size"
      ],
      "execution_count": null,
      "outputs": [
        {
          "output_type": "execute_result",
          "data": {
            "text/plain": [
              "<function Tensor.size>"
            ]
          },
          "metadata": {
            "tags": []
          },
          "execution_count": 411
        }
      ]
    },
    {
      "cell_type": "code",
      "metadata": {
        "id": "Lw7fgG3GKr_3",
        "colab": {
          "base_uri": "https://localhost:8080/",
          "height": 35
        },
        "outputId": "c1c8c7f8-c75b-4b69-a9ea-0621372622a7"
      },
      "source": [
        "pred2.softmax(dim=1).cpu()"
      ],
      "execution_count": null,
      "outputs": [
        {
          "output_type": "execute_result",
          "data": {
            "text/plain": [
              "tensor([[0.7626, 0.2374]], grad_fn=<CopyBackwards>)"
            ]
          },
          "metadata": {
            "tags": []
          },
          "execution_count": 412
        }
      ]
    },
    {
      "cell_type": "code",
      "metadata": {
        "id": "njXDv4m5K9NT",
        "colab": {
          "base_uri": "https://localhost:8080/",
          "height": 35
        },
        "outputId": "a309ff06-7a75-48fe-9149-dee71d46c22f"
      },
      "source": [
        "modelR2(encode(\"Paracetamol\", end=False).to(device)).softmax(dim=1).cpu().detach().numpy()"
      ],
      "execution_count": null,
      "outputs": [
        {
          "output_type": "execute_result",
          "data": {
            "text/plain": [
              "array([[0.7626306 , 0.23736942]], dtype=float32)"
            ]
          },
          "metadata": {
            "tags": []
          },
          "execution_count": 413
        }
      ]
    },
    {
      "cell_type": "markdown",
      "metadata": {
        "id": "Ux5Oqy7TNMh6"
      },
      "source": [
        "# Final function - generuje nazwę leku, sprawdza czy jest ona w zbiorze treningowym i  zwraca miarę prawdopodobności stringa jako nazwy leku"
      ]
    },
    {
      "cell_type": "code",
      "metadata": {
        "id": "C2Yn4ewdL5Bk"
      },
      "source": [
        "def GenerateRate(start=\"\", next_chars=55, model=modelG7, temperature=1.,model2=modelR2):\n",
        "  word =generate2(start=\"\", next_chars=55, model=modelG7, temperature=1.)\n",
        "  pred =model2(encode(word, end=False).to(device)).softmax(dim=1).cpu().detach().numpy()[0,1]\n",
        "  print('Prawdopodobieństwo, że -',word,'-to nazwa leku',round(100*pred,2), '%')\n",
        "  if word in drugsR_df['title_new'].values:\n",
        "    print('Istnieje w zbiorze treningowym')\n",
        "  else:\n",
        "    print('Nie istnieje w zbiorze treningowym')"
      ],
      "execution_count": null,
      "outputs": []
    },
    {
      "cell_type": "code",
      "metadata": {
        "id": "-k44QbtONcE-",
        "colab": {
          "base_uri": "https://localhost:8080/",
          "height": 52
        },
        "outputId": "ae67b033-9ca9-4e01-ea11-c6694998f5a0"
      },
      "source": [
        "GenerateRate(\"\",55,modelG7,1,modelR2)"
      ],
      "execution_count": null,
      "outputs": [
        {
          "output_type": "stream",
          "text": [
            "Prawdopodobieństwo, że - Zinp Kowienoria -to nazwa leku 91.18 %\n",
            "Nie istnieje w zbiorze treningowym\n"
          ],
          "name": "stdout"
        }
      ]
    }
  ]
}